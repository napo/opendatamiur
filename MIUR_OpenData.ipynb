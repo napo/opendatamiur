{
 "cells": [
  {
   "cell_type": "markdown",
   "metadata": {},
   "source": [
    "# SCOPRIRE GLI OPENDATA DELLA SCUOLA ITALIANA\n",
    "\n",
    "![open data miur](http://dati.istruzione.it/opendata/img/pagine-interne/copertina-open-data.jpg)\n",
    "\n"
   ]
  },
  {
   "cell_type": "markdown",
   "metadata": {},
   "source": [
    "![](http://dati.istruzione.it/opendata/img/home/home_icon_01_opendata.png)\n",
    "# [I DATI DISPONIBILI](#opendatalist)\n",
    "http://dati.istruzione.it/opendata/opendata/\n",
    "\n",
    "---\n",
    "# SCUOLE\n",
    "<img src=\"http://dati.istruzione.it/opendata/img/pagine-interne/CTSCUOLA.svg\" width=\"100\" align=\"right\">\n",
    "## [Informazioni anagrafiche scuole](#anagraficascuole)\n",
    "http://dati.istruzione.it/opendata/opendata/catalogo/elements1/?area=Scuole\n",
    "\n",
    "sono presenti i dati con le informazioni riguardanti l'anagrafe delle scuole negli anni scolastici \n",
    "* scuole statali\n",
    "* scuole paritarie\n",
    "* scuole statali delle province autonome di Trento, Bolzano e Aosta\n",
    "* scuole paritarie delle province autonome di Trento, Bolzano e Aosta\n",
    "\n",
    "Gli anni scolastici presi in considerazione sono: **2015/2016, 2016,2017 e 2017/2018**.\n",
    "\n",
    "---\n",
    "# STUDENTI\n",
    "<img src=\"http://dati.istruzione.it/opendata/img/pagine-interne/CTSTUDENTI.svg\" width=\"100\" align=\"right\">\n",
    "## [informazioni sugli studenti](#anagraficastudenti)\n",
    "http://dati.istruzione.it/opendata/opendata/catalogo/elements1/?area=Studenti\n",
    "### [Studenti per anno di corso e fascia di età](#studentifasceeta).\n",
    "informazioni riguardanti il numero degli studenti per anno di corso e fascia di eta'. \n",
    "* scuole statali\n",
    "* scuole paritarie\n",
    "\n",
    "Gli anni scolastici presi in considerazione sono: **2015/2016 e 2016/2017**.\n",
    "\n",
    "### [Studenti per anno di corso, classe e genere](#studenticlassegenere) \n",
    "informazioni riguardanti il numero degli studenti per anno di corso, classe e genere. \n",
    "* scuole statali\n",
    "* scuole paritarie\n",
    "\n",
    "Gli anni scolastici presi in considerazione sono: **2015/2016 e 2016/2017**.\n",
    "\n",
    "---\n",
    "# EDILIZIA\n",
    "<img src=\"http://dati.istruzione.it/opendata/img/pagine-interne/CTEDILIZIA.svg\" width=\"100\" align=\"right\">\n",
    "## [Edilizia Scolastica](#edilizia)\n",
    "http://dati.istruzione.it/opendata/opendata/catalogo/elements1/?area=Edilizia%20Scolastica\n",
    "### [Elenco degli edifici scolastici attivi e loro locazione](#edifici)\n",
    "informazioni riguardanti l'anagrafica dell'edificio scolastico e la sua localizzazione\n",
    "* scuole statali\n",
    "\n",
    "Sono presenti i dati per l'anno scolastico **2015/2016**.\n",
    "\n",
    "\n",
    "### [Presenza di macro ambiti funzionali degli edifici scolastici (palestra, mensa..)](#edificiextra)\n",
    "informazioni riguardanti la presenza o meno di macro ambiti funzionali relativamente\n",
    "* scuole statali\n",
    "\n",
    "Sono presenti i dati per l'anno scolastico **2015/2016**.\n",
    "\n",
    "\n",
    "### [Raggiungibilità degli edifici scolastici (mezzi pubblici, scuolabus..)](#raggiungibilita)\n",
    "informazioni riguardanti la raggiungibilita' del plesso attraverso differenti modalita' di trasporto relativamente alle scuole Statali di ogni ordine e grado. \n",
    "* scuole statali\n",
    "\n",
    "Sono presenti i dati per l'anno scolastico **2015/2016**.\n",
    "\n",
    "---\n",
    "# VALUTAZIONE\n",
    "<img src=\"http://dati.istruzione.it/opendata/img/pagine-interne/CTSISTEMA.svg\" width=\"100\" align=\"right\">\n",
    "## [SISTEMA NAZIONALE DI VALUTAZIONE](#valutazione)\n",
    "http://dati.istruzione.it/opendata/opendata/catalogo/elements1/?area=Sistema%20Nazionale%20di%20Valutazione\n",
    "### [regole valutazione utilizzata dalla scuola per l'autovalutazione.](#regolevalutazione)\n",
    "informazioni riguardanti la rubrica di valutazione di ciascun criterio di qualita' utilizzato per l'autovalutazione delle sezioni Esiti e Processi. Scuola statale e scuola paritaria. \n",
    "* scuole statali\n",
    "* scuole paritarie\n",
    "\n",
    "Sono presenti i dati per l'anno scolastico **2015/2016 e 2016/2017**.\n",
    "\n",
    "\n",
    "### [Autovalutazione della scuola sezione ESITI.](#autovalutazioneesiti)\n",
    "informazioni riguardanti l'autovalutazione in termini di: risultati scolastici, risultati nelle prove standardizzate nazionali, competenze chiave e di cittadinanza, risultati a distanza. \n",
    "* scuole statali\n",
    "* scuole paritarie\n",
    "\n",
    "\n",
    "Sono presenti i dati per l'anno scolastico **2015/2016 e 2016/2017**.\n",
    "\n",
    "\n",
    "### [Autovalutazione della scuola sezione PROCESSI)](#autovalutazioneprocessi)\n",
    "informazioni riguardanti l'autovalutazione in termini di: curricolo, progettazione e valutazione, abiente di apprendimento, inclusione e differenziazione, continuità e orientamento, orientamento strategico e organizzazione della scuola, sviluppo e valorizzazione delle risorse umane, integrazione con il territorio e rapporti con le famiglie\n",
    "* scuole statali\n",
    "* scuole paritarie\n",
    "\n",
    "\n",
    "Sono presenti i dati per l'anno scolastico **2015/2016 e 2016/2017**.\n",
    "\n",
    "---\n",
    "# PERSONALE SCUOLA\n",
    "<img src=\"http://dati.istruzione.it/opendata/img/pagine-interne/CTPERSONALE.svg\" width=\"100\" align=\"right\">\n",
    "## [PERSONALE DOCENTE E NON DOCENTE](#personale)\n",
    "http://dati.istruzione.it/opendata/opendata/catalogo/elements1/?area=Personale%20Scuola\n",
    "### [Docenti a tempo indeterminato](#docentiindeterminati)\n",
    "informazioni riguardanti il numero del personale supplente docente per grado di istruzione, tipo posto, tipo supplenza, genere e fascia di età\n",
    "* scuole statali\n",
    "\n",
    "Sono presenti i dati per l'anno scolastico **2015/2016 e 2016/2017**.\n",
    "\n",
    "\n",
    "### [ATA a tempo indeterminato](#ataindeterminati)\n",
    "informazioni riguardanti il numero del personale titolare ATA per genere e fascia di eta'. \n",
    "* scuole statali\n",
    "\n",
    "Sono presenti i dati per l'anno scolastico **2015/2016 e 2016/2017**.\n",
    "\n",
    "### [Docenti a tempo determinato](#docentideterminati)\n",
    "informazioni riguardanti il numero del personale supplente docente per grado di istruzione, tipo posto, tipo supplenza, genere e fascia di età\n",
    "* scuole statali\n",
    "\n",
    "Sono presenti i dati per l'anno scolastico **2015/2016 e 2016/2017**.\n",
    "\n",
    "\n",
    "### [ATA a tempo determinato](#atadeterminati)\n",
    "informazioni riguardanti il numero del personale titolare ATA per genere e fascia di eta'. \n",
    "* scuole statali\n",
    "\n",
    "Sono presenti i dati per l'anno scolastico **2015/2016 e 2016/2017**.\n"
   ]
  },
  {
   "cell_type": "markdown",
   "metadata": {},
   "source": [
    "---\n",
    "# INIZIAMO AD INVESTIGARE I DATI\n",
    "![](https://upload.wikimedia.org/wikipedia/commons/thumb/a/a4/Magnifying_glass_with_focus_on_glass.png/640px-Magnifying_glass_with_focus_on_glass.png)\n",
    "\n",
    "![](https://raw.githubusercontent.com/napo/opendatamiur/master/images/icons_opendata_miur.png)\n",
    "\n",
    "\n",
    "<img src=\"https://image.flaticon.com/icons/svg/28/28842.svg\" width=\"100\" align=\"left\" /> <h2>CSV = Comma-Separated Values</h2>\n",
    "> Il **comma-separated values** (abbreviato in CSV) è un formato di file basato su **file di testo** utilizzato per l'importazione ed esportazione (ad esempio da fogli elettronici o database) di una **tabella di dati**. \n",
    "> (fonte: Wikipedia)\n",
    "\n",
    "Esempio:\n",
    "\n",
    "**tabella di dati**\n",
    "\n",
    "NOME|COGNOME|PROFESSIONE|ANNONASCITA|ANNOMORTE\n",
    ":---|:------|:----------|----------:|--------:\n",
    "Giulio|Cesare|militare|101 ac|44 ac\n",
    "Dante|Aligheri|poeta|1265 dc|1321 dc\n",
    "Alessandro|Manzoni|scrittore|1785 dc|1873 dc\n",
    "\n",
    "\n",
    "**in CSV**\n",
    "```\n",
    "NOME,COGNOME,PROFESSIONE,ANNONASCITA,ANNOMORTE\n",
    "Giulio,Cesare,militare,101 ac,44 ac\n",
    "Dante,Aligheri,poeta,1265 dc,1321 dc\n",
    "Alessandro,Manzoni,scrittore,1785 dc,1873 dc\n",
    "```\n",
    "\n",
    "---"
   ]
  },
  {
   "cell_type": "markdown",
   "metadata": {},
   "source": [
    "<center><H1>ED ORA TOCCA A PYTHON</H1></center>\n",
    "![](https://upload.wikimedia.org/wikipedia/commons/thumb/4/4a/Python3-powered_hello-world.svg/200px-Python3-powered_hello-world.svg.png)\n",
    "\n",
    "---"
   ]
  },
  {
   "cell_type": "markdown",
   "metadata": {},
   "source": [
    "# RECUPERARE I DATI"
   ]
  },
  {
   "cell_type": "code",
   "execution_count": 326,
   "metadata": {},
   "outputs": [],
   "source": [
    "# importazione del modulo necessario a caricare dati remoti\n",
    "import requests\n",
    "# questo è l'indirizzo con l'elenco delle scuole d'Italia - 13mb!\n",
    "# anno scolastico 2017/2018 raccolti il 01/09/2017\n",
    "url='http://dati.istruzione.it/opendata/opendata/catalogo/elements1/SCUANAGRAFESTAT20171820170901.csv'\n",
    "\n",
    "#dai dati remoti si estrae il contenuto\n",
    "datiremoti=requests.get(url).content"
   ]
  },
  {
   "cell_type": "markdown",
   "metadata": {},
   "source": [
    "<center><h1>Diamo a python i poteri del panda</h3></center>\n",
    "![Kung fu panda](https://i2.wp.com/de.straba.us/wp-content/uploads/2018/03/1gKYCyrcudAeE5e5KAbRhBQ-620x180-1.jpeg)"
   ]
  },
  {
   "cell_type": "code",
   "execution_count": 327,
   "metadata": {},
   "outputs": [],
   "source": [
    "import pandas as panda\n",
    "import io #... e quelli per leggere il file .csv :)\n",
    "scuole=panda.read_csv(io.StringIO(datiremoti.decode('utf-8')))"
   ]
  },
  {
   "cell_type": "markdown",
   "metadata": {},
   "source": [
    "... una sbirciatina alle prime *tre* righe"
   ]
  },
  {
   "cell_type": "code",
   "execution_count": 328,
   "metadata": {
    "scrolled": true
   },
   "outputs": [
    {
     "data": {
      "text/html": [
       "<div>\n",
       "<style scoped>\n",
       "    .dataframe tbody tr th:only-of-type {\n",
       "        vertical-align: middle;\n",
       "    }\n",
       "\n",
       "    .dataframe tbody tr th {\n",
       "        vertical-align: top;\n",
       "    }\n",
       "\n",
       "    .dataframe thead th {\n",
       "        text-align: right;\n",
       "    }\n",
       "</style>\n",
       "<table border=\"1\" class=\"dataframe\">\n",
       "  <thead>\n",
       "    <tr style=\"text-align: right;\">\n",
       "      <th></th>\n",
       "      <th>ANNOSCOLASTICO</th>\n",
       "      <th>AREAGEOGRAFICA</th>\n",
       "      <th>REGIONE</th>\n",
       "      <th>PROVINCIA</th>\n",
       "      <th>CODICEISTITUTORIFERIMENTO</th>\n",
       "      <th>DENOMINAZIONEISTITUTORIFERIMENTO</th>\n",
       "      <th>CODICESCUOLA</th>\n",
       "      <th>DENOMINAZIONESCUOLA</th>\n",
       "      <th>INDIRIZZOSCUOLA</th>\n",
       "      <th>CAPSCUOLA</th>\n",
       "      <th>CODICECOMUNESCUOLA</th>\n",
       "      <th>DESCRIZIONECOMUNE</th>\n",
       "      <th>DESCRIZIONECARATTERISTICASCUOLA</th>\n",
       "      <th>DESCRIZIONETIPOLOGIAGRADOISTRUZIONESCUOLA</th>\n",
       "      <th>INDICAZIONESEDEDIRETTIVO</th>\n",
       "      <th>INDICAZIONESEDEOMNICOMPRENSIVO</th>\n",
       "      <th>INDIRIZZOEMAILSCUOLA</th>\n",
       "      <th>INDIRIZZOPECSCUOLA</th>\n",
       "      <th>SITOWEBSCUOLA</th>\n",
       "      <th>SEDESCOLASTICA</th>\n",
       "    </tr>\n",
       "  </thead>\n",
       "  <tbody>\n",
       "    <tr>\n",
       "      <th>0</th>\n",
       "      <td>201718</td>\n",
       "      <td>NORD EST</td>\n",
       "      <td>VENETO</td>\n",
       "      <td>BELLUNO</td>\n",
       "      <td>BLIC816001</td>\n",
       "      <td>IC TRICHIANA</td>\n",
       "      <td>BLMM816023</td>\n",
       "      <td>\"D. BUZZATI\" LIMANA</td>\n",
       "      <td>VIA TOFANE 1</td>\n",
       "      <td>32020</td>\n",
       "      <td>E588</td>\n",
       "      <td>LIMANA</td>\n",
       "      <td>NORMALE</td>\n",
       "      <td>SCUOLA PRIMO GRADO</td>\n",
       "      <td>NO</td>\n",
       "      <td>Non Disponibile</td>\n",
       "      <td>BLIC816001@istruzione.it</td>\n",
       "      <td>Non Disponibile</td>\n",
       "      <td>http//www.ictrichiana.gov.it</td>\n",
       "      <td>SI</td>\n",
       "    </tr>\n",
       "    <tr>\n",
       "      <th>1</th>\n",
       "      <td>201718</td>\n",
       "      <td>ISOLE</td>\n",
       "      <td>SARDEGNA</td>\n",
       "      <td>ORISTANO</td>\n",
       "      <td>ORIC82700L</td>\n",
       "      <td>I.C. ORISTANO N. 4</td>\n",
       "      <td>ORMM82701N</td>\n",
       "      <td>S.M. \"ALAGON\"</td>\n",
       "      <td>VIALE ARMANDO DIAZ 83</td>\n",
       "      <td>09170</td>\n",
       "      <td>G113</td>\n",
       "      <td>ORISTANO</td>\n",
       "      <td>NORMALE</td>\n",
       "      <td>SCUOLA PRIMO GRADO</td>\n",
       "      <td>NO</td>\n",
       "      <td>Non Disponibile</td>\n",
       "      <td>ORIC82700L@istruzione.it</td>\n",
       "      <td>Non Disponibile</td>\n",
       "      <td>http//istitutocomprensivo4oristano.gov.it/</td>\n",
       "      <td>SI</td>\n",
       "    </tr>\n",
       "    <tr>\n",
       "      <th>2</th>\n",
       "      <td>201718</td>\n",
       "      <td>NORD OVEST</td>\n",
       "      <td>LOMBARDIA</td>\n",
       "      <td>MONZA-BRIANZA</td>\n",
       "      <td>MIIC8BS00B</td>\n",
       "      <td>ISTITUTO COMPRENSIVO LESMO</td>\n",
       "      <td>MIEE8BS01D</td>\n",
       "      <td>SCUOLA ELEMENTARE \"D.ALIGHIERI\"</td>\n",
       "      <td>VIA DE GASPERI18</td>\n",
       "      <td>20050</td>\n",
       "      <td>D038</td>\n",
       "      <td>CORREZZANA</td>\n",
       "      <td>NORMALE</td>\n",
       "      <td>SCUOLA PRIMARIA</td>\n",
       "      <td>NO</td>\n",
       "      <td>Non Disponibile</td>\n",
       "      <td>MIIC8BS00B@istruzione.it</td>\n",
       "      <td>Non Disponibile</td>\n",
       "      <td>www.istitutocomprensivolesmo.gov.it</td>\n",
       "      <td>SI</td>\n",
       "    </tr>\n",
       "  </tbody>\n",
       "</table>\n",
       "</div>"
      ],
      "text/plain": [
       "   ANNOSCOLASTICO AREAGEOGRAFICA    REGIONE      PROVINCIA  \\\n",
       "0          201718       NORD EST     VENETO        BELLUNO   \n",
       "1          201718          ISOLE   SARDEGNA       ORISTANO   \n",
       "2          201718     NORD OVEST  LOMBARDIA  MONZA-BRIANZA   \n",
       "\n",
       "  CODICEISTITUTORIFERIMENTO DENOMINAZIONEISTITUTORIFERIMENTO CODICESCUOLA  \\\n",
       "0                BLIC816001                     IC TRICHIANA   BLMM816023   \n",
       "1                ORIC82700L               I.C. ORISTANO N. 4   ORMM82701N   \n",
       "2                MIIC8BS00B       ISTITUTO COMPRENSIVO LESMO   MIEE8BS01D   \n",
       "\n",
       "               DENOMINAZIONESCUOLA        INDIRIZZOSCUOLA CAPSCUOLA  \\\n",
       "0              \"D. BUZZATI\" LIMANA           VIA TOFANE 1     32020   \n",
       "1                    S.M. \"ALAGON\"  VIALE ARMANDO DIAZ 83     09170   \n",
       "2  SCUOLA ELEMENTARE \"D.ALIGHIERI\"       VIA DE GASPERI18     20050   \n",
       "\n",
       "  CODICECOMUNESCUOLA DESCRIZIONECOMUNE DESCRIZIONECARATTERISTICASCUOLA  \\\n",
       "0               E588            LIMANA                         NORMALE   \n",
       "1               G113          ORISTANO                         NORMALE   \n",
       "2               D038        CORREZZANA                         NORMALE   \n",
       "\n",
       "  DESCRIZIONETIPOLOGIAGRADOISTRUZIONESCUOLA INDICAZIONESEDEDIRETTIVO  \\\n",
       "0                        SCUOLA PRIMO GRADO                       NO   \n",
       "1                        SCUOLA PRIMO GRADO                       NO   \n",
       "2                           SCUOLA PRIMARIA                       NO   \n",
       "\n",
       "  INDICAZIONESEDEOMNICOMPRENSIVO      INDIRIZZOEMAILSCUOLA INDIRIZZOPECSCUOLA  \\\n",
       "0                Non Disponibile  BLIC816001@istruzione.it    Non Disponibile   \n",
       "1                Non Disponibile  ORIC82700L@istruzione.it    Non Disponibile   \n",
       "2                Non Disponibile  MIIC8BS00B@istruzione.it    Non Disponibile   \n",
       "\n",
       "                                SITOWEBSCUOLA SEDESCOLASTICA  \n",
       "0                http//www.ictrichiana.gov.it             SI  \n",
       "1  http//istitutocomprensivo4oristano.gov.it/             SI  \n",
       "2         www.istitutocomprensivolesmo.gov.it             SI  "
      ]
     },
     "execution_count": 328,
     "metadata": {},
     "output_type": "execute_result"
    }
   ],
   "source": [
    "scuole.head(3)"
   ]
  },
  {
   "cell_type": "markdown",
   "metadata": {},
   "source": [
    "e come è strutturata la tabella (la sua forma)"
   ]
  },
  {
   "cell_type": "code",
   "execution_count": 329,
   "metadata": {},
   "outputs": [
    {
     "data": {
      "text/plain": [
       "(51216, 20)"
      ]
     },
     "execution_count": 329,
     "metadata": {},
     "output_type": "execute_result"
    }
   ],
   "source": [
    "scuole.shape"
   ]
  },
  {
   "cell_type": "markdown",
   "metadata": {},
   "source": [
    "**51216** => primo valore rappresenta il numero di righe (quindi il numero di scuole)\n",
    "\n",
    "**20** => il secondo valore rappresenta il numero di colonne"
   ]
  },
  {
   "cell_type": "markdown",
   "metadata": {},
   "source": [
    "che possiamo conoscere così"
   ]
  },
  {
   "cell_type": "code",
   "execution_count": 330,
   "metadata": {
    "scrolled": true
   },
   "outputs": [
    {
     "data": {
      "text/plain": [
       "Index(['ANNOSCOLASTICO', 'AREAGEOGRAFICA', 'REGIONE', 'PROVINCIA',\n",
       "       'CODICEISTITUTORIFERIMENTO', 'DENOMINAZIONEISTITUTORIFERIMENTO',\n",
       "       'CODICESCUOLA', 'DENOMINAZIONESCUOLA', 'INDIRIZZOSCUOLA', 'CAPSCUOLA',\n",
       "       'CODICECOMUNESCUOLA', 'DESCRIZIONECOMUNE',\n",
       "       'DESCRIZIONECARATTERISTICASCUOLA',\n",
       "       'DESCRIZIONETIPOLOGIAGRADOISTRUZIONESCUOLA', 'INDICAZIONESEDEDIRETTIVO',\n",
       "       'INDICAZIONESEDEOMNICOMPRENSIVO', 'INDIRIZZOEMAILSCUOLA',\n",
       "       'INDIRIZZOPECSCUOLA', 'SITOWEBSCUOLA', 'SEDESCOLASTICA'],\n",
       "      dtype='object')"
      ]
     },
     "execution_count": 330,
     "metadata": {},
     "output_type": "execute_result"
    }
   ],
   "source": [
    " scuole.columns"
   ]
  },
  {
   "cell_type": "markdown",
   "metadata": {},
   "source": [
    "l'elenco mostra le colonne seguendo l'ordine di come la tabella è strutturata.\n",
    "\n",
    "*nota*: nel linguaggio del panda in realtà abbiamo creato un DataFrame e non una tabella"
   ]
  },
  {
   "cell_type": "markdown",
   "metadata": {},
   "source": [
    "possiamo contarle usando questa funzione"
   ]
  },
  {
   "cell_type": "code",
   "execution_count": 331,
   "metadata": {},
   "outputs": [
    {
     "data": {
      "text/plain": [
       "20"
      ]
     },
     "execution_count": 331,
     "metadata": {},
     "output_type": "execute_result"
    }
   ],
   "source": [
    "scuole.columns.size"
   ]
  },
  {
   "cell_type": "markdown",
   "metadata": {},
   "source": [
    "Per conoscere qualche dettaglio su una colonna si può chiedere la descrizione.\n",
    "\n",
    "Es. per la colonna \"**REGIONE**\""
   ]
  },
  {
   "cell_type": "code",
   "execution_count": 332,
   "metadata": {
    "scrolled": true
   },
   "outputs": [
    {
     "data": {
      "text/plain": [
       "count         51216\n",
       "unique           18\n",
       "top       LOMBARDIA\n",
       "freq           6494\n",
       "Name: REGIONE, dtype: object"
      ]
     },
     "execution_count": 332,
     "metadata": {},
     "output_type": "execute_result"
    }
   ],
   "source": [
    "scuole.REGIONE.describe()"
   ]
  },
  {
   "cell_type": "markdown",
   "metadata": {},
   "source": [
    "count => numero di righe **51216** \n",
    "\n",
    "unique => i valori univoci **18**\n",
    "\n",
    "top => il valore più ricorrente **LOMBARDIA**\n",
    "\n",
    "freq => quante volte si ripete quel valore nella tabella **6494**\n",
    "\n",
    "*ATTENZIONE*: le regioni italiane sono *20* e non *18*!\n",
    "\n",
    "Mancano le Province Autonome (Aosta, Trento e Bolzano)"
   ]
  },
  {
   "cell_type": "markdown",
   "metadata": {},
   "source": [
    "---\n",
    "andiamo ad aggiungere le scuole delle province autonome che si trovano a questo indirizzo\n",
    "\n",
    "http://dati.istruzione.it/opendata/opendata/catalogo/elements1/SCUANAAUTSTAT20171820170901.csv\n"
   ]
  },
  {
   "cell_type": "code",
   "execution_count": 333,
   "metadata": {},
   "outputs": [],
   "source": [
    "url='http://dati.istruzione.it/opendata/opendata/catalogo/elements1/SCUANAAUTSTAT20171820170901.csv'\n",
    "datiremoti=requests.get(url).content\n",
    "scuole_province_autonome=panda.read_csv(io.StringIO(datiremoti.decode('utf-8')))"
   ]
  },
  {
   "cell_type": "markdown",
   "metadata": {},
   "source": [
    "questa sequenza di comandi è molto simile a quella scritta precedentemente\n",
    "\n",
    "Mi conviene generalizzarla in una funzione Python che useremo più avanti"
   ]
  },
  {
   "cell_type": "code",
   "execution_count": 334,
   "metadata": {},
   "outputs": [],
   "source": [
    "#nota: attenzione alla tabulazione!\n",
    "\n",
    "def tabellaMIUR(url): #sintassi per creare una funzione a cui passo un indirizzo\n",
    "    #comando per scaricare il file .csv\n",
    "    datiremoti = requests.get(url).content\n",
    "    #comando per generare la tabella pandas\n",
    "    tabella = panda.read_csv(io.StringIO(datiremoti.decode('utf-8')))\n",
    "    #restituisco la tabella\n",
    "    return tabella"
   ]
  },
  {
   "cell_type": "markdown",
   "metadata": {},
   "source": [
    "... una sbirciatina"
   ]
  },
  {
   "cell_type": "code",
   "execution_count": 335,
   "metadata": {},
   "outputs": [
    {
     "data": {
      "text/html": [
       "<div>\n",
       "<style scoped>\n",
       "    .dataframe tbody tr th:only-of-type {\n",
       "        vertical-align: middle;\n",
       "    }\n",
       "\n",
       "    .dataframe tbody tr th {\n",
       "        vertical-align: top;\n",
       "    }\n",
       "\n",
       "    .dataframe thead th {\n",
       "        text-align: right;\n",
       "    }\n",
       "</style>\n",
       "<table border=\"1\" class=\"dataframe\">\n",
       "  <thead>\n",
       "    <tr style=\"text-align: right;\">\n",
       "      <th></th>\n",
       "      <th>ANNOSCOLASTICO</th>\n",
       "      <th>AREAGEOGRAFICA</th>\n",
       "      <th>REGIONE</th>\n",
       "      <th>PROVINCIA</th>\n",
       "      <th>CODICEISTITUTORIFERIMENTO</th>\n",
       "      <th>DENOMINAZIONEISTITUTORIFERIMENTO</th>\n",
       "      <th>CODICESCUOLA</th>\n",
       "      <th>DENOMINAZIONESCUOLA</th>\n",
       "      <th>INDIRIZZOSCUOLA</th>\n",
       "      <th>CAPSCUOLA</th>\n",
       "      <th>CODICECOMUNESCUOLA</th>\n",
       "      <th>DESCRIZIONECOMUNE</th>\n",
       "      <th>DESCRIZIONECARATTERISTICASCUOLA</th>\n",
       "      <th>DESCRIZIONETIPOLOGIAGRADOISTRUZIONESCUOLA</th>\n",
       "      <th>INDICAZIONESEDEDIRETTIVO</th>\n",
       "      <th>INDICAZIONESEDEOMNICOMPRENSIVO</th>\n",
       "      <th>INDIRIZZOEMAILSCUOLA</th>\n",
       "      <th>INDIRIZZOPECSCUOLA</th>\n",
       "      <th>SITOWEBSCUOLA</th>\n",
       "    </tr>\n",
       "  </thead>\n",
       "  <tbody>\n",
       "    <tr>\n",
       "      <th>0</th>\n",
       "      <td>201718</td>\n",
       "      <td>NORD EST</td>\n",
       "      <td>TRENTINO-ALTO ADIGE</td>\n",
       "      <td>BOLZANO</td>\n",
       "      <td>TBIC80900D</td>\n",
       "      <td>SAN CANDIDO - INNICHEN</td>\n",
       "      <td>TBEE80904P</td>\n",
       "      <td>SESTO/SEXTEN</td>\n",
       "      <td>Non Disponibile</td>\n",
       "      <td>39030</td>\n",
       "      <td>I687</td>\n",
       "      <td>SESTO * SEXTEN</td>\n",
       "      <td>NORMALE</td>\n",
       "      <td>SCUOLA PRIMARIA</td>\n",
       "      <td>NO</td>\n",
       "      <td>Non Disponibile</td>\n",
       "      <td>Non Disponibile</td>\n",
       "      <td>Non Disponibile</td>\n",
       "      <td>Non Disponibile</td>\n",
       "    </tr>\n",
       "    <tr>\n",
       "      <th>1</th>\n",
       "      <td>201718</td>\n",
       "      <td>NORD EST</td>\n",
       "      <td>TRENTINO-ALTO ADIGE</td>\n",
       "      <td>TRENTO</td>\n",
       "      <td>TNIC812001</td>\n",
       "      <td>\"BORGO VALSUGANA\"</td>\n",
       "      <td>TNIC812001</td>\n",
       "      <td>\"BORGO VALSUGANA\"</td>\n",
       "      <td>VIA A.SPAGOLLA, 1</td>\n",
       "      <td>38051</td>\n",
       "      <td>B006</td>\n",
       "      <td>BORGO VALSUGANA</td>\n",
       "      <td>NORMALE</td>\n",
       "      <td>ISTITUTO COMPRENSIVO</td>\n",
       "      <td>SI</td>\n",
       "      <td>Non Disponibile</td>\n",
       "      <td>Non Disponibile</td>\n",
       "      <td>ic.borgovalsugana@pec.provincia.tn.it</td>\n",
       "      <td>Non Disponibile</td>\n",
       "    </tr>\n",
       "    <tr>\n",
       "      <th>2</th>\n",
       "      <td>201718</td>\n",
       "      <td>NORD EST</td>\n",
       "      <td>TRENTINO-ALTO ADIGE</td>\n",
       "      <td>BOLZANO</td>\n",
       "      <td>TBIC82200X</td>\n",
       "      <td>ULTIMO - ULTEN</td>\n",
       "      <td>TBEE822012</td>\n",
       "      <td>SANTA VALPURGA/ST.WALBURG</td>\n",
       "      <td>Non Disponibile</td>\n",
       "      <td>39010</td>\n",
       "      <td>L490</td>\n",
       "      <td>ULTIMO * ULTEN</td>\n",
       "      <td>NORMALE</td>\n",
       "      <td>SCUOLA PRIMARIA</td>\n",
       "      <td>NO</td>\n",
       "      <td>Non Disponibile</td>\n",
       "      <td>Non Disponibile</td>\n",
       "      <td>Non Disponibile</td>\n",
       "      <td>Non Disponibile</td>\n",
       "    </tr>\n",
       "  </tbody>\n",
       "</table>\n",
       "</div>"
      ],
      "text/plain": [
       "   ANNOSCOLASTICO AREAGEOGRAFICA              REGIONE PROVINCIA  \\\n",
       "0          201718       NORD EST  TRENTINO-ALTO ADIGE   BOLZANO   \n",
       "1          201718       NORD EST  TRENTINO-ALTO ADIGE    TRENTO   \n",
       "2          201718       NORD EST  TRENTINO-ALTO ADIGE   BOLZANO   \n",
       "\n",
       "  CODICEISTITUTORIFERIMENTO DENOMINAZIONEISTITUTORIFERIMENTO CODICESCUOLA  \\\n",
       "0                TBIC80900D           SAN CANDIDO - INNICHEN   TBEE80904P   \n",
       "1                TNIC812001                \"BORGO VALSUGANA\"   TNIC812001   \n",
       "2                TBIC82200X                   ULTIMO - ULTEN   TBEE822012   \n",
       "\n",
       "         DENOMINAZIONESCUOLA    INDIRIZZOSCUOLA CAPSCUOLA CODICECOMUNESCUOLA  \\\n",
       "0               SESTO/SEXTEN    Non Disponibile     39030               I687   \n",
       "1          \"BORGO VALSUGANA\"  VIA A.SPAGOLLA, 1     38051               B006   \n",
       "2  SANTA VALPURGA/ST.WALBURG    Non Disponibile     39010               L490   \n",
       "\n",
       "  DESCRIZIONECOMUNE DESCRIZIONECARATTERISTICASCUOLA  \\\n",
       "0    SESTO * SEXTEN                         NORMALE   \n",
       "1   BORGO VALSUGANA                         NORMALE   \n",
       "2    ULTIMO * ULTEN                         NORMALE   \n",
       "\n",
       "  DESCRIZIONETIPOLOGIAGRADOISTRUZIONESCUOLA INDICAZIONESEDEDIRETTIVO  \\\n",
       "0                           SCUOLA PRIMARIA                       NO   \n",
       "1                      ISTITUTO COMPRENSIVO                       SI   \n",
       "2                           SCUOLA PRIMARIA                       NO   \n",
       "\n",
       "  INDICAZIONESEDEOMNICOMPRENSIVO INDIRIZZOEMAILSCUOLA  \\\n",
       "0                Non Disponibile      Non Disponibile   \n",
       "1                Non Disponibile      Non Disponibile   \n",
       "2                Non Disponibile      Non Disponibile   \n",
       "\n",
       "                      INDIRIZZOPECSCUOLA    SITOWEBSCUOLA  \n",
       "0                        Non Disponibile  Non Disponibile  \n",
       "1  ic.borgovalsugana@pec.provincia.tn.it  Non Disponibile  \n",
       "2                        Non Disponibile  Non Disponibile  "
      ]
     },
     "execution_count": 335,
     "metadata": {},
     "output_type": "execute_result"
    }
   ],
   "source": [
    "scuole_province_autonome.head(3)"
   ]
  },
  {
   "cell_type": "markdown",
   "metadata": {},
   "source": [
    "dimensioni"
   ]
  },
  {
   "cell_type": "code",
   "execution_count": 336,
   "metadata": {},
   "outputs": [
    {
     "data": {
      "text/plain": [
       "(1212, 19)"
      ]
     },
     "execution_count": 336,
     "metadata": {},
     "output_type": "execute_result"
    }
   ],
   "source": [
    "scuole_province_autonome.shape"
   ]
  },
  {
   "cell_type": "markdown",
   "metadata": {},
   "source": [
    "Accidenti!\n",
    "\n",
    "**C'è una colonna in meno!**"
   ]
  },
  {
   "cell_type": "code",
   "execution_count": 337,
   "metadata": {},
   "outputs": [
    {
     "data": {
      "text/plain": [
       "20"
      ]
     },
     "execution_count": 337,
     "metadata": {},
     "output_type": "execute_result"
    }
   ],
   "source": [
    "scuole.columns.size"
   ]
  },
  {
   "cell_type": "code",
   "execution_count": 338,
   "metadata": {},
   "outputs": [
    {
     "data": {
      "text/plain": [
       "19"
      ]
     },
     "execution_count": 338,
     "metadata": {},
     "output_type": "execute_result"
    }
   ],
   "source": [
    "scuole_province_autonome.columns.size"
   ]
  },
  {
   "cell_type": "markdown",
   "metadata": {},
   "source": [
    "verifica"
   ]
  },
  {
   "cell_type": "code",
   "execution_count": 339,
   "metadata": {},
   "outputs": [
    {
     "data": {
      "text/plain": [
       "1"
      ]
     },
     "execution_count": 339,
     "metadata": {},
     "output_type": "execute_result"
    }
   ],
   "source": [
    "scuole.columns.size - scuole_province_autonome.columns.size"
   ]
  },
  {
   "cell_type": "markdown",
   "metadata": {},
   "source": [
    "e ancora verifica"
   ]
  },
  {
   "cell_type": "code",
   "execution_count": 340,
   "metadata": {},
   "outputs": [
    {
     "data": {
      "text/plain": [
       "False"
      ]
     },
     "execution_count": 340,
     "metadata": {},
     "output_type": "execute_result"
    }
   ],
   "source": [
    "scuole.columns.equals(scuole_province_autonome.columns)"
   ]
  },
  {
   "cell_type": "markdown",
   "metadata": {},
   "source": [
    "In cosa cambiano?"
   ]
  },
  {
   "cell_type": "code",
   "execution_count": 341,
   "metadata": {},
   "outputs": [
    {
     "data": {
      "text/plain": [
       "Index(['SEDESCOLASTICA'], dtype='object')"
      ]
     },
     "execution_count": 341,
     "metadata": {},
     "output_type": "execute_result"
    }
   ],
   "source": [
    "scuole.columns.difference(scuole_province_autonome.columns)"
   ]
  },
  {
   "cell_type": "markdown",
   "metadata": {},
   "source": [
    "vediamo la descrizione di **SEDESCOLASTICA**"
   ]
  },
  {
   "cell_type": "code",
   "execution_count": 342,
   "metadata": {},
   "outputs": [
    {
     "data": {
      "text/plain": [
       "count     51216\n",
       "unique        2\n",
       "top          SI\n",
       "freq      41050\n",
       "Name: SEDESCOLASTICA, dtype: object"
      ]
     },
     "execution_count": 342,
     "metadata": {},
     "output_type": "execute_result"
    }
   ],
   "source": [
    "scuole.SEDESCOLASTICA.describe()"
   ]
  },
  {
   "cell_type": "markdown",
   "metadata": {},
   "source": [
    "Contiene solo due valori univoci (*unique*)\n",
    "\n",
    "Quali sono?"
   ]
  },
  {
   "cell_type": "code",
   "execution_count": 343,
   "metadata": {},
   "outputs": [
    {
     "data": {
      "text/plain": [
       "array(['SI', 'NO'], dtype=object)"
      ]
     },
     "execution_count": 343,
     "metadata": {},
     "output_type": "execute_result"
    }
   ],
   "source": [
    "scuole.SEDESCOLASTICA.unique()"
   ]
  },
  {
   "cell_type": "markdown",
   "metadata": {},
   "source": [
    ".. è molto probabile che la tabella delle scuole delle province autonome da per scontato il valore di SEDESCOLASTICA\n",
    "\n",
    "Proviamo ad unire la tabella creandone una nuova."
   ]
  },
  {
   "cell_type": "code",
   "execution_count": 344,
   "metadata": {
    "slideshow": {
     "slide_type": "fragment"
    }
   },
   "outputs": [
    {
     "data": {
      "text/html": [
       "<div>\n",
       "<style scoped>\n",
       "    .dataframe tbody tr th:only-of-type {\n",
       "        vertical-align: middle;\n",
       "    }\n",
       "\n",
       "    .dataframe tbody tr th {\n",
       "        vertical-align: top;\n",
       "    }\n",
       "\n",
       "    .dataframe thead th {\n",
       "        text-align: right;\n",
       "    }\n",
       "</style>\n",
       "<table border=\"1\" class=\"dataframe\">\n",
       "  <thead>\n",
       "    <tr style=\"text-align: right;\">\n",
       "      <th></th>\n",
       "      <th>ANNOSCOLASTICO</th>\n",
       "      <th>AREAGEOGRAFICA</th>\n",
       "      <th>CAPSCUOLA</th>\n",
       "      <th>CODICECOMUNESCUOLA</th>\n",
       "      <th>CODICEISTITUTORIFERIMENTO</th>\n",
       "      <th>CODICESCUOLA</th>\n",
       "      <th>DENOMINAZIONEISTITUTORIFERIMENTO</th>\n",
       "      <th>DENOMINAZIONESCUOLA</th>\n",
       "      <th>DESCRIZIONECARATTERISTICASCUOLA</th>\n",
       "      <th>DESCRIZIONECOMUNE</th>\n",
       "      <th>DESCRIZIONETIPOLOGIAGRADOISTRUZIONESCUOLA</th>\n",
       "      <th>INDICAZIONESEDEDIRETTIVO</th>\n",
       "      <th>INDICAZIONESEDEOMNICOMPRENSIVO</th>\n",
       "      <th>INDIRIZZOEMAILSCUOLA</th>\n",
       "      <th>INDIRIZZOPECSCUOLA</th>\n",
       "      <th>INDIRIZZOSCUOLA</th>\n",
       "      <th>PROVINCIA</th>\n",
       "      <th>REGIONE</th>\n",
       "      <th>SEDESCOLASTICA</th>\n",
       "      <th>SITOWEBSCUOLA</th>\n",
       "    </tr>\n",
       "  </thead>\n",
       "  <tbody>\n",
       "    <tr>\n",
       "      <th>0</th>\n",
       "      <td>201718</td>\n",
       "      <td>NORD EST</td>\n",
       "      <td>32020</td>\n",
       "      <td>E588</td>\n",
       "      <td>BLIC816001</td>\n",
       "      <td>BLMM816023</td>\n",
       "      <td>IC TRICHIANA</td>\n",
       "      <td>\"D. BUZZATI\" LIMANA</td>\n",
       "      <td>NORMALE</td>\n",
       "      <td>LIMANA</td>\n",
       "      <td>SCUOLA PRIMO GRADO</td>\n",
       "      <td>NO</td>\n",
       "      <td>Non Disponibile</td>\n",
       "      <td>BLIC816001@istruzione.it</td>\n",
       "      <td>Non Disponibile</td>\n",
       "      <td>VIA TOFANE 1</td>\n",
       "      <td>BELLUNO</td>\n",
       "      <td>VENETO</td>\n",
       "      <td>SI</td>\n",
       "      <td>http//www.ictrichiana.gov.it</td>\n",
       "    </tr>\n",
       "    <tr>\n",
       "      <th>1</th>\n",
       "      <td>201718</td>\n",
       "      <td>ISOLE</td>\n",
       "      <td>09170</td>\n",
       "      <td>G113</td>\n",
       "      <td>ORIC82700L</td>\n",
       "      <td>ORMM82701N</td>\n",
       "      <td>I.C. ORISTANO N. 4</td>\n",
       "      <td>S.M. \"ALAGON\"</td>\n",
       "      <td>NORMALE</td>\n",
       "      <td>ORISTANO</td>\n",
       "      <td>SCUOLA PRIMO GRADO</td>\n",
       "      <td>NO</td>\n",
       "      <td>Non Disponibile</td>\n",
       "      <td>ORIC82700L@istruzione.it</td>\n",
       "      <td>Non Disponibile</td>\n",
       "      <td>VIALE ARMANDO DIAZ 83</td>\n",
       "      <td>ORISTANO</td>\n",
       "      <td>SARDEGNA</td>\n",
       "      <td>SI</td>\n",
       "      <td>http//istitutocomprensivo4oristano.gov.it/</td>\n",
       "    </tr>\n",
       "    <tr>\n",
       "      <th>2</th>\n",
       "      <td>201718</td>\n",
       "      <td>NORD OVEST</td>\n",
       "      <td>20050</td>\n",
       "      <td>D038</td>\n",
       "      <td>MIIC8BS00B</td>\n",
       "      <td>MIEE8BS01D</td>\n",
       "      <td>ISTITUTO COMPRENSIVO LESMO</td>\n",
       "      <td>SCUOLA ELEMENTARE \"D.ALIGHIERI\"</td>\n",
       "      <td>NORMALE</td>\n",
       "      <td>CORREZZANA</td>\n",
       "      <td>SCUOLA PRIMARIA</td>\n",
       "      <td>NO</td>\n",
       "      <td>Non Disponibile</td>\n",
       "      <td>MIIC8BS00B@istruzione.it</td>\n",
       "      <td>Non Disponibile</td>\n",
       "      <td>VIA DE GASPERI18</td>\n",
       "      <td>MONZA-BRIANZA</td>\n",
       "      <td>LOMBARDIA</td>\n",
       "      <td>SI</td>\n",
       "      <td>www.istitutocomprensivolesmo.gov.it</td>\n",
       "    </tr>\n",
       "  </tbody>\n",
       "</table>\n",
       "</div>"
      ],
      "text/plain": [
       "   ANNOSCOLASTICO AREAGEOGRAFICA CAPSCUOLA CODICECOMUNESCUOLA  \\\n",
       "0          201718       NORD EST     32020               E588   \n",
       "1          201718          ISOLE     09170               G113   \n",
       "2          201718     NORD OVEST     20050               D038   \n",
       "\n",
       "  CODICEISTITUTORIFERIMENTO CODICESCUOLA DENOMINAZIONEISTITUTORIFERIMENTO  \\\n",
       "0                BLIC816001   BLMM816023                     IC TRICHIANA   \n",
       "1                ORIC82700L   ORMM82701N               I.C. ORISTANO N. 4   \n",
       "2                MIIC8BS00B   MIEE8BS01D       ISTITUTO COMPRENSIVO LESMO   \n",
       "\n",
       "               DENOMINAZIONESCUOLA DESCRIZIONECARATTERISTICASCUOLA  \\\n",
       "0              \"D. BUZZATI\" LIMANA                         NORMALE   \n",
       "1                    S.M. \"ALAGON\"                         NORMALE   \n",
       "2  SCUOLA ELEMENTARE \"D.ALIGHIERI\"                         NORMALE   \n",
       "\n",
       "  DESCRIZIONECOMUNE DESCRIZIONETIPOLOGIAGRADOISTRUZIONESCUOLA  \\\n",
       "0            LIMANA                        SCUOLA PRIMO GRADO   \n",
       "1          ORISTANO                        SCUOLA PRIMO GRADO   \n",
       "2        CORREZZANA                           SCUOLA PRIMARIA   \n",
       "\n",
       "  INDICAZIONESEDEDIRETTIVO INDICAZIONESEDEOMNICOMPRENSIVO  \\\n",
       "0                       NO                Non Disponibile   \n",
       "1                       NO                Non Disponibile   \n",
       "2                       NO                Non Disponibile   \n",
       "\n",
       "       INDIRIZZOEMAILSCUOLA INDIRIZZOPECSCUOLA        INDIRIZZOSCUOLA  \\\n",
       "0  BLIC816001@istruzione.it    Non Disponibile           VIA TOFANE 1   \n",
       "1  ORIC82700L@istruzione.it    Non Disponibile  VIALE ARMANDO DIAZ 83   \n",
       "2  MIIC8BS00B@istruzione.it    Non Disponibile       VIA DE GASPERI18   \n",
       "\n",
       "       PROVINCIA    REGIONE SEDESCOLASTICA  \\\n",
       "0        BELLUNO     VENETO             SI   \n",
       "1       ORISTANO   SARDEGNA             SI   \n",
       "2  MONZA-BRIANZA  LOMBARDIA             SI   \n",
       "\n",
       "                                SITOWEBSCUOLA  \n",
       "0                http//www.ictrichiana.gov.it  \n",
       "1  http//istitutocomprensivo4oristano.gov.it/  \n",
       "2         www.istitutocomprensivolesmo.gov.it  "
      ]
     },
     "execution_count": 344,
     "metadata": {},
     "output_type": "execute_result"
    }
   ],
   "source": [
    "scuole_italiane = panda.concat([scuole,scuole_province_autonome])\n",
    "scuole_italiane.head(3)"
   ]
  },
  {
   "cell_type": "code",
   "execution_count": 345,
   "metadata": {},
   "outputs": [
    {
     "data": {
      "text/plain": [
       "(52428, 20)"
      ]
     },
     "execution_count": 345,
     "metadata": {},
     "output_type": "execute_result"
    }
   ],
   "source": [
    "scuole_italiane.shape"
   ]
  },
  {
   "cell_type": "code",
   "execution_count": 346,
   "metadata": {},
   "outputs": [
    {
     "data": {
      "text/plain": [
       "count         52428\n",
       "unique           20\n",
       "top       LOMBARDIA\n",
       "freq           6494\n",
       "Name: REGIONE, dtype: object"
      ]
     },
     "execution_count": 346,
     "metadata": {},
     "output_type": "execute_result"
    }
   ],
   "source": [
    "scuole_italiane.REGIONE.describe()"
   ]
  },
  {
   "cell_type": "markdown",
   "metadata": {},
   "source": [
    "Vediamo come sono distribuite le scuole per ogni regione italiana"
   ]
  },
  {
   "cell_type": "code",
   "execution_count": 347,
   "metadata": {},
   "outputs": [],
   "source": [
    "scuolexregione = scuole_italiane.groupby(scuole_italiane.REGIONE).size()"
   ]
  },
  {
   "cell_type": "code",
   "execution_count": 348,
   "metadata": {},
   "outputs": [
    {
     "data": {
      "text/plain": [
       "REGIONE\n",
       "ABRUZZO                1455\n",
       "BASILICATA              823\n",
       "CALABRIA               2945\n",
       "CAMPANIA               5664\n",
       "EMILIA ROMAGNA         3026\n",
       "FRIULI-VENEZIA G.      1146\n",
       "LAZIO                  4028\n",
       "LIGURIA                1255\n",
       "LOMBARDIA              6494\n",
       "MARCHE                 1585\n",
       "MOLISE                  482\n",
       "PIEMONTE               3902\n",
       "PUGLIA                 3433\n",
       "SARDEGNA               1891\n",
       "SICILIA                5268\n",
       "TOSCANA                3233\n",
       "TRENTINO-ALTO ADIGE     987\n",
       "UMBRIA                 1005\n",
       "VALLE D' AOSTA          225\n",
       "VENETO                 3581\n",
       "dtype: int64"
      ]
     },
     "execution_count": 348,
     "metadata": {},
     "output_type": "execute_result"
    }
   ],
   "source": [
    "scuolexregione"
   ]
  },
  {
   "cell_type": "markdown",
   "metadata": {},
   "source": [
    "e con un grafico"
   ]
  },
  {
   "cell_type": "code",
   "execution_count": 349,
   "metadata": {},
   "outputs": [
    {
     "data": {
      "text/plain": [
       "<matplotlib.axes._subplots.AxesSubplot at 0x7f4ba66fc0f0>"
      ]
     },
     "execution_count": 349,
     "metadata": {},
     "output_type": "execute_result"
    },
    {
     "data": {
      "image/png": "[encoded data removed]",
      "text/plain": [
       "<Figure size 1080x720 with 1 Axes>"
      ]
     },
     "metadata": {},
     "output_type": "display_data"
    }
   ],
   "source": [
    "scuolexregione.plot(kind=\"bar\",title=\"numero di scuole per regione\",figsize=(15,10))"
   ]
  },
  {
   "cell_type": "markdown",
   "metadata": {},
   "source": [
    "---\n",
    "Tutto questo vale per le scuole statali.\n",
    "Aggiungiamo anche quelle paritarie\n",
    "\n",
    "Questo è l'indirizzo \n",
    "\n",
    "http://dati.istruzione.it/opendata/opendata/catalogo/elements1/SCUANAGRAFEPAR20171820170901.csv\n",
    "\n",
    "Questa volta però uso la funzione definita prima: tabellaMIUR(url)\n",
    "\n"
   ]
  },
  {
   "cell_type": "code",
   "execution_count": 350,
   "metadata": {},
   "outputs": [],
   "source": [
    "url = 'http://dati.istruzione.it/opendata/opendata/catalogo/elements1/SCUANAGRAFEPAR20171820170901.csv'\n",
    "scuole_paritarie=tabellaMIUR(url)"
   ]
  },
  {
   "cell_type": "code",
   "execution_count": 351,
   "metadata": {},
   "outputs": [
    {
     "data": {
      "text/plain": [
       "(12935, 14)"
      ]
     },
     "execution_count": 351,
     "metadata": {},
     "output_type": "execute_result"
    }
   ],
   "source": [
    "scuole_paritarie.shape"
   ]
  },
  {
   "cell_type": "code",
   "execution_count": 352,
   "metadata": {},
   "outputs": [
    {
     "data": {
      "text/plain": [
       "Index(['ANNOSCOLASTICO', 'AREAGEOGRAFICA', 'REGIONE', 'PROVINCIA',\n",
       "       'CODICESCUOLA', 'DENOMINAZIONESCUOLA', 'INDIRIZZOSCUOLA', 'CAPSCUOLA',\n",
       "       'CODICECOMUNESCUOLA', 'DESCRIZIONECOMUNE',\n",
       "       'DESCRIZIONETIPOLOGIAGRADOISTRUZIONESCUOLA', 'INDIRIZZOEMAILSCUOLA',\n",
       "       'INDIRIZZOPECSCUOLA', 'SITOWEBSCUOLA'],\n",
       "      dtype='object')"
      ]
     },
     "execution_count": 352,
     "metadata": {},
     "output_type": "execute_result"
    }
   ],
   "source": [
    "scuole_paritarie.columns"
   ]
  },
  {
   "cell_type": "code",
   "execution_count": 353,
   "metadata": {},
   "outputs": [
    {
     "data": {
      "text/plain": [
       "Index(['CODICEISTITUTORIFERIMENTO', 'DENOMINAZIONEISTITUTORIFERIMENTO',\n",
       "       'DESCRIZIONECARATTERISTICASCUOLA', 'INDICAZIONESEDEDIRETTIVO',\n",
       "       'INDICAZIONESEDEOMNICOMPRENSIVO', 'SEDESCOLASTICA'],\n",
       "      dtype='object')"
      ]
     },
     "execution_count": 353,
     "metadata": {},
     "output_type": "execute_result"
    }
   ],
   "source": [
    "scuole_italiane.columns.difference(scuole_paritarie.columns)"
   ]
  },
  {
   "cell_type": "markdown",
   "metadata": {},
   "source": [
    "... si tratta di attributi non necessari per le scuole paritarie perchè non strutturate dentro delle gerarchie"
   ]
  },
  {
   "cell_type": "code",
   "execution_count": 354,
   "metadata": {},
   "outputs": [
    {
     "data": {
      "text/plain": [
       "count         12935\n",
       "unique           18\n",
       "top       LOMBARDIA\n",
       "freq           2551\n",
       "Name: REGIONE, dtype: object"
      ]
     },
     "execution_count": 354,
     "metadata": {},
     "output_type": "execute_result"
    }
   ],
   "source": [
    "scuole_paritarie.REGIONE.describe()"
   ]
  },
  {
   "cell_type": "markdown",
   "metadata": {},
   "source": [
    "... devo prendere anche quelle delle province autonome\n",
    "\n",
    "http://dati.istruzione.it/opendata/opendata/catalogo/elements1/SCUANAAUTPAR20171820170901.csv\n"
   ]
  },
  {
   "cell_type": "code",
   "execution_count": 355,
   "metadata": {},
   "outputs": [],
   "source": [
    "url='http://dati.istruzione.it/opendata/opendata/catalogo/elements1/SCUANAAUTPAR20171820170901.csv'\n",
    "scuole_paritarie_province_autonome = tabellaMIUR(url)"
   ]
  },
  {
   "cell_type": "code",
   "execution_count": 356,
   "metadata": {},
   "outputs": [
    {
     "data": {
      "text/plain": [
       "(75, 14)"
      ]
     },
     "execution_count": 356,
     "metadata": {},
     "output_type": "execute_result"
    }
   ],
   "source": [
    "scuole_paritarie_province_autonome.shape"
   ]
  },
  {
   "cell_type": "code",
   "execution_count": 357,
   "metadata": {},
   "outputs": [
    {
     "data": {
      "text/plain": [
       "count                      75\n",
       "unique                      2\n",
       "top       TRENTINO-ALTO ADIGE\n",
       "freq                       54\n",
       "Name: REGIONE, dtype: object"
      ]
     },
     "execution_count": 357,
     "metadata": {},
     "output_type": "execute_result"
    }
   ],
   "source": [
    "scuole_paritarie_province_autonome.REGIONE.describe()"
   ]
  },
  {
   "cell_type": "code",
   "execution_count": 358,
   "metadata": {},
   "outputs": [
    {
     "data": {
      "text/plain": [
       "Index(['ANNOSCOLASTICO', 'AREAGEOGRAFICA', 'REGIONE', 'PROVINCIA',\n",
       "       'CODICESCUOLA', 'DENOMINAZIONESCUOLA', 'INDIRIZZOSCUOLA', 'CAPSCUOLA',\n",
       "       'CODICECOMUNESCUOLA', 'DESCRIZIONECOMUNE',\n",
       "       'DESCRIZIONETIPOLOGIAGRADOISTRUZIONESCUOLA', 'INDIRIZZOEMAILSCUOLA',\n",
       "       'INDIRIZZOPECSCUOLA', 'SITOWEBSCUOLA'],\n",
       "      dtype='object')"
      ]
     },
     "execution_count": 358,
     "metadata": {},
     "output_type": "execute_result"
    }
   ],
   "source": [
    "scuole_paritarie_province_autonome.columns"
   ]
  },
  {
   "cell_type": "code",
   "execution_count": 359,
   "metadata": {},
   "outputs": [],
   "source": [
    "scuole_italiane = panda.concat([scuole_italiane,scuole_paritarie_province_autonome,scuole_paritarie])"
   ]
  },
  {
   "cell_type": "code",
   "execution_count": 360,
   "metadata": {},
   "outputs": [
    {
     "data": {
      "text/plain": [
       "65438"
      ]
     },
     "execution_count": 360,
     "metadata": {},
     "output_type": "execute_result"
    }
   ],
   "source": [
    "scuole_italiane.CODICESCUOLA.size"
   ]
  },
  {
   "cell_type": "code",
   "execution_count": 361,
   "metadata": {},
   "outputs": [
    {
     "data": {
      "text/plain": [
       "REGIONE\n",
       "ABRUZZO                1625\n",
       "BASILICATA              875\n",
       "CALABRIA               3389\n",
       "CAMPANIA               7408\n",
       "EMILIA ROMAGNA         4007\n",
       "FRIULI-VENEZIA G.      1375\n",
       "LAZIO                  5432\n",
       "LIGURIA                1577\n",
       "LOMBARDIA              9045\n",
       "MARCHE                 1757\n",
       "MOLISE                  515\n",
       "PIEMONTE               4651\n",
       "PUGLIA                 3990\n",
       "SARDEGNA               2187\n",
       "SICILIA                6414\n",
       "TOSCANA                3816\n",
       "TRENTINO-ALTO ADIGE    1041\n",
       "UMBRIA                 1117\n",
       "VALLE D' AOSTA          246\n",
       "VENETO                 4971\n",
       "dtype: int64"
      ]
     },
     "execution_count": 361,
     "metadata": {},
     "output_type": "execute_result"
    }
   ],
   "source": [
    "scuole_italiane.groupby(scuole_italiane.REGIONE).size()"
   ]
  },
  {
   "cell_type": "code",
   "execution_count": 362,
   "metadata": {},
   "outputs": [
    {
     "data": {
      "text/plain": [
       "<matplotlib.axes._subplots.AxesSubplot at 0x7f4b8966e438>"
      ]
     },
     "execution_count": 362,
     "metadata": {},
     "output_type": "execute_result"
    },
    {
     "data": {
      "image/png": "[encoded data removed]",
      "text/plain": [
       "<Figure size 1080x720 with 1 Axes>"
      ]
     },
     "metadata": {},
     "output_type": "display_data"
    }
   ],
   "source": [
    "scuole_italiane.groupby(scuole_italiane.REGIONE).size().plot(kind=\"bar\",title=\"numero di scuole per regione\",figsize=(15,10))"
   ]
  },
  {
   "cell_type": "code",
   "execution_count": 363,
   "metadata": {},
   "outputs": [
    {
     "data": {
      "text/plain": [
       "<matplotlib.axes._subplots.AxesSubplot at 0x7f4b87e9d668>"
      ]
     },
     "execution_count": 363,
     "metadata": {},
     "output_type": "execute_result"
    },
    {
     "data": {
      "image/png": "[encoded data removed]",
      "text/plain": [
       "<Figure size 1080x576 with 1 Axes>"
      ]
     },
     "metadata": {},
     "output_type": "display_data"
    }
   ],
   "source": [
    "scuole_italiane.groupby(scuole_italiane.REGIONE).size().plot.bar(figsize=(15,8))"
   ]
  },
  {
   "cell_type": "markdown",
   "metadata": {},
   "source": [
    "# SISTEMA NAZIONALE DI VALUTAZIONE"
   ]
  },
  {
   "cell_type": "code",
   "execution_count": 364,
   "metadata": {},
   "outputs": [],
   "source": [
    "url='http://dati.istruzione.it/opendata/opendata/catalogo/elements1/VALUTAZIONE_ESITI_STA20161720170831.csv'\n",
    "valutazioni_esiti1617=tabellaMIUR(url)"
   ]
  },
  {
   "cell_type": "code",
   "execution_count": 365,
   "metadata": {},
   "outputs": [],
   "source": [
    "url='http://dati.istruzione.it/opendata/opendata/catalogo/elements1/VALUTAZIONE_PROCESSI_STA20161720170831.csv'\n",
    "valutazioni_processi1617=tabellaMIUR(url)"
   ]
  },
  {
   "cell_type": "markdown",
   "metadata": {},
   "source": [
    "## criteri di valutazione"
   ]
  },
  {
   "cell_type": "code",
   "execution_count": 366,
   "metadata": {},
   "outputs": [
    {
     "data": {
      "text/plain": [
       "(44, 6)"
      ]
     },
     "execution_count": 366,
     "metadata": {},
     "output_type": "execute_result"
    }
   ],
   "source": [
    "# criteri di valutazione\n",
    "url = 'http://dati.istruzione.it/opendata/opendata/catalogo/elements1/RUBRICA_VAL20161720170831.csv'\n",
    "criteri_valutazione1617 = tabellaMIUR(url)\n",
    "criteri_valutazione1617.shape"
   ]
  },
  {
   "cell_type": "code",
   "execution_count": 367,
   "metadata": {},
   "outputs": [
    {
     "data": {
      "text/plain": [
       "Index(['ANNOSCOLASTICO', 'SEZIONE', 'CODICECRITERIOQUALITA', 'CRITERIOQUALITA',\n",
       "       'PUNTEGGIORIFERIMENTO', 'DESCRIZIONEPUNTEGGIORIFERIMENTO'],\n",
       "      dtype='object')"
      ]
     },
     "execution_count": 367,
     "metadata": {},
     "output_type": "execute_result"
    }
   ],
   "source": [
    "criteri_valutazione1617.columns"
   ]
  },
  {
   "cell_type": "code",
   "execution_count": 368,
   "metadata": {},
   "outputs": [
    {
     "data": {
      "text/html": [
       "<div>\n",
       "<style scoped>\n",
       "    .dataframe tbody tr th:only-of-type {\n",
       "        vertical-align: middle;\n",
       "    }\n",
       "\n",
       "    .dataframe tbody tr th {\n",
       "        vertical-align: top;\n",
       "    }\n",
       "\n",
       "    .dataframe thead th {\n",
       "        text-align: right;\n",
       "    }\n",
       "</style>\n",
       "<table border=\"1\" class=\"dataframe\">\n",
       "  <thead>\n",
       "    <tr style=\"text-align: right;\">\n",
       "      <th></th>\n",
       "      <th>ANNOSCOLASTICO</th>\n",
       "      <th>SEZIONE</th>\n",
       "      <th>CODICECRITERIOQUALITA</th>\n",
       "      <th>CRITERIOQUALITA</th>\n",
       "      <th>PUNTEGGIORIFERIMENTO</th>\n",
       "      <th>DESCRIZIONEPUNTEGGIORIFERIMENTO</th>\n",
       "    </tr>\n",
       "  </thead>\n",
       "  <tbody>\n",
       "    <tr>\n",
       "      <th>17</th>\n",
       "      <td>201617</td>\n",
       "      <td>Esiti</td>\n",
       "      <td>21</td>\n",
       "      <td>Risultati scolastici</td>\n",
       "      <td>7</td>\n",
       "      <td>La quota di studenti ammessa all'anno successi...</td>\n",
       "    </tr>\n",
       "    <tr>\n",
       "      <th>1</th>\n",
       "      <td>201617</td>\n",
       "      <td>Esiti</td>\n",
       "      <td>21</td>\n",
       "      <td>Risultati scolastici</td>\n",
       "      <td>3</td>\n",
       "      <td>Gli studenti non ammessi all'anno successivo e...</td>\n",
       "    </tr>\n",
       "    <tr>\n",
       "      <th>6</th>\n",
       "      <td>201617</td>\n",
       "      <td>Esiti</td>\n",
       "      <td>21</td>\n",
       "      <td>Risultati scolastici</td>\n",
       "      <td>1</td>\n",
       "      <td>C'e' una percentuale superiore ai riferimenti ...</td>\n",
       "    </tr>\n",
       "  </tbody>\n",
       "</table>\n",
       "</div>"
      ],
      "text/plain": [
       "    ANNOSCOLASTICO SEZIONE  CODICECRITERIOQUALITA       CRITERIOQUALITA  \\\n",
       "17          201617   Esiti                     21  Risultati scolastici   \n",
       "1           201617   Esiti                     21  Risultati scolastici   \n",
       "6           201617   Esiti                     21  Risultati scolastici   \n",
       "\n",
       "    PUNTEGGIORIFERIMENTO                    DESCRIZIONEPUNTEGGIORIFERIMENTO  \n",
       "17                     7  La quota di studenti ammessa all'anno successi...  \n",
       "1                      3  Gli studenti non ammessi all'anno successivo e...  \n",
       "6                      1  C'e' una percentuale superiore ai riferimenti ...  "
      ]
     },
     "execution_count": 368,
     "metadata": {},
     "output_type": "execute_result"
    }
   ],
   "source": [
    "criteri_valutazione1617.sort_values(\"CODICECRITERIOQUALITA\").head(3)"
   ]
  },
  {
   "cell_type": "markdown",
   "metadata": {},
   "source": [
    "## CRITERI DI QUALITÀ"
   ]
  },
  {
   "cell_type": "code",
   "execution_count": 369,
   "metadata": {},
   "outputs": [
    {
     "data": {
      "text/plain": [
       "CODICECRITERIOQUALITA  CRITERIOQUALITA                                          \n",
       "21                     Risultati scolastici                                         4\n",
       "22                     Risultati nelle prove standardizzate nazionali               4\n",
       "23                     Competenze chiave europee                                    4\n",
       "24                     Risultati a distanza                                         4\n",
       "31                     Curricolo, progettazione e valutazione                       4\n",
       "32                     Ambiente di apprendimento                                    4\n",
       "33                     Inclusione e differenziazione                                4\n",
       "34                     Continuita' e orientamento                                   4\n",
       "35                     Orientamento strategico e organizzazione della scuola        4\n",
       "36                     Sviluppo e valorizzazione delle risorse umane                4\n",
       "37                     Integrazione con il territorio e rapporti con le famiglie    4\n",
       "dtype: int64"
      ]
     },
     "execution_count": 369,
     "metadata": {},
     "output_type": "execute_result"
    }
   ],
   "source": [
    "criteri_valutazione1617.groupby([\"CODICECRITERIOQUALITA\",\"CRITERIOQUALITA\"]).size()"
   ]
  },
  {
   "cell_type": "markdown",
   "metadata": {},
   "source": [
    "# Punteggio di Riferimento\n",
    "\n",
    "Valore utilizzato dall'istituto per l'assegnazione del punteggio per i criteri di valutazione. \n",
    "\n",
    "I valori sono compresi tra *1* e *7* e vengono indicati *1*, *3*, *5* e *7*; i valori 2, 4 e 6 _non_ sono eplicitati e permettono di posizionare le scuole che riscontrano una corrispondenza tra la descrizione e la situazione effettiva solo in relazione ad alcuni aspetti. \n",
    "\n",
    "    1 = situazione molto critica; \n",
    "    \n",
    "    3 = situazione con qualche criticità;\n",
    "    \n",
    "    5 = situazione positiva;\n",
    "    \n",
    "    7 = situazione eccellente"
   ]
  },
  {
   "cell_type": "markdown",
   "metadata": {},
   "source": [
    "---\n",
    "# EDILIZIA SCOLASTICA"
   ]
  },
  {
   "cell_type": "code",
   "execution_count": 370,
   "metadata": {},
   "outputs": [
    {
     "data": {
      "text/html": [
       "<div>\n",
       "<style scoped>\n",
       "    .dataframe tbody tr th:only-of-type {\n",
       "        vertical-align: middle;\n",
       "    }\n",
       "\n",
       "    .dataframe tbody tr th {\n",
       "        vertical-align: top;\n",
       "    }\n",
       "\n",
       "    .dataframe thead th {\n",
       "        text-align: right;\n",
       "    }\n",
       "</style>\n",
       "<table border=\"1\" class=\"dataframe\">\n",
       "  <thead>\n",
       "    <tr style=\"text-align: right;\">\n",
       "      <th></th>\n",
       "      <th>ANNOSCOLASTICO</th>\n",
       "      <th>CODICESCUOLA</th>\n",
       "      <th>CODICEEDIFICIO</th>\n",
       "      <th>CODICECOMUNE</th>\n",
       "      <th>DESCRIZIONECOMUNE</th>\n",
       "      <th>SIGLAPROVINCIA</th>\n",
       "      <th>TIPOLOGIAINDIRIZZO</th>\n",
       "      <th>DENOMINAZIONEINDIRIZZO</th>\n",
       "      <th>NUMEROCIVICO</th>\n",
       "      <th>CAP</th>\n",
       "      <th>STATOEDIFICIO</th>\n",
       "    </tr>\n",
       "  </thead>\n",
       "  <tbody>\n",
       "    <tr>\n",
       "      <th>0</th>\n",
       "      <td>201516</td>\n",
       "      <td>AGAA01103A</td>\n",
       "      <td>840111102</td>\n",
       "      <td>B602</td>\n",
       "      <td>CANICATTI'</td>\n",
       "      <td>AG</td>\n",
       "      <td>Altro</td>\n",
       "      <td>CONTRADA REDA</td>\n",
       "      <td>snc</td>\n",
       "      <td>92024</td>\n",
       "      <td>Attivo</td>\n",
       "    </tr>\n",
       "    <tr>\n",
       "      <th>1</th>\n",
       "      <td>201516</td>\n",
       "      <td>AGAA01109L</td>\n",
       "      <td>840111103</td>\n",
       "      <td>B602</td>\n",
       "      <td>CANICATTI'</td>\n",
       "      <td>AG</td>\n",
       "      <td>Via</td>\n",
       "      <td>S. VINCENZO</td>\n",
       "      <td>1</td>\n",
       "      <td>92024</td>\n",
       "      <td>Attivo</td>\n",
       "    </tr>\n",
       "    <tr>\n",
       "      <th>2</th>\n",
       "      <td>201516</td>\n",
       "      <td>AGAA02406G</td>\n",
       "      <td>840274812</td>\n",
       "      <td>G282</td>\n",
       "      <td>PALMA DI MONTECHIARO</td>\n",
       "      <td>AG</td>\n",
       "      <td>Viale</td>\n",
       "      <td>LEONARDO DA VINCI</td>\n",
       "      <td>50</td>\n",
       "      <td>92020</td>\n",
       "      <td>Attivo</td>\n",
       "    </tr>\n",
       "  </tbody>\n",
       "</table>\n",
       "</div>"
      ],
      "text/plain": [
       "   ANNOSCOLASTICO  CODICESCUOLA   CODICEEDIFICIO  CODICECOMUNE  \\\n",
       "0          201516    AGAA01103A        840111102          B602   \n",
       "1          201516    AGAA01109L        840111103          B602   \n",
       "2          201516    AGAA02406G        840274812          G282   \n",
       "\n",
       "      DESCRIZIONECOMUNE  SIGLAPROVINCIA  TIPOLOGIAINDIRIZZO  \\\n",
       "0            CANICATTI'              AG               Altro   \n",
       "1            CANICATTI'              AG                 Via   \n",
       "2  PALMA DI MONTECHIARO              AG               Viale   \n",
       "\n",
       "   DENOMINAZIONEINDIRIZZO  NUMEROCIVICO    CAP  STATOEDIFICIO  \n",
       "0           CONTRADA REDA           snc  92024         Attivo  \n",
       "1             S. VINCENZO             1  92024         Attivo  \n",
       "2       LEONARDO DA VINCI            50  92020         Attivo  "
      ]
     },
     "execution_count": 370,
     "metadata": {},
     "output_type": "execute_result"
    }
   ],
   "source": [
    "# edifici scolastici\n",
    "url='http://dati.istruzione.it/opendata/EDIANAGRAFESTA20160831.csv'\n",
    "edificiscolastici=tabellaMIUR(url)\n",
    "edificiscolastici.head(3)"
   ]
  },
  {
   "cell_type": "code",
   "execution_count": 371,
   "metadata": {},
   "outputs": [],
   "source": [
    "url='http://dati.istruzione.it/opendata/opendata/catalogo/elements1/ALUCORSOETAPAR20161720170831.csv'"
   ]
  },
  {
   "cell_type": "code",
   "execution_count": 372,
   "metadata": {},
   "outputs": [
    {
     "data": {
      "text/plain": [
       "array([201516])"
      ]
     },
     "execution_count": 372,
     "metadata": {},
     "output_type": "execute_result"
    }
   ],
   "source": [
    "# a quale anni scolastici fanno riferimento?\n",
    "edificiscolastici.ANNOSCOLASTICO.unique()"
   ]
  },
  {
   "cell_type": "markdown",
   "metadata": {},
   "source": [
    ".. solo anno scolastico **2015/2016**"
   ]
  },
  {
   "cell_type": "markdown",
   "metadata": {},
   "source": [
    "## strutture annesse alla scuola \n",
    "spazi didattici, aula magna, mensa, palestra/piscina, spazi amminstrativi"
   ]
  },
  {
   "cell_type": "code",
   "execution_count": 373,
   "metadata": {
    "scrolled": true
   },
   "outputs": [
    {
     "data": {
      "text/html": [
       "<div>\n",
       "<style scoped>\n",
       "    .dataframe tbody tr th:only-of-type {\n",
       "        vertical-align: middle;\n",
       "    }\n",
       "\n",
       "    .dataframe tbody tr th {\n",
       "        vertical-align: top;\n",
       "    }\n",
       "\n",
       "    .dataframe thead th {\n",
       "        text-align: right;\n",
       "    }\n",
       "</style>\n",
       "<table border=\"1\" class=\"dataframe\">\n",
       "  <thead>\n",
       "    <tr style=\"text-align: right;\">\n",
       "      <th></th>\n",
       "      <th>ANNOSCOLASTICO</th>\n",
       "      <th>CODICESCUOLA</th>\n",
       "      <th>CODICEEDIFICIO</th>\n",
       "      <th>SPAZIDIDATTICI</th>\n",
       "      <th>AULAMAGNA</th>\n",
       "      <th>MENSA</th>\n",
       "      <th>PALESTRAPISCINA</th>\n",
       "      <th>SPAZIAMMINISTRATIVI</th>\n",
       "    </tr>\n",
       "  </thead>\n",
       "  <tbody>\n",
       "    <tr>\n",
       "      <th>0</th>\n",
       "      <td>201516</td>\n",
       "      <td>AGAA01103A</td>\n",
       "      <td>840111102</td>\n",
       "      <td>Esiste</td>\n",
       "      <td>Non Esiste</td>\n",
       "      <td>Non Esiste</td>\n",
       "      <td>Non Esiste</td>\n",
       "      <td>Non Esiste</td>\n",
       "    </tr>\n",
       "    <tr>\n",
       "      <th>1</th>\n",
       "      <td>201516</td>\n",
       "      <td>AGAA01109L</td>\n",
       "      <td>840111103</td>\n",
       "      <td>Esiste</td>\n",
       "      <td>Non Esiste</td>\n",
       "      <td>Non Esiste</td>\n",
       "      <td>Non Esiste</td>\n",
       "      <td>Non Esiste</td>\n",
       "    </tr>\n",
       "    <tr>\n",
       "      <th>2</th>\n",
       "      <td>201516</td>\n",
       "      <td>AGAA02406G</td>\n",
       "      <td>840274812</td>\n",
       "      <td>Esiste</td>\n",
       "      <td>Non Esiste</td>\n",
       "      <td>Non Esiste</td>\n",
       "      <td>Non Esiste</td>\n",
       "      <td>Esiste</td>\n",
       "    </tr>\n",
       "  </tbody>\n",
       "</table>\n",
       "</div>"
      ],
      "text/plain": [
       "   ANNOSCOLASTICO  CODICESCUOLA   CODICEEDIFICIO  SPAZIDIDATTICI   AULAMAGNA  \\\n",
       "0          201516    AGAA01103A        840111102          Esiste  Non Esiste   \n",
       "1          201516    AGAA01109L        840111103          Esiste  Non Esiste   \n",
       "2          201516    AGAA02406G        840274812          Esiste  Non Esiste   \n",
       "\n",
       "        MENSA  PALESTRAPISCINA  SPAZIAMMINISTRATIVI  \n",
       "0  Non Esiste       Non Esiste           Non Esiste  \n",
       "1  Non Esiste       Non Esiste           Non Esiste  \n",
       "2  Non Esiste       Non Esiste               Esiste  "
      ]
     },
     "execution_count": 373,
     "metadata": {},
     "output_type": "execute_result"
    }
   ],
   "source": [
    "url='http://dati.istruzione.it/opendata/opendata/catalogo/elements1/EDIAMBFUNZSTA20160831.csv'\n",
    "strutturescolastiche = tabellaMIUR(url)\n",
    "strutturescolastiche.head(3)"
   ]
  },
  {
   "cell_type": "code",
   "execution_count": 374,
   "metadata": {},
   "outputs": [
    {
     "data": {
      "text/plain": [
       "array([201516])"
      ]
     },
     "execution_count": 374,
     "metadata": {},
     "output_type": "execute_result"
    }
   ],
   "source": [
    "# a quali anni scolastici fanno riferimento?\n",
    "strutturescolastiche.ANNOSCOLASTICO.unique()"
   ]
  },
  {
   "cell_type": "markdown",
   "metadata": {},
   "source": [
    "... solo anno scolastico **2015/2016**"
   ]
  },
  {
   "cell_type": "markdown",
   "metadata": {},
   "source": [
    "## raggiungibilità degli edifici"
   ]
  },
  {
   "cell_type": "code",
   "execution_count": 375,
   "metadata": {
    "scrolled": true
   },
   "outputs": [
    {
     "data": {
      "text/html": [
       "<div>\n",
       "<style scoped>\n",
       "    .dataframe tbody tr th:only-of-type {\n",
       "        vertical-align: middle;\n",
       "    }\n",
       "\n",
       "    .dataframe tbody tr th {\n",
       "        vertical-align: top;\n",
       "    }\n",
       "\n",
       "    .dataframe thead th {\n",
       "        text-align: right;\n",
       "    }\n",
       "</style>\n",
       "<table border=\"1\" class=\"dataframe\">\n",
       "  <thead>\n",
       "    <tr style=\"text-align: right;\">\n",
       "      <th></th>\n",
       "      <th>ANNOSCOLASTICO</th>\n",
       "      <th>CODICESCUOLA</th>\n",
       "      <th>CODICEEDIFICIO</th>\n",
       "      <th>SCUOLABUS</th>\n",
       "      <th>TRASPORTIPUBBLICIURBANI</th>\n",
       "      <th>TRASPORTIPUBBLICIINTERURBANI</th>\n",
       "      <th>TRASPORTIFERROVIARI</th>\n",
       "      <th>MEZZIPRIVATI</th>\n",
       "      <th>TRASPORTODISABILI</th>\n",
       "      <th>ALTRO</th>\n",
       "    </tr>\n",
       "  </thead>\n",
       "  <tbody>\n",
       "    <tr>\n",
       "      <th>0</th>\n",
       "      <td>201516</td>\n",
       "      <td>AGAA01103A</td>\n",
       "      <td>840111102</td>\n",
       "      <td>SI</td>\n",
       "      <td>SI</td>\n",
       "      <td>NO</td>\n",
       "      <td>SI</td>\n",
       "      <td>SI</td>\n",
       "      <td>NO</td>\n",
       "      <td>Non Comunicato</td>\n",
       "    </tr>\n",
       "    <tr>\n",
       "      <th>1</th>\n",
       "      <td>201516</td>\n",
       "      <td>AGAA01109L</td>\n",
       "      <td>840111103</td>\n",
       "      <td>SI</td>\n",
       "      <td>SI</td>\n",
       "      <td>NO</td>\n",
       "      <td>NO</td>\n",
       "      <td>SI</td>\n",
       "      <td>SI</td>\n",
       "      <td>Non Comunicato</td>\n",
       "    </tr>\n",
       "    <tr>\n",
       "      <th>2</th>\n",
       "      <td>201516</td>\n",
       "      <td>AGAA02406G</td>\n",
       "      <td>840274812</td>\n",
       "      <td>SI</td>\n",
       "      <td>SI</td>\n",
       "      <td>NO</td>\n",
       "      <td>NO</td>\n",
       "      <td>SI</td>\n",
       "      <td>NO</td>\n",
       "      <td>Non Comunicato</td>\n",
       "    </tr>\n",
       "  </tbody>\n",
       "</table>\n",
       "</div>"
      ],
      "text/plain": [
       "   ANNOSCOLASTICO  CODICESCUOLA   CODICEEDIFICIO  SCUOLABUS  \\\n",
       "0          201516    AGAA01103A        840111102         SI   \n",
       "1          201516    AGAA01109L        840111103         SI   \n",
       "2          201516    AGAA02406G        840274812         SI   \n",
       "\n",
       "   TRASPORTIPUBBLICIURBANI  TRASPORTIPUBBLICIINTERURBANI  TRASPORTIFERROVIARI  \\\n",
       "0                       SI                            NO                   SI   \n",
       "1                       SI                            NO                   NO   \n",
       "2                       SI                            NO                   NO   \n",
       "\n",
       "   MEZZIPRIVATI  TRASPORTODISABILI           ALTRO  \n",
       "0            SI                 NO  Non Comunicato  \n",
       "1            SI                 SI  Non Comunicato  \n",
       "2            SI                 NO  Non Comunicato  "
      ]
     },
     "execution_count": 375,
     "metadata": {},
     "output_type": "execute_result"
    }
   ],
   "source": [
    "url='http://dati.istruzione.it/opendata/opendata/catalogo/elements1/EDICOLLEGAMENTISTA20160831.csv'\n",
    "raggiungibilita= tabellaMIUR(url)\n",
    "raggiungibilita.head(3)"
   ]
  },
  {
   "cell_type": "markdown",
   "metadata": {},
   "source": [
    "---\n",
    "# ANAGRAFICA STUDENTI\n",
    "## Studenti per anno di corso e fascia di eta'. Scuola statale."
   ]
  },
  {
   "cell_type": "code",
   "execution_count": 376,
   "metadata": {},
   "outputs": [
    {
     "data": {
      "text/html": [
       "<div>\n",
       "<style scoped>\n",
       "    .dataframe tbody tr th:only-of-type {\n",
       "        vertical-align: middle;\n",
       "    }\n",
       "\n",
       "    .dataframe tbody tr th {\n",
       "        vertical-align: top;\n",
       "    }\n",
       "\n",
       "    .dataframe thead th {\n",
       "        text-align: right;\n",
       "    }\n",
       "</style>\n",
       "<table border=\"1\" class=\"dataframe\">\n",
       "  <thead>\n",
       "    <tr style=\"text-align: right;\">\n",
       "      <th></th>\n",
       "      <th>ANNOSCOLASTICO</th>\n",
       "      <th>CODICESCUOLA</th>\n",
       "      <th>ORDINESCUOLA</th>\n",
       "      <th>ANNOCORSO</th>\n",
       "      <th>FASCIAETA</th>\n",
       "      <th>ALUNNI</th>\n",
       "    </tr>\n",
       "  </thead>\n",
       "  <tbody>\n",
       "    <tr>\n",
       "      <th>0</th>\n",
       "      <td>201617</td>\n",
       "      <td>NARC12301N</td>\n",
       "      <td>SCUOLA SECONDARIA II GRADO</td>\n",
       "      <td>4</td>\n",
       "      <td>16 anni</td>\n",
       "      <td>12</td>\n",
       "    </tr>\n",
       "    <tr>\n",
       "      <th>1</th>\n",
       "      <td>201617</td>\n",
       "      <td>VRMM865017</td>\n",
       "      <td>SCUOLA SECONDARIA I GRADO</td>\n",
       "      <td>1</td>\n",
       "      <td>11 anni</td>\n",
       "      <td>129</td>\n",
       "    </tr>\n",
       "    <tr>\n",
       "      <th>2</th>\n",
       "      <td>201617</td>\n",
       "      <td>GEMM82901A</td>\n",
       "      <td>SCUOLA SECONDARIA I GRADO</td>\n",
       "      <td>2</td>\n",
       "      <td>13 anni</td>\n",
       "      <td>3</td>\n",
       "    </tr>\n",
       "  </tbody>\n",
       "</table>\n",
       "</div>"
      ],
      "text/plain": [
       "   ANNOSCOLASTICO CODICESCUOLA                ORDINESCUOLA  ANNOCORSO  \\\n",
       "0          201617   NARC12301N  SCUOLA SECONDARIA II GRADO          4   \n",
       "1          201617   VRMM865017   SCUOLA SECONDARIA I GRADO          1   \n",
       "2          201617   GEMM82901A   SCUOLA SECONDARIA I GRADO          2   \n",
       "\n",
       "  FASCIAETA  ALUNNI  \n",
       "0   16 anni      12  \n",
       "1   11 anni     129  \n",
       "2   13 anni       3  "
      ]
     },
     "execution_count": 376,
     "metadata": {},
     "output_type": "execute_result"
    }
   ],
   "source": [
    "#studenti scuola statale 2016/2017\n",
    "url='http://dati.istruzione.it/opendata/opendata/catalogo/elements1/ALUCORSOETASTA20161720170831.csv'\n",
    "anagrafica_studenti1516 = tabellaMIUR(url)\n",
    "anagrafica_studenti1516.head(3)"
   ]
  },
  {
   "cell_type": "code",
   "execution_count": 377,
   "metadata": {},
   "outputs": [
    {
     "data": {
      "text/plain": [
       "(330000, 6)"
      ]
     },
     "execution_count": 377,
     "metadata": {},
     "output_type": "execute_result"
    }
   ],
   "source": [
    "anagrafica_studenti1516.shape"
   ]
  },
  {
   "cell_type": "code",
   "execution_count": 378,
   "metadata": {},
   "outputs": [
    {
     "data": {
      "text/plain": [
       "Index(['ANNOSCOLASTICO', 'CODICESCUOLA', 'ORDINESCUOLA', 'ANNOCORSO',\n",
       "       'FASCIAETA', 'ALUNNI'],\n",
       "      dtype='object')"
      ]
     },
     "execution_count": 378,
     "metadata": {},
     "output_type": "execute_result"
    }
   ],
   "source": [
    "anagrafica_studenti1516.columns"
   ]
  },
  {
   "cell_type": "markdown",
   "metadata": {},
   "source": [
    "## Studenti per anno di corso, classe e genere. Scuola statale."
   ]
  },
  {
   "cell_type": "code",
   "execution_count": 379,
   "metadata": {},
   "outputs": [
    {
     "data": {
      "text/html": [
       "<div>\n",
       "<style scoped>\n",
       "    .dataframe tbody tr th:only-of-type {\n",
       "        vertical-align: middle;\n",
       "    }\n",
       "\n",
       "    .dataframe tbody tr th {\n",
       "        vertical-align: top;\n",
       "    }\n",
       "\n",
       "    .dataframe thead th {\n",
       "        text-align: right;\n",
       "    }\n",
       "</style>\n",
       "<table border=\"1\" class=\"dataframe\">\n",
       "  <thead>\n",
       "    <tr style=\"text-align: right;\">\n",
       "      <th></th>\n",
       "      <th>ANNOSCOLASTICO</th>\n",
       "      <th>CODICESCUOLA</th>\n",
       "      <th>ORDINESCUOLA</th>\n",
       "      <th>ANNOCORSOCLASSE</th>\n",
       "      <th>CLASSI</th>\n",
       "      <th>ALUNNIMASCHI</th>\n",
       "      <th>ALUNNIFEMMINE</th>\n",
       "    </tr>\n",
       "  </thead>\n",
       "  <tbody>\n",
       "    <tr>\n",
       "      <th>0</th>\n",
       "      <td>201617</td>\n",
       "      <td>BAEE063034</td>\n",
       "      <td>SCUOLA PRIMARIA</td>\n",
       "      <td>1</td>\n",
       "      <td>1</td>\n",
       "      <td>14</td>\n",
       "      <td>8</td>\n",
       "    </tr>\n",
       "    <tr>\n",
       "      <th>1</th>\n",
       "      <td>201617</td>\n",
       "      <td>NOEE813014</td>\n",
       "      <td>SCUOLA PRIMARIA</td>\n",
       "      <td>1</td>\n",
       "      <td>4</td>\n",
       "      <td>47</td>\n",
       "      <td>43</td>\n",
       "    </tr>\n",
       "    <tr>\n",
       "      <th>2</th>\n",
       "      <td>201617</td>\n",
       "      <td>PZMM89002R</td>\n",
       "      <td>SCUOLA SECONDARIA I GRADO</td>\n",
       "      <td>3</td>\n",
       "      <td>1</td>\n",
       "      <td>6</td>\n",
       "      <td>6</td>\n",
       "    </tr>\n",
       "  </tbody>\n",
       "</table>\n",
       "</div>"
      ],
      "text/plain": [
       "   ANNOSCOLASTICO CODICESCUOLA               ORDINESCUOLA  ANNOCORSOCLASSE  \\\n",
       "0          201617   BAEE063034            SCUOLA PRIMARIA                1   \n",
       "1          201617   NOEE813014            SCUOLA PRIMARIA                1   \n",
       "2          201617   PZMM89002R  SCUOLA SECONDARIA I GRADO                3   \n",
       "\n",
       "   CLASSI  ALUNNIMASCHI  ALUNNIFEMMINE  \n",
       "0       1            14              8  \n",
       "1       4            47             43  \n",
       "2       1             6              6  "
      ]
     },
     "execution_count": 379,
     "metadata": {},
     "output_type": "execute_result"
    }
   ],
   "source": [
    "url='http://dati.istruzione.it/opendata/opendata/catalogo/elements1/ALUCORSOINDCLASTA20161720170831.csv'\n",
    "anagrafica_studenti_genere_1516= tabellaMIUR(url)\n",
    "anagrafica_studenti_genere_1516.head(3)"
   ]
  },
  {
   "cell_type": "code",
   "execution_count": 380,
   "metadata": {},
   "outputs": [
    {
     "data": {
      "text/plain": [
       "(119791, 7)"
      ]
     },
     "execution_count": 380,
     "metadata": {},
     "output_type": "execute_result"
    }
   ],
   "source": [
    "anagrafica_studenti_genere_1516.shape"
   ]
  },
  {
   "cell_type": "code",
   "execution_count": 381,
   "metadata": {},
   "outputs": [
    {
     "data": {
      "text/plain": [
       "Index(['ANNOSCOLASTICO', 'CODICESCUOLA', 'ORDINESCUOLA', 'ANNOCORSOCLASSE',\n",
       "       'CLASSI', 'ALUNNIMASCHI', 'ALUNNIFEMMINE'],\n",
       "      dtype='object')"
      ]
     },
     "execution_count": 381,
     "metadata": {},
     "output_type": "execute_result"
    }
   ],
   "source": [
    "anagrafica_studenti_genere_1516.columns"
   ]
  },
  {
   "cell_type": "markdown",
   "metadata": {},
   "source": [
    "---\n",
    "# Scuole della Regione Emilia-Romagna"
   ]
  },
  {
   "cell_type": "raw",
   "metadata": {},
   "source": [
    "... e prendiamo quelle della Regione Emilia-Romagna"
   ]
  },
  {
   "cell_type": "code",
   "execution_count": 382,
   "metadata": {},
   "outputs": [],
   "source": [
    "scuole_RER=scuole_italiane[scuole_italiane.REGIONE == 'EMILIA ROMAGNA']"
   ]
  },
  {
   "cell_type": "markdown",
   "metadata": {},
   "source": [
    "altra sbirciatina :)"
   ]
  },
  {
   "cell_type": "code",
   "execution_count": 383,
   "metadata": {
    "scrolled": false
   },
   "outputs": [
    {
     "data": {
      "text/html": [
       "<div>\n",
       "<style scoped>\n",
       "    .dataframe tbody tr th:only-of-type {\n",
       "        vertical-align: middle;\n",
       "    }\n",
       "\n",
       "    .dataframe tbody tr th {\n",
       "        vertical-align: top;\n",
       "    }\n",
       "\n",
       "    .dataframe thead th {\n",
       "        text-align: right;\n",
       "    }\n",
       "</style>\n",
       "<table border=\"1\" class=\"dataframe\">\n",
       "  <thead>\n",
       "    <tr style=\"text-align: right;\">\n",
       "      <th></th>\n",
       "      <th>ANNOSCOLASTICO</th>\n",
       "      <th>AREAGEOGRAFICA</th>\n",
       "      <th>CAPSCUOLA</th>\n",
       "      <th>CODICECOMUNESCUOLA</th>\n",
       "      <th>CODICEISTITUTORIFERIMENTO</th>\n",
       "      <th>CODICESCUOLA</th>\n",
       "      <th>DENOMINAZIONEISTITUTORIFERIMENTO</th>\n",
       "      <th>DENOMINAZIONESCUOLA</th>\n",
       "      <th>DESCRIZIONECARATTERISTICASCUOLA</th>\n",
       "      <th>DESCRIZIONECOMUNE</th>\n",
       "      <th>DESCRIZIONETIPOLOGIAGRADOISTRUZIONESCUOLA</th>\n",
       "      <th>INDICAZIONESEDEDIRETTIVO</th>\n",
       "      <th>INDICAZIONESEDEOMNICOMPRENSIVO</th>\n",
       "      <th>INDIRIZZOEMAILSCUOLA</th>\n",
       "      <th>INDIRIZZOPECSCUOLA</th>\n",
       "      <th>INDIRIZZOSCUOLA</th>\n",
       "      <th>PROVINCIA</th>\n",
       "      <th>REGIONE</th>\n",
       "      <th>SEDESCOLASTICA</th>\n",
       "      <th>SITOWEBSCUOLA</th>\n",
       "    </tr>\n",
       "  </thead>\n",
       "  <tbody>\n",
       "    <tr>\n",
       "      <th>42</th>\n",
       "      <td>201718</td>\n",
       "      <td>NORD EST</td>\n",
       "      <td>42124</td>\n",
       "      <td>H223</td>\n",
       "      <td>REIC84000C</td>\n",
       "      <td>REEE84005P</td>\n",
       "      <td>\"J.F. KENNEDY\"</td>\n",
       "      <td>\"G. LEOPARDI\" - PIEVE KENNEDY</td>\n",
       "      <td>NORMALE</td>\n",
       "      <td>REGGIO NELL'EMILIA</td>\n",
       "      <td>SCUOLA PRIMARIA</td>\n",
       "      <td>NO</td>\n",
       "      <td>Non Disponibile</td>\n",
       "      <td>REIC84000C@istruzione.it</td>\n",
       "      <td>Non Disponibile</td>\n",
       "      <td>VIA KENNEDY 20</td>\n",
       "      <td>REGGIO EMILIA</td>\n",
       "      <td>EMILIA ROMAGNA</td>\n",
       "      <td>SI</td>\n",
       "      <td>www.ickennedy-re.gov.it</td>\n",
       "    </tr>\n",
       "    <tr>\n",
       "      <th>62</th>\n",
       "      <td>201718</td>\n",
       "      <td>NORD EST</td>\n",
       "      <td>43014</td>\n",
       "      <td>F082</td>\n",
       "      <td>PRIC80900A</td>\n",
       "      <td>PRMM80901B</td>\n",
       "      <td>I.C. MEDESANO</td>\n",
       "      <td>MEDESANO - \"EDMONDO DE' AMICIS\"</td>\n",
       "      <td>NORMALE</td>\n",
       "      <td>MEDESANO</td>\n",
       "      <td>SCUOLA PRIMO GRADO</td>\n",
       "      <td>NO</td>\n",
       "      <td>Non Disponibile</td>\n",
       "      <td>PRIC80900A@istruzione.it</td>\n",
       "      <td>Non Disponibile</td>\n",
       "      <td>VIA DE GASPERI 2</td>\n",
       "      <td>PARMA</td>\n",
       "      <td>EMILIA ROMAGNA</td>\n",
       "      <td>SI</td>\n",
       "      <td>www.icmedesano.gov.it</td>\n",
       "    </tr>\n",
       "    <tr>\n",
       "      <th>70</th>\n",
       "      <td>201718</td>\n",
       "      <td>NORD EST</td>\n",
       "      <td>47923</td>\n",
       "      <td>H294</td>\n",
       "      <td>RNIC80600R</td>\n",
       "      <td>RNIC80600R</td>\n",
       "      <td>IC \"ALBERTO MARVELLI\"-RIMINI-</td>\n",
       "      <td>IC \"ALBERTO MARVELLI\"-RIMINI-</td>\n",
       "      <td>NORMALE</td>\n",
       "      <td>RIMINI</td>\n",
       "      <td>ISTITUTO COMPRENSIVO</td>\n",
       "      <td>SI</td>\n",
       "      <td>Non Disponibile</td>\n",
       "      <td>RNIC80600R@istruzione.it</td>\n",
       "      <td>rnic80600r@pec.istruzione.it</td>\n",
       "      <td>VIA COVIGNANO 238</td>\n",
       "      <td>RIMINI</td>\n",
       "      <td>EMILIA ROMAGNA</td>\n",
       "      <td>NO</td>\n",
       "      <td>Non Disponibile</td>\n",
       "    </tr>\n",
       "  </tbody>\n",
       "</table>\n",
       "</div>"
      ],
      "text/plain": [
       "    ANNOSCOLASTICO AREAGEOGRAFICA CAPSCUOLA CODICECOMUNESCUOLA  \\\n",
       "42          201718       NORD EST     42124               H223   \n",
       "62          201718       NORD EST     43014               F082   \n",
       "70          201718       NORD EST     47923               H294   \n",
       "\n",
       "   CODICEISTITUTORIFERIMENTO CODICESCUOLA DENOMINAZIONEISTITUTORIFERIMENTO  \\\n",
       "42                REIC84000C   REEE84005P                   \"J.F. KENNEDY\"   \n",
       "62                PRIC80900A   PRMM80901B                    I.C. MEDESANO   \n",
       "70                RNIC80600R   RNIC80600R    IC \"ALBERTO MARVELLI\"-RIMINI-   \n",
       "\n",
       "                DENOMINAZIONESCUOLA DESCRIZIONECARATTERISTICASCUOLA  \\\n",
       "42    \"G. LEOPARDI\" - PIEVE KENNEDY                         NORMALE   \n",
       "62  MEDESANO - \"EDMONDO DE' AMICIS\"                         NORMALE   \n",
       "70    IC \"ALBERTO MARVELLI\"-RIMINI-                         NORMALE   \n",
       "\n",
       "     DESCRIZIONECOMUNE DESCRIZIONETIPOLOGIAGRADOISTRUZIONESCUOLA  \\\n",
       "42  REGGIO NELL'EMILIA                           SCUOLA PRIMARIA   \n",
       "62            MEDESANO                        SCUOLA PRIMO GRADO   \n",
       "70              RIMINI                      ISTITUTO COMPRENSIVO   \n",
       "\n",
       "   INDICAZIONESEDEDIRETTIVO INDICAZIONESEDEOMNICOMPRENSIVO  \\\n",
       "42                       NO                Non Disponibile   \n",
       "62                       NO                Non Disponibile   \n",
       "70                       SI                Non Disponibile   \n",
       "\n",
       "        INDIRIZZOEMAILSCUOLA            INDIRIZZOPECSCUOLA    INDIRIZZOSCUOLA  \\\n",
       "42  REIC84000C@istruzione.it               Non Disponibile     VIA KENNEDY 20   \n",
       "62  PRIC80900A@istruzione.it               Non Disponibile   VIA DE GASPERI 2   \n",
       "70  RNIC80600R@istruzione.it  rnic80600r@pec.istruzione.it  VIA COVIGNANO 238   \n",
       "\n",
       "        PROVINCIA         REGIONE SEDESCOLASTICA            SITOWEBSCUOLA  \n",
       "42  REGGIO EMILIA  EMILIA ROMAGNA             SI  www.ickennedy-re.gov.it  \n",
       "62          PARMA  EMILIA ROMAGNA             SI    www.icmedesano.gov.it  \n",
       "70         RIMINI  EMILIA ROMAGNA             NO          Non Disponibile  "
      ]
     },
     "execution_count": 383,
     "metadata": {},
     "output_type": "execute_result"
    }
   ],
   "source": [
    "scuole_RER.head(3)"
   ]
  },
  {
   "cell_type": "code",
   "execution_count": 384,
   "metadata": {},
   "outputs": [
    {
     "data": {
      "text/plain": [
       "(4007, 20)"
      ]
     },
     "execution_count": 384,
     "metadata": {},
     "output_type": "execute_result"
    }
   ],
   "source": [
    "scuole_RER.shape"
   ]
  },
  {
   "cell_type": "markdown",
   "metadata": {},
   "source": [
    "Quante grado di istruzione ci sono?\n",
    "(_unique_ mi serve perchè il valore potrebbe ripetersi)"
   ]
  },
  {
   "cell_type": "code",
   "execution_count": 385,
   "metadata": {},
   "outputs": [],
   "source": [
    "tipi_scuole = scuole.DESCRIZIONETIPOLOGIAGRADOISTRUZIONESCUOLA.unique()"
   ]
  },
  {
   "cell_type": "code",
   "execution_count": 386,
   "metadata": {},
   "outputs": [
    {
     "data": {
      "text/plain": [
       "39"
      ]
     },
     "execution_count": 386,
     "metadata": {},
     "output_type": "execute_result"
    }
   ],
   "source": [
    "#vediamo quante sono (size)\n",
    "tipi_scuole.size"
   ]
  },
  {
   "cell_type": "code",
   "execution_count": 387,
   "metadata": {},
   "outputs": [
    {
     "data": {
      "text/plain": [
       "array(['SCUOLA PRIMO GRADO', 'SCUOLA PRIMARIA', 'SCUOLA INFANZIA',\n",
       "       'LICEO SCIENTIFICO', 'ISTITUTO COMPRENSIVO',\n",
       "       'ISTITUTO TECNICO INDUSTRIALE', 'ISTITUTO MAGISTRALE',\n",
       "       'IST PROF INDUSTRIA E ARTIGIANATO', 'ISTITUTO SUPERIORE',\n",
       "       'IST TEC COMMERCIALE E PER GEOMETRI',\n",
       "       'IST PROF PER I SERVIZI COMMERCIALI',\n",
       "       'IST PROF PER I SERVIZI COMMERCIALI E TURISTICI',\n",
       "       'ISTITUTO TECNICO COMMERCIALE', 'ISTITUTO TECNICO AGRARIO',\n",
       "       'IST PROF PER I SERVIZI ALBERGHIERI E RISTORAZIONE',\n",
       "       \"ISTITUTO D'ARTE\", 'CENTRO TERRITORIALE',\n",
       "       'IST PROF PER I SERVIZI SOCIALI', 'CONVITTO ANNESSO',\n",
       "       'LICEO ARTISTICO', 'LICEO CLASSICO',\n",
       "       \"IST PROF PER L'AGRICOLTURA E L'AMBIENTE\", 'CONVITTO NAZIONALE',\n",
       "       'ISTITUTO TECNICO NAUTICO', 'ISTITUTO TECNICO PER IL TURISMO',\n",
       "       'ISTITUTO TECNICO PER GEOMETRI',\n",
       "       \"ISTITUTO TECNICO PER ATTIVITA' SOCIALI (GIA' ITF)\",\n",
       "       'IST PROF ALBERGHIERO', \"IST PROF INDUSTRIA E ATTIVITA' MARINARE\",\n",
       "       'EDUCANDATO', 'ISTITUTO TECNICO AERONAUTICO',\n",
       "       \"IST PROF PER L'AGRICOLTURA\",\n",
       "       'IST PROF INDUSTRIA E ARTIGIANATO PER CIECHI', 'SCUOLA MAGISTRALE',\n",
       "       'IST PROF CINEMATOGRAFIA E TELEVISIONE',\n",
       "       'IST PROF PER I SERVIZI PUBBLICITARI',\n",
       "       'IST PROF INDUSTRIA E ARTIGIANATO PER SORDOMUTI',\n",
       "       'IST PROF PER I SERVIZI COMM TUR E DELLA PUBB',\n",
       "       'IST PROF PER I SERVIZI TURISTICI'], dtype=object)"
      ]
     },
     "execution_count": 387,
     "metadata": {},
     "output_type": "execute_result"
    }
   ],
   "source": [
    "# e quali sono\n",
    "tipi_scuole"
   ]
  },
  {
   "cell_type": "markdown",
   "metadata": {},
   "source": [
    "... e quanti per la Regione Emilia Romagna?"
   ]
  },
  {
   "cell_type": "code",
   "execution_count": 388,
   "metadata": {},
   "outputs": [],
   "source": [
    "tipi_scuole_RER = scuole_RER.DESCRIZIONETIPOLOGIAGRADOISTRUZIONESCUOLA.unique()"
   ]
  },
  {
   "cell_type": "code",
   "execution_count": 389,
   "metadata": {},
   "outputs": [
    {
     "data": {
      "text/plain": [
       "33"
      ]
     },
     "execution_count": 389,
     "metadata": {},
     "output_type": "execute_result"
    }
   ],
   "source": [
    "tipi_scuole_RER.size"
   ]
  },
  {
   "cell_type": "code",
   "execution_count": 390,
   "metadata": {
    "scrolled": true
   },
   "outputs": [
    {
     "data": {
      "text/plain": [
       "array(['SCUOLA PRIMARIA', 'SCUOLA PRIMO GRADO', 'ISTITUTO COMPRENSIVO',\n",
       "       'SCUOLA INFANZIA', 'ISTITUTO TECNICO INDUSTRIALE',\n",
       "       'IST PROF INDUSTRIA E ARTIGIANATO',\n",
       "       'IST PROF PER I SERVIZI SOCIALI', 'ISTITUTO TECNICO COMMERCIALE',\n",
       "       'LICEO CLASSICO',\n",
       "       'IST PROF PER I SERVIZI ALBERGHIERI E RISTORAZIONE',\n",
       "       'IST PROF PER I SERVIZI COMMERCIALI E TURISTICI',\n",
       "       'LICEO SCIENTIFICO', 'ISTITUTO MAGISTRALE', 'ISTITUTO SUPERIORE',\n",
       "       'ISTITUTO TECNICO AGRARIO',\n",
       "       \"IST PROF PER L'AGRICOLTURA E L'AMBIENTE\",\n",
       "       'IST PROF PER I SERVIZI COMMERCIALI',\n",
       "       'ISTITUTO TECNICO PER GEOMETRI', 'LICEO ARTISTICO',\n",
       "       'CENTRO TERRITORIALE', \"ISTITUTO D'ARTE\",\n",
       "       'IST TEC COMMERCIALE E PER GEOMETRI', 'CONVITTO NAZIONALE',\n",
       "       'ISTITUTO TECNICO AERONAUTICO', 'ISTITUTO TECNICO PER IL TURISMO',\n",
       "       'CONVITTO ANNESSO', 'IST PROF PER I SERVIZI PUBBLICITARI',\n",
       "       \"ISTITUTO TECNICO PER ATTIVITA' SOCIALI (GIA' ITF)\",\n",
       "       \"IST PROF PER L'AGRICOLTURA\", 'SCUOLA INFANZIA NON STATALE',\n",
       "       'SCUOLA SEC. PRIMO GRADO NON STATALE',\n",
       "       'SCUOLA SEC. SECONDO GRADO NON STATALE',\n",
       "       'SCUOLA PRIMARIA NON STATALE'], dtype=object)"
      ]
     },
     "execution_count": 390,
     "metadata": {},
     "output_type": "execute_result"
    }
   ],
   "source": [
    "tipi_scuole_RER"
   ]
  },
  {
   "cell_type": "markdown",
   "metadata": {},
   "source": [
    "Come faccio a confrontarle?\n",
    "\n",
    "Vediamo che \"tipi\" sono ..."
   ]
  },
  {
   "cell_type": "code",
   "execution_count": 391,
   "metadata": {},
   "outputs": [
    {
     "data": {
      "text/plain": [
       "numpy.ndarray"
      ]
     },
     "execution_count": 391,
     "metadata": {},
     "output_type": "execute_result"
    }
   ],
   "source": [
    "type(tipi_scuole)"
   ]
  },
  {
   "cell_type": "markdown",
   "metadata": {},
   "source": [
    "numpy???\n",
    "\n",
    "Voglio i poteri per leggere numpy!!!"
   ]
  },
  {
   "cell_type": "code",
   "execution_count": 392,
   "metadata": {},
   "outputs": [],
   "source": [
    "import numpy as np"
   ]
  },
  {
   "cell_type": "markdown",
   "metadata": {},
   "source": [
    ".. ed ora *numpy* trovami le differenze :)"
   ]
  },
  {
   "cell_type": "code",
   "execution_count": 393,
   "metadata": {},
   "outputs": [
    {
     "data": {
      "text/plain": [
       "array(['EDUCANDATO', 'IST PROF ALBERGHIERO',\n",
       "       'IST PROF CINEMATOGRAFIA E TELEVISIONE',\n",
       "       'IST PROF INDUSTRIA E ARTIGIANATO PER CIECHI',\n",
       "       'IST PROF INDUSTRIA E ARTIGIANATO PER SORDOMUTI',\n",
       "       \"IST PROF INDUSTRIA E ATTIVITA' MARINARE\",\n",
       "       'IST PROF PER I SERVIZI COMM TUR E DELLA PUBB',\n",
       "       'IST PROF PER I SERVIZI TURISTICI', 'ISTITUTO TECNICO NAUTICO',\n",
       "       'SCUOLA MAGISTRALE'], dtype=object)"
      ]
     },
     "execution_count": 393,
     "metadata": {},
     "output_type": "execute_result"
    }
   ],
   "source": [
    "np.setdiff1d(tipi_scuole,tipi_scuole_RER)"
   ]
  },
  {
   "cell_type": "markdown",
   "metadata": {},
   "source": [
    "ma dove stanno questi \"IST PROF CINEMATOGRAFIA E TELEVISIONE\" ?"
   ]
  },
  {
   "cell_type": "code",
   "execution_count": 394,
   "metadata": {},
   "outputs": [
    {
     "data": {
      "text/html": [
       "<div>\n",
       "<style scoped>\n",
       "    .dataframe tbody tr th:only-of-type {\n",
       "        vertical-align: middle;\n",
       "    }\n",
       "\n",
       "    .dataframe tbody tr th {\n",
       "        vertical-align: top;\n",
       "    }\n",
       "\n",
       "    .dataframe thead th {\n",
       "        text-align: right;\n",
       "    }\n",
       "</style>\n",
       "<table border=\"1\" class=\"dataframe\">\n",
       "  <thead>\n",
       "    <tr style=\"text-align: right;\">\n",
       "      <th></th>\n",
       "      <th>ANNOSCOLASTICO</th>\n",
       "      <th>AREAGEOGRAFICA</th>\n",
       "      <th>CAPSCUOLA</th>\n",
       "      <th>CODICECOMUNESCUOLA</th>\n",
       "      <th>CODICEISTITUTORIFERIMENTO</th>\n",
       "      <th>CODICESCUOLA</th>\n",
       "      <th>DENOMINAZIONEISTITUTORIFERIMENTO</th>\n",
       "      <th>DENOMINAZIONESCUOLA</th>\n",
       "      <th>DESCRIZIONECARATTERISTICASCUOLA</th>\n",
       "      <th>DESCRIZIONECOMUNE</th>\n",
       "      <th>DESCRIZIONETIPOLOGIAGRADOISTRUZIONESCUOLA</th>\n",
       "      <th>INDICAZIONESEDEDIRETTIVO</th>\n",
       "      <th>INDICAZIONESEDEOMNICOMPRENSIVO</th>\n",
       "      <th>INDIRIZZOEMAILSCUOLA</th>\n",
       "      <th>INDIRIZZOPECSCUOLA</th>\n",
       "      <th>INDIRIZZOSCUOLA</th>\n",
       "      <th>PROVINCIA</th>\n",
       "      <th>REGIONE</th>\n",
       "      <th>SEDESCOLASTICA</th>\n",
       "      <th>SITOWEBSCUOLA</th>\n",
       "    </tr>\n",
       "  </thead>\n",
       "  <tbody>\n",
       "    <tr>\n",
       "      <th>17609</th>\n",
       "      <td>201718</td>\n",
       "      <td>CENTRO</td>\n",
       "      <td>00146</td>\n",
       "      <td>H501</td>\n",
       "      <td>RMIS08900B</td>\n",
       "      <td>RMRV089015</td>\n",
       "      <td>CINE TV \"ROBERTO ROSSELLINI\"</td>\n",
       "      <td>IST PROF CINEMA E TV ROBERTO ROSSELLINI</td>\n",
       "      <td>NORMALE</td>\n",
       "      <td>ROMA</td>\n",
       "      <td>IST PROF CINEMATOGRAFIA E TELEVISIONE</td>\n",
       "      <td>NO</td>\n",
       "      <td>Non Disponibile</td>\n",
       "      <td>RMIS08900B@istruzione.it</td>\n",
       "      <td>Non Disponibile</td>\n",
       "      <td>VIA DELLA VASCA NAVALE58</td>\n",
       "      <td>ROMA</td>\n",
       "      <td>LAZIO</td>\n",
       "      <td>SI</td>\n",
       "      <td>WWW.cine-tv.it</td>\n",
       "    </tr>\n",
       "    <tr>\n",
       "      <th>18257</th>\n",
       "      <td>201718</td>\n",
       "      <td>CENTRO</td>\n",
       "      <td>00146</td>\n",
       "      <td>H501</td>\n",
       "      <td>RMIS08900B</td>\n",
       "      <td>RMRV08951E</td>\n",
       "      <td>CINE TV \"ROBERTO ROSSELLINI\"</td>\n",
       "      <td>ROBERTO ROSSELLINI SERALE</td>\n",
       "      <td>PERCORSO II LIVELLO</td>\n",
       "      <td>ROMA</td>\n",
       "      <td>IST PROF CINEMATOGRAFIA E TELEVISIONE</td>\n",
       "      <td>NO</td>\n",
       "      <td>Non Disponibile</td>\n",
       "      <td>RMIS08900B@istruzione.it</td>\n",
       "      <td>Non Disponibile</td>\n",
       "      <td>VIA DELLA VASCA NAVALE 58</td>\n",
       "      <td>ROMA</td>\n",
       "      <td>LAZIO</td>\n",
       "      <td>NO</td>\n",
       "      <td>http//www.cine-tv.gov.it</td>\n",
       "    </tr>\n",
       "  </tbody>\n",
       "</table>\n",
       "</div>"
      ],
      "text/plain": [
       "       ANNOSCOLASTICO AREAGEOGRAFICA CAPSCUOLA CODICECOMUNESCUOLA  \\\n",
       "17609          201718         CENTRO     00146               H501   \n",
       "18257          201718         CENTRO     00146               H501   \n",
       "\n",
       "      CODICEISTITUTORIFERIMENTO CODICESCUOLA DENOMINAZIONEISTITUTORIFERIMENTO  \\\n",
       "17609                RMIS08900B   RMRV089015     CINE TV \"ROBERTO ROSSELLINI\"   \n",
       "18257                RMIS08900B   RMRV08951E     CINE TV \"ROBERTO ROSSELLINI\"   \n",
       "\n",
       "                           DENOMINAZIONESCUOLA  \\\n",
       "17609  IST PROF CINEMA E TV ROBERTO ROSSELLINI   \n",
       "18257                ROBERTO ROSSELLINI SERALE   \n",
       "\n",
       "      DESCRIZIONECARATTERISTICASCUOLA DESCRIZIONECOMUNE  \\\n",
       "17609                         NORMALE              ROMA   \n",
       "18257             PERCORSO II LIVELLO              ROMA   \n",
       "\n",
       "      DESCRIZIONETIPOLOGIAGRADOISTRUZIONESCUOLA INDICAZIONESEDEDIRETTIVO  \\\n",
       "17609     IST PROF CINEMATOGRAFIA E TELEVISIONE                       NO   \n",
       "18257     IST PROF CINEMATOGRAFIA E TELEVISIONE                       NO   \n",
       "\n",
       "      INDICAZIONESEDEOMNICOMPRENSIVO      INDIRIZZOEMAILSCUOLA  \\\n",
       "17609                Non Disponibile  RMIS08900B@istruzione.it   \n",
       "18257                Non Disponibile  RMIS08900B@istruzione.it   \n",
       "\n",
       "      INDIRIZZOPECSCUOLA            INDIRIZZOSCUOLA PROVINCIA REGIONE  \\\n",
       "17609    Non Disponibile   VIA DELLA VASCA NAVALE58      ROMA   LAZIO   \n",
       "18257    Non Disponibile  VIA DELLA VASCA NAVALE 58      ROMA   LAZIO   \n",
       "\n",
       "      SEDESCOLASTICA             SITOWEBSCUOLA  \n",
       "17609             SI            WWW.cine-tv.it  \n",
       "18257             NO  http//www.cine-tv.gov.it  "
      ]
     },
     "execution_count": 394,
     "metadata": {},
     "output_type": "execute_result"
    }
   ],
   "source": [
    "scuole_italiane[scuole_italiane.DESCRIZIONETIPOLOGIAGRADOISTRUZIONESCUOLA == 'IST PROF CINEMATOGRAFIA E TELEVISIONE']"
   ]
  },
  {
   "cell_type": "markdown",
   "metadata": {},
   "source": [
    "Solo quella che è sede scolastica"
   ]
  },
  {
   "cell_type": "code",
   "execution_count": 395,
   "metadata": {},
   "outputs": [
    {
     "data": {
      "text/html": [
       "<div>\n",
       "<style scoped>\n",
       "    .dataframe tbody tr th:only-of-type {\n",
       "        vertical-align: middle;\n",
       "    }\n",
       "\n",
       "    .dataframe tbody tr th {\n",
       "        vertical-align: top;\n",
       "    }\n",
       "\n",
       "    .dataframe thead th {\n",
       "        text-align: right;\n",
       "    }\n",
       "</style>\n",
       "<table border=\"1\" class=\"dataframe\">\n",
       "  <thead>\n",
       "    <tr style=\"text-align: right;\">\n",
       "      <th></th>\n",
       "      <th>ANNOSCOLASTICO</th>\n",
       "      <th>AREAGEOGRAFICA</th>\n",
       "      <th>CAPSCUOLA</th>\n",
       "      <th>CODICECOMUNESCUOLA</th>\n",
       "      <th>CODICEISTITUTORIFERIMENTO</th>\n",
       "      <th>CODICESCUOLA</th>\n",
       "      <th>DENOMINAZIONEISTITUTORIFERIMENTO</th>\n",
       "      <th>DENOMINAZIONESCUOLA</th>\n",
       "      <th>DESCRIZIONECARATTERISTICASCUOLA</th>\n",
       "      <th>DESCRIZIONECOMUNE</th>\n",
       "      <th>DESCRIZIONETIPOLOGIAGRADOISTRUZIONESCUOLA</th>\n",
       "      <th>INDICAZIONESEDEDIRETTIVO</th>\n",
       "      <th>INDICAZIONESEDEOMNICOMPRENSIVO</th>\n",
       "      <th>INDIRIZZOEMAILSCUOLA</th>\n",
       "      <th>INDIRIZZOPECSCUOLA</th>\n",
       "      <th>INDIRIZZOSCUOLA</th>\n",
       "      <th>PROVINCIA</th>\n",
       "      <th>REGIONE</th>\n",
       "      <th>SEDESCOLASTICA</th>\n",
       "      <th>SITOWEBSCUOLA</th>\n",
       "    </tr>\n",
       "  </thead>\n",
       "  <tbody>\n",
       "    <tr>\n",
       "      <th>17609</th>\n",
       "      <td>201718</td>\n",
       "      <td>CENTRO</td>\n",
       "      <td>00146</td>\n",
       "      <td>H501</td>\n",
       "      <td>RMIS08900B</td>\n",
       "      <td>RMRV089015</td>\n",
       "      <td>CINE TV \"ROBERTO ROSSELLINI\"</td>\n",
       "      <td>IST PROF CINEMA E TV ROBERTO ROSSELLINI</td>\n",
       "      <td>NORMALE</td>\n",
       "      <td>ROMA</td>\n",
       "      <td>IST PROF CINEMATOGRAFIA E TELEVISIONE</td>\n",
       "      <td>NO</td>\n",
       "      <td>Non Disponibile</td>\n",
       "      <td>RMIS08900B@istruzione.it</td>\n",
       "      <td>Non Disponibile</td>\n",
       "      <td>VIA DELLA VASCA NAVALE58</td>\n",
       "      <td>ROMA</td>\n",
       "      <td>LAZIO</td>\n",
       "      <td>SI</td>\n",
       "      <td>WWW.cine-tv.it</td>\n",
       "    </tr>\n",
       "  </tbody>\n",
       "</table>\n",
       "</div>"
      ],
      "text/plain": [
       "       ANNOSCOLASTICO AREAGEOGRAFICA CAPSCUOLA CODICECOMUNESCUOLA  \\\n",
       "17609          201718         CENTRO     00146               H501   \n",
       "\n",
       "      CODICEISTITUTORIFERIMENTO CODICESCUOLA DENOMINAZIONEISTITUTORIFERIMENTO  \\\n",
       "17609                RMIS08900B   RMRV089015     CINE TV \"ROBERTO ROSSELLINI\"   \n",
       "\n",
       "                           DENOMINAZIONESCUOLA  \\\n",
       "17609  IST PROF CINEMA E TV ROBERTO ROSSELLINI   \n",
       "\n",
       "      DESCRIZIONECARATTERISTICASCUOLA DESCRIZIONECOMUNE  \\\n",
       "17609                         NORMALE              ROMA   \n",
       "\n",
       "      DESCRIZIONETIPOLOGIAGRADOISTRUZIONESCUOLA INDICAZIONESEDEDIRETTIVO  \\\n",
       "17609     IST PROF CINEMATOGRAFIA E TELEVISIONE                       NO   \n",
       "\n",
       "      INDICAZIONESEDEOMNICOMPRENSIVO      INDIRIZZOEMAILSCUOLA  \\\n",
       "17609                Non Disponibile  RMIS08900B@istruzione.it   \n",
       "\n",
       "      INDIRIZZOPECSCUOLA           INDIRIZZOSCUOLA PROVINCIA REGIONE  \\\n",
       "17609    Non Disponibile  VIA DELLA VASCA NAVALE58      ROMA   LAZIO   \n",
       "\n",
       "      SEDESCOLASTICA   SITOWEBSCUOLA  \n",
       "17609             SI  WWW.cine-tv.it  "
      ]
     },
     "execution_count": 395,
     "metadata": {},
     "output_type": "execute_result"
    }
   ],
   "source": [
    "scuole_italiane[(scuole_italiane.DESCRIZIONETIPOLOGIAGRADOISTRUZIONESCUOLA == 'IST PROF CINEMATOGRAFIA E TELEVISIONE') & (scuole_italiane.SEDESCOLASTICA == 'SI')]"
   ]
  },
  {
   "cell_type": "code",
   "execution_count": 396,
   "metadata": {},
   "outputs": [],
   "source": [
    "scuole_cinemaetv = scuole_italiane[(scuole_italiane.DESCRIZIONETIPOLOGIAGRADOISTRUZIONESCUOLA == 'IST PROF CINEMATOGRAFIA E TELEVISIONE') & (scuole_italiane.SEDESCOLASTICA == 'SI')]"
   ]
  },
  {
   "cell_type": "code",
   "execution_count": 397,
   "metadata": {},
   "outputs": [],
   "source": [
    "cerca_indirizzo = scuole_cinemaetv.INDIRIZZOSCUOLA.values[0]\n",
    "cerca_indirizzo += \", \" + scuole_cinemaetv.CODICECOMUNESCUOLA.values[0]\n",
    "cerca_indirizzo += \", Italia\"\n",
    "nome_scuola = scuole_cinemaetv.DENOMINAZIONESCUOLA.values[0]"
   ]
  },
  {
   "cell_type": "code",
   "execution_count": 398,
   "metadata": {},
   "outputs": [],
   "source": [
    "import geocoder\n",
    "trovalo = geocoder.google(cerca_indirizzo)"
   ]
  },
  {
   "cell_type": "code",
   "execution_count": 399,
   "metadata": {},
   "outputs": [
    {
     "ename": "TypeError",
     "evalue": "'NoneType' object is not subscriptable",
     "output_type": "error",
     "traceback": [
      "\u001b[0;31m---------------------------------------------------------------------------\u001b[0m",
      "\u001b[0;31mTypeError\u001b[0m                                 Traceback (most recent call last)",
      "\u001b[0;32m<ipython-input-399-d68b67fbd6d1>\u001b[0m in \u001b[0;36m<module>\u001b[0;34m()\u001b[0m\n\u001b[1;32m      1\u001b[0m \u001b[0;32mimport\u001b[0m \u001b[0mfolium\u001b[0m\u001b[0;34m\u001b[0m\u001b[0m\n\u001b[0;32m----> 2\u001b[0;31m \u001b[0mmappa\u001b[0m \u001b[0;34m=\u001b[0m \u001b[0mfolium\u001b[0m\u001b[0;34m.\u001b[0m\u001b[0mMap\u001b[0m\u001b[0;34m(\u001b[0m\u001b[0mlocation\u001b[0m\u001b[0;34m=\u001b[0m\u001b[0;34m[\u001b[0m\u001b[0mtrovalo\u001b[0m\u001b[0;34m.\u001b[0m\u001b[0mlatlng\u001b[0m\u001b[0;34m[\u001b[0m\u001b[0;36m0\u001b[0m\u001b[0;34m]\u001b[0m\u001b[0;34m,\u001b[0m \u001b[0mtrovalo\u001b[0m\u001b[0;34m.\u001b[0m\u001b[0mlatlng\u001b[0m\u001b[0;34m[\u001b[0m\u001b[0;36m1\u001b[0m\u001b[0;34m]\u001b[0m\u001b[0;34m]\u001b[0m\u001b[0;34m,\u001b[0m\u001b[0mzoom_start\u001b[0m\u001b[0;34m=\u001b[0m\u001b[0;36m18\u001b[0m\u001b[0;34m)\u001b[0m\u001b[0;34m\u001b[0m\u001b[0m\n\u001b[0m\u001b[1;32m      3\u001b[0m \u001b[0mfolium\u001b[0m\u001b[0;34m.\u001b[0m\u001b[0mMarker\u001b[0m\u001b[0;34m(\u001b[0m\u001b[0;34m[\u001b[0m\u001b[0mtrovalo\u001b[0m\u001b[0;34m.\u001b[0m\u001b[0mlatlng\u001b[0m\u001b[0;34m[\u001b[0m\u001b[0;36m0\u001b[0m\u001b[0;34m]\u001b[0m\u001b[0;34m,\u001b[0m \u001b[0mtrovalo\u001b[0m\u001b[0;34m.\u001b[0m\u001b[0mlatlng\u001b[0m\u001b[0;34m[\u001b[0m\u001b[0;36m1\u001b[0m\u001b[0;34m]\u001b[0m\u001b[0;34m]\u001b[0m\u001b[0;34m,\u001b[0m \u001b[0mpopup\u001b[0m\u001b[0;34m=\u001b[0m\u001b[0mnome_scuola\u001b[0m\u001b[0;34m)\u001b[0m\u001b[0;34m.\u001b[0m\u001b[0madd_to\u001b[0m\u001b[0;34m(\u001b[0m\u001b[0mmappa\u001b[0m\u001b[0;34m)\u001b[0m\u001b[0;34m\u001b[0m\u001b[0m\n\u001b[1;32m      4\u001b[0m \u001b[0mmappa\u001b[0m\u001b[0;34m\u001b[0m\u001b[0m\n",
      "\u001b[0;31mTypeError\u001b[0m: 'NoneType' object is not subscriptable"
     ]
    }
   ],
   "source": [
    "import folium\n",
    "mappa = folium.Map(location=[trovalo.latlng[0], trovalo.latlng[1]],zoom_start=18)\n",
    "folium.Marker([trovalo.latlng[0], trovalo.latlng[1]], popup=nome_scuola).add_to(mappa)\n",
    "mappa"
   ]
  },
  {
   "cell_type": "markdown",
   "metadata": {},
   "source": [
    "![](https://raw.githubusercontent.com/napo/opendatamiur/master/images/mappa_esempio.png)"
   ]
  },
  {
   "cell_type": "code",
   "execution_count": 400,
   "metadata": {},
   "outputs": [
    {
     "data": {
      "text/plain": [
       "count        4007\n",
       "unique        329\n",
       "top       BOLOGNA\n",
       "freq          317\n",
       "Name: DESCRIZIONECOMUNE, dtype: object"
      ]
     },
     "execution_count": 400,
     "metadata": {},
     "output_type": "execute_result"
    }
   ],
   "source": [
    "scuole_RER.DESCRIZIONECOMUNE.describe()"
   ]
  },
  {
   "cell_type": "code",
   "execution_count": 401,
   "metadata": {},
   "outputs": [],
   "source": [
    "scuole_elementari_RER = scuole_RER[scuole_RER.DESCRIZIONETIPOLOGIAGRADOISTRUZIONESCUOLA == 'SCUOLA PRIMARIA']"
   ]
  },
  {
   "cell_type": "code",
   "execution_count": 402,
   "metadata": {},
   "outputs": [
    {
     "data": {
      "text/html": [
       "<div>\n",
       "<style scoped>\n",
       "    .dataframe tbody tr th:only-of-type {\n",
       "        vertical-align: middle;\n",
       "    }\n",
       "\n",
       "    .dataframe tbody tr th {\n",
       "        vertical-align: top;\n",
       "    }\n",
       "\n",
       "    .dataframe thead th {\n",
       "        text-align: right;\n",
       "    }\n",
       "</style>\n",
       "<table border=\"1\" class=\"dataframe\">\n",
       "  <thead>\n",
       "    <tr style=\"text-align: right;\">\n",
       "      <th></th>\n",
       "      <th>ANNOSCOLASTICO</th>\n",
       "      <th>AREAGEOGRAFICA</th>\n",
       "      <th>CAPSCUOLA</th>\n",
       "      <th>CODICECOMUNESCUOLA</th>\n",
       "      <th>CODICEISTITUTORIFERIMENTO</th>\n",
       "      <th>CODICESCUOLA</th>\n",
       "      <th>DENOMINAZIONEISTITUTORIFERIMENTO</th>\n",
       "      <th>DENOMINAZIONESCUOLA</th>\n",
       "      <th>DESCRIZIONECARATTERISTICASCUOLA</th>\n",
       "      <th>DESCRIZIONECOMUNE</th>\n",
       "      <th>DESCRIZIONETIPOLOGIAGRADOISTRUZIONESCUOLA</th>\n",
       "      <th>INDICAZIONESEDEDIRETTIVO</th>\n",
       "      <th>INDICAZIONESEDEOMNICOMPRENSIVO</th>\n",
       "      <th>INDIRIZZOEMAILSCUOLA</th>\n",
       "      <th>INDIRIZZOPECSCUOLA</th>\n",
       "      <th>INDIRIZZOSCUOLA</th>\n",
       "      <th>PROVINCIA</th>\n",
       "      <th>REGIONE</th>\n",
       "      <th>SEDESCOLASTICA</th>\n",
       "      <th>SITOWEBSCUOLA</th>\n",
       "    </tr>\n",
       "  </thead>\n",
       "  <tbody>\n",
       "    <tr>\n",
       "      <th>42</th>\n",
       "      <td>201718</td>\n",
       "      <td>NORD EST</td>\n",
       "      <td>42124</td>\n",
       "      <td>H223</td>\n",
       "      <td>REIC84000C</td>\n",
       "      <td>REEE84005P</td>\n",
       "      <td>\"J.F. KENNEDY\"</td>\n",
       "      <td>\"G. LEOPARDI\" - PIEVE KENNEDY</td>\n",
       "      <td>NORMALE</td>\n",
       "      <td>REGGIO NELL'EMILIA</td>\n",
       "      <td>SCUOLA PRIMARIA</td>\n",
       "      <td>NO</td>\n",
       "      <td>Non Disponibile</td>\n",
       "      <td>REIC84000C@istruzione.it</td>\n",
       "      <td>Non Disponibile</td>\n",
       "      <td>VIA KENNEDY 20</td>\n",
       "      <td>REGGIO EMILIA</td>\n",
       "      <td>EMILIA ROMAGNA</td>\n",
       "      <td>SI</td>\n",
       "      <td>www.ickennedy-re.gov.it</td>\n",
       "    </tr>\n",
       "    <tr>\n",
       "      <th>86</th>\n",
       "      <td>201718</td>\n",
       "      <td>NORD EST</td>\n",
       "      <td>40063</td>\n",
       "      <td>F363</td>\n",
       "      <td>BOIC88400V</td>\n",
       "      <td>BOEE884011</td>\n",
       "      <td>IC DI LOIANO - MONGHIDORO</td>\n",
       "      <td>MADRE ORSOLA MEZZINI</td>\n",
       "      <td>NORMALE</td>\n",
       "      <td>MONGHIDORO</td>\n",
       "      <td>SCUOLA PRIMARIA</td>\n",
       "      <td>NO</td>\n",
       "      <td>Non Disponibile</td>\n",
       "      <td>BOIC88400V@istruzione.it</td>\n",
       "      <td>Non Disponibile</td>\n",
       "      <td>VIA ROMA 36</td>\n",
       "      <td>BOLOGNA</td>\n",
       "      <td>EMILIA ROMAGNA</td>\n",
       "      <td>SI</td>\n",
       "      <td>www.icloianomonghidoro.gov.it</td>\n",
       "    </tr>\n",
       "    <tr>\n",
       "      <th>133</th>\n",
       "      <td>201718</td>\n",
       "      <td>NORD EST</td>\n",
       "      <td>47923</td>\n",
       "      <td>H294</td>\n",
       "      <td>RNEE01500N</td>\n",
       "      <td>RNEE01502Q</td>\n",
       "      <td>CIRCOLO DIDATTICO 6 RIMINI</td>\n",
       "      <td>G.B. CASTI - 6 CIRCOLO RN</td>\n",
       "      <td>NORMALE</td>\n",
       "      <td>RIMINI</td>\n",
       "      <td>SCUOLA PRIMARIA</td>\n",
       "      <td>NO</td>\n",
       "      <td>Non Disponibile</td>\n",
       "      <td>RNEE01500N@istruzione.it</td>\n",
       "      <td>Non Disponibile</td>\n",
       "      <td>VIA G.B. CASTI N.13</td>\n",
       "      <td>RIMINI</td>\n",
       "      <td>EMILIA ROMAGNA</td>\n",
       "      <td>SI</td>\n",
       "      <td>http//scuole.rimini.com/cd6rimini.gov.it</td>\n",
       "    </tr>\n",
       "  </tbody>\n",
       "</table>\n",
       "</div>"
      ],
      "text/plain": [
       "     ANNOSCOLASTICO AREAGEOGRAFICA CAPSCUOLA CODICECOMUNESCUOLA  \\\n",
       "42           201718       NORD EST     42124               H223   \n",
       "86           201718       NORD EST     40063               F363   \n",
       "133          201718       NORD EST     47923               H294   \n",
       "\n",
       "    CODICEISTITUTORIFERIMENTO CODICESCUOLA DENOMINAZIONEISTITUTORIFERIMENTO  \\\n",
       "42                 REIC84000C   REEE84005P                   \"J.F. KENNEDY\"   \n",
       "86                 BOIC88400V   BOEE884011        IC DI LOIANO - MONGHIDORO   \n",
       "133                RNEE01500N   RNEE01502Q       CIRCOLO DIDATTICO 6 RIMINI   \n",
       "\n",
       "               DENOMINAZIONESCUOLA DESCRIZIONECARATTERISTICASCUOLA  \\\n",
       "42   \"G. LEOPARDI\" - PIEVE KENNEDY                         NORMALE   \n",
       "86            MADRE ORSOLA MEZZINI                         NORMALE   \n",
       "133      G.B. CASTI - 6 CIRCOLO RN                         NORMALE   \n",
       "\n",
       "      DESCRIZIONECOMUNE DESCRIZIONETIPOLOGIAGRADOISTRUZIONESCUOLA  \\\n",
       "42   REGGIO NELL'EMILIA                           SCUOLA PRIMARIA   \n",
       "86           MONGHIDORO                           SCUOLA PRIMARIA   \n",
       "133              RIMINI                           SCUOLA PRIMARIA   \n",
       "\n",
       "    INDICAZIONESEDEDIRETTIVO INDICAZIONESEDEOMNICOMPRENSIVO  \\\n",
       "42                        NO                Non Disponibile   \n",
       "86                        NO                Non Disponibile   \n",
       "133                       NO                Non Disponibile   \n",
       "\n",
       "         INDIRIZZOEMAILSCUOLA INDIRIZZOPECSCUOLA      INDIRIZZOSCUOLA  \\\n",
       "42   REIC84000C@istruzione.it    Non Disponibile       VIA KENNEDY 20   \n",
       "86   BOIC88400V@istruzione.it    Non Disponibile          VIA ROMA 36   \n",
       "133  RNEE01500N@istruzione.it    Non Disponibile  VIA G.B. CASTI N.13   \n",
       "\n",
       "         PROVINCIA         REGIONE SEDESCOLASTICA  \\\n",
       "42   REGGIO EMILIA  EMILIA ROMAGNA             SI   \n",
       "86         BOLOGNA  EMILIA ROMAGNA             SI   \n",
       "133         RIMINI  EMILIA ROMAGNA             SI   \n",
       "\n",
       "                                SITOWEBSCUOLA  \n",
       "42                    www.ickennedy-re.gov.it  \n",
       "86              www.icloianomonghidoro.gov.it  \n",
       "133  http//scuole.rimini.com/cd6rimini.gov.it  "
      ]
     },
     "execution_count": 402,
     "metadata": {},
     "output_type": "execute_result"
    }
   ],
   "source": [
    "scuole_elementari_RER.head(3)"
   ]
  },
  {
   "cell_type": "code",
   "execution_count": 403,
   "metadata": {},
   "outputs": [
    {
     "data": {
      "text/plain": [
       "(994, 20)"
      ]
     },
     "execution_count": 403,
     "metadata": {},
     "output_type": "execute_result"
    }
   ],
   "source": [
    "scuole_elementari_RER.shape"
   ]
  },
  {
   "cell_type": "code",
   "execution_count": 404,
   "metadata": {},
   "outputs": [],
   "source": [
    "scuole_province_RER = scuole_RER.groupby(scuole_RER.PROVINCIA).size()"
   ]
  },
  {
   "cell_type": "code",
   "execution_count": 405,
   "metadata": {},
   "outputs": [
    {
     "data": {
      "text/plain": [
       "<matplotlib.axes._subplots.AxesSubplot at 0x7f4ba4f833c8>"
      ]
     },
     "execution_count": 405,
     "metadata": {},
     "output_type": "execute_result"
    },
    {
     "data": {
      "image/png": "[encoded data removed]",
      "text/plain": [
       "<Figure size 720x720 with 1 Axes>"
      ]
     },
     "metadata": {},
     "output_type": "display_data"
    }
   ],
   "source": [
    "scuole_province_RER.plot(kind='bar',figsize=(10,10))"
   ]
  },
  {
   "cell_type": "code",
   "execution_count": 406,
   "metadata": {},
   "outputs": [
    {
     "data": {
      "text/plain": [
       "(1, 20)"
      ]
     },
     "execution_count": 406,
     "metadata": {},
     "output_type": "execute_result"
    }
   ],
   "source": [
    "formazione_servizi_pubblicitari=scuole_RER[scuole_RER.DESCRIZIONETIPOLOGIAGRADOISTRUZIONESCUOLA =='IST PROF PER I SERVIZI PUBBLICITARI']\n",
    "formazione_servizi_pubblicitari.shape"
   ]
  },
  {
   "cell_type": "code",
   "execution_count": 407,
   "metadata": {},
   "outputs": [
    {
     "name": "stdout",
     "output_type": "stream",
     "text": [
      "BORC02101V\n",
      "IST PROF CINEMA E TV ROBERTO ROSSELLINI\n"
     ]
    }
   ],
   "source": [
    "codice_scuola = formazione_servizi_pubblicitari.CODICESCUOLA.values[0]\n",
    "nomescuola = formazione_servizi_pubblicitari.DENOMINAZIONESCUOLA.values[0]\n",
    "print(codice_scuola)\n",
    "print(nome_scuola)"
   ]
  },
  {
   "cell_type": "code",
   "execution_count": 408,
   "metadata": {},
   "outputs": [
    {
     "data": {
      "text/html": [
       "<div>\n",
       "<style scoped>\n",
       "    .dataframe tbody tr th:only-of-type {\n",
       "        vertical-align: middle;\n",
       "    }\n",
       "\n",
       "    .dataframe tbody tr th {\n",
       "        vertical-align: top;\n",
       "    }\n",
       "\n",
       "    .dataframe thead th {\n",
       "        text-align: right;\n",
       "    }\n",
       "</style>\n",
       "<table border=\"1\" class=\"dataframe\">\n",
       "  <thead>\n",
       "    <tr style=\"text-align: right;\">\n",
       "      <th></th>\n",
       "      <th>ANNOSCOLASTICO</th>\n",
       "      <th>CODICESCUOLA</th>\n",
       "      <th>ORDINESCUOLA</th>\n",
       "      <th>ANNOCORSO</th>\n",
       "      <th>FASCIAETA</th>\n",
       "      <th>ALUNNI</th>\n",
       "    </tr>\n",
       "  </thead>\n",
       "  <tbody>\n",
       "    <tr>\n",
       "      <th>201712</th>\n",
       "      <td>201617</td>\n",
       "      <td>BORC02101V</td>\n",
       "      <td>SCUOLA SECONDARIA II GRADO</td>\n",
       "      <td>1</td>\n",
       "      <td>15 anni</td>\n",
       "      <td>10</td>\n",
       "    </tr>\n",
       "    <tr>\n",
       "      <th>202218</th>\n",
       "      <td>201617</td>\n",
       "      <td>BORC02101V</td>\n",
       "      <td>SCUOLA SECONDARIA II GRADO</td>\n",
       "      <td>1</td>\n",
       "      <td>16 anni</td>\n",
       "      <td>2</td>\n",
       "    </tr>\n",
       "    <tr>\n",
       "      <th>207506</th>\n",
       "      <td>201617</td>\n",
       "      <td>BORC02101V</td>\n",
       "      <td>SCUOLA SECONDARIA II GRADO</td>\n",
       "      <td>1</td>\n",
       "      <td>14 anni</td>\n",
       "      <td>29</td>\n",
       "    </tr>\n",
       "    <tr>\n",
       "      <th>200493</th>\n",
       "      <td>201617</td>\n",
       "      <td>BORC02101V</td>\n",
       "      <td>SCUOLA SECONDARIA II GRADO</td>\n",
       "      <td>2</td>\n",
       "      <td>15 anni</td>\n",
       "      <td>18</td>\n",
       "    </tr>\n",
       "    <tr>\n",
       "      <th>201017</th>\n",
       "      <td>201617</td>\n",
       "      <td>BORC02101V</td>\n",
       "      <td>SCUOLA SECONDARIA II GRADO</td>\n",
       "      <td>2</td>\n",
       "      <td>16 anni</td>\n",
       "      <td>4</td>\n",
       "    </tr>\n",
       "    <tr>\n",
       "      <th>203549</th>\n",
       "      <td>201617</td>\n",
       "      <td>BORC02101V</td>\n",
       "      <td>SCUOLA SECONDARIA II GRADO</td>\n",
       "      <td>2</td>\n",
       "      <td>17 anni</td>\n",
       "      <td>2</td>\n",
       "    </tr>\n",
       "    <tr>\n",
       "      <th>204064</th>\n",
       "      <td>201617</td>\n",
       "      <td>BORC02101V</td>\n",
       "      <td>SCUOLA SECONDARIA II GRADO</td>\n",
       "      <td>3</td>\n",
       "      <td>16 anni</td>\n",
       "      <td>18</td>\n",
       "    </tr>\n",
       "    <tr>\n",
       "      <th>257343</th>\n",
       "      <td>201617</td>\n",
       "      <td>BORC02101V</td>\n",
       "      <td>SCUOLA SECONDARIA II GRADO</td>\n",
       "      <td>3</td>\n",
       "      <td>17 anni</td>\n",
       "      <td>5</td>\n",
       "    </tr>\n",
       "    <tr>\n",
       "      <th>251038</th>\n",
       "      <td>201617</td>\n",
       "      <td>BORC02101V</td>\n",
       "      <td>SCUOLA SECONDARIA II GRADO</td>\n",
       "      <td>4</td>\n",
       "      <td>&gt; di 18 anni</td>\n",
       "      <td>2</td>\n",
       "    </tr>\n",
       "    <tr>\n",
       "      <th>256371</th>\n",
       "      <td>201617</td>\n",
       "      <td>BORC02101V</td>\n",
       "      <td>SCUOLA SECONDARIA II GRADO</td>\n",
       "      <td>4</td>\n",
       "      <td>17 anni</td>\n",
       "      <td>12</td>\n",
       "    </tr>\n",
       "    <tr>\n",
       "      <th>256876</th>\n",
       "      <td>201617</td>\n",
       "      <td>BORC02101V</td>\n",
       "      <td>SCUOLA SECONDARIA II GRADO</td>\n",
       "      <td>4</td>\n",
       "      <td>18 anni</td>\n",
       "      <td>4</td>\n",
       "    </tr>\n",
       "    <tr>\n",
       "      <th>257929</th>\n",
       "      <td>201617</td>\n",
       "      <td>BORC02101V</td>\n",
       "      <td>SCUOLA SECONDARIA II GRADO</td>\n",
       "      <td>4</td>\n",
       "      <td>16 anni</td>\n",
       "      <td>1</td>\n",
       "    </tr>\n",
       "    <tr>\n",
       "      <th>113614</th>\n",
       "      <td>201617</td>\n",
       "      <td>BORC02101V</td>\n",
       "      <td>SCUOLA SECONDARIA II GRADO</td>\n",
       "      <td>5</td>\n",
       "      <td>&gt; di 18 anni</td>\n",
       "      <td>7</td>\n",
       "    </tr>\n",
       "    <tr>\n",
       "      <th>251395</th>\n",
       "      <td>201617</td>\n",
       "      <td>BORC02101V</td>\n",
       "      <td>SCUOLA SECONDARIA II GRADO</td>\n",
       "      <td>5</td>\n",
       "      <td>18 anni</td>\n",
       "      <td>23</td>\n",
       "    </tr>\n",
       "  </tbody>\n",
       "</table>\n",
       "</div>"
      ],
      "text/plain": [
       "        ANNOSCOLASTICO CODICESCUOLA                ORDINESCUOLA  ANNOCORSO  \\\n",
       "201712          201617   BORC02101V  SCUOLA SECONDARIA II GRADO          1   \n",
       "202218          201617   BORC02101V  SCUOLA SECONDARIA II GRADO          1   \n",
       "207506          201617   BORC02101V  SCUOLA SECONDARIA II GRADO          1   \n",
       "200493          201617   BORC02101V  SCUOLA SECONDARIA II GRADO          2   \n",
       "201017          201617   BORC02101V  SCUOLA SECONDARIA II GRADO          2   \n",
       "203549          201617   BORC02101V  SCUOLA SECONDARIA II GRADO          2   \n",
       "204064          201617   BORC02101V  SCUOLA SECONDARIA II GRADO          3   \n",
       "257343          201617   BORC02101V  SCUOLA SECONDARIA II GRADO          3   \n",
       "251038          201617   BORC02101V  SCUOLA SECONDARIA II GRADO          4   \n",
       "256371          201617   BORC02101V  SCUOLA SECONDARIA II GRADO          4   \n",
       "256876          201617   BORC02101V  SCUOLA SECONDARIA II GRADO          4   \n",
       "257929          201617   BORC02101V  SCUOLA SECONDARIA II GRADO          4   \n",
       "113614          201617   BORC02101V  SCUOLA SECONDARIA II GRADO          5   \n",
       "251395          201617   BORC02101V  SCUOLA SECONDARIA II GRADO          5   \n",
       "\n",
       "           FASCIAETA  ALUNNI  \n",
       "201712       15 anni      10  \n",
       "202218       16 anni       2  \n",
       "207506       14 anni      29  \n",
       "200493       15 anni      18  \n",
       "201017       16 anni       4  \n",
       "203549       17 anni       2  \n",
       "204064       16 anni      18  \n",
       "257343       17 anni       5  \n",
       "251038  > di 18 anni       2  \n",
       "256371       17 anni      12  \n",
       "256876       18 anni       4  \n",
       "257929       16 anni       1  \n",
       "113614  > di 18 anni       7  \n",
       "251395       18 anni      23  "
      ]
     },
     "execution_count": 408,
     "metadata": {},
     "output_type": "execute_result"
    }
   ],
   "source": [
    "eta_studenti_rossellini= anagrafica_studenti1516[anagrafica_studenti1516.CODICESCUOLA == codice_scuola]\n",
    "eta_studenti_rossellini.sort_values(by=['ANNOCORSO'])"
   ]
  },
  {
   "cell_type": "code",
   "execution_count": 409,
   "metadata": {},
   "outputs": [
    {
     "data": {
      "text/html": [
       "<div>\n",
       "<style scoped>\n",
       "    .dataframe tbody tr th:only-of-type {\n",
       "        vertical-align: middle;\n",
       "    }\n",
       "\n",
       "    .dataframe tbody tr th {\n",
       "        vertical-align: top;\n",
       "    }\n",
       "\n",
       "    .dataframe thead th {\n",
       "        text-align: right;\n",
       "    }\n",
       "</style>\n",
       "<table border=\"1\" class=\"dataframe\">\n",
       "  <thead>\n",
       "    <tr style=\"text-align: right;\">\n",
       "      <th>FASCIAETA</th>\n",
       "      <th>14 anni</th>\n",
       "      <th>15 anni</th>\n",
       "      <th>16 anni</th>\n",
       "      <th>17 anni</th>\n",
       "      <th>18 anni</th>\n",
       "      <th>&gt; di 18 anni</th>\n",
       "    </tr>\n",
       "    <tr>\n",
       "      <th>ANNOCORSO</th>\n",
       "      <th></th>\n",
       "      <th></th>\n",
       "      <th></th>\n",
       "      <th></th>\n",
       "      <th></th>\n",
       "      <th></th>\n",
       "    </tr>\n",
       "  </thead>\n",
       "  <tbody>\n",
       "    <tr>\n",
       "      <th>1</th>\n",
       "      <td>29</td>\n",
       "      <td>10</td>\n",
       "      <td>2</td>\n",
       "      <td>0</td>\n",
       "      <td>0</td>\n",
       "      <td>0</td>\n",
       "    </tr>\n",
       "    <tr>\n",
       "      <th>2</th>\n",
       "      <td>0</td>\n",
       "      <td>18</td>\n",
       "      <td>4</td>\n",
       "      <td>2</td>\n",
       "      <td>0</td>\n",
       "      <td>0</td>\n",
       "    </tr>\n",
       "    <tr>\n",
       "      <th>3</th>\n",
       "      <td>0</td>\n",
       "      <td>0</td>\n",
       "      <td>18</td>\n",
       "      <td>5</td>\n",
       "      <td>0</td>\n",
       "      <td>0</td>\n",
       "    </tr>\n",
       "    <tr>\n",
       "      <th>4</th>\n",
       "      <td>0</td>\n",
       "      <td>0</td>\n",
       "      <td>1</td>\n",
       "      <td>12</td>\n",
       "      <td>4</td>\n",
       "      <td>2</td>\n",
       "    </tr>\n",
       "    <tr>\n",
       "      <th>5</th>\n",
       "      <td>0</td>\n",
       "      <td>0</td>\n",
       "      <td>0</td>\n",
       "      <td>0</td>\n",
       "      <td>23</td>\n",
       "      <td>7</td>\n",
       "    </tr>\n",
       "  </tbody>\n",
       "</table>\n",
       "</div>"
      ],
      "text/plain": [
       "FASCIAETA  14 anni  15 anni  16 anni  17 anni  18 anni  > di 18 anni\n",
       "ANNOCORSO                                                           \n",
       "1               29       10        2        0        0             0\n",
       "2                0       18        4        2        0             0\n",
       "3                0        0       18        5        0             0\n",
       "4                0        0        1       12        4             2\n",
       "5                0        0        0        0       23             7"
      ]
     },
     "execution_count": 409,
     "metadata": {},
     "output_type": "execute_result"
    }
   ],
   "source": [
    "tabella_studenti_eta=eta_studenti_rossellini.pivot_table(index='ANNOCORSO', columns='FASCIAETA', values='ALUNNI',\n",
    "                aggfunc='sum', fill_value=0)\n",
    "tabella_studenti_eta"
   ]
  },
  {
   "cell_type": "code",
   "execution_count": 410,
   "metadata": {},
   "outputs": [
    {
     "data": {
      "text/plain": [
       "<matplotlib.axes._subplots.AxesSubplot at 0x7f4ba4fa49b0>"
      ]
     },
     "execution_count": 410,
     "metadata": {},
     "output_type": "execute_result"
    },
    {
     "data": {
      "image/png": "[encoded data removed]",
      "text/plain": [
       "<Figure size 720x720 with 1 Axes>"
      ]
     },
     "metadata": {},
     "output_type": "display_data"
    }
   ],
   "source": [
    "tabella_studenti_eta.plot.barh(stacked=True,figsize=[10,10])\n"
   ]
  },
  {
   "cell_type": "code",
   "execution_count": 411,
   "metadata": {},
   "outputs": [],
   "source": [
    "anagrafica_genere_rossini=anagrafica_studenti_genere_1516[anagrafica_studenti_genere_1516.CODICESCUOLA == codice_scuola]"
   ]
  },
  {
   "cell_type": "code",
   "execution_count": 412,
   "metadata": {},
   "outputs": [
    {
     "data": {
      "text/html": [
       "<div>\n",
       "<style scoped>\n",
       "    .dataframe tbody tr th:only-of-type {\n",
       "        vertical-align: middle;\n",
       "    }\n",
       "\n",
       "    .dataframe tbody tr th {\n",
       "        vertical-align: top;\n",
       "    }\n",
       "\n",
       "    .dataframe thead th {\n",
       "        text-align: right;\n",
       "    }\n",
       "</style>\n",
       "<table border=\"1\" class=\"dataframe\">\n",
       "  <thead>\n",
       "    <tr style=\"text-align: right;\">\n",
       "      <th></th>\n",
       "      <th>ANNOSCOLASTICO</th>\n",
       "      <th>CODICESCUOLA</th>\n",
       "      <th>ORDINESCUOLA</th>\n",
       "      <th>ANNOCORSOCLASSE</th>\n",
       "      <th>CLASSI</th>\n",
       "      <th>ALUNNIMASCHI</th>\n",
       "      <th>ALUNNIFEMMINE</th>\n",
       "    </tr>\n",
       "  </thead>\n",
       "  <tbody>\n",
       "    <tr>\n",
       "      <th>6383</th>\n",
       "      <td>201617</td>\n",
       "      <td>BORC02101V</td>\n",
       "      <td>SCUOLA SECONDARIA II GRADO</td>\n",
       "      <td>5</td>\n",
       "      <td>2</td>\n",
       "      <td>14</td>\n",
       "      <td>16</td>\n",
       "    </tr>\n",
       "    <tr>\n",
       "      <th>20226</th>\n",
       "      <td>201617</td>\n",
       "      <td>BORC02101V</td>\n",
       "      <td>SCUOLA SECONDARIA II GRADO</td>\n",
       "      <td>3</td>\n",
       "      <td>1</td>\n",
       "      <td>16</td>\n",
       "      <td>7</td>\n",
       "    </tr>\n",
       "    <tr>\n",
       "      <th>41773</th>\n",
       "      <td>201617</td>\n",
       "      <td>BORC02101V</td>\n",
       "      <td>SCUOLA SECONDARIA II GRADO</td>\n",
       "      <td>2</td>\n",
       "      <td>1</td>\n",
       "      <td>8</td>\n",
       "      <td>16</td>\n",
       "    </tr>\n",
       "    <tr>\n",
       "      <th>62590</th>\n",
       "      <td>201617</td>\n",
       "      <td>BORC02101V</td>\n",
       "      <td>SCUOLA SECONDARIA II GRADO</td>\n",
       "      <td>4</td>\n",
       "      <td>1</td>\n",
       "      <td>7</td>\n",
       "      <td>12</td>\n",
       "    </tr>\n",
       "    <tr>\n",
       "      <th>116950</th>\n",
       "      <td>201617</td>\n",
       "      <td>BORC02101V</td>\n",
       "      <td>SCUOLA SECONDARIA II GRADO</td>\n",
       "      <td>1</td>\n",
       "      <td>2</td>\n",
       "      <td>19</td>\n",
       "      <td>22</td>\n",
       "    </tr>\n",
       "  </tbody>\n",
       "</table>\n",
       "</div>"
      ],
      "text/plain": [
       "        ANNOSCOLASTICO CODICESCUOLA                ORDINESCUOLA  \\\n",
       "6383            201617   BORC02101V  SCUOLA SECONDARIA II GRADO   \n",
       "20226           201617   BORC02101V  SCUOLA SECONDARIA II GRADO   \n",
       "41773           201617   BORC02101V  SCUOLA SECONDARIA II GRADO   \n",
       "62590           201617   BORC02101V  SCUOLA SECONDARIA II GRADO   \n",
       "116950          201617   BORC02101V  SCUOLA SECONDARIA II GRADO   \n",
       "\n",
       "        ANNOCORSOCLASSE  CLASSI  ALUNNIMASCHI  ALUNNIFEMMINE  \n",
       "6383                  5       2            14             16  \n",
       "20226                 3       1            16              7  \n",
       "41773                 2       1             8             16  \n",
       "62590                 4       1             7             12  \n",
       "116950                1       2            19             22  "
      ]
     },
     "execution_count": 412,
     "metadata": {},
     "output_type": "execute_result"
    }
   ],
   "source": [
    "anagrafica_genere_rossini"
   ]
  },
  {
   "cell_type": "code",
   "execution_count": 413,
   "metadata": {},
   "outputs": [],
   "source": [
    "classi_genere_rossini=anagrafica_genere_rossini[['ANNOCORSOCLASSE','ALUNNIFEMMINE','ALUNNIMASCHI']]"
   ]
  },
  {
   "cell_type": "code",
   "execution_count": 414,
   "metadata": {},
   "outputs": [],
   "source": [
    "table=classi_genere_rossini.pivot_table(classi_genere_rossini,index=[\"ANNOCORSOCLASSE\"]).fillna(0)"
   ]
  },
  {
   "cell_type": "code",
   "execution_count": 415,
   "metadata": {},
   "outputs": [
    {
     "data": {
      "text/plain": [
       "<matplotlib.axes._subplots.AxesSubplot at 0x7f4ba4f32b70>"
      ]
     },
     "execution_count": 415,
     "metadata": {},
     "output_type": "execute_result"
    },
    {
     "data": {
      "image/png": "[encoded data removed]",
      "text/plain": [
       "<Figure size 720x720 with 1 Axes>"
      ]
     },
     "metadata": {},
     "output_type": "display_data"
    }
   ],
   "source": [
    "table.plot.bar(stacked=True,figsize=[10,10],colormap='Pastel2')\n",
    "# per la color map guarda qui https://matplotlib.org/examples/color/colormaps_reference.html\n"
   ]
  },
  {
   "cell_type": "markdown",
   "metadata": {},
   "source": [
    "---\n",
    "Cerchiamo informazioni su *Istituto Enrico Mattei* - http://www.istitutomattei.bo.it/\n",
    "\n",
    "Il sito web dichiara che ospita 4 scuole:\n",
    "1. IST. TEC. ECONOMICO \n",
    "2. LICEO SCIENTIFICO\n",
    "3. LICEO delle SCIENZE UMANE \n",
    "4. LICEO ECONOMICO SOCIALE \n",
    "\n",
    "Sede:\n",
    "Via delle rimembranze n°26 - 40068 San Lazzaro di Savena \n",
    "\n",
    "tel: 051/464510 \n",
    "\n",
    "fax: 051/452735 \n",
    "\n",
    "C.F. 920046 00372 \n",
    "\n",
    "---\n",
    "cerchiamo quindi nelle scuole della Regione Emilia-Romagna quelle che hanno nome che contiene \"MATTEI\" e che sono nel comune di San Lazzaro di Savena"
   ]
  },
  {
   "cell_type": "code",
   "execution_count": 416,
   "metadata": {},
   "outputs": [
    {
     "data": {
      "text/html": [
       "<div>\n",
       "<style scoped>\n",
       "    .dataframe tbody tr th:only-of-type {\n",
       "        vertical-align: middle;\n",
       "    }\n",
       "\n",
       "    .dataframe tbody tr th {\n",
       "        vertical-align: top;\n",
       "    }\n",
       "\n",
       "    .dataframe thead th {\n",
       "        text-align: right;\n",
       "    }\n",
       "</style>\n",
       "<table border=\"1\" class=\"dataframe\">\n",
       "  <thead>\n",
       "    <tr style=\"text-align: right;\">\n",
       "      <th></th>\n",
       "      <th>ANNOSCOLASTICO</th>\n",
       "      <th>AREAGEOGRAFICA</th>\n",
       "      <th>CAPSCUOLA</th>\n",
       "      <th>CODICECOMUNESCUOLA</th>\n",
       "      <th>CODICEISTITUTORIFERIMENTO</th>\n",
       "      <th>CODICESCUOLA</th>\n",
       "      <th>DENOMINAZIONEISTITUTORIFERIMENTO</th>\n",
       "      <th>DENOMINAZIONESCUOLA</th>\n",
       "      <th>DESCRIZIONECARATTERISTICASCUOLA</th>\n",
       "      <th>DESCRIZIONECOMUNE</th>\n",
       "      <th>DESCRIZIONETIPOLOGIAGRADOISTRUZIONESCUOLA</th>\n",
       "      <th>INDICAZIONESEDEDIRETTIVO</th>\n",
       "      <th>INDICAZIONESEDEOMNICOMPRENSIVO</th>\n",
       "      <th>INDIRIZZOEMAILSCUOLA</th>\n",
       "      <th>INDIRIZZOPECSCUOLA</th>\n",
       "      <th>INDIRIZZOSCUOLA</th>\n",
       "      <th>PROVINCIA</th>\n",
       "      <th>REGIONE</th>\n",
       "      <th>SEDESCOLASTICA</th>\n",
       "      <th>SITOWEBSCUOLA</th>\n",
       "    </tr>\n",
       "  </thead>\n",
       "  <tbody>\n",
       "    <tr>\n",
       "      <th>3155</th>\n",
       "      <td>201718</td>\n",
       "      <td>NORD EST</td>\n",
       "      <td>40068</td>\n",
       "      <td>H945</td>\n",
       "      <td>BOIS017008</td>\n",
       "      <td>BOTD01701E</td>\n",
       "      <td>I.I.S. ENRICO MATTEI</td>\n",
       "      <td>ENRICO MATTEI</td>\n",
       "      <td>NORMALE</td>\n",
       "      <td>SAN LAZZARO DI SAVENA</td>\n",
       "      <td>ISTITUTO TECNICO COMMERCIALE</td>\n",
       "      <td>NO</td>\n",
       "      <td>Non Disponibile</td>\n",
       "      <td>BOIS017008@istruzione.it</td>\n",
       "      <td>Non Disponibile</td>\n",
       "      <td>VIA DELLE RIMEMBRANZE 26</td>\n",
       "      <td>BOLOGNA</td>\n",
       "      <td>EMILIA ROMAGNA</td>\n",
       "      <td>SI</td>\n",
       "      <td>www.istitutomattei.bo.it</td>\n",
       "    </tr>\n",
       "    <tr>\n",
       "      <th>3802</th>\n",
       "      <td>201718</td>\n",
       "      <td>NORD EST</td>\n",
       "      <td>40068</td>\n",
       "      <td>H945</td>\n",
       "      <td>BOIS017008</td>\n",
       "      <td>BOPS01701P</td>\n",
       "      <td>I.I.S. ENRICO MATTEI</td>\n",
       "      <td>L.SC.SEZ.ASS.\"MATTEI\"</td>\n",
       "      <td>NORMALE</td>\n",
       "      <td>SAN LAZZARO DI SAVENA</td>\n",
       "      <td>LICEO SCIENTIFICO</td>\n",
       "      <td>NO</td>\n",
       "      <td>Non Disponibile</td>\n",
       "      <td>BOIS017008@istruzione.it</td>\n",
       "      <td>Non Disponibile</td>\n",
       "      <td>VIA DELLE RIMEMBRANZE N. 26</td>\n",
       "      <td>BOLOGNA</td>\n",
       "      <td>EMILIA ROMAGNA</td>\n",
       "      <td>SI</td>\n",
       "      <td>www.istitutomattei.it</td>\n",
       "    </tr>\n",
       "    <tr>\n",
       "      <th>4318</th>\n",
       "      <td>201718</td>\n",
       "      <td>NORD EST</td>\n",
       "      <td>40068</td>\n",
       "      <td>H945</td>\n",
       "      <td>BOIS017008</td>\n",
       "      <td>BOIS017008</td>\n",
       "      <td>I.I.S. ENRICO MATTEI</td>\n",
       "      <td>I.I.S. ENRICO MATTEI</td>\n",
       "      <td>NORMALE</td>\n",
       "      <td>SAN LAZZARO DI SAVENA</td>\n",
       "      <td>ISTITUTO SUPERIORE</td>\n",
       "      <td>SI</td>\n",
       "      <td>Non Disponibile</td>\n",
       "      <td>BOIS017008@istruzione.it</td>\n",
       "      <td>bois017008@pec.istruzione.it</td>\n",
       "      <td>VIA DELLE RIMEMBRANZE 26</td>\n",
       "      <td>BOLOGNA</td>\n",
       "      <td>EMILIA ROMAGNA</td>\n",
       "      <td>NO</td>\n",
       "      <td>Non Disponibile</td>\n",
       "    </tr>\n",
       "  </tbody>\n",
       "</table>\n",
       "</div>"
      ],
      "text/plain": [
       "      ANNOSCOLASTICO AREAGEOGRAFICA CAPSCUOLA CODICECOMUNESCUOLA  \\\n",
       "3155          201718       NORD EST     40068               H945   \n",
       "3802          201718       NORD EST     40068               H945   \n",
       "4318          201718       NORD EST     40068               H945   \n",
       "\n",
       "     CODICEISTITUTORIFERIMENTO CODICESCUOLA DENOMINAZIONEISTITUTORIFERIMENTO  \\\n",
       "3155                BOIS017008   BOTD01701E             I.I.S. ENRICO MATTEI   \n",
       "3802                BOIS017008   BOPS01701P             I.I.S. ENRICO MATTEI   \n",
       "4318                BOIS017008   BOIS017008             I.I.S. ENRICO MATTEI   \n",
       "\n",
       "        DENOMINAZIONESCUOLA DESCRIZIONECARATTERISTICASCUOLA  \\\n",
       "3155          ENRICO MATTEI                         NORMALE   \n",
       "3802  L.SC.SEZ.ASS.\"MATTEI\"                         NORMALE   \n",
       "4318   I.I.S. ENRICO MATTEI                         NORMALE   \n",
       "\n",
       "          DESCRIZIONECOMUNE DESCRIZIONETIPOLOGIAGRADOISTRUZIONESCUOLA  \\\n",
       "3155  SAN LAZZARO DI SAVENA              ISTITUTO TECNICO COMMERCIALE   \n",
       "3802  SAN LAZZARO DI SAVENA                         LICEO SCIENTIFICO   \n",
       "4318  SAN LAZZARO DI SAVENA                        ISTITUTO SUPERIORE   \n",
       "\n",
       "     INDICAZIONESEDEDIRETTIVO INDICAZIONESEDEOMNICOMPRENSIVO  \\\n",
       "3155                       NO                Non Disponibile   \n",
       "3802                       NO                Non Disponibile   \n",
       "4318                       SI                Non Disponibile   \n",
       "\n",
       "          INDIRIZZOEMAILSCUOLA            INDIRIZZOPECSCUOLA  \\\n",
       "3155  BOIS017008@istruzione.it               Non Disponibile   \n",
       "3802  BOIS017008@istruzione.it               Non Disponibile   \n",
       "4318  BOIS017008@istruzione.it  bois017008@pec.istruzione.it   \n",
       "\n",
       "                  INDIRIZZOSCUOLA PROVINCIA         REGIONE SEDESCOLASTICA  \\\n",
       "3155     VIA DELLE RIMEMBRANZE 26   BOLOGNA  EMILIA ROMAGNA             SI   \n",
       "3802  VIA DELLE RIMEMBRANZE N. 26   BOLOGNA  EMILIA ROMAGNA             SI   \n",
       "4318     VIA DELLE RIMEMBRANZE 26   BOLOGNA  EMILIA ROMAGNA             NO   \n",
       "\n",
       "                 SITOWEBSCUOLA  \n",
       "3155  www.istitutomattei.bo.it  \n",
       "3802     www.istitutomattei.it  \n",
       "4318           Non Disponibile  "
      ]
     },
     "execution_count": 416,
     "metadata": {},
     "output_type": "execute_result"
    }
   ],
   "source": [
    "scuole_RER[(scuole_RER.DENOMINAZIONESCUOLA.str.contains('MATTEI', na=False) & (scuole_RER.DESCRIZIONECOMUNE=='SAN LAZZARO DI SAVENA'))]"
   ]
  },
  {
   "cell_type": "code",
   "execution_count": 417,
   "metadata": {},
   "outputs": [],
   "source": [
    "istituto_enrico_mattei = scuole_RER[scuole_RER.CODICEISTITUTORIFERIMENTO=='BOIS017008']"
   ]
  },
  {
   "cell_type": "code",
   "execution_count": 418,
   "metadata": {},
   "outputs": [
    {
     "data": {
      "text/plain": [
       "'BOIS017008'"
      ]
     },
     "execution_count": 418,
     "metadata": {},
     "output_type": "execute_result"
    }
   ],
   "source": [
    "codiceistituto_enrico_mattei = istituto_enrico_mattei.CODICEISTITUTORIFERIMENTO.unique()[0]\n",
    "codiceistituto_enrico_mattei"
   ]
  },
  {
   "cell_type": "markdown",
   "metadata": {},
   "source": [
    "quante scuole sono?"
   ]
  },
  {
   "cell_type": "code",
   "execution_count": 419,
   "metadata": {},
   "outputs": [
    {
     "data": {
      "text/plain": [
       "3"
      ]
     },
     "execution_count": 419,
     "metadata": {},
     "output_type": "execute_result"
    }
   ],
   "source": [
    "istituto_enrico_mattei.shape[0]"
   ]
  },
  {
   "cell_type": "markdown",
   "metadata": {},
   "source": [
    "andiamo a vederle"
   ]
  },
  {
   "cell_type": "code",
   "execution_count": 420,
   "metadata": {},
   "outputs": [
    {
     "data": {
      "text/html": [
       "<div>\n",
       "<style scoped>\n",
       "    .dataframe tbody tr th:only-of-type {\n",
       "        vertical-align: middle;\n",
       "    }\n",
       "\n",
       "    .dataframe tbody tr th {\n",
       "        vertical-align: top;\n",
       "    }\n",
       "\n",
       "    .dataframe thead th {\n",
       "        text-align: right;\n",
       "    }\n",
       "</style>\n",
       "<table border=\"1\" class=\"dataframe\">\n",
       "  <thead>\n",
       "    <tr style=\"text-align: right;\">\n",
       "      <th></th>\n",
       "      <th>ANNOSCOLASTICO</th>\n",
       "      <th>AREAGEOGRAFICA</th>\n",
       "      <th>CAPSCUOLA</th>\n",
       "      <th>CODICECOMUNESCUOLA</th>\n",
       "      <th>CODICEISTITUTORIFERIMENTO</th>\n",
       "      <th>CODICESCUOLA</th>\n",
       "      <th>DENOMINAZIONEISTITUTORIFERIMENTO</th>\n",
       "      <th>DENOMINAZIONESCUOLA</th>\n",
       "      <th>DESCRIZIONECARATTERISTICASCUOLA</th>\n",
       "      <th>DESCRIZIONECOMUNE</th>\n",
       "      <th>DESCRIZIONETIPOLOGIAGRADOISTRUZIONESCUOLA</th>\n",
       "      <th>INDICAZIONESEDEDIRETTIVO</th>\n",
       "      <th>INDICAZIONESEDEOMNICOMPRENSIVO</th>\n",
       "      <th>INDIRIZZOEMAILSCUOLA</th>\n",
       "      <th>INDIRIZZOPECSCUOLA</th>\n",
       "      <th>INDIRIZZOSCUOLA</th>\n",
       "      <th>PROVINCIA</th>\n",
       "      <th>REGIONE</th>\n",
       "      <th>SEDESCOLASTICA</th>\n",
       "      <th>SITOWEBSCUOLA</th>\n",
       "    </tr>\n",
       "  </thead>\n",
       "  <tbody>\n",
       "    <tr>\n",
       "      <th>3155</th>\n",
       "      <td>201718</td>\n",
       "      <td>NORD EST</td>\n",
       "      <td>40068</td>\n",
       "      <td>H945</td>\n",
       "      <td>BOIS017008</td>\n",
       "      <td>BOTD01701E</td>\n",
       "      <td>I.I.S. ENRICO MATTEI</td>\n",
       "      <td>ENRICO MATTEI</td>\n",
       "      <td>NORMALE</td>\n",
       "      <td>SAN LAZZARO DI SAVENA</td>\n",
       "      <td>ISTITUTO TECNICO COMMERCIALE</td>\n",
       "      <td>NO</td>\n",
       "      <td>Non Disponibile</td>\n",
       "      <td>BOIS017008@istruzione.it</td>\n",
       "      <td>Non Disponibile</td>\n",
       "      <td>VIA DELLE RIMEMBRANZE 26</td>\n",
       "      <td>BOLOGNA</td>\n",
       "      <td>EMILIA ROMAGNA</td>\n",
       "      <td>SI</td>\n",
       "      <td>www.istitutomattei.bo.it</td>\n",
       "    </tr>\n",
       "    <tr>\n",
       "      <th>3802</th>\n",
       "      <td>201718</td>\n",
       "      <td>NORD EST</td>\n",
       "      <td>40068</td>\n",
       "      <td>H945</td>\n",
       "      <td>BOIS017008</td>\n",
       "      <td>BOPS01701P</td>\n",
       "      <td>I.I.S. ENRICO MATTEI</td>\n",
       "      <td>L.SC.SEZ.ASS.\"MATTEI\"</td>\n",
       "      <td>NORMALE</td>\n",
       "      <td>SAN LAZZARO DI SAVENA</td>\n",
       "      <td>LICEO SCIENTIFICO</td>\n",
       "      <td>NO</td>\n",
       "      <td>Non Disponibile</td>\n",
       "      <td>BOIS017008@istruzione.it</td>\n",
       "      <td>Non Disponibile</td>\n",
       "      <td>VIA DELLE RIMEMBRANZE N. 26</td>\n",
       "      <td>BOLOGNA</td>\n",
       "      <td>EMILIA ROMAGNA</td>\n",
       "      <td>SI</td>\n",
       "      <td>www.istitutomattei.it</td>\n",
       "    </tr>\n",
       "    <tr>\n",
       "      <th>4318</th>\n",
       "      <td>201718</td>\n",
       "      <td>NORD EST</td>\n",
       "      <td>40068</td>\n",
       "      <td>H945</td>\n",
       "      <td>BOIS017008</td>\n",
       "      <td>BOIS017008</td>\n",
       "      <td>I.I.S. ENRICO MATTEI</td>\n",
       "      <td>I.I.S. ENRICO MATTEI</td>\n",
       "      <td>NORMALE</td>\n",
       "      <td>SAN LAZZARO DI SAVENA</td>\n",
       "      <td>ISTITUTO SUPERIORE</td>\n",
       "      <td>SI</td>\n",
       "      <td>Non Disponibile</td>\n",
       "      <td>BOIS017008@istruzione.it</td>\n",
       "      <td>bois017008@pec.istruzione.it</td>\n",
       "      <td>VIA DELLE RIMEMBRANZE 26</td>\n",
       "      <td>BOLOGNA</td>\n",
       "      <td>EMILIA ROMAGNA</td>\n",
       "      <td>NO</td>\n",
       "      <td>Non Disponibile</td>\n",
       "    </tr>\n",
       "  </tbody>\n",
       "</table>\n",
       "</div>"
      ],
      "text/plain": [
       "      ANNOSCOLASTICO AREAGEOGRAFICA CAPSCUOLA CODICECOMUNESCUOLA  \\\n",
       "3155          201718       NORD EST     40068               H945   \n",
       "3802          201718       NORD EST     40068               H945   \n",
       "4318          201718       NORD EST     40068               H945   \n",
       "\n",
       "     CODICEISTITUTORIFERIMENTO CODICESCUOLA DENOMINAZIONEISTITUTORIFERIMENTO  \\\n",
       "3155                BOIS017008   BOTD01701E             I.I.S. ENRICO MATTEI   \n",
       "3802                BOIS017008   BOPS01701P             I.I.S. ENRICO MATTEI   \n",
       "4318                BOIS017008   BOIS017008             I.I.S. ENRICO MATTEI   \n",
       "\n",
       "        DENOMINAZIONESCUOLA DESCRIZIONECARATTERISTICASCUOLA  \\\n",
       "3155          ENRICO MATTEI                         NORMALE   \n",
       "3802  L.SC.SEZ.ASS.\"MATTEI\"                         NORMALE   \n",
       "4318   I.I.S. ENRICO MATTEI                         NORMALE   \n",
       "\n",
       "          DESCRIZIONECOMUNE DESCRIZIONETIPOLOGIAGRADOISTRUZIONESCUOLA  \\\n",
       "3155  SAN LAZZARO DI SAVENA              ISTITUTO TECNICO COMMERCIALE   \n",
       "3802  SAN LAZZARO DI SAVENA                         LICEO SCIENTIFICO   \n",
       "4318  SAN LAZZARO DI SAVENA                        ISTITUTO SUPERIORE   \n",
       "\n",
       "     INDICAZIONESEDEDIRETTIVO INDICAZIONESEDEOMNICOMPRENSIVO  \\\n",
       "3155                       NO                Non Disponibile   \n",
       "3802                       NO                Non Disponibile   \n",
       "4318                       SI                Non Disponibile   \n",
       "\n",
       "          INDIRIZZOEMAILSCUOLA            INDIRIZZOPECSCUOLA  \\\n",
       "3155  BOIS017008@istruzione.it               Non Disponibile   \n",
       "3802  BOIS017008@istruzione.it               Non Disponibile   \n",
       "4318  BOIS017008@istruzione.it  bois017008@pec.istruzione.it   \n",
       "\n",
       "                  INDIRIZZOSCUOLA PROVINCIA         REGIONE SEDESCOLASTICA  \\\n",
       "3155     VIA DELLE RIMEMBRANZE 26   BOLOGNA  EMILIA ROMAGNA             SI   \n",
       "3802  VIA DELLE RIMEMBRANZE N. 26   BOLOGNA  EMILIA ROMAGNA             SI   \n",
       "4318     VIA DELLE RIMEMBRANZE 26   BOLOGNA  EMILIA ROMAGNA             NO   \n",
       "\n",
       "                 SITOWEBSCUOLA  \n",
       "3155  www.istitutomattei.bo.it  \n",
       "3802     www.istitutomattei.it  \n",
       "4318           Non Disponibile  "
      ]
     },
     "execution_count": 420,
     "metadata": {},
     "output_type": "execute_result"
    }
   ],
   "source": [
    "istituto_enrico_mattei"
   ]
  },
  {
   "cell_type": "markdown",
   "metadata": {},
   "source": [
    "Recuperiamo i codici delle scuole"
   ]
  },
  {
   "cell_type": "code",
   "execution_count": 421,
   "metadata": {},
   "outputs": [],
   "source": [
    "codici_scuole_mattei = istituto_enrico_mattei.CODICESCUOLA.values"
   ]
  },
  {
   "cell_type": "code",
   "execution_count": 422,
   "metadata": {},
   "outputs": [
    {
     "data": {
      "text/plain": [
       "array(['BOTD01701E', 'BOPS01701P', 'BOIS017008'], dtype=object)"
      ]
     },
     "execution_count": 422,
     "metadata": {},
     "output_type": "execute_result"
    }
   ],
   "source": [
    "codici_scuole_mattei"
   ]
  },
  {
   "cell_type": "markdown",
   "metadata": {},
   "source": [
    "In singoli valori si possono recuperare per indice da 0 in poi\n",
    "\n",
    "Esempi"
   ]
  },
  {
   "cell_type": "code",
   "execution_count": 423,
   "metadata": {},
   "outputs": [
    {
     "data": {
      "text/plain": [
       "'BOTD01701E'"
      ]
     },
     "execution_count": 423,
     "metadata": {},
     "output_type": "execute_result"
    }
   ],
   "source": [
    "codici_scuole_mattei[0]"
   ]
  },
  {
   "cell_type": "code",
   "execution_count": 424,
   "metadata": {},
   "outputs": [
    {
     "data": {
      "text/plain": [
       "'BOPS01701P'"
      ]
     },
     "execution_count": 424,
     "metadata": {},
     "output_type": "execute_result"
    }
   ],
   "source": [
    "codici_scuole_mattei[1]"
   ]
  },
  {
   "cell_type": "code",
   "execution_count": 425,
   "metadata": {},
   "outputs": [
    {
     "data": {
      "text/plain": [
       "'BOIS017008'"
      ]
     },
     "execution_count": 425,
     "metadata": {},
     "output_type": "execute_result"
    }
   ],
   "source": [
    "codici_scuole_mattei[2]"
   ]
  },
  {
   "cell_type": "markdown",
   "metadata": {},
   "source": [
    "... proviamo a visualizzarle una volta usando un \"ciclo for\"\n",
    "\n",
    "La sintassi è questa (tutti i comandi iniziano con dalla tabulazione)\n",
    "```\n",
    "for nome_variabile in lista_di_valori:\n",
    "    print(nome_variabile)\n",
    "```\n",
    "\n",
    "Ecco l'implementazione\n"
   ]
  },
  {
   "cell_type": "code",
   "execution_count": 426,
   "metadata": {},
   "outputs": [
    {
     "name": "stdout",
     "output_type": "stream",
     "text": [
      "BOTD01701E\n",
      "ISTITUTO TECNICO COMMERCIALE\n",
      "--\n",
      "BOPS01701P\n",
      "LICEO SCIENTIFICO\n",
      "--\n",
      "BOIS017008\n",
      "ISTITUTO SUPERIORE\n",
      "--\n"
     ]
    }
   ],
   "source": [
    "for codice in codici_scuole_mattei:\n",
    "    scuola = istituto_enrico_mattei[istituto_enrico_mattei.CODICESCUOLA==codice]\n",
    "    print(codice)\n",
    "    print(scuola.DESCRIZIONETIPOLOGIAGRADOISTRUZIONESCUOLA.values[0])\n",
    "    print(\"--\")"
   ]
  },
  {
   "cell_type": "markdown",
   "metadata": {},
   "source": [
    "Quanti studenti sono all'ISTITUTO TECNICO COMMERCIALE (anno 2015/2016)\n",
    "\n",
    "Interroghiamo l'anagrafica per conoscere gli studenti (codice scuola = BOTD01701E)\n"
   ]
  },
  {
   "cell_type": "code",
   "execution_count": 427,
   "metadata": {},
   "outputs": [
    {
     "data": {
      "text/html": [
       "<div>\n",
       "<style scoped>\n",
       "    .dataframe tbody tr th:only-of-type {\n",
       "        vertical-align: middle;\n",
       "    }\n",
       "\n",
       "    .dataframe tbody tr th {\n",
       "        vertical-align: top;\n",
       "    }\n",
       "\n",
       "    .dataframe thead th {\n",
       "        text-align: right;\n",
       "    }\n",
       "</style>\n",
       "<table border=\"1\" class=\"dataframe\">\n",
       "  <thead>\n",
       "    <tr style=\"text-align: right;\">\n",
       "      <th></th>\n",
       "      <th>ANNOSCOLASTICO</th>\n",
       "      <th>CODICESCUOLA</th>\n",
       "      <th>ORDINESCUOLA</th>\n",
       "      <th>ANNOCORSO</th>\n",
       "      <th>FASCIAETA</th>\n",
       "      <th>ALUNNI</th>\n",
       "    </tr>\n",
       "  </thead>\n",
       "  <tbody>\n",
       "    <tr>\n",
       "      <th>85424</th>\n",
       "      <td>201617</td>\n",
       "      <td>BOTD01701E</td>\n",
       "      <td>SCUOLA SECONDARIA II GRADO</td>\n",
       "      <td>2</td>\n",
       "      <td>18 anni</td>\n",
       "      <td>1</td>\n",
       "    </tr>\n",
       "    <tr>\n",
       "      <th>85910</th>\n",
       "      <td>201617</td>\n",
       "      <td>BOTD01701E</td>\n",
       "      <td>SCUOLA SECONDARIA II GRADO</td>\n",
       "      <td>3</td>\n",
       "      <td>16 anni</td>\n",
       "      <td>83</td>\n",
       "    </tr>\n",
       "    <tr>\n",
       "      <th>88040</th>\n",
       "      <td>201617</td>\n",
       "      <td>BOTD01701E</td>\n",
       "      <td>SCUOLA SECONDARIA II GRADO</td>\n",
       "      <td>1</td>\n",
       "      <td>&lt; di 14 anni</td>\n",
       "      <td>3</td>\n",
       "    </tr>\n",
       "    <tr>\n",
       "      <th>88564</th>\n",
       "      <td>201617</td>\n",
       "      <td>BOTD01701E</td>\n",
       "      <td>SCUOLA SECONDARIA II GRADO</td>\n",
       "      <td>1</td>\n",
       "      <td>&gt; di 18 anni</td>\n",
       "      <td>1</td>\n",
       "    </tr>\n",
       "    <tr>\n",
       "      <th>89142</th>\n",
       "      <td>201617</td>\n",
       "      <td>BOTD01701E</td>\n",
       "      <td>SCUOLA SECONDARIA II GRADO</td>\n",
       "      <td>1</td>\n",
       "      <td>16 anni</td>\n",
       "      <td>6</td>\n",
       "    </tr>\n",
       "    <tr>\n",
       "      <th>89669</th>\n",
       "      <td>201617</td>\n",
       "      <td>BOTD01701E</td>\n",
       "      <td>SCUOLA SECONDARIA II GRADO</td>\n",
       "      <td>1</td>\n",
       "      <td>17 anni</td>\n",
       "      <td>1</td>\n",
       "    </tr>\n",
       "    <tr>\n",
       "      <th>90454</th>\n",
       "      <td>201617</td>\n",
       "      <td>BOTD01701E</td>\n",
       "      <td>SCUOLA SECONDARIA II GRADO</td>\n",
       "      <td>2</td>\n",
       "      <td>16 anni</td>\n",
       "      <td>16</td>\n",
       "    </tr>\n",
       "    <tr>\n",
       "      <th>90982</th>\n",
       "      <td>201617</td>\n",
       "      <td>BOTD01701E</td>\n",
       "      <td>SCUOLA SECONDARIA II GRADO</td>\n",
       "      <td>2</td>\n",
       "      <td>17 anni</td>\n",
       "      <td>1</td>\n",
       "    </tr>\n",
       "    <tr>\n",
       "      <th>91577</th>\n",
       "      <td>201617</td>\n",
       "      <td>BOTD01701E</td>\n",
       "      <td>SCUOLA SECONDARIA II GRADO</td>\n",
       "      <td>2</td>\n",
       "      <td>14 anni</td>\n",
       "      <td>3</td>\n",
       "    </tr>\n",
       "    <tr>\n",
       "      <th>92114</th>\n",
       "      <td>201617</td>\n",
       "      <td>BOTD01701E</td>\n",
       "      <td>SCUOLA SECONDARIA II GRADO</td>\n",
       "      <td>2</td>\n",
       "      <td>15 anni</td>\n",
       "      <td>118</td>\n",
       "    </tr>\n",
       "    <tr>\n",
       "      <th>233190</th>\n",
       "      <td>201617</td>\n",
       "      <td>BOTD01701E</td>\n",
       "      <td>SCUOLA SECONDARIA II GRADO</td>\n",
       "      <td>5</td>\n",
       "      <td>&gt; di 18 anni</td>\n",
       "      <td>23</td>\n",
       "    </tr>\n",
       "    <tr>\n",
       "      <th>238152</th>\n",
       "      <td>201617</td>\n",
       "      <td>BOTD01701E</td>\n",
       "      <td>SCUOLA SECONDARIA II GRADO</td>\n",
       "      <td>5</td>\n",
       "      <td>17 anni</td>\n",
       "      <td>2</td>\n",
       "    </tr>\n",
       "    <tr>\n",
       "      <th>238755</th>\n",
       "      <td>201617</td>\n",
       "      <td>BOTD01701E</td>\n",
       "      <td>SCUOLA SECONDARIA II GRADO</td>\n",
       "      <td>5</td>\n",
       "      <td>18 anni</td>\n",
       "      <td>75</td>\n",
       "    </tr>\n",
       "    <tr>\n",
       "      <th>242460</th>\n",
       "      <td>201617</td>\n",
       "      <td>BOTD01701E</td>\n",
       "      <td>SCUOLA SECONDARIA II GRADO</td>\n",
       "      <td>1</td>\n",
       "      <td>15 anni</td>\n",
       "      <td>34</td>\n",
       "    </tr>\n",
       "    <tr>\n",
       "      <th>243961</th>\n",
       "      <td>201617</td>\n",
       "      <td>BOTD01701E</td>\n",
       "      <td>SCUOLA SECONDARIA II GRADO</td>\n",
       "      <td>1</td>\n",
       "      <td>14 anni</td>\n",
       "      <td>118</td>\n",
       "    </tr>\n",
       "    <tr>\n",
       "      <th>257372</th>\n",
       "      <td>201617</td>\n",
       "      <td>BOTD01701E</td>\n",
       "      <td>SCUOLA SECONDARIA II GRADO</td>\n",
       "      <td>4</td>\n",
       "      <td>17 anni</td>\n",
       "      <td>59</td>\n",
       "    </tr>\n",
       "    <tr>\n",
       "      <th>257526</th>\n",
       "      <td>201617</td>\n",
       "      <td>BOTD01701E</td>\n",
       "      <td>SCUOLA SECONDARIA II GRADO</td>\n",
       "      <td>4</td>\n",
       "      <td>16 anni</td>\n",
       "      <td>1</td>\n",
       "    </tr>\n",
       "    <tr>\n",
       "      <th>257868</th>\n",
       "      <td>201617</td>\n",
       "      <td>BOTD01701E</td>\n",
       "      <td>SCUOLA SECONDARIA II GRADO</td>\n",
       "      <td>4</td>\n",
       "      <td>18 anni</td>\n",
       "      <td>18</td>\n",
       "    </tr>\n",
       "    <tr>\n",
       "      <th>258572</th>\n",
       "      <td>201617</td>\n",
       "      <td>BOTD01701E</td>\n",
       "      <td>SCUOLA SECONDARIA II GRADO</td>\n",
       "      <td>3</td>\n",
       "      <td>17 anni</td>\n",
       "      <td>19</td>\n",
       "    </tr>\n",
       "    <tr>\n",
       "      <th>259106</th>\n",
       "      <td>201617</td>\n",
       "      <td>BOTD01701E</td>\n",
       "      <td>SCUOLA SECONDARIA II GRADO</td>\n",
       "      <td>3</td>\n",
       "      <td>18 anni</td>\n",
       "      <td>1</td>\n",
       "    </tr>\n",
       "    <tr>\n",
       "      <th>260484</th>\n",
       "      <td>201617</td>\n",
       "      <td>BOTD01701E</td>\n",
       "      <td>SCUOLA SECONDARIA II GRADO</td>\n",
       "      <td>4</td>\n",
       "      <td>&gt; di 18 anni</td>\n",
       "      <td>5</td>\n",
       "    </tr>\n",
       "  </tbody>\n",
       "</table>\n",
       "</div>"
      ],
      "text/plain": [
       "        ANNOSCOLASTICO CODICESCUOLA                ORDINESCUOLA  ANNOCORSO  \\\n",
       "85424           201617   BOTD01701E  SCUOLA SECONDARIA II GRADO          2   \n",
       "85910           201617   BOTD01701E  SCUOLA SECONDARIA II GRADO          3   \n",
       "88040           201617   BOTD01701E  SCUOLA SECONDARIA II GRADO          1   \n",
       "88564           201617   BOTD01701E  SCUOLA SECONDARIA II GRADO          1   \n",
       "89142           201617   BOTD01701E  SCUOLA SECONDARIA II GRADO          1   \n",
       "89669           201617   BOTD01701E  SCUOLA SECONDARIA II GRADO          1   \n",
       "90454           201617   BOTD01701E  SCUOLA SECONDARIA II GRADO          2   \n",
       "90982           201617   BOTD01701E  SCUOLA SECONDARIA II GRADO          2   \n",
       "91577           201617   BOTD01701E  SCUOLA SECONDARIA II GRADO          2   \n",
       "92114           201617   BOTD01701E  SCUOLA SECONDARIA II GRADO          2   \n",
       "233190          201617   BOTD01701E  SCUOLA SECONDARIA II GRADO          5   \n",
       "238152          201617   BOTD01701E  SCUOLA SECONDARIA II GRADO          5   \n",
       "238755          201617   BOTD01701E  SCUOLA SECONDARIA II GRADO          5   \n",
       "242460          201617   BOTD01701E  SCUOLA SECONDARIA II GRADO          1   \n",
       "243961          201617   BOTD01701E  SCUOLA SECONDARIA II GRADO          1   \n",
       "257372          201617   BOTD01701E  SCUOLA SECONDARIA II GRADO          4   \n",
       "257526          201617   BOTD01701E  SCUOLA SECONDARIA II GRADO          4   \n",
       "257868          201617   BOTD01701E  SCUOLA SECONDARIA II GRADO          4   \n",
       "258572          201617   BOTD01701E  SCUOLA SECONDARIA II GRADO          3   \n",
       "259106          201617   BOTD01701E  SCUOLA SECONDARIA II GRADO          3   \n",
       "260484          201617   BOTD01701E  SCUOLA SECONDARIA II GRADO          4   \n",
       "\n",
       "           FASCIAETA  ALUNNI  \n",
       "85424        18 anni       1  \n",
       "85910        16 anni      83  \n",
       "88040   < di 14 anni       3  \n",
       "88564   > di 18 anni       1  \n",
       "89142        16 anni       6  \n",
       "89669        17 anni       1  \n",
       "90454        16 anni      16  \n",
       "90982        17 anni       1  \n",
       "91577        14 anni       3  \n",
       "92114        15 anni     118  \n",
       "233190  > di 18 anni      23  \n",
       "238152       17 anni       2  \n",
       "238755       18 anni      75  \n",
       "242460       15 anni      34  \n",
       "243961       14 anni     118  \n",
       "257372       17 anni      59  \n",
       "257526       16 anni       1  \n",
       "257868       18 anni      18  \n",
       "258572       17 anni      19  \n",
       "259106       18 anni       1  \n",
       "260484  > di 18 anni       5  "
      ]
     },
     "execution_count": 427,
     "metadata": {},
     "output_type": "execute_result"
    }
   ],
   "source": [
    "anagrafica_studenti1516[anagrafica_studenti1516.CODICESCUOLA=='BOTD01701E']"
   ]
  },
  {
   "cell_type": "markdown",
   "metadata": {},
   "source": [
    "... e facciamo la somma degli ALUNNI"
   ]
  },
  {
   "cell_type": "code",
   "execution_count": 428,
   "metadata": {},
   "outputs": [
    {
     "data": {
      "text/plain": [
       "588"
      ]
     },
     "execution_count": 428,
     "metadata": {},
     "output_type": "execute_result"
    }
   ],
   "source": [
    "anagrafica_studenti1516[anagrafica_studenti1516.CODICESCUOLA=='BOTD01701E'].ALUNNI.sum()"
   ]
  },
  {
   "cell_type": "markdown",
   "metadata": {},
   "source": [
    "guardiamo i valori scuola per scuola con un ciclo for e contiamo anche il totale degli studenti"
   ]
  },
  {
   "cell_type": "code",
   "execution_count": 429,
   "metadata": {},
   "outputs": [
    {
     "name": "stdout",
     "output_type": "stream",
     "text": [
      "BOTD01701E\n",
      "588\n",
      "---\n",
      "BOPS01701P\n",
      "524\n",
      "---\n",
      "BOIS017008\n",
      "0\n",
      "---\n",
      "totale studenti  1112\n"
     ]
    }
   ],
   "source": [
    "totale_studenti = 0\n",
    "for codice in codici_scuole_mattei:\n",
    "    scuola = istituto_enrico_mattei[istituto_enrico_mattei.CODICESCUOLA==codice]\n",
    "    print(codice)\n",
    "    totale = anagrafica_studenti1516[anagrafica_studenti1516.CODICESCUOLA==codice].ALUNNI.sum()\n",
    "    print(totale)\n",
    "    print(\"---\")\n",
    "    totale_studenti = totale_studenti + totale\n",
    "print(\"totale studenti \", totale_studenti)"
   ]
  },
  {
   "cell_type": "markdown",
   "metadata": {},
   "source": [
    "estrazione dati anagrafica dell' istituto tecnico commerciale del mattei\n",
    "ed \n",
    "estrazione dati anagrafica del liceo del mattei"
   ]
  },
  {
   "cell_type": "code",
   "execution_count": 430,
   "metadata": {},
   "outputs": [],
   "source": [
    "anagrafica_itc_mattei=anagrafica_studenti1516[anagrafica_studenti1516.CODICESCUOLA=='BOTD01701E']\n",
    "anagrafica_liceo_mattei=anagrafica_studenti1516[anagrafica_studenti1516.CODICESCUOLA=='BOPS01701P']"
   ]
  },
  {
   "cell_type": "markdown",
   "metadata": {},
   "source": [
    "ed anche quella per genere"
   ]
  },
  {
   "cell_type": "code",
   "execution_count": 431,
   "metadata": {},
   "outputs": [],
   "source": [
    "anagrafica_studenti_genere_itc_mattei=anagrafica_studenti_genere_1516[anagrafica_studenti_genere_1516.CODICESCUOLA=='BOTD01701E']\n",
    "anagrafica_studenti_genere_liceo_mattei=anagrafica_studenti_genere_1516[anagrafica_studenti_genere_1516.CODICESCUOLA=='BOPS01701P']"
   ]
  },
  {
   "cell_type": "markdown",
   "metadata": {},
   "source": [
    "e vediamo le valutazioni 2016/2017 per il codice di istituto"
   ]
  },
  {
   "cell_type": "code",
   "execution_count": 432,
   "metadata": {},
   "outputs": [
    {
     "data": {
      "text/html": [
       "<div>\n",
       "<style scoped>\n",
       "    .dataframe tbody tr th:only-of-type {\n",
       "        vertical-align: middle;\n",
       "    }\n",
       "\n",
       "    .dataframe tbody tr th {\n",
       "        vertical-align: top;\n",
       "    }\n",
       "\n",
       "    .dataframe thead th {\n",
       "        text-align: right;\n",
       "    }\n",
       "</style>\n",
       "<table border=\"1\" class=\"dataframe\">\n",
       "  <thead>\n",
       "    <tr style=\"text-align: right;\">\n",
       "      <th></th>\n",
       "      <th>ANNOSCOLASTICO</th>\n",
       "      <th>CODICEISTITUTO</th>\n",
       "      <th>SEZIONE</th>\n",
       "      <th>CODICECRITERIO</th>\n",
       "      <th>PUNTEGGIOSCUOLA</th>\n",
       "      <th>MOTIVAZIONEPUNTEGGIOSCUOLA</th>\n",
       "    </tr>\n",
       "  </thead>\n",
       "  <tbody>\n",
       "    <tr>\n",
       "      <th>27725</th>\n",
       "      <td>201617</td>\n",
       "      <td>BOIS017008</td>\n",
       "      <td>Esiti</td>\n",
       "      <td>24</td>\n",
       "      <td>4</td>\n",
       "      <td>La scuola non monitora in maniera sistematica ...</td>\n",
       "    </tr>\n",
       "    <tr>\n",
       "      <th>30360</th>\n",
       "      <td>201617</td>\n",
       "      <td>BOIS017008</td>\n",
       "      <td>Esiti</td>\n",
       "      <td>21</td>\n",
       "      <td>5</td>\n",
       "      <td>La scuola perde meno studenti nel primo bienni...</td>\n",
       "    </tr>\n",
       "    <tr>\n",
       "      <th>32109</th>\n",
       "      <td>201617</td>\n",
       "      <td>BOIS017008</td>\n",
       "      <td>Esiti</td>\n",
       "      <td>23</td>\n",
       "      <td>4</td>\n",
       "      <td>Il livello delle competenze chiave e di cittad...</td>\n",
       "    </tr>\n",
       "    <tr>\n",
       "      <th>32946</th>\n",
       "      <td>201617</td>\n",
       "      <td>BOIS017008</td>\n",
       "      <td>Esiti</td>\n",
       "      <td>22</td>\n",
       "      <td>5</td>\n",
       "      <td>Il punteggio di italiano e matematica dell'ist...</td>\n",
       "    </tr>\n",
       "  </tbody>\n",
       "</table>\n",
       "</div>"
      ],
      "text/plain": [
       "       ANNOSCOLASTICO CODICEISTITUTO SEZIONE  CODICECRITERIO  PUNTEGGIOSCUOLA  \\\n",
       "27725          201617     BOIS017008   Esiti              24                4   \n",
       "30360          201617     BOIS017008   Esiti              21                5   \n",
       "32109          201617     BOIS017008   Esiti              23                4   \n",
       "32946          201617     BOIS017008   Esiti              22                5   \n",
       "\n",
       "                              MOTIVAZIONEPUNTEGGIOSCUOLA  \n",
       "27725  La scuola non monitora in maniera sistematica ...  \n",
       "30360  La scuola perde meno studenti nel primo bienni...  \n",
       "32109  Il livello delle competenze chiave e di cittad...  \n",
       "32946  Il punteggio di italiano e matematica dell'ist...  "
      ]
     },
     "execution_count": 432,
     "metadata": {},
     "output_type": "execute_result"
    }
   ],
   "source": [
    "valutazioni_esiti1617[valutazioni_esiti1617.CODICEISTITUTO==codiceistituto_enrico_mattei]"
   ]
  },
  {
   "cell_type": "code",
   "execution_count": 433,
   "metadata": {},
   "outputs": [
    {
     "data": {
      "text/html": [
       "<div>\n",
       "<style scoped>\n",
       "    .dataframe tbody tr th:only-of-type {\n",
       "        vertical-align: middle;\n",
       "    }\n",
       "\n",
       "    .dataframe tbody tr th {\n",
       "        vertical-align: top;\n",
       "    }\n",
       "\n",
       "    .dataframe thead th {\n",
       "        text-align: right;\n",
       "    }\n",
       "</style>\n",
       "<table border=\"1\" class=\"dataframe\">\n",
       "  <thead>\n",
       "    <tr style=\"text-align: right;\">\n",
       "      <th></th>\n",
       "      <th>ANNOSCOLASTICO</th>\n",
       "      <th>CODICEISTITUTO</th>\n",
       "      <th>SEZIONE</th>\n",
       "      <th>CODICECRITERIO</th>\n",
       "      <th>PUNTEGGIOSCUOLA</th>\n",
       "      <th>MOTIVAZIONEPUNTEGGIOSCUOLA</th>\n",
       "    </tr>\n",
       "  </thead>\n",
       "  <tbody>\n",
       "    <tr>\n",
       "      <th>9209</th>\n",
       "      <td>201617</td>\n",
       "      <td>BOIS017008</td>\n",
       "      <td>Processi-Pratiche gestionali e organizzative</td>\n",
       "      <td>37</td>\n",
       "      <td>5</td>\n",
       "      <td>La scuola partecipa a reti e ha collaborazioni...</td>\n",
       "    </tr>\n",
       "    <tr>\n",
       "      <th>13060</th>\n",
       "      <td>201617</td>\n",
       "      <td>BOIS017008</td>\n",
       "      <td>Processi-Pratiche educative e didattiche</td>\n",
       "      <td>31</td>\n",
       "      <td>5</td>\n",
       "      <td>La scuola ha elaborato solo in parte un propri...</td>\n",
       "    </tr>\n",
       "    <tr>\n",
       "      <th>13784</th>\n",
       "      <td>201617</td>\n",
       "      <td>BOIS017008</td>\n",
       "      <td>Processi-Pratiche educative e didattiche</td>\n",
       "      <td>32</td>\n",
       "      <td>5</td>\n",
       "      <td>L'organizzazione di spazi e tempi risponde sem...</td>\n",
       "    </tr>\n",
       "    <tr>\n",
       "      <th>16113</th>\n",
       "      <td>201617</td>\n",
       "      <td>BOIS017008</td>\n",
       "      <td>Processi-Pratiche gestionali e organizzative</td>\n",
       "      <td>35</td>\n",
       "      <td>5</td>\n",
       "      <td>Solo dal settembre 2014 l'Istituto ha acquisit...</td>\n",
       "    </tr>\n",
       "    <tr>\n",
       "      <th>16855</th>\n",
       "      <td>201617</td>\n",
       "      <td>BOIS017008</td>\n",
       "      <td>Processi-Pratiche gestionali e organizzative</td>\n",
       "      <td>36</td>\n",
       "      <td>5</td>\n",
       "      <td>L'Istituto realizza iniziative formative tenen...</td>\n",
       "    </tr>\n",
       "    <tr>\n",
       "      <th>17641</th>\n",
       "      <td>201617</td>\n",
       "      <td>BOIS017008</td>\n",
       "      <td>Processi-Pratiche educative e didattiche</td>\n",
       "      <td>33</td>\n",
       "      <td>5</td>\n",
       "      <td>Le attivita' realizzate dalla scuola per gli s...</td>\n",
       "    </tr>\n",
       "    <tr>\n",
       "      <th>18337</th>\n",
       "      <td>201617</td>\n",
       "      <td>BOIS017008</td>\n",
       "      <td>Processi-Pratiche educative e didattiche</td>\n",
       "      <td>34</td>\n",
       "      <td>5</td>\n",
       "      <td>L'Istituto e' attivo ed efficiente nell'orient...</td>\n",
       "    </tr>\n",
       "  </tbody>\n",
       "</table>\n",
       "</div>"
      ],
      "text/plain": [
       "       ANNOSCOLASTICO CODICEISTITUTO  \\\n",
       "9209           201617     BOIS017008   \n",
       "13060          201617     BOIS017008   \n",
       "13784          201617     BOIS017008   \n",
       "16113          201617     BOIS017008   \n",
       "16855          201617     BOIS017008   \n",
       "17641          201617     BOIS017008   \n",
       "18337          201617     BOIS017008   \n",
       "\n",
       "                                            SEZIONE  CODICECRITERIO  \\\n",
       "9209   Processi-Pratiche gestionali e organizzative              37   \n",
       "13060      Processi-Pratiche educative e didattiche              31   \n",
       "13784      Processi-Pratiche educative e didattiche              32   \n",
       "16113  Processi-Pratiche gestionali e organizzative              35   \n",
       "16855  Processi-Pratiche gestionali e organizzative              36   \n",
       "17641      Processi-Pratiche educative e didattiche              33   \n",
       "18337      Processi-Pratiche educative e didattiche              34   \n",
       "\n",
       "       PUNTEGGIOSCUOLA                         MOTIVAZIONEPUNTEGGIOSCUOLA  \n",
       "9209                 5  La scuola partecipa a reti e ha collaborazioni...  \n",
       "13060                5  La scuola ha elaborato solo in parte un propri...  \n",
       "13784                5  L'organizzazione di spazi e tempi risponde sem...  \n",
       "16113                5  Solo dal settembre 2014 l'Istituto ha acquisit...  \n",
       "16855                5  L'Istituto realizza iniziative formative tenen...  \n",
       "17641                5  Le attivita' realizzate dalla scuola per gli s...  \n",
       "18337                5  L'Istituto e' attivo ed efficiente nell'orient...  "
      ]
     },
     "execution_count": 433,
     "metadata": {},
     "output_type": "execute_result"
    }
   ],
   "source": [
    "valutazioni_processi1617[valutazioni_processi1617.CODICEISTITUTO==codiceistituto_enrico_mattei]"
   ]
  },
  {
   "cell_type": "code",
   "execution_count": 434,
   "metadata": {},
   "outputs": [],
   "source": [
    "valutazioni_enrico_mattei = panda.concat([valutazioni_esiti1617,valutazioni_processi1617])"
   ]
  },
  {
   "cell_type": "code",
   "execution_count": 435,
   "metadata": {
    "scrolled": false
   },
   "outputs": [
    {
     "data": {
      "text/html": [
       "<div>\n",
       "<style scoped>\n",
       "    .dataframe tbody tr th:only-of-type {\n",
       "        vertical-align: middle;\n",
       "    }\n",
       "\n",
       "    .dataframe tbody tr th {\n",
       "        vertical-align: top;\n",
       "    }\n",
       "\n",
       "    .dataframe thead th {\n",
       "        text-align: right;\n",
       "    }\n",
       "</style>\n",
       "<table border=\"1\" class=\"dataframe\">\n",
       "  <thead>\n",
       "    <tr style=\"text-align: right;\">\n",
       "      <th></th>\n",
       "      <th>ANNOSCOLASTICO</th>\n",
       "      <th>CODICEISTITUTO</th>\n",
       "      <th>SEZIONE</th>\n",
       "      <th>CODICECRITERIO</th>\n",
       "      <th>PUNTEGGIOSCUOLA</th>\n",
       "      <th>MOTIVAZIONEPUNTEGGIOSCUOLA</th>\n",
       "    </tr>\n",
       "  </thead>\n",
       "  <tbody>\n",
       "    <tr>\n",
       "      <th>0</th>\n",
       "      <td>201617</td>\n",
       "      <td>NAIS112008</td>\n",
       "      <td>Esiti</td>\n",
       "      <td>21</td>\n",
       "      <td>3</td>\n",
       "      <td>Le condizioni per il successo scolastico sono ...</td>\n",
       "    </tr>\n",
       "    <tr>\n",
       "      <th>1</th>\n",
       "      <td>201617</td>\n",
       "      <td>FRIC84000G</td>\n",
       "      <td>Esiti</td>\n",
       "      <td>23</td>\n",
       "      <td>5</td>\n",
       "      <td>Motivazione non dichiarata</td>\n",
       "    </tr>\n",
       "    <tr>\n",
       "      <th>2</th>\n",
       "      <td>201617</td>\n",
       "      <td>LUIC836003</td>\n",
       "      <td>Esiti</td>\n",
       "      <td>22</td>\n",
       "      <td>5</td>\n",
       "      <td>Il punteggio di italiano e matematica dell'Ist...</td>\n",
       "    </tr>\n",
       "    <tr>\n",
       "      <th>3</th>\n",
       "      <td>201617</td>\n",
       "      <td>BGIC855001</td>\n",
       "      <td>Esiti</td>\n",
       "      <td>21</td>\n",
       "      <td>6</td>\n",
       "      <td>La quota di studenti ammessa all'anno successi...</td>\n",
       "    </tr>\n",
       "    <tr>\n",
       "      <th>4</th>\n",
       "      <td>201617</td>\n",
       "      <td>TPIC836004</td>\n",
       "      <td>Esiti</td>\n",
       "      <td>24</td>\n",
       "      <td>4</td>\n",
       "      <td>I risultati degli studenti nel successivo perc...</td>\n",
       "    </tr>\n",
       "    <tr>\n",
       "      <th>5</th>\n",
       "      <td>201617</td>\n",
       "      <td>SOIC80300T</td>\n",
       "      <td>Esiti</td>\n",
       "      <td>23</td>\n",
       "      <td>4</td>\n",
       "      <td>Dalle osservazioni sistematiche emerge che gli...</td>\n",
       "    </tr>\n",
       "    <tr>\n",
       "      <th>6</th>\n",
       "      <td>201617</td>\n",
       "      <td>VIIC820008</td>\n",
       "      <td>Esiti</td>\n",
       "      <td>21</td>\n",
       "      <td>4</td>\n",
       "      <td>L'Istituto perde pochi studenti nel passaggio ...</td>\n",
       "    </tr>\n",
       "    <tr>\n",
       "      <th>7</th>\n",
       "      <td>201617</td>\n",
       "      <td>RMIC8EV004</td>\n",
       "      <td>Esiti</td>\n",
       "      <td>23</td>\n",
       "      <td>5</td>\n",
       "      <td>Motivazione non dichiarata</td>\n",
       "    </tr>\n",
       "    <tr>\n",
       "      <th>8</th>\n",
       "      <td>201617</td>\n",
       "      <td>VAPS11000A</td>\n",
       "      <td>Esiti</td>\n",
       "      <td>22</td>\n",
       "      <td>4</td>\n",
       "      <td>Il punteggio di italiano e matematica della sc...</td>\n",
       "    </tr>\n",
       "    <tr>\n",
       "      <th>9</th>\n",
       "      <td>201617</td>\n",
       "      <td>BOIC88100B</td>\n",
       "      <td>Esiti</td>\n",
       "      <td>21</td>\n",
       "      <td>6</td>\n",
       "      <td>Complessivamente si riscontra una situazione c...</td>\n",
       "    </tr>\n",
       "    <tr>\n",
       "      <th>10</th>\n",
       "      <td>201617</td>\n",
       "      <td>TOIC872009</td>\n",
       "      <td>Esiti</td>\n",
       "      <td>23</td>\n",
       "      <td>4</td>\n",
       "      <td>Il livello delle competenze chiave e di cittad...</td>\n",
       "    </tr>\n",
       "    <tr>\n",
       "      <th>11</th>\n",
       "      <td>201617</td>\n",
       "      <td>UDIC83900A</td>\n",
       "      <td>Esiti</td>\n",
       "      <td>22</td>\n",
       "      <td>4</td>\n",
       "      <td>In genere la percentuale di alunni in fascia 1...</td>\n",
       "    </tr>\n",
       "    <tr>\n",
       "      <th>12</th>\n",
       "      <td>201617</td>\n",
       "      <td>TEIC838009</td>\n",
       "      <td>Esiti</td>\n",
       "      <td>23</td>\n",
       "      <td>4</td>\n",
       "      <td>L'istituzione oltre che all'istruzione e all'e...</td>\n",
       "    </tr>\n",
       "    <tr>\n",
       "      <th>13</th>\n",
       "      <td>201617</td>\n",
       "      <td>BAIS02400C</td>\n",
       "      <td>Esiti</td>\n",
       "      <td>22</td>\n",
       "      <td>5</td>\n",
       "      <td>Il trend positivo in atto va sostenuto con ult...</td>\n",
       "    </tr>\n",
       "    <tr>\n",
       "      <th>14</th>\n",
       "      <td>201617</td>\n",
       "      <td>BLIC82000L</td>\n",
       "      <td>Esiti</td>\n",
       "      <td>24</td>\n",
       "      <td>5</td>\n",
       "      <td>I risultati a distanza sono positivi relativam...</td>\n",
       "    </tr>\n",
       "    <tr>\n",
       "      <th>15</th>\n",
       "      <td>201617</td>\n",
       "      <td>POIC82200N</td>\n",
       "      <td>Esiti</td>\n",
       "      <td>21</td>\n",
       "      <td>5</td>\n",
       "      <td>Le percentuali rilevate per il nostro Istituto...</td>\n",
       "    </tr>\n",
       "    <tr>\n",
       "      <th>16</th>\n",
       "      <td>201617</td>\n",
       "      <td>CTIC88900L</td>\n",
       "      <td>Esiti</td>\n",
       "      <td>24</td>\n",
       "      <td>4</td>\n",
       "      <td>Per quanto attiene al passaggio dalla scuola p...</td>\n",
       "    </tr>\n",
       "    <tr>\n",
       "      <th>17</th>\n",
       "      <td>201617</td>\n",
       "      <td>CZIC87400G</td>\n",
       "      <td>Esiti</td>\n",
       "      <td>24</td>\n",
       "      <td>6</td>\n",
       "      <td>I risultati degli studenti nel percorso succes...</td>\n",
       "    </tr>\n",
       "    <tr>\n",
       "      <th>18</th>\n",
       "      <td>201617</td>\n",
       "      <td>APIC83100B</td>\n",
       "      <td>Esiti</td>\n",
       "      <td>24</td>\n",
       "      <td>4</td>\n",
       "      <td>L'Istituto ha avviato il monitoraggio a distan...</td>\n",
       "    </tr>\n",
       "    <tr>\n",
       "      <th>19</th>\n",
       "      <td>201617</td>\n",
       "      <td>BSIC835008</td>\n",
       "      <td>Esiti</td>\n",
       "      <td>21</td>\n",
       "      <td>5</td>\n",
       "      <td>L' istituto opera affinche' sia garantito il s...</td>\n",
       "    </tr>\n",
       "    <tr>\n",
       "      <th>20</th>\n",
       "      <td>201617</td>\n",
       "      <td>SAVC01000Q</td>\n",
       "      <td>Esiti</td>\n",
       "      <td>22</td>\n",
       "      <td>3</td>\n",
       "      <td>Gli esiti delle prove per la scuola primaria r...</td>\n",
       "    </tr>\n",
       "    <tr>\n",
       "      <th>21</th>\n",
       "      <td>201617</td>\n",
       "      <td>ENIC82100N</td>\n",
       "      <td>Esiti</td>\n",
       "      <td>24</td>\n",
       "      <td>6</td>\n",
       "      <td>I risultati degli studenti nel percorso succes...</td>\n",
       "    </tr>\n",
       "    <tr>\n",
       "      <th>22</th>\n",
       "      <td>201617</td>\n",
       "      <td>PAIC8AQ003</td>\n",
       "      <td>Esiti</td>\n",
       "      <td>22</td>\n",
       "      <td>6</td>\n",
       "      <td>Il punteggio di italiano e matematica dell'IC ...</td>\n",
       "    </tr>\n",
       "    <tr>\n",
       "      <th>23</th>\n",
       "      <td>201617</td>\n",
       "      <td>NAIS12400E</td>\n",
       "      <td>Esiti</td>\n",
       "      <td>23</td>\n",
       "      <td>3</td>\n",
       "      <td>I docenti dell'Istituto,come da indicazioni co...</td>\n",
       "    </tr>\n",
       "    <tr>\n",
       "      <th>24</th>\n",
       "      <td>201617</td>\n",
       "      <td>MEIC805007</td>\n",
       "      <td>Esiti</td>\n",
       "      <td>22</td>\n",
       "      <td>5</td>\n",
       "      <td>Il confronto con i dati forniti dall'INVALSI e...</td>\n",
       "    </tr>\n",
       "    <tr>\n",
       "      <th>25</th>\n",
       "      <td>201617</td>\n",
       "      <td>MIIC8AF001</td>\n",
       "      <td>Esiti</td>\n",
       "      <td>23</td>\n",
       "      <td>4</td>\n",
       "      <td>Non tutte le competenze chiave sono perseguite...</td>\n",
       "    </tr>\n",
       "    <tr>\n",
       "      <th>26</th>\n",
       "      <td>201617</td>\n",
       "      <td>CEPS090004</td>\n",
       "      <td>Esiti</td>\n",
       "      <td>23</td>\n",
       "      <td>5</td>\n",
       "      <td>Motivazione non dichiarata</td>\n",
       "    </tr>\n",
       "    <tr>\n",
       "      <th>27</th>\n",
       "      <td>201617</td>\n",
       "      <td>PDPC03000X</td>\n",
       "      <td>Esiti</td>\n",
       "      <td>24</td>\n",
       "      <td>6</td>\n",
       "      <td>Il numero degli studenti immatricolati all'Uni...</td>\n",
       "    </tr>\n",
       "    <tr>\n",
       "      <th>28</th>\n",
       "      <td>201617</td>\n",
       "      <td>CLIS008003</td>\n",
       "      <td>Esiti</td>\n",
       "      <td>24</td>\n",
       "      <td>5</td>\n",
       "      <td>Il numero di immatricolati all'universita' e' ...</td>\n",
       "    </tr>\n",
       "    <tr>\n",
       "      <th>29</th>\n",
       "      <td>201617</td>\n",
       "      <td>SAIC8AZ00C</td>\n",
       "      <td>Esiti</td>\n",
       "      <td>21</td>\n",
       "      <td>3</td>\n",
       "      <td>Gli studenti non ammessi all'anno successivo e...</td>\n",
       "    </tr>\n",
       "    <tr>\n",
       "      <th>...</th>\n",
       "      <td>...</td>\n",
       "      <td>...</td>\n",
       "      <td>...</td>\n",
       "      <td>...</td>\n",
       "      <td>...</td>\n",
       "      <td>...</td>\n",
       "    </tr>\n",
       "    <tr>\n",
       "      <th>57812</th>\n",
       "      <td>201617</td>\n",
       "      <td>BAIS00100Q</td>\n",
       "      <td>Processi-Pratiche gestionali e organizzative</td>\n",
       "      <td>37</td>\n",
       "      <td>5</td>\n",
       "      <td>La scuola partecipa a reti di scuole e vanta c...</td>\n",
       "    </tr>\n",
       "    <tr>\n",
       "      <th>57813</th>\n",
       "      <td>201617</td>\n",
       "      <td>RMIC8DY001</td>\n",
       "      <td>Processi-Pratiche educative e didattiche</td>\n",
       "      <td>33</td>\n",
       "      <td>5</td>\n",
       "      <td>Le attivita' di inclusione realizzate dall'ist...</td>\n",
       "    </tr>\n",
       "    <tr>\n",
       "      <th>57814</th>\n",
       "      <td>201617</td>\n",
       "      <td>NATF10000D</td>\n",
       "      <td>Processi-Pratiche educative e didattiche</td>\n",
       "      <td>34</td>\n",
       "      <td>5</td>\n",
       "      <td>Le attivita'' di continuita'' sono abbastanza ...</td>\n",
       "    </tr>\n",
       "    <tr>\n",
       "      <th>57815</th>\n",
       "      <td>201617</td>\n",
       "      <td>SAIC8AN005</td>\n",
       "      <td>Processi-Pratiche educative e didattiche</td>\n",
       "      <td>34</td>\n",
       "      <td>5</td>\n",
       "      <td>I punti di debolezza evidenziati sono perlopiu...</td>\n",
       "    </tr>\n",
       "    <tr>\n",
       "      <th>57816</th>\n",
       "      <td>201617</td>\n",
       "      <td>TPIS01200Q</td>\n",
       "      <td>Processi-Pratiche gestionali e organizzative</td>\n",
       "      <td>36</td>\n",
       "      <td>3</td>\n",
       "      <td>Dall'a.s. 2015 2016, La scuola promuove divers...</td>\n",
       "    </tr>\n",
       "    <tr>\n",
       "      <th>57817</th>\n",
       "      <td>201617</td>\n",
       "      <td>MIIC852004</td>\n",
       "      <td>Processi-Pratiche educative e didattiche</td>\n",
       "      <td>32</td>\n",
       "      <td>6</td>\n",
       "      <td>La scuola cerca di promuovere un ambiente di a...</td>\n",
       "    </tr>\n",
       "    <tr>\n",
       "      <th>57818</th>\n",
       "      <td>201617</td>\n",
       "      <td>NAIC8C500X</td>\n",
       "      <td>Processi-Pratiche educative e didattiche</td>\n",
       "      <td>32</td>\n",
       "      <td>3</td>\n",
       "      <td>L'orario delle discipline, soprattutto nella s...</td>\n",
       "    </tr>\n",
       "    <tr>\n",
       "      <th>57819</th>\n",
       "      <td>201617</td>\n",
       "      <td>SRIC85400T</td>\n",
       "      <td>Processi-Pratiche gestionali e organizzative</td>\n",
       "      <td>37</td>\n",
       "      <td>5</td>\n",
       "      <td>La scuola, per quanto e' possibile, si apre al...</td>\n",
       "    </tr>\n",
       "    <tr>\n",
       "      <th>57820</th>\n",
       "      <td>201617</td>\n",
       "      <td>RCTD09000N</td>\n",
       "      <td>Processi-Pratiche gestionali e organizzative</td>\n",
       "      <td>36</td>\n",
       "      <td>3</td>\n",
       "      <td>Il giudizio '3' consegue al fatto che l'offert...</td>\n",
       "    </tr>\n",
       "    <tr>\n",
       "      <th>57821</th>\n",
       "      <td>201617</td>\n",
       "      <td>MOIC82800C</td>\n",
       "      <td>Processi-Pratiche educative e didattiche</td>\n",
       "      <td>33</td>\n",
       "      <td>6</td>\n",
       "      <td>Le attivita' realizzate dalla scuola per gli s...</td>\n",
       "    </tr>\n",
       "    <tr>\n",
       "      <th>57822</th>\n",
       "      <td>201617</td>\n",
       "      <td>CSIC848007</td>\n",
       "      <td>Processi-Pratiche educative e didattiche</td>\n",
       "      <td>32</td>\n",
       "      <td>3</td>\n",
       "      <td>La scuola Primaria utilizza in maniera produtt...</td>\n",
       "    </tr>\n",
       "    <tr>\n",
       "      <th>57823</th>\n",
       "      <td>201617</td>\n",
       "      <td>TOPS340002</td>\n",
       "      <td>Processi-Pratiche gestionali e organizzative</td>\n",
       "      <td>36</td>\n",
       "      <td>4</td>\n",
       "      <td>La scuola ha realizzato iniziative formative p...</td>\n",
       "    </tr>\n",
       "    <tr>\n",
       "      <th>57824</th>\n",
       "      <td>201617</td>\n",
       "      <td>NAMM0A100C</td>\n",
       "      <td>Processi-Pratiche educative e didattiche</td>\n",
       "      <td>34</td>\n",
       "      <td>4</td>\n",
       "      <td>Le attivita' di continuita' sono sufficienteme...</td>\n",
       "    </tr>\n",
       "    <tr>\n",
       "      <th>57825</th>\n",
       "      <td>201617</td>\n",
       "      <td>TOIC86900D</td>\n",
       "      <td>Processi-Pratiche gestionali e organizzative</td>\n",
       "      <td>37</td>\n",
       "      <td>6</td>\n",
       "      <td>La scuola e i docenti hanno fatto molto per fa...</td>\n",
       "    </tr>\n",
       "    <tr>\n",
       "      <th>57826</th>\n",
       "      <td>201617</td>\n",
       "      <td>MIIC8EH003</td>\n",
       "      <td>Processi-Pratiche gestionali e organizzative</td>\n",
       "      <td>35</td>\n",
       "      <td>5</td>\n",
       "      <td>La scuola ha individuato degli obiettivi prior...</td>\n",
       "    </tr>\n",
       "    <tr>\n",
       "      <th>57827</th>\n",
       "      <td>201617</td>\n",
       "      <td>CZIC850003</td>\n",
       "      <td>Processi-Pratiche gestionali e organizzative</td>\n",
       "      <td>35</td>\n",
       "      <td>6</td>\n",
       "      <td>La scuola ha definito la missione e le priorit...</td>\n",
       "    </tr>\n",
       "    <tr>\n",
       "      <th>57828</th>\n",
       "      <td>201617</td>\n",
       "      <td>MEIC83700P</td>\n",
       "      <td>Processi-Pratiche gestionali e organizzative</td>\n",
       "      <td>35</td>\n",
       "      <td>5</td>\n",
       "      <td>In seguito dell'insediamento del nuovo Dirigen...</td>\n",
       "    </tr>\n",
       "    <tr>\n",
       "      <th>57829</th>\n",
       "      <td>201617</td>\n",
       "      <td>ALIS01300R</td>\n",
       "      <td>Processi-Pratiche educative e didattiche</td>\n",
       "      <td>33</td>\n",
       "      <td>5</td>\n",
       "      <td>La scuola e' attenta a tutti i processi di inc...</td>\n",
       "    </tr>\n",
       "    <tr>\n",
       "      <th>57830</th>\n",
       "      <td>201617</td>\n",
       "      <td>TVRI010005</td>\n",
       "      <td>Processi-Pratiche gestionali e organizzative</td>\n",
       "      <td>35</td>\n",
       "      <td>6</td>\n",
       "      <td>La scuola ha definito la missione e le priorit...</td>\n",
       "    </tr>\n",
       "    <tr>\n",
       "      <th>57831</th>\n",
       "      <td>201617</td>\n",
       "      <td>CAIC883001</td>\n",
       "      <td>Processi-Pratiche gestionali e organizzative</td>\n",
       "      <td>35</td>\n",
       "      <td>4</td>\n",
       "      <td>Le evidenze analizzate mostrano che la scuola ...</td>\n",
       "    </tr>\n",
       "    <tr>\n",
       "      <th>57832</th>\n",
       "      <td>201617</td>\n",
       "      <td>BOIS02200Q</td>\n",
       "      <td>Processi-Pratiche gestionali e organizzative</td>\n",
       "      <td>35</td>\n",
       "      <td>5</td>\n",
       "      <td>La comunita' scolastica ha definito la mission...</td>\n",
       "    </tr>\n",
       "    <tr>\n",
       "      <th>57833</th>\n",
       "      <td>201617</td>\n",
       "      <td>RAIC82500X</td>\n",
       "      <td>Processi-Pratiche gestionali e organizzative</td>\n",
       "      <td>36</td>\n",
       "      <td>5</td>\n",
       "      <td>La scuola, promuove iniziative formative per i...</td>\n",
       "    </tr>\n",
       "    <tr>\n",
       "      <th>57834</th>\n",
       "      <td>201617</td>\n",
       "      <td>FOIC81500Q</td>\n",
       "      <td>Processi-Pratiche educative e didattiche</td>\n",
       "      <td>33</td>\n",
       "      <td>5</td>\n",
       "      <td>Il nostro I.C. realizza valide attivita' di in...</td>\n",
       "    </tr>\n",
       "    <tr>\n",
       "      <th>57835</th>\n",
       "      <td>201617</td>\n",
       "      <td>VIIC82900P</td>\n",
       "      <td>Processi-Pratiche gestionali e organizzative</td>\n",
       "      <td>36</td>\n",
       "      <td>5</td>\n",
       "      <td>Le proposte formative hanno visto un graduale ...</td>\n",
       "    </tr>\n",
       "    <tr>\n",
       "      <th>57836</th>\n",
       "      <td>201617</td>\n",
       "      <td>PCIC814001</td>\n",
       "      <td>Processi-Pratiche gestionali e organizzative</td>\n",
       "      <td>36</td>\n",
       "      <td>4</td>\n",
       "      <td>La scuola promuove iniziative formative per i ...</td>\n",
       "    </tr>\n",
       "    <tr>\n",
       "      <th>57837</th>\n",
       "      <td>201617</td>\n",
       "      <td>RMIC8DW009</td>\n",
       "      <td>Processi-Pratiche educative e didattiche</td>\n",
       "      <td>32</td>\n",
       "      <td>7</td>\n",
       "      <td>La situazione della scuola relativamente agli ...</td>\n",
       "    </tr>\n",
       "    <tr>\n",
       "      <th>57838</th>\n",
       "      <td>201617</td>\n",
       "      <td>TOTD090008</td>\n",
       "      <td>Processi-Pratiche educative e didattiche</td>\n",
       "      <td>32</td>\n",
       "      <td>7</td>\n",
       "      <td>Il rispetto delle regole, la cura di comportam...</td>\n",
       "    </tr>\n",
       "    <tr>\n",
       "      <th>57839</th>\n",
       "      <td>201617</td>\n",
       "      <td>CEIC86500T</td>\n",
       "      <td>Processi-Pratiche educative e didattiche</td>\n",
       "      <td>34</td>\n",
       "      <td>7</td>\n",
       "      <td>Le attivita' di continuita' sono organizzate i...</td>\n",
       "    </tr>\n",
       "    <tr>\n",
       "      <th>57840</th>\n",
       "      <td>201617</td>\n",
       "      <td>TVPC120008</td>\n",
       "      <td>Processi-Pratiche gestionali e organizzative</td>\n",
       "      <td>36</td>\n",
       "      <td>4</td>\n",
       "      <td>La scuola realizza iniziative formative per i ...</td>\n",
       "    </tr>\n",
       "    <tr>\n",
       "      <th>57841</th>\n",
       "      <td>201617</td>\n",
       "      <td>NAMM649004</td>\n",
       "      <td>Processi-Pratiche gestionali e organizzative</td>\n",
       "      <td>35</td>\n",
       "      <td>6</td>\n",
       "      <td>La scuola ha definito la mission e le priorita...</td>\n",
       "    </tr>\n",
       "  </tbody>\n",
       "</table>\n",
       "<p>90888 rows × 6 columns</p>\n",
       "</div>"
      ],
      "text/plain": [
       "       ANNOSCOLASTICO CODICEISTITUTO  \\\n",
       "0              201617     NAIS112008   \n",
       "1              201617     FRIC84000G   \n",
       "2              201617     LUIC836003   \n",
       "3              201617     BGIC855001   \n",
       "4              201617     TPIC836004   \n",
       "5              201617     SOIC80300T   \n",
       "6              201617     VIIC820008   \n",
       "7              201617     RMIC8EV004   \n",
       "8              201617     VAPS11000A   \n",
       "9              201617     BOIC88100B   \n",
       "10             201617     TOIC872009   \n",
       "11             201617     UDIC83900A   \n",
       "12             201617     TEIC838009   \n",
       "13             201617     BAIS02400C   \n",
       "14             201617     BLIC82000L   \n",
       "15             201617     POIC82200N   \n",
       "16             201617     CTIC88900L   \n",
       "17             201617     CZIC87400G   \n",
       "18             201617     APIC83100B   \n",
       "19             201617     BSIC835008   \n",
       "20             201617     SAVC01000Q   \n",
       "21             201617     ENIC82100N   \n",
       "22             201617     PAIC8AQ003   \n",
       "23             201617     NAIS12400E   \n",
       "24             201617     MEIC805007   \n",
       "25             201617     MIIC8AF001   \n",
       "26             201617     CEPS090004   \n",
       "27             201617     PDPC03000X   \n",
       "28             201617     CLIS008003   \n",
       "29             201617     SAIC8AZ00C   \n",
       "...               ...            ...   \n",
       "57812          201617     BAIS00100Q   \n",
       "57813          201617     RMIC8DY001   \n",
       "57814          201617     NATF10000D   \n",
       "57815          201617     SAIC8AN005   \n",
       "57816          201617     TPIS01200Q   \n",
       "57817          201617     MIIC852004   \n",
       "57818          201617     NAIC8C500X   \n",
       "57819          201617     SRIC85400T   \n",
       "57820          201617     RCTD09000N   \n",
       "57821          201617     MOIC82800C   \n",
       "57822          201617     CSIC848007   \n",
       "57823          201617     TOPS340002   \n",
       "57824          201617     NAMM0A100C   \n",
       "57825          201617     TOIC86900D   \n",
       "57826          201617     MIIC8EH003   \n",
       "57827          201617     CZIC850003   \n",
       "57828          201617     MEIC83700P   \n",
       "57829          201617     ALIS01300R   \n",
       "57830          201617     TVRI010005   \n",
       "57831          201617     CAIC883001   \n",
       "57832          201617     BOIS02200Q   \n",
       "57833          201617     RAIC82500X   \n",
       "57834          201617     FOIC81500Q   \n",
       "57835          201617     VIIC82900P   \n",
       "57836          201617     PCIC814001   \n",
       "57837          201617     RMIC8DW009   \n",
       "57838          201617     TOTD090008   \n",
       "57839          201617     CEIC86500T   \n",
       "57840          201617     TVPC120008   \n",
       "57841          201617     NAMM649004   \n",
       "\n",
       "                                            SEZIONE  CODICECRITERIO  \\\n",
       "0                                             Esiti              21   \n",
       "1                                             Esiti              23   \n",
       "2                                             Esiti              22   \n",
       "3                                             Esiti              21   \n",
       "4                                             Esiti              24   \n",
       "5                                             Esiti              23   \n",
       "6                                             Esiti              21   \n",
       "7                                             Esiti              23   \n",
       "8                                             Esiti              22   \n",
       "9                                             Esiti              21   \n",
       "10                                            Esiti              23   \n",
       "11                                            Esiti              22   \n",
       "12                                            Esiti              23   \n",
       "13                                            Esiti              22   \n",
       "14                                            Esiti              24   \n",
       "15                                            Esiti              21   \n",
       "16                                            Esiti              24   \n",
       "17                                            Esiti              24   \n",
       "18                                            Esiti              24   \n",
       "19                                            Esiti              21   \n",
       "20                                            Esiti              22   \n",
       "21                                            Esiti              24   \n",
       "22                                            Esiti              22   \n",
       "23                                            Esiti              23   \n",
       "24                                            Esiti              22   \n",
       "25                                            Esiti              23   \n",
       "26                                            Esiti              23   \n",
       "27                                            Esiti              24   \n",
       "28                                            Esiti              24   \n",
       "29                                            Esiti              21   \n",
       "...                                             ...             ...   \n",
       "57812  Processi-Pratiche gestionali e organizzative              37   \n",
       "57813      Processi-Pratiche educative e didattiche              33   \n",
       "57814      Processi-Pratiche educative e didattiche              34   \n",
       "57815      Processi-Pratiche educative e didattiche              34   \n",
       "57816  Processi-Pratiche gestionali e organizzative              36   \n",
       "57817      Processi-Pratiche educative e didattiche              32   \n",
       "57818      Processi-Pratiche educative e didattiche              32   \n",
       "57819  Processi-Pratiche gestionali e organizzative              37   \n",
       "57820  Processi-Pratiche gestionali e organizzative              36   \n",
       "57821      Processi-Pratiche educative e didattiche              33   \n",
       "57822      Processi-Pratiche educative e didattiche              32   \n",
       "57823  Processi-Pratiche gestionali e organizzative              36   \n",
       "57824      Processi-Pratiche educative e didattiche              34   \n",
       "57825  Processi-Pratiche gestionali e organizzative              37   \n",
       "57826  Processi-Pratiche gestionali e organizzative              35   \n",
       "57827  Processi-Pratiche gestionali e organizzative              35   \n",
       "57828  Processi-Pratiche gestionali e organizzative              35   \n",
       "57829      Processi-Pratiche educative e didattiche              33   \n",
       "57830  Processi-Pratiche gestionali e organizzative              35   \n",
       "57831  Processi-Pratiche gestionali e organizzative              35   \n",
       "57832  Processi-Pratiche gestionali e organizzative              35   \n",
       "57833  Processi-Pratiche gestionali e organizzative              36   \n",
       "57834      Processi-Pratiche educative e didattiche              33   \n",
       "57835  Processi-Pratiche gestionali e organizzative              36   \n",
       "57836  Processi-Pratiche gestionali e organizzative              36   \n",
       "57837      Processi-Pratiche educative e didattiche              32   \n",
       "57838      Processi-Pratiche educative e didattiche              32   \n",
       "57839      Processi-Pratiche educative e didattiche              34   \n",
       "57840  Processi-Pratiche gestionali e organizzative              36   \n",
       "57841  Processi-Pratiche gestionali e organizzative              35   \n",
       "\n",
       "       PUNTEGGIOSCUOLA                         MOTIVAZIONEPUNTEGGIOSCUOLA  \n",
       "0                    3  Le condizioni per il successo scolastico sono ...  \n",
       "1                    5                         Motivazione non dichiarata  \n",
       "2                    5  Il punteggio di italiano e matematica dell'Ist...  \n",
       "3                    6  La quota di studenti ammessa all'anno successi...  \n",
       "4                    4  I risultati degli studenti nel successivo perc...  \n",
       "5                    4  Dalle osservazioni sistematiche emerge che gli...  \n",
       "6                    4  L'Istituto perde pochi studenti nel passaggio ...  \n",
       "7                    5                         Motivazione non dichiarata  \n",
       "8                    4  Il punteggio di italiano e matematica della sc...  \n",
       "9                    6  Complessivamente si riscontra una situazione c...  \n",
       "10                   4  Il livello delle competenze chiave e di cittad...  \n",
       "11                   4  In genere la percentuale di alunni in fascia 1...  \n",
       "12                   4  L'istituzione oltre che all'istruzione e all'e...  \n",
       "13                   5  Il trend positivo in atto va sostenuto con ult...  \n",
       "14                   5  I risultati a distanza sono positivi relativam...  \n",
       "15                   5  Le percentuali rilevate per il nostro Istituto...  \n",
       "16                   4  Per quanto attiene al passaggio dalla scuola p...  \n",
       "17                   6  I risultati degli studenti nel percorso succes...  \n",
       "18                   4  L'Istituto ha avviato il monitoraggio a distan...  \n",
       "19                   5  L' istituto opera affinche' sia garantito il s...  \n",
       "20                   3  Gli esiti delle prove per la scuola primaria r...  \n",
       "21                   6  I risultati degli studenti nel percorso succes...  \n",
       "22                   6  Il punteggio di italiano e matematica dell'IC ...  \n",
       "23                   3  I docenti dell'Istituto,come da indicazioni co...  \n",
       "24                   5  Il confronto con i dati forniti dall'INVALSI e...  \n",
       "25                   4  Non tutte le competenze chiave sono perseguite...  \n",
       "26                   5                         Motivazione non dichiarata  \n",
       "27                   6  Il numero degli studenti immatricolati all'Uni...  \n",
       "28                   5  Il numero di immatricolati all'universita' e' ...  \n",
       "29                   3  Gli studenti non ammessi all'anno successivo e...  \n",
       "...                ...                                                ...  \n",
       "57812                5  La scuola partecipa a reti di scuole e vanta c...  \n",
       "57813                5  Le attivita' di inclusione realizzate dall'ist...  \n",
       "57814                5  Le attivita'' di continuita'' sono abbastanza ...  \n",
       "57815                5  I punti di debolezza evidenziati sono perlopiu...  \n",
       "57816                3  Dall'a.s. 2015 2016, La scuola promuove divers...  \n",
       "57817                6  La scuola cerca di promuovere un ambiente di a...  \n",
       "57818                3  L'orario delle discipline, soprattutto nella s...  \n",
       "57819                5  La scuola, per quanto e' possibile, si apre al...  \n",
       "57820                3  Il giudizio '3' consegue al fatto che l'offert...  \n",
       "57821                6  Le attivita' realizzate dalla scuola per gli s...  \n",
       "57822                3  La scuola Primaria utilizza in maniera produtt...  \n",
       "57823                4  La scuola ha realizzato iniziative formative p...  \n",
       "57824                4  Le attivita' di continuita' sono sufficienteme...  \n",
       "57825                6  La scuola e i docenti hanno fatto molto per fa...  \n",
       "57826                5  La scuola ha individuato degli obiettivi prior...  \n",
       "57827                6  La scuola ha definito la missione e le priorit...  \n",
       "57828                5  In seguito dell'insediamento del nuovo Dirigen...  \n",
       "57829                5  La scuola e' attenta a tutti i processi di inc...  \n",
       "57830                6  La scuola ha definito la missione e le priorit...  \n",
       "57831                4  Le evidenze analizzate mostrano che la scuola ...  \n",
       "57832                5  La comunita' scolastica ha definito la mission...  \n",
       "57833                5  La scuola, promuove iniziative formative per i...  \n",
       "57834                5  Il nostro I.C. realizza valide attivita' di in...  \n",
       "57835                5  Le proposte formative hanno visto un graduale ...  \n",
       "57836                4  La scuola promuove iniziative formative per i ...  \n",
       "57837                7  La situazione della scuola relativamente agli ...  \n",
       "57838                7  Il rispetto delle regole, la cura di comportam...  \n",
       "57839                7  Le attivita' di continuita' sono organizzate i...  \n",
       "57840                4  La scuola realizza iniziative formative per i ...  \n",
       "57841                6  La scuola ha definito la mission e le priorita...  \n",
       "\n",
       "[90888 rows x 6 columns]"
      ]
     },
     "execution_count": 435,
     "metadata": {},
     "output_type": "execute_result"
    }
   ],
   "source": [
    "valutazioni_enrico_mattei"
   ]
  },
  {
   "cell_type": "code",
   "execution_count": 444,
   "metadata": {},
   "outputs": [],
   "source": [
    "tabella_valutazioni = valutazioni_enrico_mattei[['PUNTEGGIOSCUOLA','CODICECRITERIO']]\n",
    "grafico_valutazioni = tabella_valutazioni.pivot_table(tabella_valutazioni,'CODICECRITERIO').fillna(0)"
   ]
  },
  {
   "cell_type": "code",
   "execution_count": 446,
   "metadata": {},
   "outputs": [
    {
     "data": {
      "text/html": [
       "<div>\n",
       "<style scoped>\n",
       "    .dataframe tbody tr th:only-of-type {\n",
       "        vertical-align: middle;\n",
       "    }\n",
       "\n",
       "    .dataframe tbody tr th {\n",
       "        vertical-align: top;\n",
       "    }\n",
       "\n",
       "    .dataframe thead th {\n",
       "        text-align: right;\n",
       "    }\n",
       "</style>\n",
       "<table border=\"1\" class=\"dataframe\">\n",
       "  <thead>\n",
       "    <tr style=\"text-align: right;\">\n",
       "      <th></th>\n",
       "      <th>PUNTEGGIOSCUOLA</th>\n",
       "    </tr>\n",
       "    <tr>\n",
       "      <th>CODICECRITERIO</th>\n",
       "      <th></th>\n",
       "    </tr>\n",
       "  </thead>\n",
       "  <tbody>\n",
       "    <tr>\n",
       "      <th>21</th>\n",
       "      <td>5.028312</td>\n",
       "    </tr>\n",
       "    <tr>\n",
       "      <th>22</th>\n",
       "      <td>4.226810</td>\n",
       "    </tr>\n",
       "    <tr>\n",
       "      <th>23</th>\n",
       "      <td>4.834685</td>\n",
       "    </tr>\n",
       "    <tr>\n",
       "      <th>24</th>\n",
       "      <td>4.841404</td>\n",
       "    </tr>\n",
       "    <tr>\n",
       "      <th>31</th>\n",
       "      <td>4.804429</td>\n",
       "    </tr>\n",
       "    <tr>\n",
       "      <th>32</th>\n",
       "      <td>4.900520</td>\n",
       "    </tr>\n",
       "    <tr>\n",
       "      <th>33</th>\n",
       "      <td>5.238049</td>\n",
       "    </tr>\n",
       "    <tr>\n",
       "      <th>34</th>\n",
       "      <td>4.938884</td>\n",
       "    </tr>\n",
       "    <tr>\n",
       "      <th>35</th>\n",
       "      <td>5.060140</td>\n",
       "    </tr>\n",
       "    <tr>\n",
       "      <th>36</th>\n",
       "      <td>4.846908</td>\n",
       "    </tr>\n",
       "    <tr>\n",
       "      <th>37</th>\n",
       "      <td>5.146678</td>\n",
       "    </tr>\n",
       "  </tbody>\n",
       "</table>\n",
       "</div>"
      ],
      "text/plain": [
       "                PUNTEGGIOSCUOLA\n",
       "CODICECRITERIO                 \n",
       "21                     5.028312\n",
       "22                     4.226810\n",
       "23                     4.834685\n",
       "24                     4.841404\n",
       "31                     4.804429\n",
       "32                     4.900520\n",
       "33                     5.238049\n",
       "34                     4.938884\n",
       "35                     5.060140\n",
       "36                     4.846908\n",
       "37                     5.146678"
      ]
     },
     "execution_count": 446,
     "metadata": {},
     "output_type": "execute_result"
    }
   ],
   "source": [
    "grafico_valutazioni"
   ]
  },
  {
   "cell_type": "code",
   "execution_count": 452,
   "metadata": {},
   "outputs": [
    {
     "data": {
      "text/plain": [
       "<matplotlib.axes._subplots.AxesSubplot at 0x7f4ba4c60400>"
      ]
     },
     "execution_count": 452,
     "metadata": {},
     "output_type": "execute_result"
    },
    {
     "data": {
      "image/png": "[encoded data removed]",
      "text/plain": [
       "<Figure size 720x720 with 1 Axes>"
      ]
     },
     "metadata": {},
     "output_type": "display_data"
    }
   ],
   "source": [
    "grafico_valutazioni.plot(figsize=[10,10],grid=True)"
   ]
  },
  {
   "cell_type": "code",
   "execution_count": null,
   "metadata": {},
   "outputs": [],
   "source": []
  }
 ],
 "metadata": {
  "kernelspec": {
   "display_name": "Python 3",
   "language": "python",
   "name": "python3"
  },
  "language_info": {
   "codemirror_mode": {
    "name": "ipython",
    "version": 3
   },
   "file_extension": ".py",
   "mimetype": "text/x-python",
   "name": "python",
   "nbconvert_exporter": "python",
   "pygments_lexer": "ipython3",
   "version": "3.6.3"
  }
 },
 "nbformat": 4,
 "nbformat_minor": 2
}
