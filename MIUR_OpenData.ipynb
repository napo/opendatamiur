{
 "cells": [
  {
   "cell_type": "markdown",
   "metadata": {},
   "source": [
    "# SCOPRIRE GLI OPENDATA DELLA SCUOLA ITALIANA\n",
    "\n",
    "![open data miur](http://dati.istruzione.it/opendata/img/pagine-interne/copertina-open-data.jpg)\n",
    "\n"
   ]
  },
  {
   "cell_type": "markdown",
   "metadata": {},
   "source": [
    "![](http://dati.istruzione.it/opendata/img/home/home_icon_01_opendata.png)\n",
    "# [I DATI DISPONIBILI](#opendatalist)\n",
    "http://dati.istruzione.it/opendata/opendata/\n",
    "\n",
    "---\n",
    "# SCUOLE\n",
    "<img src=\"http://dati.istruzione.it/opendata/img/pagine-interne/CTSCUOLA.svg\" width=\"100\" align=\"right\">\n",
    "## [Informazioni anagrafiche scuole](#anagraficascuole)\n",
    "http://dati.istruzione.it/opendata/opendata/catalogo/elements1/?area=Scuole\n",
    "\n",
    "sono presenti i dati con le informazioni riguardanti l'anagrafe delle scuole negli anni scolastici \n",
    "* scuole statali\n",
    "* scuole paritarie\n",
    "* scuole statali delle province autonome di Trento, Bolzano e Aosta\n",
    "* scuole paritarie delle province autonome di Trento, Bolzano e Aosta\n",
    "\n",
    "Gli anni scolastici presi in considerazione sono: **2015/2016, 2016,2017 e 2017/2018**.\n",
    "\n",
    "---\n",
    "# STUDENTI\n",
    "<img src=\"http://dati.istruzione.it/opendata/img/pagine-interne/CTSTUDENTI.svg\" width=\"100\" align=\"right\">\n",
    "## [informazioni sugli studenti](#anagraficastudenti)\n",
    "http://dati.istruzione.it/opendata/opendata/catalogo/elements1/?area=Studenti\n",
    "### [Studenti per anno di corso e fascia di età](#studentifasceeta).\n",
    "informazioni riguardanti il numero degli studenti per anno di corso e fascia di eta'. \n",
    "* scuole statali\n",
    "* scuole paritarie\n",
    "\n",
    "Gli anni scolastici presi in considerazione sono: **2015/2016 e 2016/2017**.\n",
    "\n",
    "### [Studenti per anno di corso, classe e genere](#studenticlassegenere) \n",
    "informazioni riguardanti il numero degli studenti per anno di corso, classe e genere. \n",
    "* scuole statali\n",
    "* scuole paritarie\n",
    "\n",
    "Gli anni scolastici presi in considerazione sono: **2015/2016 e 2016/2017**.\n",
    "\n",
    "---\n",
    "# EDILIZIA\n",
    "<img src=\"http://dati.istruzione.it/opendata/img/pagine-interne/CTEDILIZIA.svg\" width=\"100\" align=\"right\">\n",
    "## [Edilizia Scolastica](#edilizia)\n",
    "http://dati.istruzione.it/opendata/opendata/catalogo/elements1/?area=Edilizia%20Scolastica\n",
    "### [Elenco degli edifici scolastici attivi e loro locazione](#edifici)\n",
    "informazioni riguardanti l'anagrafica dell'edificio scolastico e la sua localizzazione\n",
    "* scuole statali\n",
    "\n",
    "Sono presenti i dati per l'anno scolastico **2015/2016**.\n",
    "\n",
    "\n",
    "### [Presenza di macro ambiti funzionali degli edifici scolastici (palestra, mensa..)](#edificiextra)\n",
    "informazioni riguardanti la presenza o meno di macro ambiti funzionali relativamente\n",
    "* scuole statali\n",
    "\n",
    "Sono presenti i dati per l'anno scolastico **2015/2016**.\n",
    "\n",
    "\n",
    "### [Raggiungibilità degli edifici scolastici (mezzi pubblici, scuolabus..)](#raggiungibilita)\n",
    "informazioni riguardanti la raggiungibilita' del plesso attraverso differenti modalita' di trasporto relativamente alle scuole Statali di ogni ordine e grado. \n",
    "* scuole statali\n",
    "\n",
    "Sono presenti i dati per l'anno scolastico **2015/2016**.\n",
    "\n",
    "---\n",
    "# VALUTAZIONE\n",
    "<img src=\"http://dati.istruzione.it/opendata/img/pagine-interne/CTSISTEMA.svg\" width=\"100\" align=\"right\">\n",
    "## [SISTEMA NAZIONALE DI VALUTAZIONE](#valutazione)\n",
    "http://dati.istruzione.it/opendata/opendata/catalogo/elements1/?area=Sistema%20Nazionale%20di%20Valutazione\n",
    "### [regole valutazione utilizzata dalla scuola per l'autovalutazione.](#regolevalutazione)\n",
    "informazioni riguardanti la rubrica di valutazione di ciascun criterio di qualita' utilizzato per l'autovalutazione delle sezioni Esiti e Processi. Scuola statale e scuola paritaria. \n",
    "* scuole statali\n",
    "* scuole paritarie\n",
    "\n",
    "Sono presenti i dati per l'anno scolastico **2015/2016 e 2016/2017**.\n",
    "\n",
    "\n",
    "### [Autovalutazione della scuola sezione ESITI.](#autovalutazioneesiti)\n",
    "informazioni riguardanti l'autovalutazione in termini di: risultati scolastici, risultati nelle prove standardizzate nazionali, competenze chiave e di cittadinanza, risultati a distanza. \n",
    "* scuole statali\n",
    "* scuole paritarie\n",
    "\n",
    "\n",
    "Sono presenti i dati per l'anno scolastico **2015/2016 e 2016/2017**.\n",
    "\n",
    "\n",
    "### [Autovalutazione della scuola sezione PROCESSI)](#autovalutazioneprocessi)\n",
    "informazioni riguardanti l'autovalutazione in termini di: curricolo, progettazione e valutazione, abiente di apprendimento, inclusione e differenziazione, continuità e orientamento, orientamento strategico e organizzazione della scuola, sviluppo e valorizzazione delle risorse umane, integrazione con il territorio e rapporti con le famiglie\n",
    "* scuole statali\n",
    "* scuole paritarie\n",
    "\n",
    "\n",
    "Sono presenti i dati per l'anno scolastico **2015/2016 e 2016/2017**.\n",
    "\n",
    "---\n",
    "# PERSONALE SCUOLA\n",
    "<img src=\"http://dati.istruzione.it/opendata/img/pagine-interne/CTPERSONALE.svg\" width=\"100\" align=\"right\">\n",
    "## [PERSONALE DOCENTE E NON DOCENTE](#personale)\n",
    "http://dati.istruzione.it/opendata/opendata/catalogo/elements1/?area=Personale%20Scuola\n",
    "### [Docenti a tempo indeterminato](#docentiindeterminati)\n",
    "informazioni riguardanti il numero del personale supplente docente per grado di istruzione, tipo posto, tipo supplenza, genere e fascia di età\n",
    "* scuole statali\n",
    "\n",
    "Sono presenti i dati per l'anno scolastico **2015/2016 e 2016/2017**.\n",
    "\n",
    "\n",
    "### [ATA a tempo indeterminato](#ataindeterminati)\n",
    "informazioni riguardanti il numero del personale titolare ATA per genere e fascia di eta'. \n",
    "* scuole statali\n",
    "\n",
    "Sono presenti i dati per l'anno scolastico **2015/2016 e 2016/2017**.\n",
    "\n",
    "### [Docenti a tempo determinato](#docentideterminati)\n",
    "informazioni riguardanti il numero del personale supplente docente per grado di istruzione, tipo posto, tipo supplenza, genere e fascia di età\n",
    "* scuole statali\n",
    "\n",
    "Sono presenti i dati per l'anno scolastico **2015/2016 e 2016/2017**.\n",
    "\n",
    "\n",
    "### [ATA a tempo determinato](#atadeterminati)\n",
    "informazioni riguardanti il numero del personale titolare ATA per genere e fascia di eta'. \n",
    "* scuole statali\n",
    "\n",
    "Sono presenti i dati per l'anno scolastico **2015/2016 e 2016/2017**.\n"
   ]
  },
  {
   "cell_type": "markdown",
   "metadata": {},
   "source": [
    "---\n",
    "# INIZIAMO AD INVESTIGARE I DATI\n",
    "![](https://upload.wikimedia.org/wikipedia/commons/thumb/a/a4/Magnifying_glass_with_focus_on_glass.png/640px-Magnifying_glass_with_focus_on_glass.png)\n",
    "\n",
    "![](https://raw.githubusercontent.com/napo/opendatamiur/master/images/icons_opendata_miur.png)\n",
    "\n",
    "\n",
    "<img src=\"https://image.flaticon.com/icons/svg/28/28842.svg\" width=\"100\" align=\"left\" /> <h2>CSV = Comma-Separated Values</h2>\n",
    "> Il **comma-separated values** (abbreviato in CSV) è un formato di file basato su **file di testo** utilizzato per l'importazione ed esportazione (ad esempio da fogli elettronici o database) di una **tabella di dati**. \n",
    "> (fonte: Wikipedia)\n",
    "\n",
    "Esempio:\n",
    "\n",
    "**tabella di dati**\n",
    "\n",
    "NOME|COGNOME|PROFESSIONE|ANNONASCITA|ANNOMORTE\n",
    ":---|:------|:----------|----------:|--------:\n",
    "Giulio|Cesare|militare|101 ac|44 ac\n",
    "Dante|Aligheri|poeta|1265 dc|1321 dc\n",
    "Alessandro|Manzoni|scrittore|1785 dc|1873 dc\n",
    "\n",
    "\n",
    "**in CSV**\n",
    "```\n",
    "NOME,COGNOME,PROFESSIONE,ANNONASCITA,ANNOMORTE\n",
    "Giulio,Cesare,militare,101 ac,44 ac\n",
    "Dante,Aligheri,poeta,1265 dc,1321 dc\n",
    "Alessandro,Manzoni,scrittore,1785 dc,1873 dc\n",
    "```\n",
    "\n",
    "---"
   ]
  },
  {
   "cell_type": "markdown",
   "metadata": {},
   "source": [
    "<center><H1>ED ORA TOCCA A PYTHON</H1></center>\n",
    "![](https://upload.wikimedia.org/wikipedia/commons/thumb/4/4a/Python3-powered_hello-world.svg/200px-Python3-powered_hello-world.svg.png)\n",
    "\n",
    "---"
   ]
  },
  {
   "cell_type": "markdown",
   "metadata": {},
   "source": [
    "# RECUPERARE I DATI"
   ]
  },
  {
   "cell_type": "code",
   "execution_count": 2,
   "metadata": {},
   "outputs": [],
   "source": [
    "# importazione del modulo necessario a caricare dati remoti\n",
    "import requests\n",
    "# questo è l'indirizzo con l'elenco delle scuole d'Italia - 13mb!\n",
    "# anno scolastico 2017/2018 raccolti il 01/09/2017\n",
    "url='http://dati.istruzione.it/opendata/opendata/catalogo/elements1/SCUANAGRAFESTAT20171820170901.csv'\n",
    "\n",
    "#dai dati remoti si estrae il contenuto\n",
    "datiremoti=requests.get(url).content"
   ]
  },
  {
   "cell_type": "markdown",
   "metadata": {},
   "source": [
    "<center><h1>Diamo a python i poteri del panda</h3></center>\n",
    "![Kung fu panda](https://i2.wp.com/de.straba.us/wp-content/uploads/2018/03/1gKYCyrcudAeE5e5KAbRhBQ-620x180-1.jpeg)"
   ]
  },
  {
   "cell_type": "code",
   "execution_count": 3,
   "metadata": {},
   "outputs": [],
   "source": [
    "import pandas as panda\n",
    "import io #... e quelli per leggere il file .csv :)\n",
    "scuole=panda.read_csv(io.StringIO(datiremoti.decode('utf-8')))"
   ]
  },
  {
   "cell_type": "markdown",
   "metadata": {},
   "source": [
    "... una sbirciatina alle prime *tre* righe"
   ]
  },
  {
   "cell_type": "code",
   "execution_count": 4,
   "metadata": {
    "scrolled": true
   },
   "outputs": [
    {
     "data": {
      "text/html": [
       "<div>\n",
       "<style scoped>\n",
       "    .dataframe tbody tr th:only-of-type {\n",
       "        vertical-align: middle;\n",
       "    }\n",
       "\n",
       "    .dataframe tbody tr th {\n",
       "        vertical-align: top;\n",
       "    }\n",
       "\n",
       "    .dataframe thead th {\n",
       "        text-align: right;\n",
       "    }\n",
       "</style>\n",
       "<table border=\"1\" class=\"dataframe\">\n",
       "  <thead>\n",
       "    <tr style=\"text-align: right;\">\n",
       "      <th></th>\n",
       "      <th>ANNOSCOLASTICO</th>\n",
       "      <th>AREAGEOGRAFICA</th>\n",
       "      <th>REGIONE</th>\n",
       "      <th>PROVINCIA</th>\n",
       "      <th>CODICEISTITUTORIFERIMENTO</th>\n",
       "      <th>DENOMINAZIONEISTITUTORIFERIMENTO</th>\n",
       "      <th>CODICESCUOLA</th>\n",
       "      <th>DENOMINAZIONESCUOLA</th>\n",
       "      <th>INDIRIZZOSCUOLA</th>\n",
       "      <th>CAPSCUOLA</th>\n",
       "      <th>CODICECOMUNESCUOLA</th>\n",
       "      <th>DESCRIZIONECOMUNE</th>\n",
       "      <th>DESCRIZIONECARATTERISTICASCUOLA</th>\n",
       "      <th>DESCRIZIONETIPOLOGIAGRADOISTRUZIONESCUOLA</th>\n",
       "      <th>INDICAZIONESEDEDIRETTIVO</th>\n",
       "      <th>INDICAZIONESEDEOMNICOMPRENSIVO</th>\n",
       "      <th>INDIRIZZOEMAILSCUOLA</th>\n",
       "      <th>INDIRIZZOPECSCUOLA</th>\n",
       "      <th>SITOWEBSCUOLA</th>\n",
       "      <th>SEDESCOLASTICA</th>\n",
       "    </tr>\n",
       "  </thead>\n",
       "  <tbody>\n",
       "    <tr>\n",
       "      <th>0</th>\n",
       "      <td>201718</td>\n",
       "      <td>NORD EST</td>\n",
       "      <td>VENETO</td>\n",
       "      <td>BELLUNO</td>\n",
       "      <td>BLIC816001</td>\n",
       "      <td>IC TRICHIANA</td>\n",
       "      <td>BLMM816023</td>\n",
       "      <td>\"D. BUZZATI\" LIMANA</td>\n",
       "      <td>VIA TOFANE 1</td>\n",
       "      <td>32020</td>\n",
       "      <td>E588</td>\n",
       "      <td>LIMANA</td>\n",
       "      <td>NORMALE</td>\n",
       "      <td>SCUOLA PRIMO GRADO</td>\n",
       "      <td>NO</td>\n",
       "      <td>Non Disponibile</td>\n",
       "      <td>BLIC816001@istruzione.it</td>\n",
       "      <td>Non Disponibile</td>\n",
       "      <td>http//www.ictrichiana.gov.it</td>\n",
       "      <td>SI</td>\n",
       "    </tr>\n",
       "    <tr>\n",
       "      <th>1</th>\n",
       "      <td>201718</td>\n",
       "      <td>ISOLE</td>\n",
       "      <td>SARDEGNA</td>\n",
       "      <td>ORISTANO</td>\n",
       "      <td>ORIC82700L</td>\n",
       "      <td>I.C. ORISTANO N. 4</td>\n",
       "      <td>ORMM82701N</td>\n",
       "      <td>S.M. \"ALAGON\"</td>\n",
       "      <td>VIALE ARMANDO DIAZ 83</td>\n",
       "      <td>09170</td>\n",
       "      <td>G113</td>\n",
       "      <td>ORISTANO</td>\n",
       "      <td>NORMALE</td>\n",
       "      <td>SCUOLA PRIMO GRADO</td>\n",
       "      <td>NO</td>\n",
       "      <td>Non Disponibile</td>\n",
       "      <td>ORIC82700L@istruzione.it</td>\n",
       "      <td>Non Disponibile</td>\n",
       "      <td>http//istitutocomprensivo4oristano.gov.it/</td>\n",
       "      <td>SI</td>\n",
       "    </tr>\n",
       "    <tr>\n",
       "      <th>2</th>\n",
       "      <td>201718</td>\n",
       "      <td>NORD OVEST</td>\n",
       "      <td>LOMBARDIA</td>\n",
       "      <td>MONZA-BRIANZA</td>\n",
       "      <td>MIIC8BS00B</td>\n",
       "      <td>ISTITUTO COMPRENSIVO LESMO</td>\n",
       "      <td>MIEE8BS01D</td>\n",
       "      <td>SCUOLA ELEMENTARE \"D.ALIGHIERI\"</td>\n",
       "      <td>VIA DE GASPERI18</td>\n",
       "      <td>20050</td>\n",
       "      <td>D038</td>\n",
       "      <td>CORREZZANA</td>\n",
       "      <td>NORMALE</td>\n",
       "      <td>SCUOLA PRIMARIA</td>\n",
       "      <td>NO</td>\n",
       "      <td>Non Disponibile</td>\n",
       "      <td>MIIC8BS00B@istruzione.it</td>\n",
       "      <td>Non Disponibile</td>\n",
       "      <td>www.istitutocomprensivolesmo.gov.it</td>\n",
       "      <td>SI</td>\n",
       "    </tr>\n",
       "  </tbody>\n",
       "</table>\n",
       "</div>"
      ],
      "text/plain": [
       "   ANNOSCOLASTICO AREAGEOGRAFICA    REGIONE      PROVINCIA  \\\n",
       "0          201718       NORD EST     VENETO        BELLUNO   \n",
       "1          201718          ISOLE   SARDEGNA       ORISTANO   \n",
       "2          201718     NORD OVEST  LOMBARDIA  MONZA-BRIANZA   \n",
       "\n",
       "  CODICEISTITUTORIFERIMENTO DENOMINAZIONEISTITUTORIFERIMENTO CODICESCUOLA  \\\n",
       "0                BLIC816001                     IC TRICHIANA   BLMM816023   \n",
       "1                ORIC82700L               I.C. ORISTANO N. 4   ORMM82701N   \n",
       "2                MIIC8BS00B       ISTITUTO COMPRENSIVO LESMO   MIEE8BS01D   \n",
       "\n",
       "               DENOMINAZIONESCUOLA        INDIRIZZOSCUOLA CAPSCUOLA  \\\n",
       "0              \"D. BUZZATI\" LIMANA           VIA TOFANE 1     32020   \n",
       "1                    S.M. \"ALAGON\"  VIALE ARMANDO DIAZ 83     09170   \n",
       "2  SCUOLA ELEMENTARE \"D.ALIGHIERI\"       VIA DE GASPERI18     20050   \n",
       "\n",
       "  CODICECOMUNESCUOLA DESCRIZIONECOMUNE DESCRIZIONECARATTERISTICASCUOLA  \\\n",
       "0               E588            LIMANA                         NORMALE   \n",
       "1               G113          ORISTANO                         NORMALE   \n",
       "2               D038        CORREZZANA                         NORMALE   \n",
       "\n",
       "  DESCRIZIONETIPOLOGIAGRADOISTRUZIONESCUOLA INDICAZIONESEDEDIRETTIVO  \\\n",
       "0                        SCUOLA PRIMO GRADO                       NO   \n",
       "1                        SCUOLA PRIMO GRADO                       NO   \n",
       "2                           SCUOLA PRIMARIA                       NO   \n",
       "\n",
       "  INDICAZIONESEDEOMNICOMPRENSIVO      INDIRIZZOEMAILSCUOLA INDIRIZZOPECSCUOLA  \\\n",
       "0                Non Disponibile  BLIC816001@istruzione.it    Non Disponibile   \n",
       "1                Non Disponibile  ORIC82700L@istruzione.it    Non Disponibile   \n",
       "2                Non Disponibile  MIIC8BS00B@istruzione.it    Non Disponibile   \n",
       "\n",
       "                                SITOWEBSCUOLA SEDESCOLASTICA  \n",
       "0                http//www.ictrichiana.gov.it             SI  \n",
       "1  http//istitutocomprensivo4oristano.gov.it/             SI  \n",
       "2         www.istitutocomprensivolesmo.gov.it             SI  "
      ]
     },
     "execution_count": 4,
     "metadata": {},
     "output_type": "execute_result"
    }
   ],
   "source": [
    "scuole.head(3)"
   ]
  },
  {
   "cell_type": "markdown",
   "metadata": {},
   "source": [
    "e come è strutturata la tabella (la sua forma)"
   ]
  },
  {
   "cell_type": "code",
   "execution_count": 5,
   "metadata": {},
   "outputs": [
    {
     "data": {
      "text/plain": [
       "(51216, 20)"
      ]
     },
     "execution_count": 5,
     "metadata": {},
     "output_type": "execute_result"
    }
   ],
   "source": [
    "scuole.shape"
   ]
  },
  {
   "cell_type": "markdown",
   "metadata": {},
   "source": [
    "**51216** => primo valore rappresenta il numero di righe\n",
    "\n",
    "**20** => il secondo valore rappresenta il numero di colonne"
   ]
  },
  {
   "cell_type": "markdown",
   "metadata": {},
   "source": [
    "che possiamo conoscere così"
   ]
  },
  {
   "cell_type": "code",
   "execution_count": 6,
   "metadata": {
    "scrolled": true
   },
   "outputs": [
    {
     "data": {
      "text/plain": [
       "Index(['ANNOSCOLASTICO', 'AREAGEOGRAFICA', 'REGIONE', 'PROVINCIA',\n",
       "       'CODICEISTITUTORIFERIMENTO', 'DENOMINAZIONEISTITUTORIFERIMENTO',\n",
       "       'CODICESCUOLA', 'DENOMINAZIONESCUOLA', 'INDIRIZZOSCUOLA', 'CAPSCUOLA',\n",
       "       'CODICECOMUNESCUOLA', 'DESCRIZIONECOMUNE',\n",
       "       'DESCRIZIONECARATTERISTICASCUOLA',\n",
       "       'DESCRIZIONETIPOLOGIAGRADOISTRUZIONESCUOLA', 'INDICAZIONESEDEDIRETTIVO',\n",
       "       'INDICAZIONESEDEOMNICOMPRENSIVO', 'INDIRIZZOEMAILSCUOLA',\n",
       "       'INDIRIZZOPECSCUOLA', 'SITOWEBSCUOLA', 'SEDESCOLASTICA'],\n",
       "      dtype='object')"
      ]
     },
     "execution_count": 6,
     "metadata": {},
     "output_type": "execute_result"
    }
   ],
   "source": [
    " scuole.columns"
   ]
  },
  {
   "cell_type": "markdown",
   "metadata": {},
   "source": [
    "l'elenco mostra le colonne seguendo l'ordine di come la tabella è strutturata.\n",
    "\n",
    "*nota*: nel linguaggio del panda in realtà abbiamo creato un DataFrame e non una tabella"
   ]
  },
  {
   "cell_type": "markdown",
   "metadata": {},
   "source": [
    "possiamo contarle usando questa funzione"
   ]
  },
  {
   "cell_type": "code",
   "execution_count": 7,
   "metadata": {},
   "outputs": [
    {
     "data": {
      "text/plain": [
       "20"
      ]
     },
     "execution_count": 7,
     "metadata": {},
     "output_type": "execute_result"
    }
   ],
   "source": [
    "scuole.columns.size"
   ]
  },
  {
   "cell_type": "markdown",
   "metadata": {},
   "source": [
    "Per conoscere qualche dettaglio su una colonna si può chiedere la descrizione.\n",
    "\n",
    "Es. per la colonna \"**REGIONE**\""
   ]
  },
  {
   "cell_type": "code",
   "execution_count": 8,
   "metadata": {
    "scrolled": true
   },
   "outputs": [
    {
     "data": {
      "text/plain": [
       "count         51216\n",
       "unique           18\n",
       "top       LOMBARDIA\n",
       "freq           6494\n",
       "Name: REGIONE, dtype: object"
      ]
     },
     "execution_count": 8,
     "metadata": {},
     "output_type": "execute_result"
    }
   ],
   "source": [
    "scuole.REGIONE.describe()"
   ]
  },
  {
   "cell_type": "markdown",
   "metadata": {},
   "source": [
    "count => numero di righe **51216** \n",
    "\n",
    "unique => i valori univoci **18**\n",
    "\n",
    "top => il valore più ricorrente **LOMBARDIA**\n",
    "\n",
    "freq => quante volte si ripete quel valore nella tabella **6494**\n",
    "\n",
    "*ATTENZIONE*: le regioni italiane sono *20* e non *18*!\n",
    "\n",
    "Mancano le Province Autonome (Aosta, Trento e Bolzano)"
   ]
  },
  {
   "cell_type": "markdown",
   "metadata": {},
   "source": [
    "---\n",
    "andiamo ad aggiungere le scuole delle province autonome che si trovano a questo indirizzo\n",
    "\n",
    "http://dati.istruzione.it/opendata/opendata/catalogo/elements1/SCUANAAUTSTAT20171820170901.csv\n"
   ]
  },
  {
   "cell_type": "code",
   "execution_count": 9,
   "metadata": {},
   "outputs": [],
   "source": [
    "url='http://dati.istruzione.it/opendata/opendata/catalogo/elements1/SCUANAAUTSTAT20171820170901.csv'\n",
    "datiremoti=requests.get(url).content\n",
    "scuole_province_autonome=panda.read_csv(io.StringIO(datiremoti.decode('utf-8')))"
   ]
  },
  {
   "cell_type": "markdown",
   "metadata": {},
   "source": [
    "questa sequenza di comandi è molto simile a quella scritta precedentemente\n",
    "\n",
    "Mi conviene generalizzarla in una <a name=\"#funzionepythone\">funzione Python</a> che useremo più avanti"
   ]
  },
  {
   "cell_type": "code",
   "execution_count": 10,
   "metadata": {},
   "outputs": [],
   "source": [
    "#nota: attenzione alla tabulazione!\n",
    "\n",
    "def tabellaMIUR(url): #sintassi per creare una funzione a cui passo un indirizzo\n",
    "    #comando per scaricare il file .csv\n",
    "    datiremoti = requests.get(url).content\n",
    "    #comando per generare la tabella pandas\n",
    "    tabella = panda.read_csv(io.StringIO(datiremoti.decode('utf-8')))\n",
    "    #restituisco la tabella\n",
    "    return tabella"
   ]
  },
  {
   "cell_type": "markdown",
   "metadata": {},
   "source": [
    "... una sbirciatina"
   ]
  },
  {
   "cell_type": "code",
   "execution_count": 11,
   "metadata": {},
   "outputs": [
    {
     "data": {
      "text/html": [
       "<div>\n",
       "<style scoped>\n",
       "    .dataframe tbody tr th:only-of-type {\n",
       "        vertical-align: middle;\n",
       "    }\n",
       "\n",
       "    .dataframe tbody tr th {\n",
       "        vertical-align: top;\n",
       "    }\n",
       "\n",
       "    .dataframe thead th {\n",
       "        text-align: right;\n",
       "    }\n",
       "</style>\n",
       "<table border=\"1\" class=\"dataframe\">\n",
       "  <thead>\n",
       "    <tr style=\"text-align: right;\">\n",
       "      <th></th>\n",
       "      <th>ANNOSCOLASTICO</th>\n",
       "      <th>AREAGEOGRAFICA</th>\n",
       "      <th>REGIONE</th>\n",
       "      <th>PROVINCIA</th>\n",
       "      <th>CODICEISTITUTORIFERIMENTO</th>\n",
       "      <th>DENOMINAZIONEISTITUTORIFERIMENTO</th>\n",
       "      <th>CODICESCUOLA</th>\n",
       "      <th>DENOMINAZIONESCUOLA</th>\n",
       "      <th>INDIRIZZOSCUOLA</th>\n",
       "      <th>CAPSCUOLA</th>\n",
       "      <th>CODICECOMUNESCUOLA</th>\n",
       "      <th>DESCRIZIONECOMUNE</th>\n",
       "      <th>DESCRIZIONECARATTERISTICASCUOLA</th>\n",
       "      <th>DESCRIZIONETIPOLOGIAGRADOISTRUZIONESCUOLA</th>\n",
       "      <th>INDICAZIONESEDEDIRETTIVO</th>\n",
       "      <th>INDICAZIONESEDEOMNICOMPRENSIVO</th>\n",
       "      <th>INDIRIZZOEMAILSCUOLA</th>\n",
       "      <th>INDIRIZZOPECSCUOLA</th>\n",
       "      <th>SITOWEBSCUOLA</th>\n",
       "    </tr>\n",
       "  </thead>\n",
       "  <tbody>\n",
       "    <tr>\n",
       "      <th>0</th>\n",
       "      <td>201718</td>\n",
       "      <td>NORD EST</td>\n",
       "      <td>TRENTINO-ALTO ADIGE</td>\n",
       "      <td>BOLZANO</td>\n",
       "      <td>TBIC80900D</td>\n",
       "      <td>SAN CANDIDO - INNICHEN</td>\n",
       "      <td>TBEE80904P</td>\n",
       "      <td>SESTO/SEXTEN</td>\n",
       "      <td>Non Disponibile</td>\n",
       "      <td>39030</td>\n",
       "      <td>I687</td>\n",
       "      <td>SESTO * SEXTEN</td>\n",
       "      <td>NORMALE</td>\n",
       "      <td>SCUOLA PRIMARIA</td>\n",
       "      <td>NO</td>\n",
       "      <td>Non Disponibile</td>\n",
       "      <td>Non Disponibile</td>\n",
       "      <td>Non Disponibile</td>\n",
       "      <td>Non Disponibile</td>\n",
       "    </tr>\n",
       "    <tr>\n",
       "      <th>1</th>\n",
       "      <td>201718</td>\n",
       "      <td>NORD EST</td>\n",
       "      <td>TRENTINO-ALTO ADIGE</td>\n",
       "      <td>TRENTO</td>\n",
       "      <td>TNIC812001</td>\n",
       "      <td>\"BORGO VALSUGANA\"</td>\n",
       "      <td>TNIC812001</td>\n",
       "      <td>\"BORGO VALSUGANA\"</td>\n",
       "      <td>VIA A.SPAGOLLA, 1</td>\n",
       "      <td>38051</td>\n",
       "      <td>B006</td>\n",
       "      <td>BORGO VALSUGANA</td>\n",
       "      <td>NORMALE</td>\n",
       "      <td>ISTITUTO COMPRENSIVO</td>\n",
       "      <td>SI</td>\n",
       "      <td>Non Disponibile</td>\n",
       "      <td>Non Disponibile</td>\n",
       "      <td>ic.borgovalsugana@pec.provincia.tn.it</td>\n",
       "      <td>Non Disponibile</td>\n",
       "    </tr>\n",
       "    <tr>\n",
       "      <th>2</th>\n",
       "      <td>201718</td>\n",
       "      <td>NORD EST</td>\n",
       "      <td>TRENTINO-ALTO ADIGE</td>\n",
       "      <td>BOLZANO</td>\n",
       "      <td>TBIC82200X</td>\n",
       "      <td>ULTIMO - ULTEN</td>\n",
       "      <td>TBEE822012</td>\n",
       "      <td>SANTA VALPURGA/ST.WALBURG</td>\n",
       "      <td>Non Disponibile</td>\n",
       "      <td>39010</td>\n",
       "      <td>L490</td>\n",
       "      <td>ULTIMO * ULTEN</td>\n",
       "      <td>NORMALE</td>\n",
       "      <td>SCUOLA PRIMARIA</td>\n",
       "      <td>NO</td>\n",
       "      <td>Non Disponibile</td>\n",
       "      <td>Non Disponibile</td>\n",
       "      <td>Non Disponibile</td>\n",
       "      <td>Non Disponibile</td>\n",
       "    </tr>\n",
       "  </tbody>\n",
       "</table>\n",
       "</div>"
      ],
      "text/plain": [
       "   ANNOSCOLASTICO AREAGEOGRAFICA              REGIONE PROVINCIA  \\\n",
       "0          201718       NORD EST  TRENTINO-ALTO ADIGE   BOLZANO   \n",
       "1          201718       NORD EST  TRENTINO-ALTO ADIGE    TRENTO   \n",
       "2          201718       NORD EST  TRENTINO-ALTO ADIGE   BOLZANO   \n",
       "\n",
       "  CODICEISTITUTORIFERIMENTO DENOMINAZIONEISTITUTORIFERIMENTO CODICESCUOLA  \\\n",
       "0                TBIC80900D           SAN CANDIDO - INNICHEN   TBEE80904P   \n",
       "1                TNIC812001                \"BORGO VALSUGANA\"   TNIC812001   \n",
       "2                TBIC82200X                   ULTIMO - ULTEN   TBEE822012   \n",
       "\n",
       "         DENOMINAZIONESCUOLA    INDIRIZZOSCUOLA CAPSCUOLA CODICECOMUNESCUOLA  \\\n",
       "0               SESTO/SEXTEN    Non Disponibile     39030               I687   \n",
       "1          \"BORGO VALSUGANA\"  VIA A.SPAGOLLA, 1     38051               B006   \n",
       "2  SANTA VALPURGA/ST.WALBURG    Non Disponibile     39010               L490   \n",
       "\n",
       "  DESCRIZIONECOMUNE DESCRIZIONECARATTERISTICASCUOLA  \\\n",
       "0    SESTO * SEXTEN                         NORMALE   \n",
       "1   BORGO VALSUGANA                         NORMALE   \n",
       "2    ULTIMO * ULTEN                         NORMALE   \n",
       "\n",
       "  DESCRIZIONETIPOLOGIAGRADOISTRUZIONESCUOLA INDICAZIONESEDEDIRETTIVO  \\\n",
       "0                           SCUOLA PRIMARIA                       NO   \n",
       "1                      ISTITUTO COMPRENSIVO                       SI   \n",
       "2                           SCUOLA PRIMARIA                       NO   \n",
       "\n",
       "  INDICAZIONESEDEOMNICOMPRENSIVO INDIRIZZOEMAILSCUOLA  \\\n",
       "0                Non Disponibile      Non Disponibile   \n",
       "1                Non Disponibile      Non Disponibile   \n",
       "2                Non Disponibile      Non Disponibile   \n",
       "\n",
       "                      INDIRIZZOPECSCUOLA    SITOWEBSCUOLA  \n",
       "0                        Non Disponibile  Non Disponibile  \n",
       "1  ic.borgovalsugana@pec.provincia.tn.it  Non Disponibile  \n",
       "2                        Non Disponibile  Non Disponibile  "
      ]
     },
     "execution_count": 11,
     "metadata": {},
     "output_type": "execute_result"
    }
   ],
   "source": [
    "scuole_province_autonome.head(3)"
   ]
  },
  {
   "cell_type": "markdown",
   "metadata": {},
   "source": [
    "dimensioni"
   ]
  },
  {
   "cell_type": "code",
   "execution_count": 12,
   "metadata": {},
   "outputs": [
    {
     "data": {
      "text/plain": [
       "(1212, 19)"
      ]
     },
     "execution_count": 12,
     "metadata": {},
     "output_type": "execute_result"
    }
   ],
   "source": [
    "scuole_province_autonome.shape"
   ]
  },
  {
   "cell_type": "markdown",
   "metadata": {},
   "source": [
    "Accidenti!\n",
    "\n",
    "**C'è una colonna in meno!**"
   ]
  },
  {
   "cell_type": "code",
   "execution_count": 13,
   "metadata": {},
   "outputs": [
    {
     "data": {
      "text/plain": [
       "20"
      ]
     },
     "execution_count": 13,
     "metadata": {},
     "output_type": "execute_result"
    }
   ],
   "source": [
    "scuole.columns.size"
   ]
  },
  {
   "cell_type": "code",
   "execution_count": 14,
   "metadata": {},
   "outputs": [
    {
     "data": {
      "text/plain": [
       "19"
      ]
     },
     "execution_count": 14,
     "metadata": {},
     "output_type": "execute_result"
    }
   ],
   "source": [
    "scuole_province_autonome.columns.size"
   ]
  },
  {
   "cell_type": "markdown",
   "metadata": {},
   "source": [
    "verifica"
   ]
  },
  {
   "cell_type": "code",
   "execution_count": 15,
   "metadata": {},
   "outputs": [
    {
     "data": {
      "text/plain": [
       "1"
      ]
     },
     "execution_count": 15,
     "metadata": {},
     "output_type": "execute_result"
    }
   ],
   "source": [
    "scuole.columns.size - scuole_province_autonome.columns.size"
   ]
  },
  {
   "cell_type": "markdown",
   "metadata": {},
   "source": [
    "e ancora verifica"
   ]
  },
  {
   "cell_type": "code",
   "execution_count": 16,
   "metadata": {},
   "outputs": [
    {
     "data": {
      "text/plain": [
       "False"
      ]
     },
     "execution_count": 16,
     "metadata": {},
     "output_type": "execute_result"
    }
   ],
   "source": [
    "scuole.columns.equals(scuole_province_autonome.columns)"
   ]
  },
  {
   "cell_type": "markdown",
   "metadata": {},
   "source": [
    "In cosa cambiano?"
   ]
  },
  {
   "cell_type": "code",
   "execution_count": 17,
   "metadata": {},
   "outputs": [
    {
     "data": {
      "text/plain": [
       "Index(['SEDESCOLASTICA'], dtype='object')"
      ]
     },
     "execution_count": 17,
     "metadata": {},
     "output_type": "execute_result"
    }
   ],
   "source": [
    "scuole.columns.difference(scuole_province_autonome.columns)"
   ]
  },
  {
   "cell_type": "markdown",
   "metadata": {},
   "source": [
    "vediamo la descrizione di **SEDESCOLASTICA**"
   ]
  },
  {
   "cell_type": "code",
   "execution_count": 18,
   "metadata": {},
   "outputs": [
    {
     "data": {
      "text/plain": [
       "count     51216\n",
       "unique        2\n",
       "top          SI\n",
       "freq      41050\n",
       "Name: SEDESCOLASTICA, dtype: object"
      ]
     },
     "execution_count": 18,
     "metadata": {},
     "output_type": "execute_result"
    }
   ],
   "source": [
    "scuole.SEDESCOLASTICA.describe()"
   ]
  },
  {
   "cell_type": "markdown",
   "metadata": {},
   "source": [
    "Contiene solo due valori univoci (*unique*)\n",
    "\n",
    "Quali sono?"
   ]
  },
  {
   "cell_type": "code",
   "execution_count": 19,
   "metadata": {},
   "outputs": [
    {
     "data": {
      "text/plain": [
       "array(['SI', 'NO'], dtype=object)"
      ]
     },
     "execution_count": 19,
     "metadata": {},
     "output_type": "execute_result"
    }
   ],
   "source": [
    "scuole.SEDESCOLASTICA.unique()"
   ]
  },
  {
   "cell_type": "markdown",
   "metadata": {},
   "source": [
    ".. è molto probabile che la tabella delle scuole delle province autonome da per scontato il valore di SEDESCOLASTICA\n",
    "\n",
    "Proviamo ad unire la tabella creandone una nuova."
   ]
  },
  {
   "cell_type": "code",
   "execution_count": 20,
   "metadata": {
    "slideshow": {
     "slide_type": "fragment"
    }
   },
   "outputs": [
    {
     "data": {
      "text/html": [
       "<div>\n",
       "<style scoped>\n",
       "    .dataframe tbody tr th:only-of-type {\n",
       "        vertical-align: middle;\n",
       "    }\n",
       "\n",
       "    .dataframe tbody tr th {\n",
       "        vertical-align: top;\n",
       "    }\n",
       "\n",
       "    .dataframe thead th {\n",
       "        text-align: right;\n",
       "    }\n",
       "</style>\n",
       "<table border=\"1\" class=\"dataframe\">\n",
       "  <thead>\n",
       "    <tr style=\"text-align: right;\">\n",
       "      <th></th>\n",
       "      <th>ANNOSCOLASTICO</th>\n",
       "      <th>AREAGEOGRAFICA</th>\n",
       "      <th>CAPSCUOLA</th>\n",
       "      <th>CODICECOMUNESCUOLA</th>\n",
       "      <th>CODICEISTITUTORIFERIMENTO</th>\n",
       "      <th>CODICESCUOLA</th>\n",
       "      <th>DENOMINAZIONEISTITUTORIFERIMENTO</th>\n",
       "      <th>DENOMINAZIONESCUOLA</th>\n",
       "      <th>DESCRIZIONECARATTERISTICASCUOLA</th>\n",
       "      <th>DESCRIZIONECOMUNE</th>\n",
       "      <th>DESCRIZIONETIPOLOGIAGRADOISTRUZIONESCUOLA</th>\n",
       "      <th>INDICAZIONESEDEDIRETTIVO</th>\n",
       "      <th>INDICAZIONESEDEOMNICOMPRENSIVO</th>\n",
       "      <th>INDIRIZZOEMAILSCUOLA</th>\n",
       "      <th>INDIRIZZOPECSCUOLA</th>\n",
       "      <th>INDIRIZZOSCUOLA</th>\n",
       "      <th>PROVINCIA</th>\n",
       "      <th>REGIONE</th>\n",
       "      <th>SEDESCOLASTICA</th>\n",
       "      <th>SITOWEBSCUOLA</th>\n",
       "    </tr>\n",
       "  </thead>\n",
       "  <tbody>\n",
       "    <tr>\n",
       "      <th>0</th>\n",
       "      <td>201718</td>\n",
       "      <td>NORD EST</td>\n",
       "      <td>32020</td>\n",
       "      <td>E588</td>\n",
       "      <td>BLIC816001</td>\n",
       "      <td>BLMM816023</td>\n",
       "      <td>IC TRICHIANA</td>\n",
       "      <td>\"D. BUZZATI\" LIMANA</td>\n",
       "      <td>NORMALE</td>\n",
       "      <td>LIMANA</td>\n",
       "      <td>SCUOLA PRIMO GRADO</td>\n",
       "      <td>NO</td>\n",
       "      <td>Non Disponibile</td>\n",
       "      <td>BLIC816001@istruzione.it</td>\n",
       "      <td>Non Disponibile</td>\n",
       "      <td>VIA TOFANE 1</td>\n",
       "      <td>BELLUNO</td>\n",
       "      <td>VENETO</td>\n",
       "      <td>SI</td>\n",
       "      <td>http//www.ictrichiana.gov.it</td>\n",
       "    </tr>\n",
       "    <tr>\n",
       "      <th>1</th>\n",
       "      <td>201718</td>\n",
       "      <td>ISOLE</td>\n",
       "      <td>09170</td>\n",
       "      <td>G113</td>\n",
       "      <td>ORIC82700L</td>\n",
       "      <td>ORMM82701N</td>\n",
       "      <td>I.C. ORISTANO N. 4</td>\n",
       "      <td>S.M. \"ALAGON\"</td>\n",
       "      <td>NORMALE</td>\n",
       "      <td>ORISTANO</td>\n",
       "      <td>SCUOLA PRIMO GRADO</td>\n",
       "      <td>NO</td>\n",
       "      <td>Non Disponibile</td>\n",
       "      <td>ORIC82700L@istruzione.it</td>\n",
       "      <td>Non Disponibile</td>\n",
       "      <td>VIALE ARMANDO DIAZ 83</td>\n",
       "      <td>ORISTANO</td>\n",
       "      <td>SARDEGNA</td>\n",
       "      <td>SI</td>\n",
       "      <td>http//istitutocomprensivo4oristano.gov.it/</td>\n",
       "    </tr>\n",
       "    <tr>\n",
       "      <th>2</th>\n",
       "      <td>201718</td>\n",
       "      <td>NORD OVEST</td>\n",
       "      <td>20050</td>\n",
       "      <td>D038</td>\n",
       "      <td>MIIC8BS00B</td>\n",
       "      <td>MIEE8BS01D</td>\n",
       "      <td>ISTITUTO COMPRENSIVO LESMO</td>\n",
       "      <td>SCUOLA ELEMENTARE \"D.ALIGHIERI\"</td>\n",
       "      <td>NORMALE</td>\n",
       "      <td>CORREZZANA</td>\n",
       "      <td>SCUOLA PRIMARIA</td>\n",
       "      <td>NO</td>\n",
       "      <td>Non Disponibile</td>\n",
       "      <td>MIIC8BS00B@istruzione.it</td>\n",
       "      <td>Non Disponibile</td>\n",
       "      <td>VIA DE GASPERI18</td>\n",
       "      <td>MONZA-BRIANZA</td>\n",
       "      <td>LOMBARDIA</td>\n",
       "      <td>SI</td>\n",
       "      <td>www.istitutocomprensivolesmo.gov.it</td>\n",
       "    </tr>\n",
       "  </tbody>\n",
       "</table>\n",
       "</div>"
      ],
      "text/plain": [
       "   ANNOSCOLASTICO AREAGEOGRAFICA CAPSCUOLA CODICECOMUNESCUOLA  \\\n",
       "0          201718       NORD EST     32020               E588   \n",
       "1          201718          ISOLE     09170               G113   \n",
       "2          201718     NORD OVEST     20050               D038   \n",
       "\n",
       "  CODICEISTITUTORIFERIMENTO CODICESCUOLA DENOMINAZIONEISTITUTORIFERIMENTO  \\\n",
       "0                BLIC816001   BLMM816023                     IC TRICHIANA   \n",
       "1                ORIC82700L   ORMM82701N               I.C. ORISTANO N. 4   \n",
       "2                MIIC8BS00B   MIEE8BS01D       ISTITUTO COMPRENSIVO LESMO   \n",
       "\n",
       "               DENOMINAZIONESCUOLA DESCRIZIONECARATTERISTICASCUOLA  \\\n",
       "0              \"D. BUZZATI\" LIMANA                         NORMALE   \n",
       "1                    S.M. \"ALAGON\"                         NORMALE   \n",
       "2  SCUOLA ELEMENTARE \"D.ALIGHIERI\"                         NORMALE   \n",
       "\n",
       "  DESCRIZIONECOMUNE DESCRIZIONETIPOLOGIAGRADOISTRUZIONESCUOLA  \\\n",
       "0            LIMANA                        SCUOLA PRIMO GRADO   \n",
       "1          ORISTANO                        SCUOLA PRIMO GRADO   \n",
       "2        CORREZZANA                           SCUOLA PRIMARIA   \n",
       "\n",
       "  INDICAZIONESEDEDIRETTIVO INDICAZIONESEDEOMNICOMPRENSIVO  \\\n",
       "0                       NO                Non Disponibile   \n",
       "1                       NO                Non Disponibile   \n",
       "2                       NO                Non Disponibile   \n",
       "\n",
       "       INDIRIZZOEMAILSCUOLA INDIRIZZOPECSCUOLA        INDIRIZZOSCUOLA  \\\n",
       "0  BLIC816001@istruzione.it    Non Disponibile           VIA TOFANE 1   \n",
       "1  ORIC82700L@istruzione.it    Non Disponibile  VIALE ARMANDO DIAZ 83   \n",
       "2  MIIC8BS00B@istruzione.it    Non Disponibile       VIA DE GASPERI18   \n",
       "\n",
       "       PROVINCIA    REGIONE SEDESCOLASTICA  \\\n",
       "0        BELLUNO     VENETO             SI   \n",
       "1       ORISTANO   SARDEGNA             SI   \n",
       "2  MONZA-BRIANZA  LOMBARDIA             SI   \n",
       "\n",
       "                                SITOWEBSCUOLA  \n",
       "0                http//www.ictrichiana.gov.it  \n",
       "1  http//istitutocomprensivo4oristano.gov.it/  \n",
       "2         www.istitutocomprensivolesmo.gov.it  "
      ]
     },
     "execution_count": 20,
     "metadata": {},
     "output_type": "execute_result"
    }
   ],
   "source": [
    "scuole_italiane = panda.concat([scuole,scuole_province_autonome])\n",
    "scuole_italiane.head(3)"
   ]
  },
  {
   "cell_type": "code",
   "execution_count": 21,
   "metadata": {},
   "outputs": [
    {
     "data": {
      "text/plain": [
       "(52428, 20)"
      ]
     },
     "execution_count": 21,
     "metadata": {},
     "output_type": "execute_result"
    }
   ],
   "source": [
    "scuole_italiane.shape"
   ]
  },
  {
   "cell_type": "code",
   "execution_count": 22,
   "metadata": {},
   "outputs": [
    {
     "data": {
      "text/plain": [
       "count         52428\n",
       "unique           20\n",
       "top       LOMBARDIA\n",
       "freq           6494\n",
       "Name: REGIONE, dtype: object"
      ]
     },
     "execution_count": 22,
     "metadata": {},
     "output_type": "execute_result"
    }
   ],
   "source": [
    "scuole_italiane.REGIONE.describe()"
   ]
  },
  {
   "cell_type": "markdown",
   "metadata": {},
   "source": [
    "Vediamo come sono distribuite le scuole per ogni regione italiana"
   ]
  },
  {
   "cell_type": "code",
   "execution_count": 23,
   "metadata": {},
   "outputs": [],
   "source": [
    "scuolexregione = scuole_italiane.groupby(scuole_italiane.REGIONE).size()"
   ]
  },
  {
   "cell_type": "code",
   "execution_count": 24,
   "metadata": {},
   "outputs": [
    {
     "data": {
      "text/plain": [
       "REGIONE\n",
       "ABRUZZO                1455\n",
       "BASILICATA              823\n",
       "CALABRIA               2945\n",
       "CAMPANIA               5664\n",
       "EMILIA ROMAGNA         3026\n",
       "FRIULI-VENEZIA G.      1146\n",
       "LAZIO                  4028\n",
       "LIGURIA                1255\n",
       "LOMBARDIA              6494\n",
       "MARCHE                 1585\n",
       "MOLISE                  482\n",
       "PIEMONTE               3902\n",
       "PUGLIA                 3433\n",
       "SARDEGNA               1891\n",
       "SICILIA                5268\n",
       "TOSCANA                3233\n",
       "TRENTINO-ALTO ADIGE     987\n",
       "UMBRIA                 1005\n",
       "VALLE D' AOSTA          225\n",
       "VENETO                 3581\n",
       "dtype: int64"
      ]
     },
     "execution_count": 24,
     "metadata": {},
     "output_type": "execute_result"
    }
   ],
   "source": [
    "scuolexregione"
   ]
  },
  {
   "cell_type": "markdown",
   "metadata": {},
   "source": [
    "e con un grafico"
   ]
  },
  {
   "cell_type": "code",
   "execution_count": 25,
   "metadata": {},
   "outputs": [
    {
     "data": {
      "text/plain": [
       "<matplotlib.axes._subplots.AxesSubplot at 0x7f2f999a87b8>"
      ]
     },
     "execution_count": 25,
     "metadata": {},
     "output_type": "execute_result"
    }
   ],
   "source": [
    "scuolexregione.plot.bar(title=\"numero di scuole per regione\",figsize=(15,10))"
   ]
  },
  {
   "cell_type": "markdown",
   "metadata": {},
   "source": [
    "---\n",
    "Tutto questo vale per le scuole statali.\n",
    "Aggiungiamo anche quelle paritarie\n",
    "\n",
    "Questo è l'indirizzo \n",
    "\n",
    "http://dati.istruzione.it/opendata/opendata/catalogo/elements1/SCUANAGRAFEPAR20171820170901.csv\n",
    "\n",
    "Questa volta però uso la funzione definita prima: tabellaMIUR(url)\n",
    "\n"
   ]
  },
  {
   "cell_type": "code",
   "execution_count": 26,
   "metadata": {},
   "outputs": [],
   "source": [
    "url = 'http://dati.istruzione.it/opendata/opendata/catalogo/elements1/SCUANAGRAFEPAR20171820170901.csv'\n",
    "scuole_paritarie=tabellaMIUR(url)"
   ]
  },
  {
   "cell_type": "code",
   "execution_count": 27,
   "metadata": {},
   "outputs": [
    {
     "data": {
      "text/plain": [
       "(12935, 14)"
      ]
     },
     "execution_count": 27,
     "metadata": {},
     "output_type": "execute_result"
    }
   ],
   "source": [
    "scuole_paritarie.shape"
   ]
  },
  {
   "cell_type": "code",
   "execution_count": 28,
   "metadata": {},
   "outputs": [
    {
     "data": {
      "text/plain": [
       "Index(['ANNOSCOLASTICO', 'AREAGEOGRAFICA', 'REGIONE', 'PROVINCIA',\n",
       "       'CODICESCUOLA', 'DENOMINAZIONESCUOLA', 'INDIRIZZOSCUOLA', 'CAPSCUOLA',\n",
       "       'CODICECOMUNESCUOLA', 'DESCRIZIONECOMUNE',\n",
       "       'DESCRIZIONETIPOLOGIAGRADOISTRUZIONESCUOLA', 'INDIRIZZOEMAILSCUOLA',\n",
       "       'INDIRIZZOPECSCUOLA', 'SITOWEBSCUOLA'],\n",
       "      dtype='object')"
      ]
     },
     "execution_count": 28,
     "metadata": {},
     "output_type": "execute_result"
    }
   ],
   "source": [
    "scuole_paritarie.columns"
   ]
  },
  {
   "cell_type": "code",
   "execution_count": 29,
   "metadata": {},
   "outputs": [
    {
     "data": {
      "text/plain": [
       "Index(['CODICEISTITUTORIFERIMENTO', 'DENOMINAZIONEISTITUTORIFERIMENTO',\n",
       "       'DESCRIZIONECARATTERISTICASCUOLA', 'INDICAZIONESEDEDIRETTIVO',\n",
       "       'INDICAZIONESEDEOMNICOMPRENSIVO', 'SEDESCOLASTICA'],\n",
       "      dtype='object')"
      ]
     },
     "execution_count": 29,
     "metadata": {},
     "output_type": "execute_result"
    }
   ],
   "source": [
    "scuole_italiane.columns.difference(scuole_paritarie.columns)"
   ]
  },
  {
   "cell_type": "markdown",
   "metadata": {},
   "source": [
    "... si tratta di attributi non necessari per le scuole paritarie perchè non strutturate dentro delle gerarchie"
   ]
  },
  {
   "cell_type": "code",
   "execution_count": 30,
   "metadata": {},
   "outputs": [
    {
     "data": {
      "text/plain": [
       "count         12935\n",
       "unique           18\n",
       "top       LOMBARDIA\n",
       "freq           2551\n",
       "Name: REGIONE, dtype: object"
      ]
     },
     "execution_count": 30,
     "metadata": {},
     "output_type": "execute_result"
    }
   ],
   "source": [
    "scuole_paritarie.REGIONE.describe()"
   ]
  },
  {
   "cell_type": "markdown",
   "metadata": {},
   "source": [
    "... devo prendere anche quelle delle province autonome\n",
    "\n",
    "http://dati.istruzione.it/opendata/opendata/catalogo/elements1/SCUANAAUTPAR20171820170901.csv\n"
   ]
  },
  {
   "cell_type": "code",
   "execution_count": 31,
   "metadata": {},
   "outputs": [],
   "source": [
    "url='http://dati.istruzione.it/opendata/opendata/catalogo/elements1/SCUANAAUTPAR20171820170901.csv'\n",
    "scuole_paritarie_province_autonome = tabellaMIUR(url)"
   ]
  },
  {
   "cell_type": "code",
   "execution_count": 32,
   "metadata": {},
   "outputs": [
    {
     "data": {
      "text/plain": [
       "(75, 14)"
      ]
     },
     "execution_count": 32,
     "metadata": {},
     "output_type": "execute_result"
    }
   ],
   "source": [
    "scuole_paritarie_province_autonome.shape"
   ]
  },
  {
   "cell_type": "code",
   "execution_count": 33,
   "metadata": {},
   "outputs": [
    {
     "data": {
      "text/plain": [
       "count                      75\n",
       "unique                      2\n",
       "top       TRENTINO-ALTO ADIGE\n",
       "freq                       54\n",
       "Name: REGIONE, dtype: object"
      ]
     },
     "execution_count": 33,
     "metadata": {},
     "output_type": "execute_result"
    }
   ],
   "source": [
    "scuole_paritarie_province_autonome.REGIONE.describe()"
   ]
  },
  {
   "cell_type": "code",
   "execution_count": 34,
   "metadata": {},
   "outputs": [
    {
     "data": {
      "text/plain": [
       "Index(['ANNOSCOLASTICO', 'AREAGEOGRAFICA', 'REGIONE', 'PROVINCIA',\n",
       "       'CODICESCUOLA', 'DENOMINAZIONESCUOLA', 'INDIRIZZOSCUOLA', 'CAPSCUOLA',\n",
       "       'CODICECOMUNESCUOLA', 'DESCRIZIONECOMUNE',\n",
       "       'DESCRIZIONETIPOLOGIAGRADOISTRUZIONESCUOLA', 'INDIRIZZOEMAILSCUOLA',\n",
       "       'INDIRIZZOPECSCUOLA', 'SITOWEBSCUOLA'],\n",
       "      dtype='object')"
      ]
     },
     "execution_count": 34,
     "metadata": {},
     "output_type": "execute_result"
    }
   ],
   "source": [
    "scuole_paritarie_province_autonome.columns"
   ]
  },
  {
   "cell_type": "code",
   "execution_count": 35,
   "metadata": {},
   "outputs": [],
   "source": [
    "scuole_italiane = panda.concat([scuole_italiane,scuole_paritarie_province_autonome,scuole_paritarie])"
   ]
  },
  {
   "cell_type": "code",
   "execution_count": 36,
   "metadata": {},
   "outputs": [
    {
     "data": {
      "text/plain": [
       "65438"
      ]
     },
     "execution_count": 36,
     "metadata": {},
     "output_type": "execute_result"
    }
   ],
   "source": [
    "scuole_italiane.CODICESCUOLA.size"
   ]
  },
  {
   "cell_type": "code",
   "execution_count": 37,
   "metadata": {},
   "outputs": [
    {
     "data": {
      "text/plain": [
       "REGIONE\n",
       "ABRUZZO                1625\n",
       "BASILICATA              875\n",
       "CALABRIA               3389\n",
       "CAMPANIA               7408\n",
       "EMILIA ROMAGNA         4007\n",
       "FRIULI-VENEZIA G.      1375\n",
       "LAZIO                  5432\n",
       "LIGURIA                1577\n",
       "LOMBARDIA              9045\n",
       "MARCHE                 1757\n",
       "MOLISE                  515\n",
       "PIEMONTE               4651\n",
       "PUGLIA                 3990\n",
       "SARDEGNA               2187\n",
       "SICILIA                6414\n",
       "TOSCANA                3816\n",
       "TRENTINO-ALTO ADIGE    1041\n",
       "UMBRIA                 1117\n",
       "VALLE D' AOSTA          246\n",
       "VENETO                 4971\n",
       "dtype: int64"
      ]
     },
     "execution_count": 37,
     "metadata": {},
     "output_type": "execute_result"
    }
   ],
   "source": [
    "scuole_italiane.groupby(scuole_italiane.REGIONE).size()"
   ]
  },
  {
   "cell_type": "code",
   "execution_count": 38,
   "metadata": {},
   "outputs": [
    {
     "data": {
      "text/plain": [
       "<matplotlib.axes._subplots.AxesSubplot at 0x7f2f97214c88>"
      ]
     },
     "execution_count": 38,
     "metadata": {},
     "output_type": "execute_result"
    },
    {
     "data": {
      "image/png": "[encoded data removed]",
      "text/plain": [
       "<Figure size 1080x720 with 1 Axes>"
      ]
     },
     "metadata": {},
     "output_type": "display_data"
    }
   ],
   "source": [
    "scuole_italiane.groupby(scuole_italiane.REGIONE).size().plot.bar(title=\"numero di scuole per regione\",figsize=(15,10))"
   ]
  },
  {
   "cell_type": "code",
   "execution_count": 39,
   "metadata": {},
   "outputs": [
    {
     "data": {
      "text/plain": [
       "<matplotlib.axes._subplots.AxesSubplot at 0x7f2f971a1780>"
      ]
     },
     "execution_count": 39,
     "metadata": {},
     "output_type": "execute_result"
    },
    {
     "data": {
      "image/png": "[encoded data removed]",
      "text/plain": [
       "<Figure size 1080x576 with 1 Axes>"
      ]
     },
     "metadata": {},
     "output_type": "display_data"
    }
   ],
   "source": [
    "scuole_italiane.groupby(scuole_italiane.REGIONE).size().plot.bar(figsize=(15,8),title=\"numero di scuole per regione\")"
   ]
  },
  {
   "cell_type": "markdown",
   "metadata": {},
   "source": [
    "# SISTEMA NAZIONALE DI VALUTAZIONE"
   ]
  },
  {
   "cell_type": "code",
   "execution_count": 40,
   "metadata": {},
   "outputs": [],
   "source": [
    "url='http://dati.istruzione.it/opendata/opendata/catalogo/elements1/VALUTAZIONE_ESITI_STA20161720170831.csv'\n",
    "valutazioni_esiti1617=tabellaMIUR(url)"
   ]
  },
  {
   "cell_type": "code",
   "execution_count": 41,
   "metadata": {},
   "outputs": [],
   "source": [
    "url='http://dati.istruzione.it/opendata/opendata/catalogo/elements1/VALUTAZIONE_PROCESSI_STA20161720170831.csv'\n",
    "valutazioni_processi1617=tabellaMIUR(url)"
   ]
  },
  {
   "cell_type": "markdown",
   "metadata": {},
   "source": [
    "## criteri di valutazione"
   ]
  },
  {
   "cell_type": "code",
   "execution_count": 42,
   "metadata": {},
   "outputs": [
    {
     "data": {
      "text/plain": [
       "(44, 6)"
      ]
     },
     "execution_count": 42,
     "metadata": {},
     "output_type": "execute_result"
    }
   ],
   "source": [
    "# criteri di valutazione\n",
    "url = 'http://dati.istruzione.it/opendata/opendata/catalogo/elements1/RUBRICA_VAL20161720170831.csv'\n",
    "criteri_valutazione1617 = tabellaMIUR(url)\n",
    "criteri_valutazione1617.shape"
   ]
  },
  {
   "cell_type": "code",
   "execution_count": 43,
   "metadata": {},
   "outputs": [
    {
     "data": {
      "text/plain": [
       "Index(['ANNOSCOLASTICO', 'SEZIONE', 'CODICECRITERIOQUALITA', 'CRITERIOQUALITA',\n",
       "       'PUNTEGGIORIFERIMENTO', 'DESCRIZIONEPUNTEGGIORIFERIMENTO'],\n",
       "      dtype='object')"
      ]
     },
     "execution_count": 43,
     "metadata": {},
     "output_type": "execute_result"
    }
   ],
   "source": [
    "criteri_valutazione1617.columns"
   ]
  },
  {
   "cell_type": "code",
   "execution_count": 44,
   "metadata": {},
   "outputs": [
    {
     "data": {
      "text/html": [
       "<div>\n",
       "<style scoped>\n",
       "    .dataframe tbody tr th:only-of-type {\n",
       "        vertical-align: middle;\n",
       "    }\n",
       "\n",
       "    .dataframe tbody tr th {\n",
       "        vertical-align: top;\n",
       "    }\n",
       "\n",
       "    .dataframe thead th {\n",
       "        text-align: right;\n",
       "    }\n",
       "</style>\n",
       "<table border=\"1\" class=\"dataframe\">\n",
       "  <thead>\n",
       "    <tr style=\"text-align: right;\">\n",
       "      <th></th>\n",
       "      <th>ANNOSCOLASTICO</th>\n",
       "      <th>SEZIONE</th>\n",
       "      <th>CODICECRITERIOQUALITA</th>\n",
       "      <th>CRITERIOQUALITA</th>\n",
       "      <th>PUNTEGGIORIFERIMENTO</th>\n",
       "      <th>DESCRIZIONEPUNTEGGIORIFERIMENTO</th>\n",
       "    </tr>\n",
       "  </thead>\n",
       "  <tbody>\n",
       "    <tr>\n",
       "      <th>17</th>\n",
       "      <td>201617</td>\n",
       "      <td>Esiti</td>\n",
       "      <td>21</td>\n",
       "      <td>Risultati scolastici</td>\n",
       "      <td>7</td>\n",
       "      <td>La quota di studenti ammessa all'anno successi...</td>\n",
       "    </tr>\n",
       "    <tr>\n",
       "      <th>1</th>\n",
       "      <td>201617</td>\n",
       "      <td>Esiti</td>\n",
       "      <td>21</td>\n",
       "      <td>Risultati scolastici</td>\n",
       "      <td>3</td>\n",
       "      <td>Gli studenti non ammessi all'anno successivo e...</td>\n",
       "    </tr>\n",
       "    <tr>\n",
       "      <th>6</th>\n",
       "      <td>201617</td>\n",
       "      <td>Esiti</td>\n",
       "      <td>21</td>\n",
       "      <td>Risultati scolastici</td>\n",
       "      <td>1</td>\n",
       "      <td>C'e' una percentuale superiore ai riferimenti ...</td>\n",
       "    </tr>\n",
       "  </tbody>\n",
       "</table>\n",
       "</div>"
      ],
      "text/plain": [
       "    ANNOSCOLASTICO SEZIONE  CODICECRITERIOQUALITA       CRITERIOQUALITA  \\\n",
       "17          201617   Esiti                     21  Risultati scolastici   \n",
       "1           201617   Esiti                     21  Risultati scolastici   \n",
       "6           201617   Esiti                     21  Risultati scolastici   \n",
       "\n",
       "    PUNTEGGIORIFERIMENTO                    DESCRIZIONEPUNTEGGIORIFERIMENTO  \n",
       "17                     7  La quota di studenti ammessa all'anno successi...  \n",
       "1                      3  Gli studenti non ammessi all'anno successivo e...  \n",
       "6                      1  C'e' una percentuale superiore ai riferimenti ...  "
      ]
     },
     "execution_count": 44,
     "metadata": {},
     "output_type": "execute_result"
    }
   ],
   "source": [
    "criteri_valutazione1617.sort_values(\"CODICECRITERIOQUALITA\").head(3)"
   ]
  },
  {
   "cell_type": "markdown",
   "metadata": {},
   "source": [
    "## CRITERI DI QUALITÀ"
   ]
  },
  {
   "cell_type": "code",
   "execution_count": 45,
   "metadata": {},
   "outputs": [
    {
     "data": {
      "text/plain": [
       "CODICECRITERIOQUALITA  CRITERIOQUALITA                                          \n",
       "21                     Risultati scolastici                                         4\n",
       "22                     Risultati nelle prove standardizzate nazionali               4\n",
       "23                     Competenze chiave europee                                    4\n",
       "24                     Risultati a distanza                                         4\n",
       "31                     Curricolo, progettazione e valutazione                       4\n",
       "32                     Ambiente di apprendimento                                    4\n",
       "33                     Inclusione e differenziazione                                4\n",
       "34                     Continuita' e orientamento                                   4\n",
       "35                     Orientamento strategico e organizzazione della scuola        4\n",
       "36                     Sviluppo e valorizzazione delle risorse umane                4\n",
       "37                     Integrazione con il territorio e rapporti con le famiglie    4\n",
       "dtype: int64"
      ]
     },
     "execution_count": 45,
     "metadata": {},
     "output_type": "execute_result"
    }
   ],
   "source": [
    "criteri_valutazione1617.groupby([\"CODICECRITERIOQUALITA\",\"CRITERIOQUALITA\"]).size()"
   ]
  },
  {
   "cell_type": "markdown",
   "metadata": {},
   "source": [
    "# Punteggio di Riferimento\n",
    "\n",
    "Valore utilizzato dall'istituto per l'assegnazione del punteggio per i criteri di valutazione. \n",
    "\n",
    "I valori sono compresi tra *1* e *7* e vengono indicati *1*, *3*, *5* e *7*; i valori 2, 4 e 6 _non_ sono esplicitati e permettono di posizionare le scuole che riscontrano una corrispondenza tra la descrizione e la situazione effettiva solo in relazione ad alcuni aspetti. \n",
    "\n",
    "    1 = situazione molto critica; \n",
    "    \n",
    "    3 = situazione con qualche criticità;\n",
    "    \n",
    "    5 = situazione positiva;\n",
    "    \n",
    "    7 = situazione eccellente"
   ]
  },
  {
   "cell_type": "markdown",
   "metadata": {},
   "source": [
    "---\n",
    "# EDILIZIA SCOLASTICA"
   ]
  },
  {
   "cell_type": "code",
   "execution_count": 46,
   "metadata": {},
   "outputs": [
    {
     "data": {
      "text/html": [
       "<div>\n",
       "<style scoped>\n",
       "    .dataframe tbody tr th:only-of-type {\n",
       "        vertical-align: middle;\n",
       "    }\n",
       "\n",
       "    .dataframe tbody tr th {\n",
       "        vertical-align: top;\n",
       "    }\n",
       "\n",
       "    .dataframe thead th {\n",
       "        text-align: right;\n",
       "    }\n",
       "</style>\n",
       "<table border=\"1\" class=\"dataframe\">\n",
       "  <thead>\n",
       "    <tr style=\"text-align: right;\">\n",
       "      <th></th>\n",
       "      <th>ANNOSCOLASTICO</th>\n",
       "      <th>CODICESCUOLA</th>\n",
       "      <th>CODICEEDIFICIO</th>\n",
       "      <th>CODICECOMUNE</th>\n",
       "      <th>DESCRIZIONECOMUNE</th>\n",
       "      <th>SIGLAPROVINCIA</th>\n",
       "      <th>TIPOLOGIAINDIRIZZO</th>\n",
       "      <th>DENOMINAZIONEINDIRIZZO</th>\n",
       "      <th>NUMEROCIVICO</th>\n",
       "      <th>CAP</th>\n",
       "      <th>STATOEDIFICIO</th>\n",
       "    </tr>\n",
       "  </thead>\n",
       "  <tbody>\n",
       "    <tr>\n",
       "      <th>0</th>\n",
       "      <td>201516</td>\n",
       "      <td>AGAA01103A</td>\n",
       "      <td>840111102</td>\n",
       "      <td>B602</td>\n",
       "      <td>CANICATTI'</td>\n",
       "      <td>AG</td>\n",
       "      <td>Altro</td>\n",
       "      <td>CONTRADA REDA</td>\n",
       "      <td>snc</td>\n",
       "      <td>92024</td>\n",
       "      <td>Attivo</td>\n",
       "    </tr>\n",
       "    <tr>\n",
       "      <th>1</th>\n",
       "      <td>201516</td>\n",
       "      <td>AGAA01109L</td>\n",
       "      <td>840111103</td>\n",
       "      <td>B602</td>\n",
       "      <td>CANICATTI'</td>\n",
       "      <td>AG</td>\n",
       "      <td>Via</td>\n",
       "      <td>S. VINCENZO</td>\n",
       "      <td>1</td>\n",
       "      <td>92024</td>\n",
       "      <td>Attivo</td>\n",
       "    </tr>\n",
       "    <tr>\n",
       "      <th>2</th>\n",
       "      <td>201516</td>\n",
       "      <td>AGAA02406G</td>\n",
       "      <td>840274812</td>\n",
       "      <td>G282</td>\n",
       "      <td>PALMA DI MONTECHIARO</td>\n",
       "      <td>AG</td>\n",
       "      <td>Viale</td>\n",
       "      <td>LEONARDO DA VINCI</td>\n",
       "      <td>50</td>\n",
       "      <td>92020</td>\n",
       "      <td>Attivo</td>\n",
       "    </tr>\n",
       "  </tbody>\n",
       "</table>\n",
       "</div>"
      ],
      "text/plain": [
       "   ANNOSCOLASTICO  CODICESCUOLA   CODICEEDIFICIO  CODICECOMUNE  \\\n",
       "0          201516    AGAA01103A        840111102          B602   \n",
       "1          201516    AGAA01109L        840111103          B602   \n",
       "2          201516    AGAA02406G        840274812          G282   \n",
       "\n",
       "      DESCRIZIONECOMUNE  SIGLAPROVINCIA  TIPOLOGIAINDIRIZZO  \\\n",
       "0            CANICATTI'              AG               Altro   \n",
       "1            CANICATTI'              AG                 Via   \n",
       "2  PALMA DI MONTECHIARO              AG               Viale   \n",
       "\n",
       "   DENOMINAZIONEINDIRIZZO  NUMEROCIVICO    CAP  STATOEDIFICIO  \n",
       "0           CONTRADA REDA           snc  92024         Attivo  \n",
       "1             S. VINCENZO             1  92024         Attivo  \n",
       "2       LEONARDO DA VINCI            50  92020         Attivo  "
      ]
     },
     "execution_count": 46,
     "metadata": {},
     "output_type": "execute_result"
    }
   ],
   "source": [
    "# edifici scolastici\n",
    "url='http://dati.istruzione.it/opendata/EDIANAGRAFESTA20160831.csv'\n",
    "ediliziascolastica=tabellaMIUR(url)\n",
    "ediliziascolastica.head(3)"
   ]
  },
  {
   "cell_type": "code",
   "execution_count": 47,
   "metadata": {},
   "outputs": [
    {
     "data": {
      "text/plain": [
       "array([201516])"
      ]
     },
     "execution_count": 47,
     "metadata": {},
     "output_type": "execute_result"
    }
   ],
   "source": [
    "# a quale anni scolastici fanno riferimento?\n",
    "ediliziascolastica.ANNOSCOLASTICO.unique()"
   ]
  },
  {
   "cell_type": "markdown",
   "metadata": {},
   "source": [
    ".. solo anno scolastico **2015/2016**"
   ]
  },
  {
   "cell_type": "markdown",
   "metadata": {},
   "source": [
    "## strutture annesse alla scuola \n",
    "spazi didattici, aula magna, mensa, palestra/piscina, spazi amminstrativi"
   ]
  },
  {
   "cell_type": "code",
   "execution_count": 48,
   "metadata": {
    "scrolled": true
   },
   "outputs": [
    {
     "data": {
      "text/html": [
       "<div>\n",
       "<style scoped>\n",
       "    .dataframe tbody tr th:only-of-type {\n",
       "        vertical-align: middle;\n",
       "    }\n",
       "\n",
       "    .dataframe tbody tr th {\n",
       "        vertical-align: top;\n",
       "    }\n",
       "\n",
       "    .dataframe thead th {\n",
       "        text-align: right;\n",
       "    }\n",
       "</style>\n",
       "<table border=\"1\" class=\"dataframe\">\n",
       "  <thead>\n",
       "    <tr style=\"text-align: right;\">\n",
       "      <th></th>\n",
       "      <th>ANNOSCOLASTICO</th>\n",
       "      <th>CODICESCUOLA</th>\n",
       "      <th>CODICEEDIFICIO</th>\n",
       "      <th>SPAZIDIDATTICI</th>\n",
       "      <th>AULAMAGNA</th>\n",
       "      <th>MENSA</th>\n",
       "      <th>PALESTRAPISCINA</th>\n",
       "      <th>SPAZIAMMINISTRATIVI</th>\n",
       "    </tr>\n",
       "  </thead>\n",
       "  <tbody>\n",
       "    <tr>\n",
       "      <th>0</th>\n",
       "      <td>201516</td>\n",
       "      <td>AGAA01103A</td>\n",
       "      <td>840111102</td>\n",
       "      <td>Esiste</td>\n",
       "      <td>Non Esiste</td>\n",
       "      <td>Non Esiste</td>\n",
       "      <td>Non Esiste</td>\n",
       "      <td>Non Esiste</td>\n",
       "    </tr>\n",
       "    <tr>\n",
       "      <th>1</th>\n",
       "      <td>201516</td>\n",
       "      <td>AGAA01109L</td>\n",
       "      <td>840111103</td>\n",
       "      <td>Esiste</td>\n",
       "      <td>Non Esiste</td>\n",
       "      <td>Non Esiste</td>\n",
       "      <td>Non Esiste</td>\n",
       "      <td>Non Esiste</td>\n",
       "    </tr>\n",
       "    <tr>\n",
       "      <th>2</th>\n",
       "      <td>201516</td>\n",
       "      <td>AGAA02406G</td>\n",
       "      <td>840274812</td>\n",
       "      <td>Esiste</td>\n",
       "      <td>Non Esiste</td>\n",
       "      <td>Non Esiste</td>\n",
       "      <td>Non Esiste</td>\n",
       "      <td>Esiste</td>\n",
       "    </tr>\n",
       "  </tbody>\n",
       "</table>\n",
       "</div>"
      ],
      "text/plain": [
       "   ANNOSCOLASTICO  CODICESCUOLA   CODICEEDIFICIO  SPAZIDIDATTICI   AULAMAGNA  \\\n",
       "0          201516    AGAA01103A        840111102          Esiste  Non Esiste   \n",
       "1          201516    AGAA01109L        840111103          Esiste  Non Esiste   \n",
       "2          201516    AGAA02406G        840274812          Esiste  Non Esiste   \n",
       "\n",
       "        MENSA  PALESTRAPISCINA  SPAZIAMMINISTRATIVI  \n",
       "0  Non Esiste       Non Esiste           Non Esiste  \n",
       "1  Non Esiste       Non Esiste           Non Esiste  \n",
       "2  Non Esiste       Non Esiste               Esiste  "
      ]
     },
     "execution_count": 48,
     "metadata": {},
     "output_type": "execute_result"
    }
   ],
   "source": [
    "url='http://dati.istruzione.it/opendata/opendata/catalogo/elements1/EDIAMBFUNZSTA20160831.csv'\n",
    "strutturescolastiche = tabellaMIUR(url)\n",
    "strutturescolastiche.head(3)"
   ]
  },
  {
   "cell_type": "code",
   "execution_count": 49,
   "metadata": {},
   "outputs": [
    {
     "data": {
      "text/plain": [
       "array([201516])"
      ]
     },
     "execution_count": 49,
     "metadata": {},
     "output_type": "execute_result"
    }
   ],
   "source": [
    "# a quali anni scolastici fanno riferimento?\n",
    "strutturescolastiche.ANNOSCOLASTICO.unique()"
   ]
  },
  {
   "cell_type": "markdown",
   "metadata": {},
   "source": [
    "... solo anno scolastico **2015/2016**"
   ]
  },
  {
   "cell_type": "markdown",
   "metadata": {},
   "source": [
    "## raggiungibilità degli edifici"
   ]
  },
  {
   "cell_type": "code",
   "execution_count": 50,
   "metadata": {
    "scrolled": true
   },
   "outputs": [
    {
     "data": {
      "text/html": [
       "<div>\n",
       "<style scoped>\n",
       "    .dataframe tbody tr th:only-of-type {\n",
       "        vertical-align: middle;\n",
       "    }\n",
       "\n",
       "    .dataframe tbody tr th {\n",
       "        vertical-align: top;\n",
       "    }\n",
       "\n",
       "    .dataframe thead th {\n",
       "        text-align: right;\n",
       "    }\n",
       "</style>\n",
       "<table border=\"1\" class=\"dataframe\">\n",
       "  <thead>\n",
       "    <tr style=\"text-align: right;\">\n",
       "      <th></th>\n",
       "      <th>ANNOSCOLASTICO</th>\n",
       "      <th>CODICESCUOLA</th>\n",
       "      <th>CODICEEDIFICIO</th>\n",
       "      <th>SCUOLABUS</th>\n",
       "      <th>TRASPORTIPUBBLICIURBANI</th>\n",
       "      <th>TRASPORTIPUBBLICIINTERURBANI</th>\n",
       "      <th>TRASPORTIFERROVIARI</th>\n",
       "      <th>MEZZIPRIVATI</th>\n",
       "      <th>TRASPORTODISABILI</th>\n",
       "      <th>ALTRO</th>\n",
       "    </tr>\n",
       "  </thead>\n",
       "  <tbody>\n",
       "    <tr>\n",
       "      <th>0</th>\n",
       "      <td>201516</td>\n",
       "      <td>AGAA01103A</td>\n",
       "      <td>840111102</td>\n",
       "      <td>SI</td>\n",
       "      <td>SI</td>\n",
       "      <td>NO</td>\n",
       "      <td>SI</td>\n",
       "      <td>SI</td>\n",
       "      <td>NO</td>\n",
       "      <td>Non Comunicato</td>\n",
       "    </tr>\n",
       "    <tr>\n",
       "      <th>1</th>\n",
       "      <td>201516</td>\n",
       "      <td>AGAA01109L</td>\n",
       "      <td>840111103</td>\n",
       "      <td>SI</td>\n",
       "      <td>SI</td>\n",
       "      <td>NO</td>\n",
       "      <td>NO</td>\n",
       "      <td>SI</td>\n",
       "      <td>SI</td>\n",
       "      <td>Non Comunicato</td>\n",
       "    </tr>\n",
       "    <tr>\n",
       "      <th>2</th>\n",
       "      <td>201516</td>\n",
       "      <td>AGAA02406G</td>\n",
       "      <td>840274812</td>\n",
       "      <td>SI</td>\n",
       "      <td>SI</td>\n",
       "      <td>NO</td>\n",
       "      <td>NO</td>\n",
       "      <td>SI</td>\n",
       "      <td>NO</td>\n",
       "      <td>Non Comunicato</td>\n",
       "    </tr>\n",
       "  </tbody>\n",
       "</table>\n",
       "</div>"
      ],
      "text/plain": [
       "   ANNOSCOLASTICO  CODICESCUOLA   CODICEEDIFICIO  SCUOLABUS  \\\n",
       "0          201516    AGAA01103A        840111102         SI   \n",
       "1          201516    AGAA01109L        840111103         SI   \n",
       "2          201516    AGAA02406G        840274812         SI   \n",
       "\n",
       "   TRASPORTIPUBBLICIURBANI  TRASPORTIPUBBLICIINTERURBANI  TRASPORTIFERROVIARI  \\\n",
       "0                       SI                            NO                   SI   \n",
       "1                       SI                            NO                   NO   \n",
       "2                       SI                            NO                   NO   \n",
       "\n",
       "   MEZZIPRIVATI  TRASPORTODISABILI           ALTRO  \n",
       "0            SI                 NO  Non Comunicato  \n",
       "1            SI                 SI  Non Comunicato  \n",
       "2            SI                 NO  Non Comunicato  "
      ]
     },
     "execution_count": 50,
     "metadata": {},
     "output_type": "execute_result"
    }
   ],
   "source": [
    "url='http://dati.istruzione.it/opendata/opendata/catalogo/elements1/EDICOLLEGAMENTISTA20160831.csv'\n",
    "raggiungibilita= tabellaMIUR(url)\n",
    "raggiungibilita.head(3)"
   ]
  },
  {
   "cell_type": "markdown",
   "metadata": {},
   "source": [
    "---\n",
    "# ANAGRAFICA STUDENTI\n",
    "## Studenti per anno di corso e fascia di età. Scuola statale."
   ]
  },
  {
   "cell_type": "code",
   "execution_count": 51,
   "metadata": {},
   "outputs": [
    {
     "data": {
      "text/html": [
       "<div>\n",
       "<style scoped>\n",
       "    .dataframe tbody tr th:only-of-type {\n",
       "        vertical-align: middle;\n",
       "    }\n",
       "\n",
       "    .dataframe tbody tr th {\n",
       "        vertical-align: top;\n",
       "    }\n",
       "\n",
       "    .dataframe thead th {\n",
       "        text-align: right;\n",
       "    }\n",
       "</style>\n",
       "<table border=\"1\" class=\"dataframe\">\n",
       "  <thead>\n",
       "    <tr style=\"text-align: right;\">\n",
       "      <th></th>\n",
       "      <th>ANNOSCOLASTICO</th>\n",
       "      <th>CODICESCUOLA</th>\n",
       "      <th>ORDINESCUOLA</th>\n",
       "      <th>ANNOCORSO</th>\n",
       "      <th>FASCIAETA</th>\n",
       "      <th>ALUNNI</th>\n",
       "    </tr>\n",
       "  </thead>\n",
       "  <tbody>\n",
       "    <tr>\n",
       "      <th>0</th>\n",
       "      <td>201617</td>\n",
       "      <td>NARC12301N</td>\n",
       "      <td>SCUOLA SECONDARIA II GRADO</td>\n",
       "      <td>4</td>\n",
       "      <td>16 anni</td>\n",
       "      <td>12</td>\n",
       "    </tr>\n",
       "    <tr>\n",
       "      <th>1</th>\n",
       "      <td>201617</td>\n",
       "      <td>VRMM865017</td>\n",
       "      <td>SCUOLA SECONDARIA I GRADO</td>\n",
       "      <td>1</td>\n",
       "      <td>11 anni</td>\n",
       "      <td>129</td>\n",
       "    </tr>\n",
       "    <tr>\n",
       "      <th>2</th>\n",
       "      <td>201617</td>\n",
       "      <td>GEMM82901A</td>\n",
       "      <td>SCUOLA SECONDARIA I GRADO</td>\n",
       "      <td>2</td>\n",
       "      <td>13 anni</td>\n",
       "      <td>3</td>\n",
       "    </tr>\n",
       "  </tbody>\n",
       "</table>\n",
       "</div>"
      ],
      "text/plain": [
       "   ANNOSCOLASTICO CODICESCUOLA                ORDINESCUOLA  ANNOCORSO  \\\n",
       "0          201617   NARC12301N  SCUOLA SECONDARIA II GRADO          4   \n",
       "1          201617   VRMM865017   SCUOLA SECONDARIA I GRADO          1   \n",
       "2          201617   GEMM82901A   SCUOLA SECONDARIA I GRADO          2   \n",
       "\n",
       "  FASCIAETA  ALUNNI  \n",
       "0   16 anni      12  \n",
       "1   11 anni     129  \n",
       "2   13 anni       3  "
      ]
     },
     "execution_count": 51,
     "metadata": {},
     "output_type": "execute_result"
    }
   ],
   "source": [
    "#studenti scuola statale 2016/2017\n",
    "url='http://dati.istruzione.it/opendata/opendata/catalogo/elements1/ALUCORSOETASTA20161720170831.csv'\n",
    "anagrafica_studenti1516 = tabellaMIUR(url)\n",
    "anagrafica_studenti1516.head(3)"
   ]
  },
  {
   "cell_type": "code",
   "execution_count": 52,
   "metadata": {},
   "outputs": [
    {
     "data": {
      "text/plain": [
       "(330000, 6)"
      ]
     },
     "execution_count": 52,
     "metadata": {},
     "output_type": "execute_result"
    }
   ],
   "source": [
    "anagrafica_studenti1516.shape"
   ]
  },
  {
   "cell_type": "code",
   "execution_count": 53,
   "metadata": {},
   "outputs": [
    {
     "data": {
      "text/plain": [
       "Index(['ANNOSCOLASTICO', 'CODICESCUOLA', 'ORDINESCUOLA', 'ANNOCORSO',\n",
       "       'FASCIAETA', 'ALUNNI'],\n",
       "      dtype='object')"
      ]
     },
     "execution_count": 53,
     "metadata": {},
     "output_type": "execute_result"
    }
   ],
   "source": [
    "anagrafica_studenti1516.columns"
   ]
  },
  {
   "cell_type": "markdown",
   "metadata": {},
   "source": [
    "## Studenti per anno di corso, classe e genere. Scuola statale."
   ]
  },
  {
   "cell_type": "code",
   "execution_count": null,
   "metadata": {},
   "outputs": [],
   "source": [
    "url='http://dati.istruzione.it/opendata/opendata/catalogo/elements1/ALUCORSOINDCLASTA20161720170831.csv'\n",
    "anagrafica_studenti_genere_1516= tabellaMIUR(url)\n",
    "anagrafica_studenti_genere_1516.head(3)"
   ]
  },
  {
   "cell_type": "code",
   "execution_count": null,
   "metadata": {},
   "outputs": [],
   "source": [
    "anagrafica_studenti_genere_1516.shape"
   ]
  },
  {
   "cell_type": "code",
   "execution_count": null,
   "metadata": {},
   "outputs": [],
   "source": [
    "anagrafica_studenti_genere_1516.columns"
   ]
  },
  {
   "cell_type": "markdown",
   "metadata": {},
   "source": [
    "---\n",
    "# Scuole della Regione Emilia-Romagna"
   ]
  },
  {
   "cell_type": "raw",
   "metadata": {},
   "source": [
    "... e prendiamo quelle della Regione Emilia-Romagna"
   ]
  },
  {
   "cell_type": "code",
   "execution_count": null,
   "metadata": {},
   "outputs": [],
   "source": [
    "scuole_RER=scuole_italiane[scuole_italiane.REGIONE == 'EMILIA ROMAGNA']"
   ]
  },
  {
   "cell_type": "markdown",
   "metadata": {},
   "source": [
    "altra sbirciatina :)"
   ]
  },
  {
   "cell_type": "code",
   "execution_count": null,
   "metadata": {
    "scrolled": false
   },
   "outputs": [],
   "source": [
    "scuole_RER.head(3)"
   ]
  },
  {
   "cell_type": "code",
   "execution_count": null,
   "metadata": {},
   "outputs": [],
   "source": [
    "scuole_RER.shape"
   ]
  },
  {
   "cell_type": "markdown",
   "metadata": {},
   "source": [
    "come sono distribuite le scuole dell'Emilia Romagna per provincia?\n",
    "\n",
    "- devo raggrupparle (groupby)\n",
    "- e contarle (size)"
   ]
  },
  {
   "cell_type": "code",
   "execution_count": null,
   "metadata": {},
   "outputs": [],
   "source": [
    "scuole_province_RER = scuole_RER.groupby(scuole_RER.PROVINCIA).size()"
   ]
  },
  {
   "cell_type": "markdown",
   "metadata": {},
   "source": [
    "e a questo punto posso visualizzarle"
   ]
  },
  {
   "cell_type": "code",
   "execution_count": null,
   "metadata": {},
   "outputs": [],
   "source": [
    "scuole_province_RER.plot.bar(figsize=(10,10),title=\"distribuzione scuole per province dell'Emilia Romagna\")"
   ]
  },
  {
   "cell_type": "markdown",
   "metadata": {},
   "source": [
    "Quante gradi di istruzione esistono?\n",
    "\n",
    "(*unique*) mi serve perchè il valore potrebbe ripetersi)"
   ]
  },
  {
   "cell_type": "code",
   "execution_count": null,
   "metadata": {},
   "outputs": [],
   "source": [
    "tipi_scuole = scuole_RER.DESCRIZIONETIPOLOGIAGRADOISTRUZIONESCUOLA.unique()"
   ]
  },
  {
   "cell_type": "markdown",
   "metadata": {},
   "source": [
    "vediamo quante sono (size)"
   ]
  },
  {
   "cell_type": "code",
   "execution_count": null,
   "metadata": {},
   "outputs": [],
   "source": [
    "tipi_scuole.size"
   ]
  },
  {
   "cell_type": "markdown",
   "metadata": {},
   "source": [
    "e quali sono"
   ]
  },
  {
   "cell_type": "code",
   "execution_count": null,
   "metadata": {},
   "outputs": [],
   "source": [
    "tipi_scuole"
   ]
  },
  {
   "cell_type": "markdown",
   "metadata": {},
   "source": [
    "Mi incuriosce questo \"IST PROF PER I SERVIZI PUBBLICITARI\""
   ]
  },
  {
   "cell_type": "code",
   "execution_count": null,
   "metadata": {},
   "outputs": [],
   "source": [
    "formazione_servizi_pubblicitari=scuole_RER[scuole_RER.DESCRIZIONETIPOLOGIAGRADOISTRUZIONESCUOLA =='IST PROF PER I SERVIZI PUBBLICITARI']\n",
    "formazione_servizi_pubblicitari.shape"
   ]
  },
  {
   "cell_type": "code",
   "execution_count": null,
   "metadata": {},
   "outputs": [],
   "source": [
    "codice_scuola = formazione_servizi_pubblicitari.CODICESCUOLA.values[0]\n",
    "nomescuola = formazione_servizi_pubblicitari.DENOMINAZIONESCUOLA.values[0]\n",
    "print(codice_scuola)\n",
    "print(nomescuola)"
   ]
  },
  {
   "cell_type": "code",
   "execution_count": null,
   "metadata": {},
   "outputs": [],
   "source": [
    "tipi_scuole = scuole_RER.DESCRIZIONETIPOLOGIAGRADOISTRUZIONESCUOLA.unique()"
   ]
  },
  {
   "cell_type": "code",
   "execution_count": null,
   "metadata": {},
   "outputs": [],
   "source": [
    "eta_studenti_rossellini= anagrafica_studenti1516[anagrafica_studenti1516.CODICESCUOLA == codice_scuola]\n",
    "eta_studenti_rossellini.sort_values(by=['ANNOCORSO'])"
   ]
  },
  {
   "cell_type": "code",
   "execution_count": null,
   "metadata": {},
   "outputs": [],
   "source": [
    "tabella_studenti_eta=eta_studenti_rossellini.pivot_table(index='ANNOCORSO', columns='FASCIAETA', values='ALUNNI',\n",
    "                aggfunc='sum', fill_value=0)\n",
    "tabella_studenti_eta"
   ]
  },
  {
   "cell_type": "code",
   "execution_count": null,
   "metadata": {},
   "outputs": [],
   "source": [
    "tabella_studenti_eta.plot.barh(stacked=True,figsize=[10,10],title=\"distribuzione età studenti per anno di corso\")\n"
   ]
  },
  {
   "cell_type": "code",
   "execution_count": null,
   "metadata": {},
   "outputs": [],
   "source": [
    "anagrafica_genere_rossini=anagrafica_studenti_genere_1516[anagrafica_studenti_genere_1516.CODICESCUOLA == codice_scuola]"
   ]
  },
  {
   "cell_type": "code",
   "execution_count": null,
   "metadata": {},
   "outputs": [],
   "source": [
    "anagrafica_genere_rossini"
   ]
  },
  {
   "cell_type": "code",
   "execution_count": null,
   "metadata": {},
   "outputs": [],
   "source": [
    "classi_genere_rossini=anagrafica_genere_rossini[['ANNOCORSOCLASSE','ALUNNIFEMMINE','ALUNNIMASCHI']]"
   ]
  },
  {
   "cell_type": "code",
   "execution_count": null,
   "metadata": {},
   "outputs": [],
   "source": [
    "table=classi_genere_rossini.pivot_table(classi_genere_rossini,index=[\"ANNOCORSOCLASSE\"]).fillna(0)"
   ]
  },
  {
   "cell_type": "code",
   "execution_count": null,
   "metadata": {},
   "outputs": [],
   "source": [
    "table.plot.bar(stacked=True,figsize=[10,10],colormap='Pastel2',title=\"numero di alunni per anno di corso e distinzione fra maschi e femmine\")\n",
    "# per la color map guarda qui https://matplotlib.org/examples/color/colormaps_reference.html\n"
   ]
  },
  {
   "cell_type": "markdown",
   "metadata": {},
   "source": [
    "---\n",
    "Cerchiamo informazioni su *Istituto Enrico Mattei* - http://www.istitutomattei.bo.it/\n",
    "\n",
    "Il sito web dichiara che ospita 4 scuole:\n",
    "1. IST. TEC. ECONOMICO \n",
    "2. LICEO SCIENTIFICO\n",
    "3. LICEO delle SCIENZE UMANE \n",
    "4. LICEO ECONOMICO SOCIALE \n",
    "\n",
    "Sede:\n",
    "Via delle rimembranze n°26 - 40068 San Lazzaro di Savena \n",
    "\n",
    "tel: 051/464510 \n",
    "\n",
    "fax: 051/452735 \n",
    "\n",
    "C.F. 920046 00372 \n",
    "\n",
    "---\n",
    "cerchiamo quindi nelle scuole della Regione Emilia-Romagna quelle che hanno nome che contiene \"MATTEI\" e che sono nel comune di San Lazzaro di Savena"
   ]
  },
  {
   "cell_type": "code",
   "execution_count": null,
   "metadata": {
    "scrolled": true
   },
   "outputs": [],
   "source": [
    "scuole_RER[(scuole_RER.DENOMINAZIONESCUOLA.str.contains('MATTEI', na=False) & (scuole_RER.DESCRIZIONECOMUNE=='SAN LAZZARO DI SAVENA'))]"
   ]
  },
  {
   "cell_type": "code",
   "execution_count": null,
   "metadata": {},
   "outputs": [],
   "source": [
    "istituto_enrico_mattei = scuole_RER[scuole_RER.CODICEISTITUTORIFERIMENTO=='BOIS017008']"
   ]
  },
  {
   "cell_type": "code",
   "execution_count": null,
   "metadata": {},
   "outputs": [],
   "source": [
    "codiceistituto_enrico_mattei = istituto_enrico_mattei.CODICEISTITUTORIFERIMENTO.unique()[0]\n",
    "codiceistituto_enrico_mattei"
   ]
  },
  {
   "cell_type": "markdown",
   "metadata": {},
   "source": [
    "quante scuole sono?"
   ]
  },
  {
   "cell_type": "code",
   "execution_count": null,
   "metadata": {},
   "outputs": [],
   "source": [
    "istituto_enrico_mattei.shape[0]"
   ]
  },
  {
   "cell_type": "markdown",
   "metadata": {},
   "source": [
    "andiamo a vederle"
   ]
  },
  {
   "cell_type": "code",
   "execution_count": null,
   "metadata": {},
   "outputs": [],
   "source": [
    "istituto_enrico_mattei"
   ]
  },
  {
   "cell_type": "markdown",
   "metadata": {},
   "source": [
    "Recuperiamo i codici delle scuole"
   ]
  },
  {
   "cell_type": "code",
   "execution_count": null,
   "metadata": {},
   "outputs": [],
   "source": [
    "codici_scuole_mattei = istituto_enrico_mattei.CODICESCUOLA.values"
   ]
  },
  {
   "cell_type": "code",
   "execution_count": null,
   "metadata": {},
   "outputs": [],
   "source": [
    "codici_scuole_mattei"
   ]
  },
  {
   "cell_type": "markdown",
   "metadata": {},
   "source": [
    "In singoli valori si possono recuperare per indice da 0 in poi\n",
    "\n",
    "Esempi"
   ]
  },
  {
   "cell_type": "code",
   "execution_count": null,
   "metadata": {},
   "outputs": [],
   "source": [
    "codici_scuole_mattei[0]"
   ]
  },
  {
   "cell_type": "code",
   "execution_count": null,
   "metadata": {},
   "outputs": [],
   "source": [
    "codici_scuole_mattei[1]"
   ]
  },
  {
   "cell_type": "code",
   "execution_count": null,
   "metadata": {},
   "outputs": [],
   "source": [
    "codici_scuole_mattei[2]"
   ]
  },
  {
   "cell_type": "markdown",
   "metadata": {},
   "source": [
    "... proviamo a visualizzarle una volta usando un \"ciclo for\"\n",
    "\n",
    "La sintassi è questa (tutti i comandi iniziano con dalla tabulazione)\n",
    "```python\n",
    "for nome_variabile in lista_di_valori:\n",
    "    print(nome_variabile)\n",
    "```\n",
    "\n",
    "Ecco l'implementazione\n"
   ]
  },
  {
   "cell_type": "code",
   "execution_count": null,
   "metadata": {},
   "outputs": [],
   "source": [
    "for codice in codici_scuole_mattei:\n",
    "    scuola = istituto_enrico_mattei[istituto_enrico_mattei.CODICESCUOLA==codice]\n",
    "    print(codice)\n",
    "    print(scuola.DESCRIZIONETIPOLOGIAGRADOISTRUZIONESCUOLA.values[0])\n",
    "    print(\"--\")"
   ]
  },
  {
   "cell_type": "markdown",
   "metadata": {},
   "source": [
    "Quanti studenti sono all'ISTITUTO TECNICO COMMERCIALE (anno 2015/2016)\n",
    "\n",
    "Interroghiamo l'anagrafica per conoscere gli studenti (codice scuola = BOTD01701E)\n"
   ]
  },
  {
   "cell_type": "code",
   "execution_count": null,
   "metadata": {},
   "outputs": [],
   "source": [
    "anagrafica_studenti1516[anagrafica_studenti1516.CODICESCUOLA=='BOTD01701E'].head(3)"
   ]
  },
  {
   "cell_type": "markdown",
   "metadata": {},
   "source": [
    "... e facciamo la somma degli ALUNNI"
   ]
  },
  {
   "cell_type": "code",
   "execution_count": null,
   "metadata": {},
   "outputs": [],
   "source": [
    "anagrafica_studenti1516[anagrafica_studenti1516.CODICESCUOLA=='BOTD01701E'].ALUNNI.sum()"
   ]
  },
  {
   "cell_type": "markdown",
   "metadata": {},
   "source": [
    "guardiamo i valori scuola per scuola con un ciclo for e contiamo anche il totale degli studenti"
   ]
  },
  {
   "cell_type": "code",
   "execution_count": null,
   "metadata": {},
   "outputs": [],
   "source": [
    "totale_studenti = 0\n",
    "for codice in codici_scuole_mattei:\n",
    "    scuola = istituto_enrico_mattei[istituto_enrico_mattei.CODICESCUOLA==codice]\n",
    "    print(codice)\n",
    "    totale = anagrafica_studenti1516[anagrafica_studenti1516.CODICESCUOLA==codice].ALUNNI.sum()\n",
    "    print(totale)\n",
    "    print(\"---\")\n",
    "    totale_studenti = totale_studenti + totale\n",
    "print(\"totale studenti \", totale_studenti)"
   ]
  },
  {
   "cell_type": "markdown",
   "metadata": {},
   "source": [
    "estrazione dati anagrafica dell' istituto tecnico commerciale del mattei\n",
    "ed \n",
    "estrazione dati anagrafica del liceo del mattei"
   ]
  },
  {
   "cell_type": "code",
   "execution_count": 132,
   "metadata": {},
   "outputs": [],
   "source": [
    "anagrafica_itc_mattei=anagrafica_studenti1516[anagrafica_studenti1516.CODICESCUOLA=='BOTD01701E']\n",
    "anagrafica_liceo_mattei=anagrafica_studenti1516[anagrafica_studenti1516.CODICESCUOLA=='BOPS01701P']"
   ]
  },
  {
   "cell_type": "markdown",
   "metadata": {},
   "source": [
    "ed anche quella per genere"
   ]
  },
  {
   "cell_type": "code",
   "execution_count": 133,
   "metadata": {},
   "outputs": [],
   "source": [
    "anagrafica_studenti_genere_itc_mattei=anagrafica_studenti_genere_1516[anagrafica_studenti_genere_1516.CODICESCUOLA=='BOTD01701E']\n",
    "anagrafica_studenti_genere_liceo_mattei=anagrafica_studenti_genere_1516[anagrafica_studenti_genere_1516.CODICESCUOLA=='BOPS01701P']"
   ]
  },
  {
   "cell_type": "markdown",
   "metadata": {},
   "source": [
    "e vediamo le valutazioni 2016/2017 per il codice di istituto"
   ]
  },
  {
   "cell_type": "code",
   "execution_count": 134,
   "metadata": {},
   "outputs": [
    {
     "data": {
      "text/html": [
       "<div>\n",
       "<style scoped>\n",
       "    .dataframe tbody tr th:only-of-type {\n",
       "        vertical-align: middle;\n",
       "    }\n",
       "\n",
       "    .dataframe tbody tr th {\n",
       "        vertical-align: top;\n",
       "    }\n",
       "\n",
       "    .dataframe thead th {\n",
       "        text-align: right;\n",
       "    }\n",
       "</style>\n",
       "<table border=\"1\" class=\"dataframe\">\n",
       "  <thead>\n",
       "    <tr style=\"text-align: right;\">\n",
       "      <th></th>\n",
       "      <th>ANNOSCOLASTICO</th>\n",
       "      <th>CODICEISTITUTO</th>\n",
       "      <th>SEZIONE</th>\n",
       "      <th>CODICECRITERIO</th>\n",
       "      <th>PUNTEGGIOSCUOLA</th>\n",
       "      <th>MOTIVAZIONEPUNTEGGIOSCUOLA</th>\n",
       "    </tr>\n",
       "  </thead>\n",
       "  <tbody>\n",
       "    <tr>\n",
       "      <th>27725</th>\n",
       "      <td>201617</td>\n",
       "      <td>BOIS017008</td>\n",
       "      <td>Esiti</td>\n",
       "      <td>24</td>\n",
       "      <td>4</td>\n",
       "      <td>La scuola non monitora in maniera sistematica ...</td>\n",
       "    </tr>\n",
       "    <tr>\n",
       "      <th>30360</th>\n",
       "      <td>201617</td>\n",
       "      <td>BOIS017008</td>\n",
       "      <td>Esiti</td>\n",
       "      <td>21</td>\n",
       "      <td>5</td>\n",
       "      <td>La scuola perde meno studenti nel primo bienni...</td>\n",
       "    </tr>\n",
       "    <tr>\n",
       "      <th>32109</th>\n",
       "      <td>201617</td>\n",
       "      <td>BOIS017008</td>\n",
       "      <td>Esiti</td>\n",
       "      <td>23</td>\n",
       "      <td>4</td>\n",
       "      <td>Il livello delle competenze chiave e di cittad...</td>\n",
       "    </tr>\n",
       "    <tr>\n",
       "      <th>32946</th>\n",
       "      <td>201617</td>\n",
       "      <td>BOIS017008</td>\n",
       "      <td>Esiti</td>\n",
       "      <td>22</td>\n",
       "      <td>5</td>\n",
       "      <td>Il punteggio di italiano e matematica dell'ist...</td>\n",
       "    </tr>\n",
       "  </tbody>\n",
       "</table>\n",
       "</div>"
      ],
      "text/plain": [
       "       ANNOSCOLASTICO CODICEISTITUTO SEZIONE  CODICECRITERIO  PUNTEGGIOSCUOLA  \\\n",
       "27725          201617     BOIS017008   Esiti              24                4   \n",
       "30360          201617     BOIS017008   Esiti              21                5   \n",
       "32109          201617     BOIS017008   Esiti              23                4   \n",
       "32946          201617     BOIS017008   Esiti              22                5   \n",
       "\n",
       "                              MOTIVAZIONEPUNTEGGIOSCUOLA  \n",
       "27725  La scuola non monitora in maniera sistematica ...  \n",
       "30360  La scuola perde meno studenti nel primo bienni...  \n",
       "32109  Il livello delle competenze chiave e di cittad...  \n",
       "32946  Il punteggio di italiano e matematica dell'ist...  "
      ]
     },
     "execution_count": 134,
     "metadata": {},
     "output_type": "execute_result"
    }
   ],
   "source": [
    "valutazioni_esiti1617[valutazioni_esiti1617.CODICEISTITUTO==codiceistituto_enrico_mattei]"
   ]
  },
  {
   "cell_type": "code",
   "execution_count": 135,
   "metadata": {},
   "outputs": [
    {
     "data": {
      "text/html": [
       "<div>\n",
       "<style scoped>\n",
       "    .dataframe tbody tr th:only-of-type {\n",
       "        vertical-align: middle;\n",
       "    }\n",
       "\n",
       "    .dataframe tbody tr th {\n",
       "        vertical-align: top;\n",
       "    }\n",
       "\n",
       "    .dataframe thead th {\n",
       "        text-align: right;\n",
       "    }\n",
       "</style>\n",
       "<table border=\"1\" class=\"dataframe\">\n",
       "  <thead>\n",
       "    <tr style=\"text-align: right;\">\n",
       "      <th></th>\n",
       "      <th>ANNOSCOLASTICO</th>\n",
       "      <th>CODICEISTITUTO</th>\n",
       "      <th>SEZIONE</th>\n",
       "      <th>CODICECRITERIO</th>\n",
       "      <th>PUNTEGGIOSCUOLA</th>\n",
       "      <th>MOTIVAZIONEPUNTEGGIOSCUOLA</th>\n",
       "    </tr>\n",
       "  </thead>\n",
       "  <tbody>\n",
       "    <tr>\n",
       "      <th>9209</th>\n",
       "      <td>201617</td>\n",
       "      <td>BOIS017008</td>\n",
       "      <td>Processi-Pratiche gestionali e organizzative</td>\n",
       "      <td>37</td>\n",
       "      <td>5</td>\n",
       "      <td>La scuola partecipa a reti e ha collaborazioni...</td>\n",
       "    </tr>\n",
       "    <tr>\n",
       "      <th>13060</th>\n",
       "      <td>201617</td>\n",
       "      <td>BOIS017008</td>\n",
       "      <td>Processi-Pratiche educative e didattiche</td>\n",
       "      <td>31</td>\n",
       "      <td>5</td>\n",
       "      <td>La scuola ha elaborato solo in parte un propri...</td>\n",
       "    </tr>\n",
       "    <tr>\n",
       "      <th>13784</th>\n",
       "      <td>201617</td>\n",
       "      <td>BOIS017008</td>\n",
       "      <td>Processi-Pratiche educative e didattiche</td>\n",
       "      <td>32</td>\n",
       "      <td>5</td>\n",
       "      <td>L'organizzazione di spazi e tempi risponde sem...</td>\n",
       "    </tr>\n",
       "    <tr>\n",
       "      <th>16113</th>\n",
       "      <td>201617</td>\n",
       "      <td>BOIS017008</td>\n",
       "      <td>Processi-Pratiche gestionali e organizzative</td>\n",
       "      <td>35</td>\n",
       "      <td>5</td>\n",
       "      <td>Solo dal settembre 2014 l'Istituto ha acquisit...</td>\n",
       "    </tr>\n",
       "    <tr>\n",
       "      <th>16855</th>\n",
       "      <td>201617</td>\n",
       "      <td>BOIS017008</td>\n",
       "      <td>Processi-Pratiche gestionali e organizzative</td>\n",
       "      <td>36</td>\n",
       "      <td>5</td>\n",
       "      <td>L'Istituto realizza iniziative formative tenen...</td>\n",
       "    </tr>\n",
       "    <tr>\n",
       "      <th>17641</th>\n",
       "      <td>201617</td>\n",
       "      <td>BOIS017008</td>\n",
       "      <td>Processi-Pratiche educative e didattiche</td>\n",
       "      <td>33</td>\n",
       "      <td>5</td>\n",
       "      <td>Le attivita' realizzate dalla scuola per gli s...</td>\n",
       "    </tr>\n",
       "    <tr>\n",
       "      <th>18337</th>\n",
       "      <td>201617</td>\n",
       "      <td>BOIS017008</td>\n",
       "      <td>Processi-Pratiche educative e didattiche</td>\n",
       "      <td>34</td>\n",
       "      <td>5</td>\n",
       "      <td>L'Istituto e' attivo ed efficiente nell'orient...</td>\n",
       "    </tr>\n",
       "  </tbody>\n",
       "</table>\n",
       "</div>"
      ],
      "text/plain": [
       "       ANNOSCOLASTICO CODICEISTITUTO  \\\n",
       "9209           201617     BOIS017008   \n",
       "13060          201617     BOIS017008   \n",
       "13784          201617     BOIS017008   \n",
       "16113          201617     BOIS017008   \n",
       "16855          201617     BOIS017008   \n",
       "17641          201617     BOIS017008   \n",
       "18337          201617     BOIS017008   \n",
       "\n",
       "                                            SEZIONE  CODICECRITERIO  \\\n",
       "9209   Processi-Pratiche gestionali e organizzative              37   \n",
       "13060      Processi-Pratiche educative e didattiche              31   \n",
       "13784      Processi-Pratiche educative e didattiche              32   \n",
       "16113  Processi-Pratiche gestionali e organizzative              35   \n",
       "16855  Processi-Pratiche gestionali e organizzative              36   \n",
       "17641      Processi-Pratiche educative e didattiche              33   \n",
       "18337      Processi-Pratiche educative e didattiche              34   \n",
       "\n",
       "       PUNTEGGIOSCUOLA                         MOTIVAZIONEPUNTEGGIOSCUOLA  \n",
       "9209                 5  La scuola partecipa a reti e ha collaborazioni...  \n",
       "13060                5  La scuola ha elaborato solo in parte un propri...  \n",
       "13784                5  L'organizzazione di spazi e tempi risponde sem...  \n",
       "16113                5  Solo dal settembre 2014 l'Istituto ha acquisit...  \n",
       "16855                5  L'Istituto realizza iniziative formative tenen...  \n",
       "17641                5  Le attivita' realizzate dalla scuola per gli s...  \n",
       "18337                5  L'Istituto e' attivo ed efficiente nell'orient...  "
      ]
     },
     "execution_count": 135,
     "metadata": {},
     "output_type": "execute_result"
    }
   ],
   "source": [
    "valutazioni_processi1617[valutazioni_processi1617.CODICEISTITUTO==codiceistituto_enrico_mattei]"
   ]
  },
  {
   "cell_type": "code",
   "execution_count": 136,
   "metadata": {},
   "outputs": [],
   "source": [
    "valutazioni_enrico_mattei = panda.concat([valutazioni_esiti1617,valutazioni_processi1617])"
   ]
  },
  {
   "cell_type": "code",
   "execution_count": 137,
   "metadata": {
    "scrolled": false
   },
   "outputs": [
    {
     "data": {
      "text/html": [
       "<div>\n",
       "<style scoped>\n",
       "    .dataframe tbody tr th:only-of-type {\n",
       "        vertical-align: middle;\n",
       "    }\n",
       "\n",
       "    .dataframe tbody tr th {\n",
       "        vertical-align: top;\n",
       "    }\n",
       "\n",
       "    .dataframe thead th {\n",
       "        text-align: right;\n",
       "    }\n",
       "</style>\n",
       "<table border=\"1\" class=\"dataframe\">\n",
       "  <thead>\n",
       "    <tr style=\"text-align: right;\">\n",
       "      <th></th>\n",
       "      <th>ANNOSCOLASTICO</th>\n",
       "      <th>CODICEISTITUTO</th>\n",
       "      <th>SEZIONE</th>\n",
       "      <th>CODICECRITERIO</th>\n",
       "      <th>PUNTEGGIOSCUOLA</th>\n",
       "      <th>MOTIVAZIONEPUNTEGGIOSCUOLA</th>\n",
       "    </tr>\n",
       "  </thead>\n",
       "  <tbody>\n",
       "    <tr>\n",
       "      <th>0</th>\n",
       "      <td>201617</td>\n",
       "      <td>NAIS112008</td>\n",
       "      <td>Esiti</td>\n",
       "      <td>21</td>\n",
       "      <td>3</td>\n",
       "      <td>Le condizioni per il successo scolastico sono ...</td>\n",
       "    </tr>\n",
       "    <tr>\n",
       "      <th>1</th>\n",
       "      <td>201617</td>\n",
       "      <td>FRIC84000G</td>\n",
       "      <td>Esiti</td>\n",
       "      <td>23</td>\n",
       "      <td>5</td>\n",
       "      <td>Motivazione non dichiarata</td>\n",
       "    </tr>\n",
       "    <tr>\n",
       "      <th>2</th>\n",
       "      <td>201617</td>\n",
       "      <td>LUIC836003</td>\n",
       "      <td>Esiti</td>\n",
       "      <td>22</td>\n",
       "      <td>5</td>\n",
       "      <td>Il punteggio di italiano e matematica dell'Ist...</td>\n",
       "    </tr>\n",
       "  </tbody>\n",
       "</table>\n",
       "</div>"
      ],
      "text/plain": [
       "   ANNOSCOLASTICO CODICEISTITUTO SEZIONE  CODICECRITERIO  PUNTEGGIOSCUOLA  \\\n",
       "0          201617     NAIS112008   Esiti              21                3   \n",
       "1          201617     FRIC84000G   Esiti              23                5   \n",
       "2          201617     LUIC836003   Esiti              22                5   \n",
       "\n",
       "                          MOTIVAZIONEPUNTEGGIOSCUOLA  \n",
       "0  Le condizioni per il successo scolastico sono ...  \n",
       "1                         Motivazione non dichiarata  \n",
       "2  Il punteggio di italiano e matematica dell'Ist...  "
      ]
     },
     "execution_count": 137,
     "metadata": {},
     "output_type": "execute_result"
    }
   ],
   "source": [
    "valutazioni_enrico_mattei.head(3)"
   ]
  },
  {
   "cell_type": "code",
   "execution_count": 138,
   "metadata": {},
   "outputs": [],
   "source": [
    "tabella_valutazioni = valutazioni_enrico_mattei[['PUNTEGGIOSCUOLA','CODICECRITERIO']]\n",
    "grafico_valutazioni = tabella_valutazioni.pivot_table(tabella_valutazioni,'CODICECRITERIO').fillna(0)"
   ]
  },
  {
   "cell_type": "code",
   "execution_count": 139,
   "metadata": {},
   "outputs": [
    {
     "data": {
      "text/plain": [
       "'ANNOSCOLASTICO'"
      ]
     },
     "execution_count": 139,
     "metadata": {},
     "output_type": "execute_result"
    }
   ],
   "source": [
    "valutazioni_enrico_mattei.columns[0]"
   ]
  },
  {
   "cell_type": "code",
   "execution_count": 140,
   "metadata": {},
   "outputs": [
    {
     "data": {
      "text/html": [
       "<div>\n",
       "<style scoped>\n",
       "    .dataframe tbody tr th:only-of-type {\n",
       "        vertical-align: middle;\n",
       "    }\n",
       "\n",
       "    .dataframe tbody tr th {\n",
       "        vertical-align: top;\n",
       "    }\n",
       "\n",
       "    .dataframe thead th {\n",
       "        text-align: right;\n",
       "    }\n",
       "</style>\n",
       "<table border=\"1\" class=\"dataframe\">\n",
       "  <thead>\n",
       "    <tr style=\"text-align: right;\">\n",
       "      <th></th>\n",
       "      <th>PUNTEGGIOSCUOLA</th>\n",
       "    </tr>\n",
       "    <tr>\n",
       "      <th>CODICECRITERIO</th>\n",
       "      <th></th>\n",
       "    </tr>\n",
       "  </thead>\n",
       "  <tbody>\n",
       "    <tr>\n",
       "      <th>21</th>\n",
       "      <td>5.028312</td>\n",
       "    </tr>\n",
       "    <tr>\n",
       "      <th>22</th>\n",
       "      <td>4.226810</td>\n",
       "    </tr>\n",
       "    <tr>\n",
       "      <th>23</th>\n",
       "      <td>4.834685</td>\n",
       "    </tr>\n",
       "    <tr>\n",
       "      <th>24</th>\n",
       "      <td>4.841404</td>\n",
       "    </tr>\n",
       "    <tr>\n",
       "      <th>31</th>\n",
       "      <td>4.804429</td>\n",
       "    </tr>\n",
       "    <tr>\n",
       "      <th>32</th>\n",
       "      <td>4.900520</td>\n",
       "    </tr>\n",
       "    <tr>\n",
       "      <th>33</th>\n",
       "      <td>5.238049</td>\n",
       "    </tr>\n",
       "    <tr>\n",
       "      <th>34</th>\n",
       "      <td>4.938884</td>\n",
       "    </tr>\n",
       "    <tr>\n",
       "      <th>35</th>\n",
       "      <td>5.060140</td>\n",
       "    </tr>\n",
       "    <tr>\n",
       "      <th>36</th>\n",
       "      <td>4.846908</td>\n",
       "    </tr>\n",
       "    <tr>\n",
       "      <th>37</th>\n",
       "      <td>5.146678</td>\n",
       "    </tr>\n",
       "  </tbody>\n",
       "</table>\n",
       "</div>"
      ],
      "text/plain": [
       "                PUNTEGGIOSCUOLA\n",
       "CODICECRITERIO                 \n",
       "21                     5.028312\n",
       "22                     4.226810\n",
       "23                     4.834685\n",
       "24                     4.841404\n",
       "31                     4.804429\n",
       "32                     4.900520\n",
       "33                     5.238049\n",
       "34                     4.938884\n",
       "35                     5.060140\n",
       "36                     4.846908\n",
       "37                     5.146678"
      ]
     },
     "execution_count": 140,
     "metadata": {},
     "output_type": "execute_result"
    }
   ],
   "source": [
    "grafico_valutazioni"
   ]
  },
  {
   "cell_type": "code",
   "execution_count": 144,
   "metadata": {},
   "outputs": [
    {
     "data": {
      "text/plain": [
       "<matplotlib.axes._subplots.AxesSubplot at 0x7f257f7db668>"
      ]
     },
     "execution_count": 144,
     "metadata": {},
     "output_type": "execute_result"
    },
    {
     "data": {
      "image/png": "[encoded data removed]",
      "text/plain": [
       "<Figure size 720x720 with 1 Axes>"
      ]
     },
     "metadata": {},
     "output_type": "display_data"
    }
   ],
   "source": [
    "grafico_valutazioni.plot.bar(figsize=[10,10])"
   ]
  },
  {
   "cell_type": "code",
   "execution_count": 145,
   "metadata": {},
   "outputs": [
    {
     "data": {
      "text/plain": [
       "Index(['ANNOSCOLASTICO', ' CODICESCUOLA', ' CODICEEDIFICIO', ' CODICECOMUNE',\n",
       "       ' DESCRIZIONECOMUNE', ' SIGLAPROVINCIA', ' TIPOLOGIAINDIRIZZO',\n",
       "       ' DENOMINAZIONEINDIRIZZO', ' NUMEROCIVICO', ' CAP', ' STATOEDIFICIO'],\n",
       "      dtype='object')"
      ]
     },
     "execution_count": 145,
     "metadata": {},
     "output_type": "execute_result"
    }
   ],
   "source": [
    "ediliziascolastica.columns"
   ]
  },
  {
   "cell_type": "markdown",
   "metadata": {},
   "source": [
    "***attenzione ai campi che hanno nome che inizia con uno spazio!!!***"
   ]
  },
  {
   "cell_type": "code",
   "execution_count": 146,
   "metadata": {},
   "outputs": [],
   "source": [
    "edificio_itc_mattei=ediliziascolastica[ediliziascolastica[' CODICESCUOLA'] == 'BOTD01701E']"
   ]
  },
  {
   "cell_type": "code",
   "execution_count": 147,
   "metadata": {},
   "outputs": [
    {
     "data": {
      "text/html": [
       "<div>\n",
       "<style scoped>\n",
       "    .dataframe tbody tr th:only-of-type {\n",
       "        vertical-align: middle;\n",
       "    }\n",
       "\n",
       "    .dataframe tbody tr th {\n",
       "        vertical-align: top;\n",
       "    }\n",
       "\n",
       "    .dataframe thead th {\n",
       "        text-align: right;\n",
       "    }\n",
       "</style>\n",
       "<table border=\"1\" class=\"dataframe\">\n",
       "  <thead>\n",
       "    <tr style=\"text-align: right;\">\n",
       "      <th></th>\n",
       "      <th>ANNOSCOLASTICO</th>\n",
       "      <th>CODICESCUOLA</th>\n",
       "      <th>CODICEEDIFICIO</th>\n",
       "      <th>CODICECOMUNE</th>\n",
       "      <th>DESCRIZIONECOMUNE</th>\n",
       "      <th>SIGLAPROVINCIA</th>\n",
       "      <th>TIPOLOGIAINDIRIZZO</th>\n",
       "      <th>DENOMINAZIONEINDIRIZZO</th>\n",
       "      <th>NUMEROCIVICO</th>\n",
       "      <th>CAP</th>\n",
       "      <th>STATOEDIFICIO</th>\n",
       "    </tr>\n",
       "  </thead>\n",
       "  <tbody>\n",
       "    <tr>\n",
       "      <th>7057</th>\n",
       "      <td>201516</td>\n",
       "      <td>BOTD01701E</td>\n",
       "      <td>370540460</td>\n",
       "      <td>H945</td>\n",
       "      <td>SAN LAZZARO DI SAVENA</td>\n",
       "      <td>BO</td>\n",
       "      <td>Via</td>\n",
       "      <td>DELLE RIMEMBRANZE</td>\n",
       "      <td>26</td>\n",
       "      <td>40068</td>\n",
       "      <td>Attivo</td>\n",
       "    </tr>\n",
       "  </tbody>\n",
       "</table>\n",
       "</div>"
      ],
      "text/plain": [
       "      ANNOSCOLASTICO  CODICESCUOLA   CODICEEDIFICIO  CODICECOMUNE  \\\n",
       "7057          201516    BOTD01701E        370540460          H945   \n",
       "\n",
       "          DESCRIZIONECOMUNE  SIGLAPROVINCIA  TIPOLOGIAINDIRIZZO  \\\n",
       "7057  SAN LAZZARO DI SAVENA              BO                 Via   \n",
       "\n",
       "      DENOMINAZIONEINDIRIZZO  NUMEROCIVICO    CAP  STATOEDIFICIO  \n",
       "7057       DELLE RIMEMBRANZE            26  40068         Attivo  "
      ]
     },
     "execution_count": 147,
     "metadata": {},
     "output_type": "execute_result"
    }
   ],
   "source": [
    "edificio_itc_mattei"
   ]
  },
  {
   "cell_type": "code",
   "execution_count": 148,
   "metadata": {},
   "outputs": [],
   "source": [
    "edificio_liceo_mattei=ediliziascolastica[ediliziascolastica[' CODICESCUOLA'] == 'BOPS01701P']"
   ]
  },
  {
   "cell_type": "code",
   "execution_count": 149,
   "metadata": {},
   "outputs": [
    {
     "data": {
      "text/html": [
       "<div>\n",
       "<style scoped>\n",
       "    .dataframe tbody tr th:only-of-type {\n",
       "        vertical-align: middle;\n",
       "    }\n",
       "\n",
       "    .dataframe tbody tr th {\n",
       "        vertical-align: top;\n",
       "    }\n",
       "\n",
       "    .dataframe thead th {\n",
       "        text-align: right;\n",
       "    }\n",
       "</style>\n",
       "<table border=\"1\" class=\"dataframe\">\n",
       "  <thead>\n",
       "    <tr style=\"text-align: right;\">\n",
       "      <th></th>\n",
       "      <th>ANNOSCOLASTICO</th>\n",
       "      <th>CODICESCUOLA</th>\n",
       "      <th>CODICEEDIFICIO</th>\n",
       "      <th>CODICECOMUNE</th>\n",
       "      <th>DESCRIZIONECOMUNE</th>\n",
       "      <th>SIGLAPROVINCIA</th>\n",
       "      <th>TIPOLOGIAINDIRIZZO</th>\n",
       "      <th>DENOMINAZIONEINDIRIZZO</th>\n",
       "      <th>NUMEROCIVICO</th>\n",
       "      <th>CAP</th>\n",
       "      <th>STATOEDIFICIO</th>\n",
       "    </tr>\n",
       "  </thead>\n",
       "  <tbody>\n",
       "    <tr>\n",
       "      <th>6983</th>\n",
       "      <td>201516</td>\n",
       "      <td>BOPS01701P</td>\n",
       "      <td>370540460</td>\n",
       "      <td>H945</td>\n",
       "      <td>SAN LAZZARO DI SAVENA</td>\n",
       "      <td>BO</td>\n",
       "      <td>Via</td>\n",
       "      <td>DELLE RIMEMBRANZE</td>\n",
       "      <td>26</td>\n",
       "      <td>40068</td>\n",
       "      <td>Attivo</td>\n",
       "    </tr>\n",
       "  </tbody>\n",
       "</table>\n",
       "</div>"
      ],
      "text/plain": [
       "      ANNOSCOLASTICO  CODICESCUOLA   CODICEEDIFICIO  CODICECOMUNE  \\\n",
       "6983          201516    BOPS01701P        370540460          H945   \n",
       "\n",
       "          DESCRIZIONECOMUNE  SIGLAPROVINCIA  TIPOLOGIAINDIRIZZO  \\\n",
       "6983  SAN LAZZARO DI SAVENA              BO                 Via   \n",
       "\n",
       "      DENOMINAZIONEINDIRIZZO  NUMEROCIVICO    CAP  STATOEDIFICIO  \n",
       "6983       DELLE RIMEMBRANZE            26  40068         Attivo  "
      ]
     },
     "execution_count": 149,
     "metadata": {},
     "output_type": "execute_result"
    }
   ],
   "source": [
    "edificio_liceo_mattei"
   ]
  },
  {
   "cell_type": "code",
   "execution_count": 150,
   "metadata": {},
   "outputs": [
    {
     "data": {
      "text/plain": [
       "Index(['ANNOSCOLASTICO', ' CODICESCUOLA', ' CODICEEDIFICIO', ' SPAZIDIDATTICI',\n",
       "       ' AULAMAGNA', ' MENSA', ' PALESTRAPISCINA', ' SPAZIAMMINISTRATIVI'],\n",
       "      dtype='object')"
      ]
     },
     "execution_count": 150,
     "metadata": {},
     "output_type": "execute_result"
    }
   ],
   "source": [
    "strutturescolastiche.columns"
   ]
  },
  {
   "cell_type": "code",
   "execution_count": 151,
   "metadata": {},
   "outputs": [],
   "source": [
    "struttura_itc_mattei=strutturescolastiche[strutturescolastiche[' CODICESCUOLA'] == 'BOTD01701E']"
   ]
  },
  {
   "cell_type": "code",
   "execution_count": 152,
   "metadata": {},
   "outputs": [
    {
     "data": {
      "text/html": [
       "<div>\n",
       "<style scoped>\n",
       "    .dataframe tbody tr th:only-of-type {\n",
       "        vertical-align: middle;\n",
       "    }\n",
       "\n",
       "    .dataframe tbody tr th {\n",
       "        vertical-align: top;\n",
       "    }\n",
       "\n",
       "    .dataframe thead th {\n",
       "        text-align: right;\n",
       "    }\n",
       "</style>\n",
       "<table border=\"1\" class=\"dataframe\">\n",
       "  <thead>\n",
       "    <tr style=\"text-align: right;\">\n",
       "      <th></th>\n",
       "      <th>ANNOSCOLASTICO</th>\n",
       "      <th>CODICESCUOLA</th>\n",
       "      <th>CODICEEDIFICIO</th>\n",
       "      <th>SPAZIDIDATTICI</th>\n",
       "      <th>AULAMAGNA</th>\n",
       "      <th>MENSA</th>\n",
       "      <th>PALESTRAPISCINA</th>\n",
       "      <th>SPAZIAMMINISTRATIVI</th>\n",
       "    </tr>\n",
       "  </thead>\n",
       "  <tbody>\n",
       "    <tr>\n",
       "      <th>7057</th>\n",
       "      <td>201516</td>\n",
       "      <td>BOTD01701E</td>\n",
       "      <td>370540460</td>\n",
       "      <td>Esiste</td>\n",
       "      <td>Esiste</td>\n",
       "      <td>Non Esiste</td>\n",
       "      <td>Esiste</td>\n",
       "      <td>Esiste</td>\n",
       "    </tr>\n",
       "  </tbody>\n",
       "</table>\n",
       "</div>"
      ],
      "text/plain": [
       "      ANNOSCOLASTICO  CODICESCUOLA   CODICEEDIFICIO  SPAZIDIDATTICI  \\\n",
       "7057          201516    BOTD01701E        370540460          Esiste   \n",
       "\n",
       "      AULAMAGNA       MENSA  PALESTRAPISCINA  SPAZIAMMINISTRATIVI  \n",
       "7057     Esiste  Non Esiste           Esiste               Esiste  "
      ]
     },
     "execution_count": 152,
     "metadata": {},
     "output_type": "execute_result"
    }
   ],
   "source": [
    "struttura_itc_mattei"
   ]
  },
  {
   "cell_type": "code",
   "execution_count": 153,
   "metadata": {},
   "outputs": [],
   "source": [
    "struttura_liceo_mattei=strutturescolastiche[strutturescolastiche[' CODICESCUOLA'] == 'BOPS01701P']"
   ]
  },
  {
   "cell_type": "code",
   "execution_count": 154,
   "metadata": {},
   "outputs": [
    {
     "data": {
      "text/html": [
       "<div>\n",
       "<style scoped>\n",
       "    .dataframe tbody tr th:only-of-type {\n",
       "        vertical-align: middle;\n",
       "    }\n",
       "\n",
       "    .dataframe tbody tr th {\n",
       "        vertical-align: top;\n",
       "    }\n",
       "\n",
       "    .dataframe thead th {\n",
       "        text-align: right;\n",
       "    }\n",
       "</style>\n",
       "<table border=\"1\" class=\"dataframe\">\n",
       "  <thead>\n",
       "    <tr style=\"text-align: right;\">\n",
       "      <th></th>\n",
       "      <th>ANNOSCOLASTICO</th>\n",
       "      <th>CODICESCUOLA</th>\n",
       "      <th>CODICEEDIFICIO</th>\n",
       "      <th>SPAZIDIDATTICI</th>\n",
       "      <th>AULAMAGNA</th>\n",
       "      <th>MENSA</th>\n",
       "      <th>PALESTRAPISCINA</th>\n",
       "      <th>SPAZIAMMINISTRATIVI</th>\n",
       "    </tr>\n",
       "  </thead>\n",
       "  <tbody>\n",
       "    <tr>\n",
       "      <th>6983</th>\n",
       "      <td>201516</td>\n",
       "      <td>BOPS01701P</td>\n",
       "      <td>370540460</td>\n",
       "      <td>Esiste</td>\n",
       "      <td>Esiste</td>\n",
       "      <td>Non Esiste</td>\n",
       "      <td>Esiste</td>\n",
       "      <td>Esiste</td>\n",
       "    </tr>\n",
       "  </tbody>\n",
       "</table>\n",
       "</div>"
      ],
      "text/plain": [
       "      ANNOSCOLASTICO  CODICESCUOLA   CODICEEDIFICIO  SPAZIDIDATTICI  \\\n",
       "6983          201516    BOPS01701P        370540460          Esiste   \n",
       "\n",
       "      AULAMAGNA       MENSA  PALESTRAPISCINA  SPAZIAMMINISTRATIVI  \n",
       "6983     Esiste  Non Esiste           Esiste               Esiste  "
      ]
     },
     "execution_count": 154,
     "metadata": {},
     "output_type": "execute_result"
    }
   ],
   "source": [
    "struttura_liceo_mattei"
   ]
  },
  {
   "cell_type": "code",
   "execution_count": 155,
   "metadata": {},
   "outputs": [
    {
     "data": {
      "text/plain": [
       "Index(['ANNOSCOLASTICO', ' CODICESCUOLA', ' CODICEEDIFICIO', ' SCUOLABUS',\n",
       "       ' TRASPORTIPUBBLICIURBANI', ' TRASPORTIPUBBLICIINTERURBANI',\n",
       "       ' TRASPORTIFERROVIARI', ' MEZZIPRIVATI', ' TRASPORTODISABILI',\n",
       "       ' ALTRO'],\n",
       "      dtype='object')"
      ]
     },
     "execution_count": 155,
     "metadata": {},
     "output_type": "execute_result"
    }
   ],
   "source": [
    "raggiungibilita.columns"
   ]
  },
  {
   "cell_type": "code",
   "execution_count": 156,
   "metadata": {},
   "outputs": [],
   "source": [
    "raggiungibilita_liceo_mattei=raggiungibilita[raggiungibilita[' CODICESCUOLA'] == 'BOPS01701P']"
   ]
  },
  {
   "cell_type": "code",
   "execution_count": 157,
   "metadata": {},
   "outputs": [
    {
     "data": {
      "text/html": [
       "<div>\n",
       "<style scoped>\n",
       "    .dataframe tbody tr th:only-of-type {\n",
       "        vertical-align: middle;\n",
       "    }\n",
       "\n",
       "    .dataframe tbody tr th {\n",
       "        vertical-align: top;\n",
       "    }\n",
       "\n",
       "    .dataframe thead th {\n",
       "        text-align: right;\n",
       "    }\n",
       "</style>\n",
       "<table border=\"1\" class=\"dataframe\">\n",
       "  <thead>\n",
       "    <tr style=\"text-align: right;\">\n",
       "      <th></th>\n",
       "      <th>ANNOSCOLASTICO</th>\n",
       "      <th>CODICESCUOLA</th>\n",
       "      <th>CODICEEDIFICIO</th>\n",
       "      <th>SCUOLABUS</th>\n",
       "      <th>TRASPORTIPUBBLICIURBANI</th>\n",
       "      <th>TRASPORTIPUBBLICIINTERURBANI</th>\n",
       "      <th>TRASPORTIFERROVIARI</th>\n",
       "      <th>MEZZIPRIVATI</th>\n",
       "      <th>TRASPORTODISABILI</th>\n",
       "      <th>ALTRO</th>\n",
       "    </tr>\n",
       "  </thead>\n",
       "  <tbody>\n",
       "    <tr>\n",
       "      <th>6983</th>\n",
       "      <td>201516</td>\n",
       "      <td>BOPS01701P</td>\n",
       "      <td>370540460</td>\n",
       "      <td>NO</td>\n",
       "      <td>SI</td>\n",
       "      <td>SI</td>\n",
       "      <td>NO</td>\n",
       "      <td>SI</td>\n",
       "      <td>NO</td>\n",
       "      <td>Non Comunicato</td>\n",
       "    </tr>\n",
       "  </tbody>\n",
       "</table>\n",
       "</div>"
      ],
      "text/plain": [
       "      ANNOSCOLASTICO  CODICESCUOLA   CODICEEDIFICIO  SCUOLABUS  \\\n",
       "6983          201516    BOPS01701P        370540460         NO   \n",
       "\n",
       "      TRASPORTIPUBBLICIURBANI  TRASPORTIPUBBLICIINTERURBANI  \\\n",
       "6983                       SI                            SI   \n",
       "\n",
       "      TRASPORTIFERROVIARI  MEZZIPRIVATI  TRASPORTODISABILI           ALTRO  \n",
       "6983                   NO            SI                 NO  Non Comunicato  "
      ]
     },
     "execution_count": 157,
     "metadata": {},
     "output_type": "execute_result"
    }
   ],
   "source": [
    "raggiungibilita_liceo_mattei"
   ]
  },
  {
   "cell_type": "code",
   "execution_count": 158,
   "metadata": {},
   "outputs": [],
   "source": [
    "raggiungibilita_itc_mattei=raggiungibilita[raggiungibilita[' CODICESCUOLA'] == 'BOTD01701E']"
   ]
  },
  {
   "cell_type": "code",
   "execution_count": 159,
   "metadata": {},
   "outputs": [
    {
     "data": {
      "text/html": [
       "<div>\n",
       "<style scoped>\n",
       "    .dataframe tbody tr th:only-of-type {\n",
       "        vertical-align: middle;\n",
       "    }\n",
       "\n",
       "    .dataframe tbody tr th {\n",
       "        vertical-align: top;\n",
       "    }\n",
       "\n",
       "    .dataframe thead th {\n",
       "        text-align: right;\n",
       "    }\n",
       "</style>\n",
       "<table border=\"1\" class=\"dataframe\">\n",
       "  <thead>\n",
       "    <tr style=\"text-align: right;\">\n",
       "      <th></th>\n",
       "      <th>ANNOSCOLASTICO</th>\n",
       "      <th>CODICESCUOLA</th>\n",
       "      <th>CODICEEDIFICIO</th>\n",
       "      <th>SCUOLABUS</th>\n",
       "      <th>TRASPORTIPUBBLICIURBANI</th>\n",
       "      <th>TRASPORTIPUBBLICIINTERURBANI</th>\n",
       "      <th>TRASPORTIFERROVIARI</th>\n",
       "      <th>MEZZIPRIVATI</th>\n",
       "      <th>TRASPORTODISABILI</th>\n",
       "      <th>ALTRO</th>\n",
       "    </tr>\n",
       "  </thead>\n",
       "  <tbody>\n",
       "    <tr>\n",
       "      <th>7057</th>\n",
       "      <td>201516</td>\n",
       "      <td>BOTD01701E</td>\n",
       "      <td>370540460</td>\n",
       "      <td>NO</td>\n",
       "      <td>SI</td>\n",
       "      <td>SI</td>\n",
       "      <td>NO</td>\n",
       "      <td>SI</td>\n",
       "      <td>NO</td>\n",
       "      <td>Non Comunicato</td>\n",
       "    </tr>\n",
       "  </tbody>\n",
       "</table>\n",
       "</div>"
      ],
      "text/plain": [
       "      ANNOSCOLASTICO  CODICESCUOLA   CODICEEDIFICIO  SCUOLABUS  \\\n",
       "7057          201516    BOTD01701E        370540460         NO   \n",
       "\n",
       "      TRASPORTIPUBBLICIURBANI  TRASPORTIPUBBLICIINTERURBANI  \\\n",
       "7057                       SI                            SI   \n",
       "\n",
       "      TRASPORTIFERROVIARI  MEZZIPRIVATI  TRASPORTODISABILI           ALTRO  \n",
       "7057                   NO            SI                 NO  Non Comunicato  "
      ]
     },
     "execution_count": 159,
     "metadata": {},
     "output_type": "execute_result"
    }
   ],
   "source": [
    "raggiungibilita_itc_mattei"
   ]
  },
  {
   "cell_type": "code",
   "execution_count": 160,
   "metadata": {},
   "outputs": [],
   "source": [
    "mezzi_x_mattei=raggiungibilita_itc_mattei[[' SCUOLABUS',' TRASPORTIPUBBLICIURBANI',' TRASPORTIPUBBLICIINTERURBANI',' TRASPORTIFERROVIARI', ' MEZZIPRIVATI', ' TRASPORTODISABILI']]"
   ]
  },
  {
   "cell_type": "code",
   "execution_count": 163,
   "metadata": {},
   "outputs": [],
   "source": [
    "mezzi_x_mattei = mezzi_x_mattei.eq('SI').mul(1)"
   ]
  },
  {
   "cell_type": "code",
   "execution_count": 162,
   "metadata": {},
   "outputs": [
    {
     "data": {
      "text/html": [
       "<div>\n",
       "<style scoped>\n",
       "    .dataframe tbody tr th:only-of-type {\n",
       "        vertical-align: middle;\n",
       "    }\n",
       "\n",
       "    .dataframe tbody tr th {\n",
       "        vertical-align: top;\n",
       "    }\n",
       "\n",
       "    .dataframe thead th {\n",
       "        text-align: right;\n",
       "    }\n",
       "</style>\n",
       "<table border=\"1\" class=\"dataframe\">\n",
       "  <thead>\n",
       "    <tr style=\"text-align: right;\">\n",
       "      <th></th>\n",
       "      <th>SCUOLABUS</th>\n",
       "      <th>TRASPORTIPUBBLICIURBANI</th>\n",
       "      <th>TRASPORTIPUBBLICIINTERURBANI</th>\n",
       "      <th>TRASPORTIFERROVIARI</th>\n",
       "      <th>MEZZIPRIVATI</th>\n",
       "      <th>TRASPORTODISABILI</th>\n",
       "    </tr>\n",
       "  </thead>\n",
       "  <tbody>\n",
       "    <tr>\n",
       "      <th>7057</th>\n",
       "      <td>0</td>\n",
       "      <td>1</td>\n",
       "      <td>1</td>\n",
       "      <td>0</td>\n",
       "      <td>1</td>\n",
       "      <td>0</td>\n",
       "    </tr>\n",
       "  </tbody>\n",
       "</table>\n",
       "</div>"
      ],
      "text/plain": [
       "      SCUOLABUS  TRASPORTIPUBBLICIURBANI  TRASPORTIPUBBLICIINTERURBANI  \\\n",
       "7057          0                        1                             1   \n",
       "\n",
       "      TRASPORTIFERROVIARI  MEZZIPRIVATI  TRASPORTODISABILI  \n",
       "7057                    0             1                  0  "
      ]
     },
     "execution_count": 162,
     "metadata": {},
     "output_type": "execute_result"
    }
   ],
   "source": [
    "mezzi_x_mattei"
   ]
  },
  {
   "cell_type": "markdown",
   "metadata": {},
   "source": [
    "## Voglio vedere dove si trova l'edificio su una mappa!\n",
    "\n",
    "per farlo serve <a name=\"potenziarepython\">potenziare python</a> con due moduli:\n",
    "- geocoder\n",
    "  modulo che permette di geocodificare gli indirizzi ( = da toponimo a coordinate geografiche)\n",
    "- folium\n",
    "  modulo che permette di creare mappe online\n",
    "\n",
    "\n",
    "Se si sta usando anaconda questo può essere fatto con queste istruzioni\n",
    "```bash\n",
    "import sys\n",
    "!conda install -c conda-forge --yes --prefix {sys.prefix} geocoder\n",
    "!conda install -c conda-forge --yes --prefix {sys.prefix} folium\n",
    "```\n",
    "\n",
    "altrimenti con pip \n",
    "```bash\n",
    "import sys\n",
    "!{sys.executable} -m pip install geocoder\n",
    "!{sys.executable} -m pip install folium\n",
    "```\n"
   ]
  },
  {
   "cell_type": "code",
   "execution_count": 168,
   "metadata": {},
   "outputs": [
    {
     "name": "stdout",
     "output_type": "stream",
     "text": [
      "Collecting geocoder\n",
      "  Using cached https://files.pythonhosted.org/packages/4f/6b/13166c909ad2f2d76b929a4227c952630ebaf0d729f6317eb09cbceccbab/geocoder-1.38.1-py2.py3-none-any.whl\n",
      "Collecting six (from geocoder)\n",
      "  Using cached https://files.pythonhosted.org/packages/67/4b/141a581104b1f6397bfa78ac9d43d8ad29a7ca43ea90a2d863fe3056e86a/six-1.11.0-py2.py3-none-any.whl\n",
      "Collecting future (from geocoder)\n",
      "Collecting ratelim (from geocoder)\n",
      "  Using cached https://files.pythonhosted.org/packages/f2/98/7e6d147fd16a10a5f821db6e25f192265d6ecca3d82957a4fdd592cad49c/ratelim-0.1.6-py2.py3-none-any.whl\n",
      "Collecting click (from geocoder)\n",
      "  Using cached https://files.pythonhosted.org/packages/34/c1/8806f99713ddb993c5366c362b2f908f18269f8d792aff1abfd700775a77/click-6.7-py2.py3-none-any.whl\n",
      "Collecting requests (from geocoder)\n",
      "  Using cached https://files.pythonhosted.org/packages/49/df/50aa1999ab9bde74656c2919d9c0c085fd2b3775fd3eca826012bef76d8c/requests-2.18.4-py2.py3-none-any.whl\n",
      "Collecting decorator (from ratelim->geocoder)\n",
      "  Using cached https://files.pythonhosted.org/packages/bc/bb/a24838832ba35baf52f32ab1a49b906b5f82fb7c76b2f6a7e35e140bac30/decorator-4.3.0-py2.py3-none-any.whl\n",
      "Collecting idna<2.7,>=2.5 (from requests->geocoder)\n",
      "  Using cached https://files.pythonhosted.org/packages/27/cc/6dd9a3869f15c2edfab863b992838277279ce92663d334df9ecf5106f5c6/idna-2.6-py2.py3-none-any.whl\n",
      "Collecting urllib3<1.23,>=1.21.1 (from requests->geocoder)\n",
      "  Using cached https://files.pythonhosted.org/packages/63/cb/6965947c13a94236f6d4b8223e21beb4d576dc72e8130bd7880f600839b8/urllib3-1.22-py2.py3-none-any.whl\n",
      "Collecting certifi>=2017.4.17 (from requests->geocoder)\n",
      "  Using cached https://files.pythonhosted.org/packages/7c/e6/92ad559b7192d846975fc916b65f667c7b8c3a32bea7372340bfe9a15fa5/certifi-2018.4.16-py2.py3-none-any.whl\n",
      "Collecting chardet<3.1.0,>=3.0.2 (from requests->geocoder)\n",
      "  Using cached https://files.pythonhosted.org/packages/bc/a9/01ffebfb562e4274b6487b4bb1ddec7ca55ec7510b22e4c51f14098443b8/chardet-3.0.4-py2.py3-none-any.whl\n",
      "Installing collected packages: six, future, decorator, ratelim, click, idna, urllib3, certifi, chardet, requests, geocoder\n",
      "Successfully installed certifi-2018.4.16 chardet-3.0.4 click-6.7 decorator-4.3.0 future-0.16.0 geocoder-1.38.1 idna-2.6 ratelim-0.1.6 requests-2.18.4 six-1.11.0 urllib3-1.22\n",
      "Collecting folium\n",
      "Collecting requests (from folium)\n",
      "  Using cached https://files.pythonhosted.org/packages/49/df/50aa1999ab9bde74656c2919d9c0c085fd2b3775fd3eca826012bef76d8c/requests-2.18.4-py2.py3-none-any.whl\n",
      "Collecting six (from folium)\n",
      "  Using cached https://files.pythonhosted.org/packages/67/4b/141a581104b1f6397bfa78ac9d43d8ad29a7ca43ea90a2d863fe3056e86a/six-1.11.0-py2.py3-none-any.whl\n",
      "Collecting jinja2 (from folium)\n",
      "  Using cached https://files.pythonhosted.org/packages/7f/ff/ae64bacdfc95f27a016a7bed8e8686763ba4d277a78ca76f32659220a731/Jinja2-2.10-py2.py3-none-any.whl\n",
      "Collecting branca (from folium)\n",
      "  Using cached https://files.pythonhosted.org/packages/c3/fe/c140768eaf9d14ef6e844d0e9679b7085d87ceeaa578020fd6fed679d74c/branca-0.2.0-py3-none-any.whl\n",
      "Collecting chardet<3.1.0,>=3.0.2 (from requests->folium)\n",
      "  Using cached https://files.pythonhosted.org/packages/bc/a9/01ffebfb562e4274b6487b4bb1ddec7ca55ec7510b22e4c51f14098443b8/chardet-3.0.4-py2.py3-none-any.whl\n",
      "Collecting certifi>=2017.4.17 (from requests->folium)\n",
      "  Using cached https://files.pythonhosted.org/packages/7c/e6/92ad559b7192d846975fc916b65f667c7b8c3a32bea7372340bfe9a15fa5/certifi-2018.4.16-py2.py3-none-any.whl\n",
      "Collecting urllib3<1.23,>=1.21.1 (from requests->folium)\n",
      "  Using cached https://files.pythonhosted.org/packages/63/cb/6965947c13a94236f6d4b8223e21beb4d576dc72e8130bd7880f600839b8/urllib3-1.22-py2.py3-none-any.whl\n",
      "Collecting idna<2.7,>=2.5 (from requests->folium)\n",
      "  Using cached https://files.pythonhosted.org/packages/27/cc/6dd9a3869f15c2edfab863b992838277279ce92663d334df9ecf5106f5c6/idna-2.6-py2.py3-none-any.whl\n",
      "Collecting MarkupSafe>=0.23 (from jinja2->folium)\n",
      "Installing collected packages: chardet, certifi, urllib3, idna, requests, six, MarkupSafe, jinja2, branca, folium\n",
      "Successfully installed MarkupSafe-1.0 branca-0.2.0 certifi-2018.4.16 chardet-3.0.4 folium-0.5.0 idna-2.6 jinja2-2.10 requests-2.18.4 six-1.11.0 urllib3-1.22\n"
     ]
    }
   ],
   "source": [
    "import sys\n",
    "!{sys.executable} -m pip install geocoder\n",
    "!{sys.executable} -m pip install folium"
   ]
  },
  {
   "cell_type": "markdown",
   "metadata": {},
   "source": [
    "--- \n",
    "\n",
    "ed ora cominciamo con il ricavare i dati necessari al geocoder\n",
    "\n",
    "si tratta di creare una stringa formattata in questo modo\n",
    "\n",
    "*indirizzo della scuola, comune, italia*"
   ]
  },
  {
   "cell_type": "code",
   "execution_count": 169,
   "metadata": {},
   "outputs": [],
   "source": [
    "cerca_indirizzo = scuola.INDIRIZZOSCUOLA.values[0]\n",
    "cerca_indirizzo += \", \" + scuola.DESCRIZIONECOMUNE.values[0]\n",
    "cerca_indirizzo += \", Italia\"\n",
    "nome_scuola = scuola.DENOMINAZIONESCUOLA.values[0]"
   ]
  },
  {
   "cell_type": "code",
   "execution_count": 170,
   "metadata": {},
   "outputs": [
    {
     "data": {
      "text/plain": [
       "'VIA DELLE RIMEMBRANZE 26, SAN LAZZARO DI SAVENA, Italia'"
      ]
     },
     "execution_count": 170,
     "metadata": {},
     "output_type": "execute_result"
    }
   ],
   "source": [
    "cerca_indirizzo"
   ]
  },
  {
   "cell_type": "markdown",
   "metadata": {},
   "source": [
    "ed ora serve un geocoder\n",
    "Possiamo sceglierne diversi (google, bing, openstreetmap ...)\n",
    "\n",
    "Come scelta prendiamo **komoot** che è libero e basato su openstreetmap"
   ]
  },
  {
   "cell_type": "code",
   "execution_count": 1,
   "metadata": {},
   "outputs": [
    {
     "ename": "NameError",
     "evalue": "name 'cerca_indirizzo' is not defined",
     "output_type": "error",
     "traceback": [
      "\u001b[0;31m---------------------------------------------------------------------------\u001b[0m",
      "\u001b[0;31mNameError\u001b[0m                                 Traceback (most recent call last)",
      "\u001b[0;32m<ipython-input-1-f085a3cea715>\u001b[0m in \u001b[0;36m<module>\u001b[0;34m()\u001b[0m\n\u001b[1;32m      1\u001b[0m \u001b[0;32mimport\u001b[0m \u001b[0mgeocoder\u001b[0m\u001b[0;34m\u001b[0m\u001b[0m\n\u001b[0;32m----> 2\u001b[0;31m \u001b[0mcoordinatescuola\u001b[0m \u001b[0;34m=\u001b[0m \u001b[0mgeocoder\u001b[0m\u001b[0;34m.\u001b[0m\u001b[0mkomoot\u001b[0m\u001b[0;34m(\u001b[0m\u001b[0mcerca_indirizzo\u001b[0m\u001b[0;34m)\u001b[0m\u001b[0;34m\u001b[0m\u001b[0m\n\u001b[0m",
      "\u001b[0;31mNameError\u001b[0m: name 'cerca_indirizzo' is not defined"
     ]
    }
   ],
   "source": [
    "import geocoder\n",
    "coordinatescuola = geocoder.komoot(cerca_indirizzo)"
   ]
  },
  {
   "cell_type": "code",
   "execution_count": null,
   "metadata": {},
   "outputs": [],
   "source": [
    "coordinatescuola.latlng"
   ]
  },
  {
   "cell_type": "markdown",
   "metadata": {},
   "source": [
    "ed ora che ho le coordinate costruisco la mappa usando folium"
   ]
  },
  {
   "cell_type": "code",
   "execution_count": null,
   "metadata": {},
   "outputs": [],
   "source": [
    "import folium\n",
    "mappa = folium.Map(location=[coordinatescuola.latlng[0], coordinatescuola.latlng[1]],zoom_start=17)\n",
    "folium.Marker([coordinatescuola.latlng[0], coordinatescuola.latlng[1]], popup=nome_scuola).add_to(mappa)\n",
    "mappa"
   ]
  },
  {
   "cell_type": "markdown",
   "metadata": {},
   "source": [
    "!['la mappa intorno all'Enrico Mattei'](https://raw.githubusercontent.com/napo/opendatamiur/master/images/mappa_esempio.png)"
   ]
  },
  {
   "cell_type": "markdown",
   "metadata": {},
   "source": [
    "***... ed ora tocca a voi :)***\n",
    "\n",
    "---"
   ]
  },
  {
   "cell_type": "markdown",
   "metadata": {},
   "source": [
    "# RIASSUNTO PYTHON\n",
    "## importare moduli \n",
    "vanno caricati (*import*) e in alcuni [casi installati](#potenziarepython)\n",
    "\n",
    "questi i moduli usati\n",
    "```python\n",
    "     import requests\n",
    "     import io\n",
    "     import pandas as panda\n",
    "     import geocode\n",
    "     import folium\n",
    "```\n",
    "## caricare un file csv da un server remoto e trasformarlo in DataFrame pandas\n",
    "per fare questo abbiamo creato una [funzione](#funzionepython)\n",
    "\n",
    "```python\n",
    "   def tabellaMIUR(url):\n",
    "        datiremoti = requests.get(url).content\n",
    "        tabella = panda.read_csv(io.StringIO(datiremoti.decode('utf-8')))\n",
    "        return tabella\n",
    "```\n",
    "## metodi per interrogare un DataFrame (tabella) pandas\n",
    "(nell'esempio *nometabella*)\n",
    "\n",
    "### conoscere le prime 3 righe (ma il valore possiamo cambiarlo\n",
    "```python\n",
    "   nometabella.head(3)\n",
    "```\n",
    "### la forma della tabella (numero di righe e numero di colonne)\n",
    "```python\n",
    "   nometabella.shape\n",
    "```\n",
    "####  e da lì il numero di righe\n",
    "```python\n",
    "   nometabella.shape[0]\n",
    "```\n",
    "#### e il numero di colonne\n",
    "```python\n",
    "   nometabella.shape[1]\n",
    "```\n",
    "#### i nomi delle colonne\n",
    "```python\n",
    "   nometabella.columns\n",
    "```\n",
    "#### e contare quante sono\n",
    "```python\n",
    "   nometabella.columns.size\n",
    "```\n",
    "####  avere una descrizione su come è fatta una colonna di un dataframe partendo dal suo nome \n",
    "(es. *nomecolonna*))\n",
    "```python\n",
    "   nometabella.nomecolonna.describe()\n",
    "```\n",
    "\n",
    "## unire più DataFrame \n",
    "```python\n",
    "   panda.concat([tabella1, tabella2])\n",
    "```\n",
    "## confrontare colonne fra tabelle diverse \n",
    "(es. *tabella1* e *tabella2*)\n",
    "```python\n",
    "   tabella1.columns.equals(tabella2.columns)\n",
    "```\n",
    "##  vedere cosa cambia fra le colonne delle due tabelle\n",
    "```python\n",
    "   tabella1.columns.difference(tabella2.columns)\n",
    "```\n",
    "\n",
    "## individuare i valori univoci all'interno di una colonna\n",
    "```python\n",
    "   nometabella.nomecolonna.unique()\n",
    "```\n",
    "## contare quante volte si ripetono i valori di una colonna\n",
    "```python\n",
    "   nometabella.groupby(nometabella.nomecolonna).size()\n",
    "```\n",
    "## ordinare una tabella per i valori di una colonna\n",
    "```python\n",
    "   nometabella.sort_values(\"nomecolonna\")\n",
    "```\n",
    "## filtrare una tabella per un valore di una colonna\n",
    "```python\n",
    "   nometabella[nometabella.nomeoclonna == 'valore da cercare']\n",
    "```\n",
    "## trasformare tutti i valori di una tabella con un altro\n",
    "Esempio: trasformare tutti i \"SI\" in \"1\"\n",
    "```python\n",
    "    nometabella.eq('SI').mul(1)\n",
    "```\n",
    "\n",
    "## ribaltare righe con colonne (pivot)\n",
    "### scegliendo quale colonna usare come indice\n",
    "```python\n",
    "   nometabella.pivot_table(index='colonnacomeindice')\n",
    "```\n",
    "#### e se necessario assegnare il valore zero dove i valori mancano\n",
    "```python\n",
    "   nometabella.pivot_table(index='colonnasceltacomeindice').fillna(0)\n",
    "```\n",
    "#### ed anche più complesse dove sommare i valori  presenti in una colonna\n",
    "```python\n",
    "   nometabella.pivot_table(index='colonnasceltacomeindice', columns='colonnescelte', values='colonnaconivalori',\n",
    "                aggfunc='sum', fill_value=0)\n",
    "```\n",
    "\n",
    "\n",
    "## rappresentare i valori di un dataframe in grafico a barre verticali\n",
    "e con dimensioni 10x10 in DPI [punti per pollice](https://it.wikipedia.org/wiki/Punti_per_pollice) e assegnare un titolo\n",
    "```python\n",
    "   nometabella.plot.bar(title='titolo',figsize[10,10])\n",
    "```\n",
    "### e a barre orizzontali\n",
    "```python\n",
    "   nometabella.plot.barh(title='titolo',figsize[10,10])\n",
    "```\n",
    "### e a barre orizzontali a segmenti\n",
    "```python\n",
    "    nometabella.plot.bar(stacked=True,figsize=(10,10))\n",
    "```\n",
    "### e a barre verticali a segmenti scegliendo i colori\n",
    "*colormap* è una variabile che può essere in ogni grafico.\n",
    "\n",
    "l'elenco dei colori si trova qui https://matplotlib.org/examples/color/colormaps_reference.html\n",
    "```python\n",
    "    nometabella.plot.hbar(stacked=True,figsize=[10,10],colormap='Pastel2')\n",
    "```\n",
    "\n",
    "## usare un geocoder\n",
    "con komoot\n",
    "\n",
    "```python\n",
    "geocoder.komoot(\"Via Paolo Nanni Costa, 14, Bologna, Italia\")\n",
    "```\n",
    "con google\n",
    "\n",
    "```python\n",
    "geocoder.google(\"Opificio Golinelli\")\n",
    "```\n",
    "### ed estrarre latitudine e longitudine\n",
    "```python\n",
    "   opificio_gollinelli = geocoder.komoot(\"Opificio Gollinelli\")\n",
    "   latitudine = opificio_gollinelli.latlng[0]\n",
    "   longitudine = opificio_gollinelli.latlng[1]\n",
    "```\n",
    "\n",
    "\n",
    "## rappresentare un punto su una mappa\n",
    "es.\n",
    "latitudine = 44.5082397\n",
    "longitudine = 11.3066287\n",
    "\n",
    "```python\n",
    "    mappa = folium.Map(location=[44.5082397, 11.3066287])\n",
    "    folium.Marker([44.5082397, 11.3066287]).add_to(mappa)\n",
    "```\n"
   ]
  }
 ],
 "metadata": {
  "kernelspec": {
   "display_name": "Python 3",
   "language": "python",
   "name": "python3"
  },
  "language_info": {
   "codemirror_mode": {
    "name": "ipython",
    "version": 3
   },
   "file_extension": ".py",
   "mimetype": "text/x-python",
   "name": "python",
   "nbconvert_exporter": "python",
   "pygments_lexer": "ipython3",
   "version": "3.6.5"
  }
 },
 "nbformat": 4,
 "nbformat_minor": 2
}
