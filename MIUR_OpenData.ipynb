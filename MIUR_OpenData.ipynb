{
 "cells": [
  {
   "cell_type": "markdown",
   "metadata": {},
   "source": [
    "# SCOPRIRE GLI OPENDATA DELLA SCUOLA ITALIANA\n",
    "\n",
    "![open data miur](http://dati.istruzione.it/opendata/img/pagine-interne/copertina-open-data.jpg)\n",
    "\n"
   ]
  },
  {
   "cell_type": "markdown",
   "metadata": {},
   "source": [
    "![](http://dati.istruzione.it/opendata/img/home/home_icon_01_opendata.png)\n",
    "# [I DATI DISPONIBILI](#opendatalist)\n",
    "http://dati.istruzione.it/opendata/opendata/\n",
    "\n",
    "---\n",
    "# SCUOLE\n",
    "<img src=\"http://dati.istruzione.it/opendata/img/pagine-interne/CTSCUOLA.svg\" width=\"100\" align=\"right\">\n",
    "## [Informazioni anagrafiche scuole](#anagraficascuole)\n",
    "http://dati.istruzione.it/opendata/opendata/catalogo/elements1/?area=Scuole\n",
    "\n",
    "sono presenti i dati con le informazioni riguardanti l'anagrafe delle scuole negli anni scolastici \n",
    "* scuole statali\n",
    "* scuole paritarie\n",
    "* scuole statali delle province autonome di Trento, Bolzano e Aosta\n",
    "* scuole paritarie delle province autonome di Trento, Bolzano e Aosta\n",
    "\n",
    "Gli anni scolastici presi in considerazione sono: **2015/2016, 2016,2017 e 2017/2018**.\n",
    "\n",
    "---\n",
    "# STUDENTI\n",
    "<img src=\"http://dati.istruzione.it/opendata/img/pagine-interne/CTSTUDENTI.svg\" width=\"100\" align=\"right\">\n",
    "## [informazioni sugli studenti](#anagraficastudenti)\n",
    "http://dati.istruzione.it/opendata/opendata/catalogo/elements1/?area=Studenti\n",
    "### [Studenti per anno di corso e fascia di età](#studentifasceeta).\n",
    "informazioni riguardanti il numero degli studenti per anno di corso e fascia di eta'. \n",
    "* scuole statali\n",
    "* scuole paritarie\n",
    "\n",
    "Gli anni scolastici presi in considerazione sono: **2015/2016 e 2016/2017**.\n",
    "\n",
    "### [Studenti per anno di corso, classe e genere](#studenticlassegenere) \n",
    "informazioni riguardanti il numero degli studenti per anno di corso, classe e genere. \n",
    "* scuole statali\n",
    "* scuole paritarie\n",
    "\n",
    "Gli anni scolastici presi in considerazione sono: **2015/2016 e 2016/2017**.\n",
    "\n",
    "---\n",
    "# EDILIZIA\n",
    "<img src=\"http://dati.istruzione.it/opendata/img/pagine-interne/CTEDILIZIA.svg\" width=\"100\" align=\"right\">\n",
    "## [Edilizia Scolastica](#edilizia)\n",
    "http://dati.istruzione.it/opendata/opendata/catalogo/elements1/?area=Edilizia%20Scolastica\n",
    "### [Elenco degli edifici scolastici attivi e loro locazione](#edifici)\n",
    "informazioni riguardanti l'anagrafica dell'edificio scolastico e la sua localizzazione\n",
    "* scuole statali\n",
    "\n",
    "Sono presenti i dati per l'anno scolastico **2015/2016**.\n",
    "\n",
    "\n",
    "### [Presenza di macro ambiti funzionali degli edifici scolastici (palestra, mensa..)](#edificiextra)\n",
    "informazioni riguardanti la presenza o meno di macro ambiti funzionali relativamente\n",
    "* scuole statali\n",
    "\n",
    "Sono presenti i dati per l'anno scolastico **2015/2016**.\n",
    "\n",
    "\n",
    "### [Raggiungibilità degli edifici scolastici (mezzi pubblici, scuolabus..)](#raggiungibilita)\n",
    "informazioni riguardanti la raggiungibilita' del plesso attraverso differenti modalita' di trasporto relativamente alle scuole Statali di ogni ordine e grado. \n",
    "* scuole statali\n",
    "\n",
    "Sono presenti i dati per l'anno scolastico **2015/2016**.\n",
    "\n",
    "---\n",
    "# VALUTAZIONE\n",
    "<img src=\"http://dati.istruzione.it/opendata/img/pagine-interne/CTSISTEMA.svg\" width=\"100\" align=\"right\">\n",
    "## [SISTEMA NAZIONALE DI VALUTAZIONE](#valutazione)\n",
    "http://dati.istruzione.it/opendata/opendata/catalogo/elements1/?area=Sistema%20Nazionale%20di%20Valutazione\n",
    "### [regole valutazione utilizzata dalla scuola per l'autovalutazione.](#regolevalutazione)\n",
    "informazioni riguardanti la rubrica di valutazione di ciascun criterio di qualita' utilizzato per l'autovalutazione delle sezioni Esiti e Processi. Scuola statale e scuola paritaria. \n",
    "* scuole statali\n",
    "* scuole paritarie\n",
    "\n",
    "Sono presenti i dati per l'anno scolastico **2015/2016 e 2016/2017**.\n",
    "\n",
    "\n",
    "### [Autovalutazione della scuola sezione ESITI.](#autovalutazioneesiti)\n",
    "informazioni riguardanti l'autovalutazione in termini di: risultati scolastici, risultati nelle prove standardizzate nazionali, competenze chiave e di cittadinanza, risultati a distanza. \n",
    "* scuole statali\n",
    "* scuole paritarie\n",
    "\n",
    "\n",
    "Sono presenti i dati per l'anno scolastico **2015/2016 e 2016/2017**.\n",
    "\n",
    "\n",
    "### [Autovalutazione della scuola sezione PROCESSI)](#autovalutazioneprocessi)\n",
    "informazioni riguardanti l'autovalutazione in termini di: curricolo, progettazione e valutazione, abiente di apprendimento, inclusione e differenziazione, continuità e orientamento, orientamento strategico e organizzazione della scuola, sviluppo e valorizzazione delle risorse umane, integrazione con il territorio e rapporti con le famiglie\n",
    "* scuole statali\n",
    "* scuole paritarie\n",
    "\n",
    "\n",
    "Sono presenti i dati per l'anno scolastico **2015/2016 e 2016/2017**.\n",
    "\n",
    "---\n",
    "# PERSONALE SCUOLA\n",
    "<img src=\"http://dati.istruzione.it/opendata/img/pagine-interne/CTPERSONALE.svg\" width=\"100\" align=\"right\">\n",
    "## [PERSONALE DOCENTE E NON DOCENTE](#personale)\n",
    "http://dati.istruzione.it/opendata/opendata/catalogo/elements1/?area=Personale%20Scuola\n",
    "### [Docenti a tempo indeterminato](#docentiindeterminati)\n",
    "informazioni riguardanti il numero del personale supplente docente per grado di istruzione, tipo posto, tipo supplenza, genere e fascia di età\n",
    "* scuole statali\n",
    "\n",
    "Sono presenti i dati per l'anno scolastico **2015/2016 e 2016/2017**.\n",
    "\n",
    "\n",
    "### [ATA a tempo indeterminato](#ataindeterminati)\n",
    "informazioni riguardanti il numero del personale titolare ATA per genere e fascia di eta'. \n",
    "* scuole statali\n",
    "\n",
    "Sono presenti i dati per l'anno scolastico **2015/2016 e 2016/2017**.\n",
    "\n",
    "### [Docenti a tempo determinato](#docentideterminati)\n",
    "informazioni riguardanti il numero del personale supplente docente per grado di istruzione, tipo posto, tipo supplenza, genere e fascia di età\n",
    "* scuole statali\n",
    "\n",
    "Sono presenti i dati per l'anno scolastico **2015/2016 e 2016/2017**.\n",
    "\n",
    "\n",
    "### [ATA a tempo determinato](#atadeterminati)\n",
    "informazioni riguardanti il numero del personale titolare ATA per genere e fascia di eta'. \n",
    "* scuole statali\n",
    "\n",
    "Sono presenti i dati per l'anno scolastico **2015/2016 e 2016/2017**.\n"
   ]
  },
  {
   "cell_type": "markdown",
   "metadata": {},
   "source": [
    "---\n",
    "# INIZIAMO AD INVESTIGARE I DATI\n",
    "![](https://upload.wikimedia.org/wikipedia/commons/thumb/a/a4/Magnifying_glass_with_focus_on_glass.png/640px-Magnifying_glass_with_focus_on_glass.png)"
   ]
  },
  {
   "cell_type": "markdown",
   "metadata": {},
   "source": [
    "![](https://upload.wikimedia.org/wikipedia/commons/thumb/4/4a/Python3-powered_hello-world.svg/200px-Python3-powered_hello-world.svg.png)"
   ]
  },
  {
   "cell_type": "markdown",
   "metadata": {},
   "source": [
    "# RECUPERARE I DATI"
   ]
  },
  {
   "cell_type": "code",
   "execution_count": 1,
   "metadata": {},
   "outputs": [],
   "source": [
    "import requests\n",
    "# questo è l'indirizzo con l'elenco delle scuole d'Italia - 13mb!\n",
    "# anno scolastico 2017/2018 raccolti il 01/09/2017\n",
    "url='http://dati.istruzione.it/opendata/opendata/catalogo/elements1/SCUANAGRAFESTAT20171820170901.csv'\n",
    "datiremoti=requests.get(url).content"
   ]
  },
  {
   "cell_type": "markdown",
   "metadata": {},
   "source": [
    "<center><h3>Diamo a python i poteri del panda</h3></center>\n",
    "![Kung fu panda](https://i2.wp.com/de.straba.us/wp-content/uploads/2018/03/1gKYCyrcudAeE5e5KAbRhBQ-620x180-1.jpeg)"
   ]
  },
  {
   "cell_type": "code",
   "execution_count": 2,
   "metadata": {},
   "outputs": [],
   "source": [
    "import pandas as pd\n",
    "import io #... e quelli per leggere il file .csv :)\n",
    "scuole=pd.read_csv(io.StringIO(datiremoti.decode('utf-8')))"
   ]
  },
  {
   "cell_type": "markdown",
   "metadata": {},
   "source": [
    "... una sbirciatina alle prime righe"
   ]
  },
  {
   "cell_type": "code",
   "execution_count": 3,
   "metadata": {
    "scrolled": true
   },
   "outputs": [
    {
     "data": {
      "text/html": [
       "<div>\n",
       "<style scoped>\n",
       "    .dataframe tbody tr th:only-of-type {\n",
       "        vertical-align: middle;\n",
       "    }\n",
       "\n",
       "    .dataframe tbody tr th {\n",
       "        vertical-align: top;\n",
       "    }\n",
       "\n",
       "    .dataframe thead th {\n",
       "        text-align: right;\n",
       "    }\n",
       "</style>\n",
       "<table border=\"1\" class=\"dataframe\">\n",
       "  <thead>\n",
       "    <tr style=\"text-align: right;\">\n",
       "      <th></th>\n",
       "      <th>ANNOSCOLASTICO</th>\n",
       "      <th>AREAGEOGRAFICA</th>\n",
       "      <th>REGIONE</th>\n",
       "      <th>PROVINCIA</th>\n",
       "      <th>CODICEISTITUTORIFERIMENTO</th>\n",
       "      <th>DENOMINAZIONEISTITUTORIFERIMENTO</th>\n",
       "      <th>CODICESCUOLA</th>\n",
       "      <th>DENOMINAZIONESCUOLA</th>\n",
       "      <th>INDIRIZZOSCUOLA</th>\n",
       "      <th>CAPSCUOLA</th>\n",
       "      <th>CODICECOMUNESCUOLA</th>\n",
       "      <th>DESCRIZIONECOMUNE</th>\n",
       "      <th>DESCRIZIONECARATTERISTICASCUOLA</th>\n",
       "      <th>DESCRIZIONETIPOLOGIAGRADOISTRUZIONESCUOLA</th>\n",
       "      <th>INDICAZIONESEDEDIRETTIVO</th>\n",
       "      <th>INDICAZIONESEDEOMNICOMPRENSIVO</th>\n",
       "      <th>INDIRIZZOEMAILSCUOLA</th>\n",
       "      <th>INDIRIZZOPECSCUOLA</th>\n",
       "      <th>SITOWEBSCUOLA</th>\n",
       "      <th>SEDESCOLASTICA</th>\n",
       "    </tr>\n",
       "  </thead>\n",
       "  <tbody>\n",
       "    <tr>\n",
       "      <th>0</th>\n",
       "      <td>201718</td>\n",
       "      <td>NORD EST</td>\n",
       "      <td>VENETO</td>\n",
       "      <td>BELLUNO</td>\n",
       "      <td>BLIC816001</td>\n",
       "      <td>IC TRICHIANA</td>\n",
       "      <td>BLMM816023</td>\n",
       "      <td>\"D. BUZZATI\" LIMANA</td>\n",
       "      <td>VIA TOFANE 1</td>\n",
       "      <td>32020</td>\n",
       "      <td>E588</td>\n",
       "      <td>LIMANA</td>\n",
       "      <td>NORMALE</td>\n",
       "      <td>SCUOLA PRIMO GRADO</td>\n",
       "      <td>NO</td>\n",
       "      <td>Non Disponibile</td>\n",
       "      <td>BLIC816001@istruzione.it</td>\n",
       "      <td>Non Disponibile</td>\n",
       "      <td>http//www.ictrichiana.gov.it</td>\n",
       "      <td>SI</td>\n",
       "    </tr>\n",
       "    <tr>\n",
       "      <th>1</th>\n",
       "      <td>201718</td>\n",
       "      <td>ISOLE</td>\n",
       "      <td>SARDEGNA</td>\n",
       "      <td>ORISTANO</td>\n",
       "      <td>ORIC82700L</td>\n",
       "      <td>I.C. ORISTANO N. 4</td>\n",
       "      <td>ORMM82701N</td>\n",
       "      <td>S.M. \"ALAGON\"</td>\n",
       "      <td>VIALE ARMANDO DIAZ 83</td>\n",
       "      <td>09170</td>\n",
       "      <td>G113</td>\n",
       "      <td>ORISTANO</td>\n",
       "      <td>NORMALE</td>\n",
       "      <td>SCUOLA PRIMO GRADO</td>\n",
       "      <td>NO</td>\n",
       "      <td>Non Disponibile</td>\n",
       "      <td>ORIC82700L@istruzione.it</td>\n",
       "      <td>Non Disponibile</td>\n",
       "      <td>http//istitutocomprensivo4oristano.gov.it/</td>\n",
       "      <td>SI</td>\n",
       "    </tr>\n",
       "    <tr>\n",
       "      <th>2</th>\n",
       "      <td>201718</td>\n",
       "      <td>NORD OVEST</td>\n",
       "      <td>LOMBARDIA</td>\n",
       "      <td>MONZA-BRIANZA</td>\n",
       "      <td>MIIC8BS00B</td>\n",
       "      <td>ISTITUTO COMPRENSIVO LESMO</td>\n",
       "      <td>MIEE8BS01D</td>\n",
       "      <td>SCUOLA ELEMENTARE \"D.ALIGHIERI\"</td>\n",
       "      <td>VIA DE GASPERI18</td>\n",
       "      <td>20050</td>\n",
       "      <td>D038</td>\n",
       "      <td>CORREZZANA</td>\n",
       "      <td>NORMALE</td>\n",
       "      <td>SCUOLA PRIMARIA</td>\n",
       "      <td>NO</td>\n",
       "      <td>Non Disponibile</td>\n",
       "      <td>MIIC8BS00B@istruzione.it</td>\n",
       "      <td>Non Disponibile</td>\n",
       "      <td>www.istitutocomprensivolesmo.gov.it</td>\n",
       "      <td>SI</td>\n",
       "    </tr>\n",
       "  </tbody>\n",
       "</table>\n",
       "</div>"
      ],
      "text/plain": [
       "   ANNOSCOLASTICO AREAGEOGRAFICA    REGIONE      PROVINCIA  \\\n",
       "0          201718       NORD EST     VENETO        BELLUNO   \n",
       "1          201718          ISOLE   SARDEGNA       ORISTANO   \n",
       "2          201718     NORD OVEST  LOMBARDIA  MONZA-BRIANZA   \n",
       "\n",
       "  CODICEISTITUTORIFERIMENTO DENOMINAZIONEISTITUTORIFERIMENTO CODICESCUOLA  \\\n",
       "0                BLIC816001                     IC TRICHIANA   BLMM816023   \n",
       "1                ORIC82700L               I.C. ORISTANO N. 4   ORMM82701N   \n",
       "2                MIIC8BS00B       ISTITUTO COMPRENSIVO LESMO   MIEE8BS01D   \n",
       "\n",
       "               DENOMINAZIONESCUOLA        INDIRIZZOSCUOLA CAPSCUOLA  \\\n",
       "0              \"D. BUZZATI\" LIMANA           VIA TOFANE 1     32020   \n",
       "1                    S.M. \"ALAGON\"  VIALE ARMANDO DIAZ 83     09170   \n",
       "2  SCUOLA ELEMENTARE \"D.ALIGHIERI\"       VIA DE GASPERI18     20050   \n",
       "\n",
       "  CODICECOMUNESCUOLA DESCRIZIONECOMUNE DESCRIZIONECARATTERISTICASCUOLA  \\\n",
       "0               E588            LIMANA                         NORMALE   \n",
       "1               G113          ORISTANO                         NORMALE   \n",
       "2               D038        CORREZZANA                         NORMALE   \n",
       "\n",
       "  DESCRIZIONETIPOLOGIAGRADOISTRUZIONESCUOLA INDICAZIONESEDEDIRETTIVO  \\\n",
       "0                        SCUOLA PRIMO GRADO                       NO   \n",
       "1                        SCUOLA PRIMO GRADO                       NO   \n",
       "2                           SCUOLA PRIMARIA                       NO   \n",
       "\n",
       "  INDICAZIONESEDEOMNICOMPRENSIVO      INDIRIZZOEMAILSCUOLA INDIRIZZOPECSCUOLA  \\\n",
       "0                Non Disponibile  BLIC816001@istruzione.it    Non Disponibile   \n",
       "1                Non Disponibile  ORIC82700L@istruzione.it    Non Disponibile   \n",
       "2                Non Disponibile  MIIC8BS00B@istruzione.it    Non Disponibile   \n",
       "\n",
       "                                SITOWEBSCUOLA SEDESCOLASTICA  \n",
       "0                http//www.ictrichiana.gov.it             SI  \n",
       "1  http//istitutocomprensivo4oristano.gov.it/             SI  \n",
       "2         www.istitutocomprensivolesmo.gov.it             SI  "
      ]
     },
     "execution_count": 3,
     "metadata": {},
     "output_type": "execute_result"
    }
   ],
   "source": [
    "scuole.head(3)"
   ]
  },
  {
   "cell_type": "markdown",
   "metadata": {},
   "source": [
    "e i nomi delle colonne"
   ]
  },
  {
   "cell_type": "code",
   "execution_count": 4,
   "metadata": {
    "scrolled": true
   },
   "outputs": [
    {
     "data": {
      "text/plain": [
       "Index(['ANNOSCOLASTICO', 'AREAGEOGRAFICA', 'REGIONE', 'PROVINCIA',\n",
       "       'CODICEISTITUTORIFERIMENTO', 'DENOMINAZIONEISTITUTORIFERIMENTO',\n",
       "       'CODICESCUOLA', 'DENOMINAZIONESCUOLA', 'INDIRIZZOSCUOLA', 'CAPSCUOLA',\n",
       "       'CODICECOMUNESCUOLA', 'DESCRIZIONECOMUNE',\n",
       "       'DESCRIZIONECARATTERISTICASCUOLA',\n",
       "       'DESCRIZIONETIPOLOGIAGRADOISTRUZIONESCUOLA', 'INDICAZIONESEDEDIRETTIVO',\n",
       "       'INDICAZIONESEDEOMNICOMPRENSIVO', 'INDIRIZZOEMAILSCUOLA',\n",
       "       'INDIRIZZOPECSCUOLA', 'SITOWEBSCUOLA', 'SEDESCOLASTICA'],\n",
       "      dtype='object')"
      ]
     },
     "execution_count": 4,
     "metadata": {},
     "output_type": "execute_result"
    }
   ],
   "source": [
    " scuole.columns"
   ]
  },
  {
   "cell_type": "markdown",
   "metadata": {},
   "source": [
    "Quante sono?\n",
    "(contiamo il totale dei codici univoci)"
   ]
  },
  {
   "cell_type": "code",
   "execution_count": 5,
   "metadata": {},
   "outputs": [
    {
     "data": {
      "text/plain": [
       "51216"
      ]
     },
     "execution_count": 5,
     "metadata": {},
     "output_type": "execute_result"
    }
   ],
   "source": [
    "scuole.CODICESCUOLA.size"
   ]
  },
  {
   "cell_type": "markdown",
   "metadata": {},
   "source": [
    "e come sono distribute per Regioni?"
   ]
  },
  {
   "cell_type": "code",
   "execution_count": 6,
   "metadata": {
    "scrolled": true
   },
   "outputs": [
    {
     "data": {
      "text/plain": [
       "count         51216\n",
       "unique           18\n",
       "top       LOMBARDIA\n",
       "freq           6494\n",
       "Name: REGIONE, dtype: object"
      ]
     },
     "execution_count": 6,
     "metadata": {},
     "output_type": "execute_result"
    }
   ],
   "source": [
    "scuole.REGIONE.describe()"
   ]
  },
  {
   "cell_type": "markdown",
   "metadata": {},
   "source": [
    "18?? \n",
    "\n",
    "Mancano Regioni ...."
   ]
  },
  {
   "cell_type": "markdown",
   "metadata": {},
   "source": [
    "---\n",
    "\n",
    "## Anagrafica scuole province autonome di Aosta, Trento e Bolzano equiparate a statali.\n",
    "Nel flusso di dati sono contenute le informazioni riguardanti l'anagrafe delle scuole delle province autonome di Aosta, Trento e Bolzano equiparate a scuole statali. \n",
    "\n",
    "anno scolastico 2017/2018 dati del 01/09/2017 - dimensione 314kb\n",
    "\n",
    "http://dati.istruzione.it/opendata/opendata/catalogo/elements1/SCUANAAUTSTAT20171820170901.csv\n"
   ]
  },
  {
   "cell_type": "code",
   "execution_count": 7,
   "metadata": {},
   "outputs": [],
   "source": [
    "url='http://dati.istruzione.it/opendata/opendata/catalogo/elements1/SCUANAAUTSTAT20171820170901.csv'\n",
    "datiremoti=requests.get(url).content\n",
    "scuole_province_autonome=pd.read_csv(io.StringIO(datiremoti.decode('utf-8')))"
   ]
  },
  {
   "cell_type": "code",
   "execution_count": 8,
   "metadata": {},
   "outputs": [],
   "source": [
    "def tabellaMIUR(url):\n",
    "    datiremoti = requests.get(url).content\n",
    "    tabella = pd.read_csv(io.StringIO(datiremoti.decode('utf-8')))\n",
    "    return tabella"
   ]
  },
  {
   "cell_type": "code",
   "execution_count": 13,
   "metadata": {},
   "outputs": [
    {
     "data": {
      "text/plain": [
       "20"
      ]
     },
     "execution_count": 13,
     "metadata": {},
     "output_type": "execute_result"
    }
   ],
   "source": [
    "scuole.columns.size"
   ]
  },
  {
   "cell_type": "code",
   "execution_count": 14,
   "metadata": {},
   "outputs": [
    {
     "data": {
      "text/plain": [
       "19"
      ]
     },
     "execution_count": 14,
     "metadata": {},
     "output_type": "execute_result"
    }
   ],
   "source": [
    "scuole_province_autonome.columns.size"
   ]
  },
  {
   "cell_type": "markdown",
   "metadata": {},
   "source": [
    "---\n",
    "20 contro 19 \n",
    "\n",
    "non sono equivalenti"
   ]
  },
  {
   "cell_type": "code",
   "execution_count": 15,
   "metadata": {},
   "outputs": [
    {
     "data": {
      "text/plain": [
       "False"
      ]
     },
     "execution_count": 15,
     "metadata": {},
     "output_type": "execute_result"
    }
   ],
   "source": [
    "scuole.columns.equals(scuole_province_autonome.columns)"
   ]
  },
  {
   "cell_type": "markdown",
   "metadata": {},
   "source": [
    "in quali campi?"
   ]
  },
  {
   "cell_type": "code",
   "execution_count": 16,
   "metadata": {},
   "outputs": [
    {
     "data": {
      "text/plain": [
       "Index(['SEDESCOLASTICA'], dtype='object')"
      ]
     },
     "execution_count": 16,
     "metadata": {},
     "output_type": "execute_result"
    }
   ],
   "source": [
    "scuole.columns.difference(scuole_province_autonome.columns)"
   ]
  },
  {
   "cell_type": "markdown",
   "metadata": {},
   "source": [
    "Cosa contiene SEDESCOLASTICA?"
   ]
  },
  {
   "cell_type": "code",
   "execution_count": 17,
   "metadata": {},
   "outputs": [
    {
     "data": {
      "text/plain": [
       "count     51216\n",
       "unique        2\n",
       "top          SI\n",
       "freq      41050\n",
       "Name: SEDESCOLASTICA, dtype: object"
      ]
     },
     "execution_count": 17,
     "metadata": {},
     "output_type": "execute_result"
    }
   ],
   "source": [
    "scuole.SEDESCOLASTICA.describe()"
   ]
  },
  {
   "cell_type": "markdown",
   "metadata": {},
   "source": [
    "unique 2 ... quali sono questi due valori possibili?"
   ]
  },
  {
   "cell_type": "code",
   "execution_count": 18,
   "metadata": {},
   "outputs": [
    {
     "data": {
      "text/plain": [
       "array(['SI', 'NO'], dtype=object)"
      ]
     },
     "execution_count": 18,
     "metadata": {},
     "output_type": "execute_result"
    }
   ],
   "source": [
    "scuole.SEDESCOLASTICA.unique()"
   ]
  },
  {
   "cell_type": "code",
   "execution_count": 19,
   "metadata": {},
   "outputs": [],
   "source": [
    "scuole = pd.concat([scuole,scuole_province_autonome])"
   ]
  },
  {
   "cell_type": "code",
   "execution_count": 20,
   "metadata": {},
   "outputs": [
    {
     "data": {
      "text/html": [
       "<div>\n",
       "<style scoped>\n",
       "    .dataframe tbody tr th:only-of-type {\n",
       "        vertical-align: middle;\n",
       "    }\n",
       "\n",
       "    .dataframe tbody tr th {\n",
       "        vertical-align: top;\n",
       "    }\n",
       "\n",
       "    .dataframe thead th {\n",
       "        text-align: right;\n",
       "    }\n",
       "</style>\n",
       "<table border=\"1\" class=\"dataframe\">\n",
       "  <thead>\n",
       "    <tr style=\"text-align: right;\">\n",
       "      <th></th>\n",
       "      <th>ANNOSCOLASTICO</th>\n",
       "      <th>AREAGEOGRAFICA</th>\n",
       "      <th>CAPSCUOLA</th>\n",
       "      <th>CODICECOMUNESCUOLA</th>\n",
       "      <th>CODICEISTITUTORIFERIMENTO</th>\n",
       "      <th>CODICESCUOLA</th>\n",
       "      <th>DENOMINAZIONEISTITUTORIFERIMENTO</th>\n",
       "      <th>DENOMINAZIONESCUOLA</th>\n",
       "      <th>DESCRIZIONECARATTERISTICASCUOLA</th>\n",
       "      <th>DESCRIZIONECOMUNE</th>\n",
       "      <th>DESCRIZIONETIPOLOGIAGRADOISTRUZIONESCUOLA</th>\n",
       "      <th>INDICAZIONESEDEDIRETTIVO</th>\n",
       "      <th>INDICAZIONESEDEOMNICOMPRENSIVO</th>\n",
       "      <th>INDIRIZZOEMAILSCUOLA</th>\n",
       "      <th>INDIRIZZOPECSCUOLA</th>\n",
       "      <th>INDIRIZZOSCUOLA</th>\n",
       "      <th>PROVINCIA</th>\n",
       "      <th>REGIONE</th>\n",
       "      <th>SEDESCOLASTICA</th>\n",
       "      <th>SITOWEBSCUOLA</th>\n",
       "    </tr>\n",
       "  </thead>\n",
       "  <tbody>\n",
       "    <tr>\n",
       "      <th>0</th>\n",
       "      <td>201718</td>\n",
       "      <td>NORD EST</td>\n",
       "      <td>32020</td>\n",
       "      <td>E588</td>\n",
       "      <td>BLIC816001</td>\n",
       "      <td>BLMM816023</td>\n",
       "      <td>IC TRICHIANA</td>\n",
       "      <td>\"D. BUZZATI\" LIMANA</td>\n",
       "      <td>NORMALE</td>\n",
       "      <td>LIMANA</td>\n",
       "      <td>SCUOLA PRIMO GRADO</td>\n",
       "      <td>NO</td>\n",
       "      <td>Non Disponibile</td>\n",
       "      <td>BLIC816001@istruzione.it</td>\n",
       "      <td>Non Disponibile</td>\n",
       "      <td>VIA TOFANE 1</td>\n",
       "      <td>BELLUNO</td>\n",
       "      <td>VENETO</td>\n",
       "      <td>SI</td>\n",
       "      <td>http//www.ictrichiana.gov.it</td>\n",
       "    </tr>\n",
       "    <tr>\n",
       "      <th>1</th>\n",
       "      <td>201718</td>\n",
       "      <td>ISOLE</td>\n",
       "      <td>09170</td>\n",
       "      <td>G113</td>\n",
       "      <td>ORIC82700L</td>\n",
       "      <td>ORMM82701N</td>\n",
       "      <td>I.C. ORISTANO N. 4</td>\n",
       "      <td>S.M. \"ALAGON\"</td>\n",
       "      <td>NORMALE</td>\n",
       "      <td>ORISTANO</td>\n",
       "      <td>SCUOLA PRIMO GRADO</td>\n",
       "      <td>NO</td>\n",
       "      <td>Non Disponibile</td>\n",
       "      <td>ORIC82700L@istruzione.it</td>\n",
       "      <td>Non Disponibile</td>\n",
       "      <td>VIALE ARMANDO DIAZ 83</td>\n",
       "      <td>ORISTANO</td>\n",
       "      <td>SARDEGNA</td>\n",
       "      <td>SI</td>\n",
       "      <td>http//istitutocomprensivo4oristano.gov.it/</td>\n",
       "    </tr>\n",
       "    <tr>\n",
       "      <th>2</th>\n",
       "      <td>201718</td>\n",
       "      <td>NORD OVEST</td>\n",
       "      <td>20050</td>\n",
       "      <td>D038</td>\n",
       "      <td>MIIC8BS00B</td>\n",
       "      <td>MIEE8BS01D</td>\n",
       "      <td>ISTITUTO COMPRENSIVO LESMO</td>\n",
       "      <td>SCUOLA ELEMENTARE \"D.ALIGHIERI\"</td>\n",
       "      <td>NORMALE</td>\n",
       "      <td>CORREZZANA</td>\n",
       "      <td>SCUOLA PRIMARIA</td>\n",
       "      <td>NO</td>\n",
       "      <td>Non Disponibile</td>\n",
       "      <td>MIIC8BS00B@istruzione.it</td>\n",
       "      <td>Non Disponibile</td>\n",
       "      <td>VIA DE GASPERI18</td>\n",
       "      <td>MONZA-BRIANZA</td>\n",
       "      <td>LOMBARDIA</td>\n",
       "      <td>SI</td>\n",
       "      <td>www.istitutocomprensivolesmo.gov.it</td>\n",
       "    </tr>\n",
       "  </tbody>\n",
       "</table>\n",
       "</div>"
      ],
      "text/plain": [
       "   ANNOSCOLASTICO AREAGEOGRAFICA CAPSCUOLA CODICECOMUNESCUOLA  \\\n",
       "0          201718       NORD EST     32020               E588   \n",
       "1          201718          ISOLE     09170               G113   \n",
       "2          201718     NORD OVEST     20050               D038   \n",
       "\n",
       "  CODICEISTITUTORIFERIMENTO CODICESCUOLA DENOMINAZIONEISTITUTORIFERIMENTO  \\\n",
       "0                BLIC816001   BLMM816023                     IC TRICHIANA   \n",
       "1                ORIC82700L   ORMM82701N               I.C. ORISTANO N. 4   \n",
       "2                MIIC8BS00B   MIEE8BS01D       ISTITUTO COMPRENSIVO LESMO   \n",
       "\n",
       "               DENOMINAZIONESCUOLA DESCRIZIONECARATTERISTICASCUOLA  \\\n",
       "0              \"D. BUZZATI\" LIMANA                         NORMALE   \n",
       "1                    S.M. \"ALAGON\"                         NORMALE   \n",
       "2  SCUOLA ELEMENTARE \"D.ALIGHIERI\"                         NORMALE   \n",
       "\n",
       "  DESCRIZIONECOMUNE DESCRIZIONETIPOLOGIAGRADOISTRUZIONESCUOLA  \\\n",
       "0            LIMANA                        SCUOLA PRIMO GRADO   \n",
       "1          ORISTANO                        SCUOLA PRIMO GRADO   \n",
       "2        CORREZZANA                           SCUOLA PRIMARIA   \n",
       "\n",
       "  INDICAZIONESEDEDIRETTIVO INDICAZIONESEDEOMNICOMPRENSIVO  \\\n",
       "0                       NO                Non Disponibile   \n",
       "1                       NO                Non Disponibile   \n",
       "2                       NO                Non Disponibile   \n",
       "\n",
       "       INDIRIZZOEMAILSCUOLA INDIRIZZOPECSCUOLA        INDIRIZZOSCUOLA  \\\n",
       "0  BLIC816001@istruzione.it    Non Disponibile           VIA TOFANE 1   \n",
       "1  ORIC82700L@istruzione.it    Non Disponibile  VIALE ARMANDO DIAZ 83   \n",
       "2  MIIC8BS00B@istruzione.it    Non Disponibile       VIA DE GASPERI18   \n",
       "\n",
       "       PROVINCIA    REGIONE SEDESCOLASTICA  \\\n",
       "0        BELLUNO     VENETO             SI   \n",
       "1       ORISTANO   SARDEGNA             SI   \n",
       "2  MONZA-BRIANZA  LOMBARDIA             SI   \n",
       "\n",
       "                                SITOWEBSCUOLA  \n",
       "0                http//www.ictrichiana.gov.it  \n",
       "1  http//istitutocomprensivo4oristano.gov.it/  \n",
       "2         www.istitutocomprensivolesmo.gov.it  "
      ]
     },
     "execution_count": 20,
     "metadata": {},
     "output_type": "execute_result"
    }
   ],
   "source": [
    "scuole.head(3)"
   ]
  },
  {
   "cell_type": "code",
   "execution_count": 21,
   "metadata": {},
   "outputs": [
    {
     "data": {
      "text/plain": [
       "52428"
      ]
     },
     "execution_count": 21,
     "metadata": {},
     "output_type": "execute_result"
    }
   ],
   "source": [
    "scuole.CODICESCUOLA.size"
   ]
  },
  {
   "cell_type": "code",
   "execution_count": 22,
   "metadata": {},
   "outputs": [
    {
     "data": {
      "text/plain": [
       "count         52428\n",
       "unique           20\n",
       "top       LOMBARDIA\n",
       "freq           6494\n",
       "Name: REGIONE, dtype: object"
      ]
     },
     "execution_count": 22,
     "metadata": {},
     "output_type": "execute_result"
    }
   ],
   "source": [
    "scuole.REGIONE.describe()"
   ]
  },
  {
   "cell_type": "code",
   "execution_count": 23,
   "metadata": {},
   "outputs": [],
   "source": [
    "scuolexregione = scuole.groupby(scuole.REGIONE).size()"
   ]
  },
  {
   "cell_type": "code",
   "execution_count": 24,
   "metadata": {},
   "outputs": [
    {
     "data": {
      "text/plain": [
       "REGIONE\n",
       "ABRUZZO                1455\n",
       "BASILICATA              823\n",
       "CALABRIA               2945\n",
       "CAMPANIA               5664\n",
       "EMILIA ROMAGNA         3026\n",
       "FRIULI-VENEZIA G.      1146\n",
       "LAZIO                  4028\n",
       "LIGURIA                1255\n",
       "LOMBARDIA              6494\n",
       "MARCHE                 1585\n",
       "MOLISE                  482\n",
       "PIEMONTE               3902\n",
       "PUGLIA                 3433\n",
       "SARDEGNA               1891\n",
       "SICILIA                5268\n",
       "TOSCANA                3233\n",
       "TRENTINO-ALTO ADIGE     987\n",
       "UMBRIA                 1005\n",
       "VALLE D' AOSTA          225\n",
       "VENETO                 3581\n",
       "dtype: int64"
      ]
     },
     "execution_count": 24,
     "metadata": {},
     "output_type": "execute_result"
    }
   ],
   "source": [
    "scuolexregione"
   ]
  },
  {
   "cell_type": "code",
   "execution_count": 26,
   "metadata": {},
   "outputs": [
    {
     "data": {
      "text/plain": [
       "<matplotlib.axes._subplots.AxesSubplot at 0x7f4a7da4a6a0>"
      ]
     },
     "execution_count": 26,
     "metadata": {},
     "output_type": "execute_result"
    },
    {
     "data": {
      "image/png": "[encoded data removed]",
      "text/plain": [
       "<Figure size 1080x720 with 1 Axes>"
      ]
     },
     "metadata": {},
     "output_type": "display_data"
    }
   ],
   "source": [
    "scuolexregione.plot(kind=\"barh\",title=\"numero di scuole per regione\",figsize=(15,10))"
   ]
  },
  {
   "cell_type": "markdown",
   "metadata": {},
   "source": [
    "e se contassimo anche le scuole paritarie?"
   ]
  },
  {
   "cell_type": "markdown",
   "metadata": {},
   "source": [
    "## Informazioni anagrafiche scuole paritarie.\n",
    "Nel flusso di dati sono contenute le informazioni riguardanti l'anagrafe delle scuole paritarie.\n",
    "\n",
    "http://dati.istruzione.it/opendata/opendata/catalogo/elements1/SCUANAGRAFEPAR20171820170901.csv"
   ]
  },
  {
   "cell_type": "code",
   "execution_count": 27,
   "metadata": {},
   "outputs": [],
   "source": [
    "url='http://dati.istruzione.it/opendata/opendata/catalogo/elements1/SCUANAGRAFEPAR20171820170901.csv'\n",
    "datiremoti=requests.get(url).content\n",
    "scuole_paritarie=pd.read_csv(io.StringIO(datiremoti.decode('utf-8')))"
   ]
  },
  {
   "cell_type": "code",
   "execution_count": 28,
   "metadata": {},
   "outputs": [
    {
     "data": {
      "text/plain": [
       "count         12935\n",
       "unique           18\n",
       "top       LOMBARDIA\n",
       "freq           2551\n",
       "Name: REGIONE, dtype: object"
      ]
     },
     "execution_count": 28,
     "metadata": {},
     "output_type": "execute_result"
    }
   ],
   "source": [
    "scuole_paritarie.REGIONE.describe()"
   ]
  },
  {
   "cell_type": "markdown",
   "metadata": {},
   "source": [
    "... mancano le provincie autonome"
   ]
  },
  {
   "cell_type": "code",
   "execution_count": 29,
   "metadata": {},
   "outputs": [],
   "source": [
    "url='http://dati.istruzione.it/opendata/opendata/catalogo/elements1/SCUANAAUTPAR20171820170901.csv'\n",
    "datiremoti=requests.get(url).content\n",
    "scuole_paritarie=pd.read_csv(io.StringIO(datiremoti.decode('utf-8')))"
   ]
  },
  {
   "cell_type": "code",
   "execution_count": 30,
   "metadata": {},
   "outputs": [],
   "source": [
    "scuole_italiane = pd.concat([scuole,scuole_paritarie])"
   ]
  },
  {
   "cell_type": "code",
   "execution_count": 31,
   "metadata": {},
   "outputs": [
    {
     "data": {
      "text/plain": [
       "52503"
      ]
     },
     "execution_count": 31,
     "metadata": {},
     "output_type": "execute_result"
    }
   ],
   "source": [
    "scuole_italiane.CODICESCUOLA.size"
   ]
  },
  {
   "cell_type": "code",
   "execution_count": 32,
   "metadata": {},
   "outputs": [
    {
     "data": {
      "text/plain": [
       "<matplotlib.axes._subplots.AxesSubplot at 0x7f4a7d9832b0>"
      ]
     },
     "execution_count": 32,
     "metadata": {},
     "output_type": "execute_result"
    },
    {
     "data": {
      "image/png": "[encoded data removed]",
      "text/plain": [
       "<Figure size 1080x720 with 1 Axes>"
      ]
     },
     "metadata": {},
     "output_type": "display_data"
    }
   ],
   "source": [
    "scuole_italiane.groupby(scuole_italiane.REGIONE).size().plot(kind=\"barh\",title=\"numero di scuole per regione\",figsize=(15,10))"
   ]
  },
  {
   "cell_type": "code",
   "execution_count": 33,
   "metadata": {},
   "outputs": [
    {
     "data": {
      "text/plain": [
       "<matplotlib.axes._subplots.AxesSubplot at 0x7f4a7d9d6b70>"
      ]
     },
     "execution_count": 33,
     "metadata": {},
     "output_type": "execute_result"
    },
    {
     "data": {
      "image/png": "[encoded data removed]",
      "text/plain": [
       "<Figure size 1080x576 with 1 Axes>"
      ]
     },
     "metadata": {},
     "output_type": "display_data"
    }
   ],
   "source": [
    "scuole_italiane.groupby(scuole_italiane.REGIONE).size().plot.bar(figsize=(15,8))"
   ]
  },
  {
   "cell_type": "code",
   "execution_count": 34,
   "metadata": {
    "scrolled": true
   },
   "outputs": [
    {
     "data": {
      "text/plain": [
       "<matplotlib.axes._subplots.AxesSubplot at 0x7f4a7d6883c8>"
      ]
     },
     "execution_count": 34,
     "metadata": {},
     "output_type": "execute_result"
    },
    {
     "data": {
      "image/png": "[encoded data removed]",
      "text/plain": [
       "<Figure size 432x288 with 1 Axes>"
      ]
     },
     "metadata": {},
     "output_type": "display_data"
    }
   ],
   "source": [
    "scuole_paritarie.groupby(scuole_paritarie.REGIONE).size().plot.barh()"
   ]
  },
  {
   "cell_type": "markdown",
   "metadata": {},
   "source": [
    "# SISTEMA NAZIONALE DI VALUTAZIONE"
   ]
  },
  {
   "cell_type": "code",
   "execution_count": 35,
   "metadata": {},
   "outputs": [],
   "source": [
    "url='http://dati.istruzione.it/opendata/opendata/catalogo/elements1/VALUTAZIONE_ESITI_STA20161720170831.csv'\n",
    "valutazioni1617=tabellaMIUR(url)"
   ]
  },
  {
   "cell_type": "markdown",
   "metadata": {},
   "source": [
    "## criteri di valutazione"
   ]
  },
  {
   "cell_type": "code",
   "execution_count": 36,
   "metadata": {},
   "outputs": [
    {
     "data": {
      "text/plain": [
       "(44, 6)"
      ]
     },
     "execution_count": 36,
     "metadata": {},
     "output_type": "execute_result"
    }
   ],
   "source": [
    "# criteri di valutazione\n",
    "url = 'http://dati.istruzione.it/opendata/opendata/catalogo/elements1/RUBRICA_VAL20161720170831.csv'\n",
    "criteri_valutazione1617 = tabellaMIUR(url)\n",
    "criteri_valutazione1617.shape"
   ]
  },
  {
   "cell_type": "code",
   "execution_count": 37,
   "metadata": {},
   "outputs": [
    {
     "data": {
      "text/plain": [
       "Index(['ANNOSCOLASTICO', 'SEZIONE', 'CODICECRITERIOQUALITA', 'CRITERIOQUALITA',\n",
       "       'PUNTEGGIORIFERIMENTO', 'DESCRIZIONEPUNTEGGIORIFERIMENTO'],\n",
       "      dtype='object')"
      ]
     },
     "execution_count": 37,
     "metadata": {},
     "output_type": "execute_result"
    }
   ],
   "source": [
    "criteri_valutazione1617.columns"
   ]
  },
  {
   "cell_type": "code",
   "execution_count": 38,
   "metadata": {},
   "outputs": [
    {
     "data": {
      "text/html": [
       "<div>\n",
       "<style scoped>\n",
       "    .dataframe tbody tr th:only-of-type {\n",
       "        vertical-align: middle;\n",
       "    }\n",
       "\n",
       "    .dataframe tbody tr th {\n",
       "        vertical-align: top;\n",
       "    }\n",
       "\n",
       "    .dataframe thead th {\n",
       "        text-align: right;\n",
       "    }\n",
       "</style>\n",
       "<table border=\"1\" class=\"dataframe\">\n",
       "  <thead>\n",
       "    <tr style=\"text-align: right;\">\n",
       "      <th></th>\n",
       "      <th>ANNOSCOLASTICO</th>\n",
       "      <th>SEZIONE</th>\n",
       "      <th>CODICECRITERIOQUALITA</th>\n",
       "      <th>CRITERIOQUALITA</th>\n",
       "      <th>PUNTEGGIORIFERIMENTO</th>\n",
       "      <th>DESCRIZIONEPUNTEGGIORIFERIMENTO</th>\n",
       "    </tr>\n",
       "  </thead>\n",
       "  <tbody>\n",
       "    <tr>\n",
       "      <th>17</th>\n",
       "      <td>201617</td>\n",
       "      <td>Esiti</td>\n",
       "      <td>21</td>\n",
       "      <td>Risultati scolastici</td>\n",
       "      <td>7</td>\n",
       "      <td>La quota di studenti ammessa all'anno successi...</td>\n",
       "    </tr>\n",
       "    <tr>\n",
       "      <th>1</th>\n",
       "      <td>201617</td>\n",
       "      <td>Esiti</td>\n",
       "      <td>21</td>\n",
       "      <td>Risultati scolastici</td>\n",
       "      <td>3</td>\n",
       "      <td>Gli studenti non ammessi all'anno successivo e...</td>\n",
       "    </tr>\n",
       "    <tr>\n",
       "      <th>6</th>\n",
       "      <td>201617</td>\n",
       "      <td>Esiti</td>\n",
       "      <td>21</td>\n",
       "      <td>Risultati scolastici</td>\n",
       "      <td>1</td>\n",
       "      <td>C'e' una percentuale superiore ai riferimenti ...</td>\n",
       "    </tr>\n",
       "  </tbody>\n",
       "</table>\n",
       "</div>"
      ],
      "text/plain": [
       "    ANNOSCOLASTICO SEZIONE  CODICECRITERIOQUALITA       CRITERIOQUALITA  \\\n",
       "17          201617   Esiti                     21  Risultati scolastici   \n",
       "1           201617   Esiti                     21  Risultati scolastici   \n",
       "6           201617   Esiti                     21  Risultati scolastici   \n",
       "\n",
       "    PUNTEGGIORIFERIMENTO                    DESCRIZIONEPUNTEGGIORIFERIMENTO  \n",
       "17                     7  La quota di studenti ammessa all'anno successi...  \n",
       "1                      3  Gli studenti non ammessi all'anno successivo e...  \n",
       "6                      1  C'e' una percentuale superiore ai riferimenti ...  "
      ]
     },
     "execution_count": 38,
     "metadata": {},
     "output_type": "execute_result"
    }
   ],
   "source": [
    "criteri_valutazione1617.sort_values(\"CODICECRITERIOQUALITA\").head(3)"
   ]
  },
  {
   "cell_type": "markdown",
   "metadata": {},
   "source": [
    "## CRITERI DI QUALITÀ"
   ]
  },
  {
   "cell_type": "code",
   "execution_count": 39,
   "metadata": {},
   "outputs": [
    {
     "data": {
      "text/plain": [
       "CODICECRITERIOQUALITA  CRITERIOQUALITA                                          \n",
       "21                     Risultati scolastici                                         4\n",
       "22                     Risultati nelle prove standardizzate nazionali               4\n",
       "23                     Competenze chiave europee                                    4\n",
       "24                     Risultati a distanza                                         4\n",
       "31                     Curricolo, progettazione e valutazione                       4\n",
       "32                     Ambiente di apprendimento                                    4\n",
       "33                     Inclusione e differenziazione                                4\n",
       "34                     Continuita' e orientamento                                   4\n",
       "35                     Orientamento strategico e organizzazione della scuola        4\n",
       "36                     Sviluppo e valorizzazione delle risorse umane                4\n",
       "37                     Integrazione con il territorio e rapporti con le famiglie    4\n",
       "dtype: int64"
      ]
     },
     "execution_count": 39,
     "metadata": {},
     "output_type": "execute_result"
    }
   ],
   "source": [
    "criteri_valutazione1617.groupby([\"CODICECRITERIOQUALITA\",\"CRITERIOQUALITA\"]).size()"
   ]
  },
  {
   "cell_type": "markdown",
   "metadata": {},
   "source": [
    "# Punteggio di Riferimento\n",
    "\n",
    "Valore utilizzato dall'istituto per l'assegnazione del punteggio per i criteri di valutazione. \n",
    "\n",
    "I valori sono compresi tra *1* e *7* e vengono indicati *1*, *3*, *5* e *7*; i valori 2, 4 e 6 _non_ sono eplicitati e permettono di posizionare le scuole che riscontrano una corrispondenza tra la descrizione e la situazione effettiva solo in relazione ad alcuni aspetti. \n",
    "\n",
    "    1 = situazione molto critica; \n",
    "    \n",
    "    3 = situazione con qualche criticità;\n",
    "    \n",
    "    5 = situazione positiva;\n",
    "    \n",
    "    7 = situazione eccellente"
   ]
  },
  {
   "cell_type": "markdown",
   "metadata": {},
   "source": [
    "---\n",
    "# EDILIZIA SCOLASTICA"
   ]
  },
  {
   "cell_type": "code",
   "execution_count": 40,
   "metadata": {},
   "outputs": [
    {
     "data": {
      "text/html": [
       "<div>\n",
       "<style scoped>\n",
       "    .dataframe tbody tr th:only-of-type {\n",
       "        vertical-align: middle;\n",
       "    }\n",
       "\n",
       "    .dataframe tbody tr th {\n",
       "        vertical-align: top;\n",
       "    }\n",
       "\n",
       "    .dataframe thead th {\n",
       "        text-align: right;\n",
       "    }\n",
       "</style>\n",
       "<table border=\"1\" class=\"dataframe\">\n",
       "  <thead>\n",
       "    <tr style=\"text-align: right;\">\n",
       "      <th></th>\n",
       "      <th>ANNOSCOLASTICO</th>\n",
       "      <th>CODICESCUOLA</th>\n",
       "      <th>CODICEEDIFICIO</th>\n",
       "      <th>CODICECOMUNE</th>\n",
       "      <th>DESCRIZIONECOMUNE</th>\n",
       "      <th>SIGLAPROVINCIA</th>\n",
       "      <th>TIPOLOGIAINDIRIZZO</th>\n",
       "      <th>DENOMINAZIONEINDIRIZZO</th>\n",
       "      <th>NUMEROCIVICO</th>\n",
       "      <th>CAP</th>\n",
       "      <th>STATOEDIFICIO</th>\n",
       "    </tr>\n",
       "  </thead>\n",
       "  <tbody>\n",
       "    <tr>\n",
       "      <th>0</th>\n",
       "      <td>201516</td>\n",
       "      <td>AGAA01103A</td>\n",
       "      <td>840111102</td>\n",
       "      <td>B602</td>\n",
       "      <td>CANICATTI'</td>\n",
       "      <td>AG</td>\n",
       "      <td>Altro</td>\n",
       "      <td>CONTRADA REDA</td>\n",
       "      <td>snc</td>\n",
       "      <td>92024</td>\n",
       "      <td>Attivo</td>\n",
       "    </tr>\n",
       "    <tr>\n",
       "      <th>1</th>\n",
       "      <td>201516</td>\n",
       "      <td>AGAA01109L</td>\n",
       "      <td>840111103</td>\n",
       "      <td>B602</td>\n",
       "      <td>CANICATTI'</td>\n",
       "      <td>AG</td>\n",
       "      <td>Via</td>\n",
       "      <td>S. VINCENZO</td>\n",
       "      <td>1</td>\n",
       "      <td>92024</td>\n",
       "      <td>Attivo</td>\n",
       "    </tr>\n",
       "    <tr>\n",
       "      <th>2</th>\n",
       "      <td>201516</td>\n",
       "      <td>AGAA02406G</td>\n",
       "      <td>840274812</td>\n",
       "      <td>G282</td>\n",
       "      <td>PALMA DI MONTECHIARO</td>\n",
       "      <td>AG</td>\n",
       "      <td>Viale</td>\n",
       "      <td>LEONARDO DA VINCI</td>\n",
       "      <td>50</td>\n",
       "      <td>92020</td>\n",
       "      <td>Attivo</td>\n",
       "    </tr>\n",
       "  </tbody>\n",
       "</table>\n",
       "</div>"
      ],
      "text/plain": [
       "   ANNOSCOLASTICO  CODICESCUOLA   CODICEEDIFICIO  CODICECOMUNE  \\\n",
       "0          201516    AGAA01103A        840111102          B602   \n",
       "1          201516    AGAA01109L        840111103          B602   \n",
       "2          201516    AGAA02406G        840274812          G282   \n",
       "\n",
       "      DESCRIZIONECOMUNE  SIGLAPROVINCIA  TIPOLOGIAINDIRIZZO  \\\n",
       "0            CANICATTI'              AG               Altro   \n",
       "1            CANICATTI'              AG                 Via   \n",
       "2  PALMA DI MONTECHIARO              AG               Viale   \n",
       "\n",
       "   DENOMINAZIONEINDIRIZZO  NUMEROCIVICO    CAP  STATOEDIFICIO  \n",
       "0           CONTRADA REDA           snc  92024         Attivo  \n",
       "1             S. VINCENZO             1  92024         Attivo  \n",
       "2       LEONARDO DA VINCI            50  92020         Attivo  "
      ]
     },
     "execution_count": 40,
     "metadata": {},
     "output_type": "execute_result"
    }
   ],
   "source": [
    "# edifici scolastici\n",
    "url='http://dati.istruzione.it/opendata/EDIANAGRAFESTA20160831.csv'\n",
    "edificiscolastici=tabellaMIUR(url)\n",
    "edificiscolastici.head(3)"
   ]
  },
  {
   "cell_type": "code",
   "execution_count": 41,
   "metadata": {},
   "outputs": [],
   "source": [
    "url='http://dati.istruzione.it/opendata/opendata/catalogo/elements1/ALUCORSOETAPAR20161720170831.csv'"
   ]
  },
  {
   "cell_type": "code",
   "execution_count": 42,
   "metadata": {},
   "outputs": [
    {
     "data": {
      "text/plain": [
       "array([201516])"
      ]
     },
     "execution_count": 42,
     "metadata": {},
     "output_type": "execute_result"
    }
   ],
   "source": [
    "# a quale anni scolastici fanno riferimento?\n",
    "edificiscolastici.ANNOSCOLASTICO.unique()"
   ]
  },
  {
   "cell_type": "markdown",
   "metadata": {},
   "source": [
    ".. solo anno scolastico **2015/2016**"
   ]
  },
  {
   "cell_type": "markdown",
   "metadata": {},
   "source": [
    "## strutture annesse alla scuola \n",
    "spazi didattici, aula magna, mensa, palestra/piscina, spazi amminstrativi"
   ]
  },
  {
   "cell_type": "code",
   "execution_count": 43,
   "metadata": {
    "scrolled": true
   },
   "outputs": [
    {
     "data": {
      "text/html": [
       "<div>\n",
       "<style scoped>\n",
       "    .dataframe tbody tr th:only-of-type {\n",
       "        vertical-align: middle;\n",
       "    }\n",
       "\n",
       "    .dataframe tbody tr th {\n",
       "        vertical-align: top;\n",
       "    }\n",
       "\n",
       "    .dataframe thead th {\n",
       "        text-align: right;\n",
       "    }\n",
       "</style>\n",
       "<table border=\"1\" class=\"dataframe\">\n",
       "  <thead>\n",
       "    <tr style=\"text-align: right;\">\n",
       "      <th></th>\n",
       "      <th>ANNOSCOLASTICO</th>\n",
       "      <th>CODICESCUOLA</th>\n",
       "      <th>CODICEEDIFICIO</th>\n",
       "      <th>SPAZIDIDATTICI</th>\n",
       "      <th>AULAMAGNA</th>\n",
       "      <th>MENSA</th>\n",
       "      <th>PALESTRAPISCINA</th>\n",
       "      <th>SPAZIAMMINISTRATIVI</th>\n",
       "    </tr>\n",
       "  </thead>\n",
       "  <tbody>\n",
       "    <tr>\n",
       "      <th>0</th>\n",
       "      <td>201516</td>\n",
       "      <td>AGAA01103A</td>\n",
       "      <td>840111102</td>\n",
       "      <td>Esiste</td>\n",
       "      <td>Non Esiste</td>\n",
       "      <td>Non Esiste</td>\n",
       "      <td>Non Esiste</td>\n",
       "      <td>Non Esiste</td>\n",
       "    </tr>\n",
       "    <tr>\n",
       "      <th>1</th>\n",
       "      <td>201516</td>\n",
       "      <td>AGAA01109L</td>\n",
       "      <td>840111103</td>\n",
       "      <td>Esiste</td>\n",
       "      <td>Non Esiste</td>\n",
       "      <td>Non Esiste</td>\n",
       "      <td>Non Esiste</td>\n",
       "      <td>Non Esiste</td>\n",
       "    </tr>\n",
       "    <tr>\n",
       "      <th>2</th>\n",
       "      <td>201516</td>\n",
       "      <td>AGAA02406G</td>\n",
       "      <td>840274812</td>\n",
       "      <td>Esiste</td>\n",
       "      <td>Non Esiste</td>\n",
       "      <td>Non Esiste</td>\n",
       "      <td>Non Esiste</td>\n",
       "      <td>Esiste</td>\n",
       "    </tr>\n",
       "  </tbody>\n",
       "</table>\n",
       "</div>"
      ],
      "text/plain": [
       "   ANNOSCOLASTICO  CODICESCUOLA   CODICEEDIFICIO  SPAZIDIDATTICI   AULAMAGNA  \\\n",
       "0          201516    AGAA01103A        840111102          Esiste  Non Esiste   \n",
       "1          201516    AGAA01109L        840111103          Esiste  Non Esiste   \n",
       "2          201516    AGAA02406G        840274812          Esiste  Non Esiste   \n",
       "\n",
       "        MENSA  PALESTRAPISCINA  SPAZIAMMINISTRATIVI  \n",
       "0  Non Esiste       Non Esiste           Non Esiste  \n",
       "1  Non Esiste       Non Esiste           Non Esiste  \n",
       "2  Non Esiste       Non Esiste               Esiste  "
      ]
     },
     "execution_count": 43,
     "metadata": {},
     "output_type": "execute_result"
    }
   ],
   "source": [
    "url='http://dati.istruzione.it/opendata/opendata/catalogo/elements1/EDIAMBFUNZSTA20160831.csv'\n",
    "strutturescolastiche = tabellaMIUR(url)\n",
    "strutturescolastiche.head(3)"
   ]
  },
  {
   "cell_type": "code",
   "execution_count": 44,
   "metadata": {},
   "outputs": [
    {
     "data": {
      "text/plain": [
       "array([201516])"
      ]
     },
     "execution_count": 44,
     "metadata": {},
     "output_type": "execute_result"
    }
   ],
   "source": [
    "# a quali anni scolastici fanno riferimento?\n",
    "strutturescolastiche.ANNOSCOLASTICO.unique()"
   ]
  },
  {
   "cell_type": "markdown",
   "metadata": {},
   "source": [
    "... solo anno scolastico **2015/2016**"
   ]
  },
  {
   "cell_type": "markdown",
   "metadata": {},
   "source": [
    "## raggiungibilità degli edifici"
   ]
  },
  {
   "cell_type": "code",
   "execution_count": 45,
   "metadata": {
    "scrolled": true
   },
   "outputs": [
    {
     "data": {
      "text/html": [
       "<div>\n",
       "<style scoped>\n",
       "    .dataframe tbody tr th:only-of-type {\n",
       "        vertical-align: middle;\n",
       "    }\n",
       "\n",
       "    .dataframe tbody tr th {\n",
       "        vertical-align: top;\n",
       "    }\n",
       "\n",
       "    .dataframe thead th {\n",
       "        text-align: right;\n",
       "    }\n",
       "</style>\n",
       "<table border=\"1\" class=\"dataframe\">\n",
       "  <thead>\n",
       "    <tr style=\"text-align: right;\">\n",
       "      <th></th>\n",
       "      <th>ANNOSCOLASTICO</th>\n",
       "      <th>CODICESCUOLA</th>\n",
       "      <th>CODICEEDIFICIO</th>\n",
       "      <th>SCUOLABUS</th>\n",
       "      <th>TRASPORTIPUBBLICIURBANI</th>\n",
       "      <th>TRASPORTIPUBBLICIINTERURBANI</th>\n",
       "      <th>TRASPORTIFERROVIARI</th>\n",
       "      <th>MEZZIPRIVATI</th>\n",
       "      <th>TRASPORTODISABILI</th>\n",
       "      <th>ALTRO</th>\n",
       "    </tr>\n",
       "  </thead>\n",
       "  <tbody>\n",
       "    <tr>\n",
       "      <th>0</th>\n",
       "      <td>201516</td>\n",
       "      <td>AGAA01103A</td>\n",
       "      <td>840111102</td>\n",
       "      <td>SI</td>\n",
       "      <td>SI</td>\n",
       "      <td>NO</td>\n",
       "      <td>SI</td>\n",
       "      <td>SI</td>\n",
       "      <td>NO</td>\n",
       "      <td>Non Comunicato</td>\n",
       "    </tr>\n",
       "    <tr>\n",
       "      <th>1</th>\n",
       "      <td>201516</td>\n",
       "      <td>AGAA01109L</td>\n",
       "      <td>840111103</td>\n",
       "      <td>SI</td>\n",
       "      <td>SI</td>\n",
       "      <td>NO</td>\n",
       "      <td>NO</td>\n",
       "      <td>SI</td>\n",
       "      <td>SI</td>\n",
       "      <td>Non Comunicato</td>\n",
       "    </tr>\n",
       "    <tr>\n",
       "      <th>2</th>\n",
       "      <td>201516</td>\n",
       "      <td>AGAA02406G</td>\n",
       "      <td>840274812</td>\n",
       "      <td>SI</td>\n",
       "      <td>SI</td>\n",
       "      <td>NO</td>\n",
       "      <td>NO</td>\n",
       "      <td>SI</td>\n",
       "      <td>NO</td>\n",
       "      <td>Non Comunicato</td>\n",
       "    </tr>\n",
       "  </tbody>\n",
       "</table>\n",
       "</div>"
      ],
      "text/plain": [
       "   ANNOSCOLASTICO  CODICESCUOLA   CODICEEDIFICIO  SCUOLABUS  \\\n",
       "0          201516    AGAA01103A        840111102         SI   \n",
       "1          201516    AGAA01109L        840111103         SI   \n",
       "2          201516    AGAA02406G        840274812         SI   \n",
       "\n",
       "   TRASPORTIPUBBLICIURBANI  TRASPORTIPUBBLICIINTERURBANI  TRASPORTIFERROVIARI  \\\n",
       "0                       SI                            NO                   SI   \n",
       "1                       SI                            NO                   NO   \n",
       "2                       SI                            NO                   NO   \n",
       "\n",
       "   MEZZIPRIVATI  TRASPORTODISABILI           ALTRO  \n",
       "0            SI                 NO  Non Comunicato  \n",
       "1            SI                 SI  Non Comunicato  \n",
       "2            SI                 NO  Non Comunicato  "
      ]
     },
     "execution_count": 45,
     "metadata": {},
     "output_type": "execute_result"
    }
   ],
   "source": [
    "url='http://dati.istruzione.it/opendata/opendata/catalogo/elements1/EDICOLLEGAMENTISTA20160831.csv'\n",
    "raggiungibilita= tabellaMIUR(url)\n",
    "raggiungibilita.head(3)"
   ]
  },
  {
   "cell_type": "markdown",
   "metadata": {},
   "source": [
    "---\n",
    "# ANAGRAFICA STUDENTI\n",
    "## Studenti per anno di corso e fascia di eta'. Scuola statale."
   ]
  },
  {
   "cell_type": "code",
   "execution_count": 46,
   "metadata": {},
   "outputs": [
    {
     "data": {
      "text/html": [
       "<div>\n",
       "<style scoped>\n",
       "    .dataframe tbody tr th:only-of-type {\n",
       "        vertical-align: middle;\n",
       "    }\n",
       "\n",
       "    .dataframe tbody tr th {\n",
       "        vertical-align: top;\n",
       "    }\n",
       "\n",
       "    .dataframe thead th {\n",
       "        text-align: right;\n",
       "    }\n",
       "</style>\n",
       "<table border=\"1\" class=\"dataframe\">\n",
       "  <thead>\n",
       "    <tr style=\"text-align: right;\">\n",
       "      <th></th>\n",
       "      <th>ANNOSCOLASTICO</th>\n",
       "      <th>CODICESCUOLA</th>\n",
       "      <th>ORDINESCUOLA</th>\n",
       "      <th>ANNOCORSO</th>\n",
       "      <th>FASCIAETA</th>\n",
       "      <th>ALUNNI</th>\n",
       "    </tr>\n",
       "  </thead>\n",
       "  <tbody>\n",
       "    <tr>\n",
       "      <th>0</th>\n",
       "      <td>201617</td>\n",
       "      <td>NARC12301N</td>\n",
       "      <td>SCUOLA SECONDARIA II GRADO</td>\n",
       "      <td>4</td>\n",
       "      <td>16 anni</td>\n",
       "      <td>12</td>\n",
       "    </tr>\n",
       "    <tr>\n",
       "      <th>1</th>\n",
       "      <td>201617</td>\n",
       "      <td>VRMM865017</td>\n",
       "      <td>SCUOLA SECONDARIA I GRADO</td>\n",
       "      <td>1</td>\n",
       "      <td>11 anni</td>\n",
       "      <td>129</td>\n",
       "    </tr>\n",
       "    <tr>\n",
       "      <th>2</th>\n",
       "      <td>201617</td>\n",
       "      <td>GEMM82901A</td>\n",
       "      <td>SCUOLA SECONDARIA I GRADO</td>\n",
       "      <td>2</td>\n",
       "      <td>13 anni</td>\n",
       "      <td>3</td>\n",
       "    </tr>\n",
       "  </tbody>\n",
       "</table>\n",
       "</div>"
      ],
      "text/plain": [
       "   ANNOSCOLASTICO CODICESCUOLA                ORDINESCUOLA  ANNOCORSO  \\\n",
       "0          201617   NARC12301N  SCUOLA SECONDARIA II GRADO          4   \n",
       "1          201617   VRMM865017   SCUOLA SECONDARIA I GRADO          1   \n",
       "2          201617   GEMM82901A   SCUOLA SECONDARIA I GRADO          2   \n",
       "\n",
       "  FASCIAETA  ALUNNI  \n",
       "0   16 anni      12  \n",
       "1   11 anni     129  \n",
       "2   13 anni       3  "
      ]
     },
     "execution_count": 46,
     "metadata": {},
     "output_type": "execute_result"
    }
   ],
   "source": [
    "#studenti scuola statale 2016/2017\n",
    "url='http://dati.istruzione.it/opendata/opendata/catalogo/elements1/ALUCORSOETASTA20161720170831.csv'\n",
    "anagrafica_studenti1516 = tabellaMIUR(url)\n",
    "anagrafica_studenti1516.head(3)"
   ]
  },
  {
   "cell_type": "code",
   "execution_count": 47,
   "metadata": {},
   "outputs": [
    {
     "data": {
      "text/plain": [
       "(330000, 6)"
      ]
     },
     "execution_count": 47,
     "metadata": {},
     "output_type": "execute_result"
    }
   ],
   "source": [
    "anagrafica_studenti1516.shape"
   ]
  },
  {
   "cell_type": "code",
   "execution_count": 48,
   "metadata": {},
   "outputs": [
    {
     "data": {
      "text/plain": [
       "Index(['ANNOSCOLASTICO', 'CODICESCUOLA', 'ORDINESCUOLA', 'ANNOCORSO',\n",
       "       'FASCIAETA', 'ALUNNI'],\n",
       "      dtype='object')"
      ]
     },
     "execution_count": 48,
     "metadata": {},
     "output_type": "execute_result"
    }
   ],
   "source": [
    "anagrafica_studenti1516.columns"
   ]
  },
  {
   "cell_type": "markdown",
   "metadata": {},
   "source": [
    "## Studenti per anno di corso, classe e genere. Scuola statale."
   ]
  },
  {
   "cell_type": "code",
   "execution_count": 49,
   "metadata": {},
   "outputs": [
    {
     "data": {
      "text/html": [
       "<div>\n",
       "<style scoped>\n",
       "    .dataframe tbody tr th:only-of-type {\n",
       "        vertical-align: middle;\n",
       "    }\n",
       "\n",
       "    .dataframe tbody tr th {\n",
       "        vertical-align: top;\n",
       "    }\n",
       "\n",
       "    .dataframe thead th {\n",
       "        text-align: right;\n",
       "    }\n",
       "</style>\n",
       "<table border=\"1\" class=\"dataframe\">\n",
       "  <thead>\n",
       "    <tr style=\"text-align: right;\">\n",
       "      <th></th>\n",
       "      <th>ANNOSCOLASTICO</th>\n",
       "      <th>CODICESCUOLA</th>\n",
       "      <th>ORDINESCUOLA</th>\n",
       "      <th>ANNOCORSOCLASSE</th>\n",
       "      <th>CLASSI</th>\n",
       "      <th>ALUNNIMASCHI</th>\n",
       "      <th>ALUNNIFEMMINE</th>\n",
       "    </tr>\n",
       "  </thead>\n",
       "  <tbody>\n",
       "    <tr>\n",
       "      <th>0</th>\n",
       "      <td>201617</td>\n",
       "      <td>BAEE063034</td>\n",
       "      <td>SCUOLA PRIMARIA</td>\n",
       "      <td>1</td>\n",
       "      <td>1</td>\n",
       "      <td>14</td>\n",
       "      <td>8</td>\n",
       "    </tr>\n",
       "    <tr>\n",
       "      <th>1</th>\n",
       "      <td>201617</td>\n",
       "      <td>NOEE813014</td>\n",
       "      <td>SCUOLA PRIMARIA</td>\n",
       "      <td>1</td>\n",
       "      <td>4</td>\n",
       "      <td>47</td>\n",
       "      <td>43</td>\n",
       "    </tr>\n",
       "    <tr>\n",
       "      <th>2</th>\n",
       "      <td>201617</td>\n",
       "      <td>PZMM89002R</td>\n",
       "      <td>SCUOLA SECONDARIA I GRADO</td>\n",
       "      <td>3</td>\n",
       "      <td>1</td>\n",
       "      <td>6</td>\n",
       "      <td>6</td>\n",
       "    </tr>\n",
       "  </tbody>\n",
       "</table>\n",
       "</div>"
      ],
      "text/plain": [
       "   ANNOSCOLASTICO CODICESCUOLA               ORDINESCUOLA  ANNOCORSOCLASSE  \\\n",
       "0          201617   BAEE063034            SCUOLA PRIMARIA                1   \n",
       "1          201617   NOEE813014            SCUOLA PRIMARIA                1   \n",
       "2          201617   PZMM89002R  SCUOLA SECONDARIA I GRADO                3   \n",
       "\n",
       "   CLASSI  ALUNNIMASCHI  ALUNNIFEMMINE  \n",
       "0       1            14              8  \n",
       "1       4            47             43  \n",
       "2       1             6              6  "
      ]
     },
     "execution_count": 49,
     "metadata": {},
     "output_type": "execute_result"
    }
   ],
   "source": [
    "url='http://dati.istruzione.it/opendata/opendata/catalogo/elements1/ALUCORSOINDCLASTA20161720170831.csv'\n",
    "anagrafica_studenti_genere_1516= tabellaMIUR(url)\n",
    "anagrafica_studenti_genere_1516.head(3)"
   ]
  },
  {
   "cell_type": "code",
   "execution_count": 50,
   "metadata": {},
   "outputs": [
    {
     "data": {
      "text/plain": [
       "(119791, 7)"
      ]
     },
     "execution_count": 50,
     "metadata": {},
     "output_type": "execute_result"
    }
   ],
   "source": [
    "anagrafica_studenti_genere_1516.shape"
   ]
  },
  {
   "cell_type": "code",
   "execution_count": 51,
   "metadata": {},
   "outputs": [
    {
     "data": {
      "text/plain": [
       "Index(['ANNOSCOLASTICO', 'CODICESCUOLA', 'ORDINESCUOLA', 'ANNOCORSOCLASSE',\n",
       "       'CLASSI', 'ALUNNIMASCHI', 'ALUNNIFEMMINE'],\n",
       "      dtype='object')"
      ]
     },
     "execution_count": 51,
     "metadata": {},
     "output_type": "execute_result"
    }
   ],
   "source": [
    "anagrafica_studenti_genere_1516.columns"
   ]
  },
  {
   "cell_type": "markdown",
   "metadata": {},
   "source": [
    "---\n",
    "# Scuole della Regione Emilia-Romagna"
   ]
  },
  {
   "cell_type": "raw",
   "metadata": {},
   "source": [
    "... e prendiamo quelle della Regione Emilia-Romagna"
   ]
  },
  {
   "cell_type": "code",
   "execution_count": 52,
   "metadata": {},
   "outputs": [],
   "source": [
    "scuole_RER=scuole_italiane[scuole_italiane.REGIONE == 'EMILIA ROMAGNA']"
   ]
  },
  {
   "cell_type": "markdown",
   "metadata": {},
   "source": [
    "altra sbirciatina :)"
   ]
  },
  {
   "cell_type": "code",
   "execution_count": 53,
   "metadata": {
    "scrolled": false
   },
   "outputs": [
    {
     "data": {
      "text/html": [
       "<div>\n",
       "<style scoped>\n",
       "    .dataframe tbody tr th:only-of-type {\n",
       "        vertical-align: middle;\n",
       "    }\n",
       "\n",
       "    .dataframe tbody tr th {\n",
       "        vertical-align: top;\n",
       "    }\n",
       "\n",
       "    .dataframe thead th {\n",
       "        text-align: right;\n",
       "    }\n",
       "</style>\n",
       "<table border=\"1\" class=\"dataframe\">\n",
       "  <thead>\n",
       "    <tr style=\"text-align: right;\">\n",
       "      <th></th>\n",
       "      <th>ANNOSCOLASTICO</th>\n",
       "      <th>AREAGEOGRAFICA</th>\n",
       "      <th>CAPSCUOLA</th>\n",
       "      <th>CODICECOMUNESCUOLA</th>\n",
       "      <th>CODICEISTITUTORIFERIMENTO</th>\n",
       "      <th>CODICESCUOLA</th>\n",
       "      <th>DENOMINAZIONEISTITUTORIFERIMENTO</th>\n",
       "      <th>DENOMINAZIONESCUOLA</th>\n",
       "      <th>DESCRIZIONECARATTERISTICASCUOLA</th>\n",
       "      <th>DESCRIZIONECOMUNE</th>\n",
       "      <th>DESCRIZIONETIPOLOGIAGRADOISTRUZIONESCUOLA</th>\n",
       "      <th>INDICAZIONESEDEDIRETTIVO</th>\n",
       "      <th>INDICAZIONESEDEOMNICOMPRENSIVO</th>\n",
       "      <th>INDIRIZZOEMAILSCUOLA</th>\n",
       "      <th>INDIRIZZOPECSCUOLA</th>\n",
       "      <th>INDIRIZZOSCUOLA</th>\n",
       "      <th>PROVINCIA</th>\n",
       "      <th>REGIONE</th>\n",
       "      <th>SEDESCOLASTICA</th>\n",
       "      <th>SITOWEBSCUOLA</th>\n",
       "    </tr>\n",
       "  </thead>\n",
       "  <tbody>\n",
       "    <tr>\n",
       "      <th>42</th>\n",
       "      <td>201718</td>\n",
       "      <td>NORD EST</td>\n",
       "      <td>42124</td>\n",
       "      <td>H223</td>\n",
       "      <td>REIC84000C</td>\n",
       "      <td>REEE84005P</td>\n",
       "      <td>\"J.F. KENNEDY\"</td>\n",
       "      <td>\"G. LEOPARDI\" - PIEVE KENNEDY</td>\n",
       "      <td>NORMALE</td>\n",
       "      <td>REGGIO NELL'EMILIA</td>\n",
       "      <td>SCUOLA PRIMARIA</td>\n",
       "      <td>NO</td>\n",
       "      <td>Non Disponibile</td>\n",
       "      <td>REIC84000C@istruzione.it</td>\n",
       "      <td>Non Disponibile</td>\n",
       "      <td>VIA KENNEDY 20</td>\n",
       "      <td>REGGIO EMILIA</td>\n",
       "      <td>EMILIA ROMAGNA</td>\n",
       "      <td>SI</td>\n",
       "      <td>www.ickennedy-re.gov.it</td>\n",
       "    </tr>\n",
       "    <tr>\n",
       "      <th>62</th>\n",
       "      <td>201718</td>\n",
       "      <td>NORD EST</td>\n",
       "      <td>43014</td>\n",
       "      <td>F082</td>\n",
       "      <td>PRIC80900A</td>\n",
       "      <td>PRMM80901B</td>\n",
       "      <td>I.C. MEDESANO</td>\n",
       "      <td>MEDESANO - \"EDMONDO DE' AMICIS\"</td>\n",
       "      <td>NORMALE</td>\n",
       "      <td>MEDESANO</td>\n",
       "      <td>SCUOLA PRIMO GRADO</td>\n",
       "      <td>NO</td>\n",
       "      <td>Non Disponibile</td>\n",
       "      <td>PRIC80900A@istruzione.it</td>\n",
       "      <td>Non Disponibile</td>\n",
       "      <td>VIA DE GASPERI 2</td>\n",
       "      <td>PARMA</td>\n",
       "      <td>EMILIA ROMAGNA</td>\n",
       "      <td>SI</td>\n",
       "      <td>www.icmedesano.gov.it</td>\n",
       "    </tr>\n",
       "    <tr>\n",
       "      <th>70</th>\n",
       "      <td>201718</td>\n",
       "      <td>NORD EST</td>\n",
       "      <td>47923</td>\n",
       "      <td>H294</td>\n",
       "      <td>RNIC80600R</td>\n",
       "      <td>RNIC80600R</td>\n",
       "      <td>IC \"ALBERTO MARVELLI\"-RIMINI-</td>\n",
       "      <td>IC \"ALBERTO MARVELLI\"-RIMINI-</td>\n",
       "      <td>NORMALE</td>\n",
       "      <td>RIMINI</td>\n",
       "      <td>ISTITUTO COMPRENSIVO</td>\n",
       "      <td>SI</td>\n",
       "      <td>Non Disponibile</td>\n",
       "      <td>RNIC80600R@istruzione.it</td>\n",
       "      <td>rnic80600r@pec.istruzione.it</td>\n",
       "      <td>VIA COVIGNANO 238</td>\n",
       "      <td>RIMINI</td>\n",
       "      <td>EMILIA ROMAGNA</td>\n",
       "      <td>NO</td>\n",
       "      <td>Non Disponibile</td>\n",
       "    </tr>\n",
       "  </tbody>\n",
       "</table>\n",
       "</div>"
      ],
      "text/plain": [
       "    ANNOSCOLASTICO AREAGEOGRAFICA CAPSCUOLA CODICECOMUNESCUOLA  \\\n",
       "42          201718       NORD EST     42124               H223   \n",
       "62          201718       NORD EST     43014               F082   \n",
       "70          201718       NORD EST     47923               H294   \n",
       "\n",
       "   CODICEISTITUTORIFERIMENTO CODICESCUOLA DENOMINAZIONEISTITUTORIFERIMENTO  \\\n",
       "42                REIC84000C   REEE84005P                   \"J.F. KENNEDY\"   \n",
       "62                PRIC80900A   PRMM80901B                    I.C. MEDESANO   \n",
       "70                RNIC80600R   RNIC80600R    IC \"ALBERTO MARVELLI\"-RIMINI-   \n",
       "\n",
       "                DENOMINAZIONESCUOLA DESCRIZIONECARATTERISTICASCUOLA  \\\n",
       "42    \"G. LEOPARDI\" - PIEVE KENNEDY                         NORMALE   \n",
       "62  MEDESANO - \"EDMONDO DE' AMICIS\"                         NORMALE   \n",
       "70    IC \"ALBERTO MARVELLI\"-RIMINI-                         NORMALE   \n",
       "\n",
       "     DESCRIZIONECOMUNE DESCRIZIONETIPOLOGIAGRADOISTRUZIONESCUOLA  \\\n",
       "42  REGGIO NELL'EMILIA                           SCUOLA PRIMARIA   \n",
       "62            MEDESANO                        SCUOLA PRIMO GRADO   \n",
       "70              RIMINI                      ISTITUTO COMPRENSIVO   \n",
       "\n",
       "   INDICAZIONESEDEDIRETTIVO INDICAZIONESEDEOMNICOMPRENSIVO  \\\n",
       "42                       NO                Non Disponibile   \n",
       "62                       NO                Non Disponibile   \n",
       "70                       SI                Non Disponibile   \n",
       "\n",
       "        INDIRIZZOEMAILSCUOLA            INDIRIZZOPECSCUOLA    INDIRIZZOSCUOLA  \\\n",
       "42  REIC84000C@istruzione.it               Non Disponibile     VIA KENNEDY 20   \n",
       "62  PRIC80900A@istruzione.it               Non Disponibile   VIA DE GASPERI 2   \n",
       "70  RNIC80600R@istruzione.it  rnic80600r@pec.istruzione.it  VIA COVIGNANO 238   \n",
       "\n",
       "        PROVINCIA         REGIONE SEDESCOLASTICA            SITOWEBSCUOLA  \n",
       "42  REGGIO EMILIA  EMILIA ROMAGNA             SI  www.ickennedy-re.gov.it  \n",
       "62          PARMA  EMILIA ROMAGNA             SI    www.icmedesano.gov.it  \n",
       "70         RIMINI  EMILIA ROMAGNA             NO          Non Disponibile  "
      ]
     },
     "execution_count": 53,
     "metadata": {},
     "output_type": "execute_result"
    }
   ],
   "source": [
    "scuole_RER.head(3)"
   ]
  },
  {
   "cell_type": "code",
   "execution_count": 57,
   "metadata": {},
   "outputs": [
    {
     "data": {
      "text/plain": [
       "(3026, 20)"
      ]
     },
     "execution_count": 57,
     "metadata": {},
     "output_type": "execute_result"
    }
   ],
   "source": [
    "#Quante sono?\n",
    "scuole_RER.shape"
   ]
  },
  {
   "cell_type": "markdown",
   "metadata": {},
   "source": [
    "Quante grado di istruzione ci sono?\n",
    "(_unique_ mi serve perchè il valore potrebbe ripetersi)"
   ]
  },
  {
   "cell_type": "code",
   "execution_count": 58,
   "metadata": {},
   "outputs": [],
   "source": [
    "tipi_scuole = scuole.DESCRIZIONETIPOLOGIAGRADOISTRUZIONESCUOLA.unique()"
   ]
  },
  {
   "cell_type": "code",
   "execution_count": 59,
   "metadata": {},
   "outputs": [
    {
     "data": {
      "text/plain": [
       "42"
      ]
     },
     "execution_count": 59,
     "metadata": {},
     "output_type": "execute_result"
    }
   ],
   "source": [
    "#vediamo quante sono (size)\n",
    "tipi_scuole.size"
   ]
  },
  {
   "cell_type": "code",
   "execution_count": 60,
   "metadata": {},
   "outputs": [
    {
     "data": {
      "text/plain": [
       "array(['SCUOLA PRIMO GRADO', 'SCUOLA PRIMARIA', 'SCUOLA INFANZIA',\n",
       "       'LICEO SCIENTIFICO', 'ISTITUTO COMPRENSIVO',\n",
       "       'ISTITUTO TECNICO INDUSTRIALE', 'ISTITUTO MAGISTRALE',\n",
       "       'IST PROF INDUSTRIA E ARTIGIANATO', 'ISTITUTO SUPERIORE',\n",
       "       'IST TEC COMMERCIALE E PER GEOMETRI',\n",
       "       'IST PROF PER I SERVIZI COMMERCIALI',\n",
       "       'IST PROF PER I SERVIZI COMMERCIALI E TURISTICI',\n",
       "       'ISTITUTO TECNICO COMMERCIALE', 'ISTITUTO TECNICO AGRARIO',\n",
       "       'IST PROF PER I SERVIZI ALBERGHIERI E RISTORAZIONE',\n",
       "       \"ISTITUTO D'ARTE\", 'CENTRO TERRITORIALE',\n",
       "       'IST PROF PER I SERVIZI SOCIALI', 'CONVITTO ANNESSO',\n",
       "       'LICEO ARTISTICO', 'LICEO CLASSICO',\n",
       "       \"IST PROF PER L'AGRICOLTURA E L'AMBIENTE\", 'CONVITTO NAZIONALE',\n",
       "       'ISTITUTO TECNICO NAUTICO', 'ISTITUTO TECNICO PER IL TURISMO',\n",
       "       'ISTITUTO TECNICO PER GEOMETRI',\n",
       "       \"ISTITUTO TECNICO PER ATTIVITA' SOCIALI (GIA' ITF)\",\n",
       "       'IST PROF ALBERGHIERO', \"IST PROF INDUSTRIA E ATTIVITA' MARINARE\",\n",
       "       'EDUCANDATO', 'ISTITUTO TECNICO AERONAUTICO',\n",
       "       \"IST PROF PER L'AGRICOLTURA\",\n",
       "       'IST PROF INDUSTRIA E ARTIGIANATO PER CIECHI', 'SCUOLA MAGISTRALE',\n",
       "       'IST PROF CINEMATOGRAFIA E TELEVISIONE',\n",
       "       'IST PROF PER I SERVIZI PUBBLICITARI',\n",
       "       'IST PROF INDUSTRIA E ARTIGIANATO PER SORDOMUTI',\n",
       "       'IST PROF PER I SERVIZI COMM TUR E DELLA PUBB',\n",
       "       'IST PROF PER I SERVIZI TURISTICI', 'IST PROF\\xa0 ALBERGHIERO',\n",
       "       'LICEO LINGUISTICO', 'IST TECNICO COMMERCIALE'], dtype=object)"
      ]
     },
     "execution_count": 60,
     "metadata": {},
     "output_type": "execute_result"
    }
   ],
   "source": [
    "# e quali sono\n",
    "tipi_scuole"
   ]
  },
  {
   "cell_type": "markdown",
   "metadata": {},
   "source": [
    "... e quanti per la Regione Emilia Romagna?"
   ]
  },
  {
   "cell_type": "code",
   "execution_count": 61,
   "metadata": {},
   "outputs": [],
   "source": [
    "tipi_scuole_RER = scuole_RER.DESCRIZIONETIPOLOGIAGRADOISTRUZIONESCUOLA.unique()"
   ]
  },
  {
   "cell_type": "code",
   "execution_count": 62,
   "metadata": {},
   "outputs": [
    {
     "data": {
      "text/plain": [
       "29"
      ]
     },
     "execution_count": 62,
     "metadata": {},
     "output_type": "execute_result"
    }
   ],
   "source": [
    "tipi_scuole_RER.size"
   ]
  },
  {
   "cell_type": "code",
   "execution_count": 63,
   "metadata": {
    "scrolled": true
   },
   "outputs": [
    {
     "data": {
      "text/plain": [
       "array(['SCUOLA PRIMARIA', 'SCUOLA PRIMO GRADO', 'ISTITUTO COMPRENSIVO',\n",
       "       'SCUOLA INFANZIA', 'ISTITUTO TECNICO INDUSTRIALE',\n",
       "       'IST PROF INDUSTRIA E ARTIGIANATO',\n",
       "       'IST PROF PER I SERVIZI SOCIALI', 'ISTITUTO TECNICO COMMERCIALE',\n",
       "       'LICEO CLASSICO',\n",
       "       'IST PROF PER I SERVIZI ALBERGHIERI E RISTORAZIONE',\n",
       "       'IST PROF PER I SERVIZI COMMERCIALI E TURISTICI',\n",
       "       'LICEO SCIENTIFICO', 'ISTITUTO MAGISTRALE', 'ISTITUTO SUPERIORE',\n",
       "       'ISTITUTO TECNICO AGRARIO',\n",
       "       \"IST PROF PER L'AGRICOLTURA E L'AMBIENTE\",\n",
       "       'IST PROF PER I SERVIZI COMMERCIALI',\n",
       "       'ISTITUTO TECNICO PER GEOMETRI', 'LICEO ARTISTICO',\n",
       "       'CENTRO TERRITORIALE', \"ISTITUTO D'ARTE\",\n",
       "       'IST TEC COMMERCIALE E PER GEOMETRI', 'CONVITTO NAZIONALE',\n",
       "       'ISTITUTO TECNICO AERONAUTICO', 'ISTITUTO TECNICO PER IL TURISMO',\n",
       "       'CONVITTO ANNESSO', 'IST PROF PER I SERVIZI PUBBLICITARI',\n",
       "       \"ISTITUTO TECNICO PER ATTIVITA' SOCIALI (GIA' ITF)\",\n",
       "       \"IST PROF PER L'AGRICOLTURA\"], dtype=object)"
      ]
     },
     "execution_count": 63,
     "metadata": {},
     "output_type": "execute_result"
    }
   ],
   "source": [
    "tipi_scuole_RER"
   ]
  },
  {
   "cell_type": "markdown",
   "metadata": {},
   "source": [
    "Come faccio a confrontarle?\n",
    "\n",
    "Vediamo che \"tipi\" sono ..."
   ]
  },
  {
   "cell_type": "code",
   "execution_count": 64,
   "metadata": {},
   "outputs": [
    {
     "data": {
      "text/plain": [
       "numpy.ndarray"
      ]
     },
     "execution_count": 64,
     "metadata": {},
     "output_type": "execute_result"
    }
   ],
   "source": [
    "type(tipi_scuole)"
   ]
  },
  {
   "cell_type": "markdown",
   "metadata": {},
   "source": [
    "numpy???\n",
    "\n",
    "Voglio i poteri per leggere numpy!!!"
   ]
  },
  {
   "cell_type": "code",
   "execution_count": 65,
   "metadata": {},
   "outputs": [],
   "source": [
    "import numpy as np"
   ]
  },
  {
   "cell_type": "markdown",
   "metadata": {},
   "source": [
    ".. ed ora *numpy* trovami le differenze :)"
   ]
  },
  {
   "cell_type": "code",
   "execution_count": 67,
   "metadata": {},
   "outputs": [
    {
     "data": {
      "text/plain": [
       "array(['EDUCANDATO', 'IST PROF ALBERGHIERO',\n",
       "       'IST PROF CINEMATOGRAFIA E TELEVISIONE',\n",
       "       'IST PROF INDUSTRIA E ARTIGIANATO PER CIECHI',\n",
       "       'IST PROF INDUSTRIA E ARTIGIANATO PER SORDOMUTI',\n",
       "       \"IST PROF INDUSTRIA E ATTIVITA' MARINARE\",\n",
       "       'IST PROF PER I SERVIZI COMM TUR E DELLA PUBB',\n",
       "       'IST PROF PER I SERVIZI TURISTICI', 'IST PROF\\xa0 ALBERGHIERO',\n",
       "       'IST TECNICO COMMERCIALE', 'ISTITUTO TECNICO NAUTICO',\n",
       "       'LICEO LINGUISTICO', 'SCUOLA MAGISTRALE'], dtype=object)"
      ]
     },
     "execution_count": 67,
     "metadata": {},
     "output_type": "execute_result"
    }
   ],
   "source": [
    "np.setdiff1d(tipi_scuole,tipi_scuole_RER)"
   ]
  },
  {
   "cell_type": "markdown",
   "metadata": {},
   "source": [
    "ma dove stanno questi \"IST PROF CINEMATOGRAFIA E TELEVISIONE\" ?"
   ]
  },
  {
   "cell_type": "code",
   "execution_count": 68,
   "metadata": {},
   "outputs": [
    {
     "data": {
      "text/html": [
       "<div>\n",
       "<style scoped>\n",
       "    .dataframe tbody tr th:only-of-type {\n",
       "        vertical-align: middle;\n",
       "    }\n",
       "\n",
       "    .dataframe tbody tr th {\n",
       "        vertical-align: top;\n",
       "    }\n",
       "\n",
       "    .dataframe thead th {\n",
       "        text-align: right;\n",
       "    }\n",
       "</style>\n",
       "<table border=\"1\" class=\"dataframe\">\n",
       "  <thead>\n",
       "    <tr style=\"text-align: right;\">\n",
       "      <th></th>\n",
       "      <th>ANNOSCOLASTICO</th>\n",
       "      <th>AREAGEOGRAFICA</th>\n",
       "      <th>CAPSCUOLA</th>\n",
       "      <th>CODICECOMUNESCUOLA</th>\n",
       "      <th>CODICEISTITUTORIFERIMENTO</th>\n",
       "      <th>CODICESCUOLA</th>\n",
       "      <th>DENOMINAZIONEISTITUTORIFERIMENTO</th>\n",
       "      <th>DENOMINAZIONESCUOLA</th>\n",
       "      <th>DESCRIZIONECARATTERISTICASCUOLA</th>\n",
       "      <th>DESCRIZIONECOMUNE</th>\n",
       "      <th>DESCRIZIONETIPOLOGIAGRADOISTRUZIONESCUOLA</th>\n",
       "      <th>INDICAZIONESEDEDIRETTIVO</th>\n",
       "      <th>INDICAZIONESEDEOMNICOMPRENSIVO</th>\n",
       "      <th>INDIRIZZOEMAILSCUOLA</th>\n",
       "      <th>INDIRIZZOPECSCUOLA</th>\n",
       "      <th>INDIRIZZOSCUOLA</th>\n",
       "      <th>PROVINCIA</th>\n",
       "      <th>REGIONE</th>\n",
       "      <th>SEDESCOLASTICA</th>\n",
       "      <th>SITOWEBSCUOLA</th>\n",
       "    </tr>\n",
       "  </thead>\n",
       "  <tbody>\n",
       "    <tr>\n",
       "      <th>17609</th>\n",
       "      <td>201718</td>\n",
       "      <td>CENTRO</td>\n",
       "      <td>00146</td>\n",
       "      <td>H501</td>\n",
       "      <td>RMIS08900B</td>\n",
       "      <td>RMRV089015</td>\n",
       "      <td>CINE TV \"ROBERTO ROSSELLINI\"</td>\n",
       "      <td>IST PROF CINEMA E TV ROBERTO ROSSELLINI</td>\n",
       "      <td>NORMALE</td>\n",
       "      <td>ROMA</td>\n",
       "      <td>IST PROF CINEMATOGRAFIA E TELEVISIONE</td>\n",
       "      <td>NO</td>\n",
       "      <td>Non Disponibile</td>\n",
       "      <td>RMIS08900B@istruzione.it</td>\n",
       "      <td>Non Disponibile</td>\n",
       "      <td>VIA DELLA VASCA NAVALE58</td>\n",
       "      <td>ROMA</td>\n",
       "      <td>LAZIO</td>\n",
       "      <td>SI</td>\n",
       "      <td>WWW.cine-tv.it</td>\n",
       "    </tr>\n",
       "    <tr>\n",
       "      <th>18257</th>\n",
       "      <td>201718</td>\n",
       "      <td>CENTRO</td>\n",
       "      <td>00146</td>\n",
       "      <td>H501</td>\n",
       "      <td>RMIS08900B</td>\n",
       "      <td>RMRV08951E</td>\n",
       "      <td>CINE TV \"ROBERTO ROSSELLINI\"</td>\n",
       "      <td>ROBERTO ROSSELLINI SERALE</td>\n",
       "      <td>PERCORSO II LIVELLO</td>\n",
       "      <td>ROMA</td>\n",
       "      <td>IST PROF CINEMATOGRAFIA E TELEVISIONE</td>\n",
       "      <td>NO</td>\n",
       "      <td>Non Disponibile</td>\n",
       "      <td>RMIS08900B@istruzione.it</td>\n",
       "      <td>Non Disponibile</td>\n",
       "      <td>VIA DELLA VASCA NAVALE 58</td>\n",
       "      <td>ROMA</td>\n",
       "      <td>LAZIO</td>\n",
       "      <td>NO</td>\n",
       "      <td>http//www.cine-tv.gov.it</td>\n",
       "    </tr>\n",
       "  </tbody>\n",
       "</table>\n",
       "</div>"
      ],
      "text/plain": [
       "       ANNOSCOLASTICO AREAGEOGRAFICA CAPSCUOLA CODICECOMUNESCUOLA  \\\n",
       "17609          201718         CENTRO     00146               H501   \n",
       "18257          201718         CENTRO     00146               H501   \n",
       "\n",
       "      CODICEISTITUTORIFERIMENTO CODICESCUOLA DENOMINAZIONEISTITUTORIFERIMENTO  \\\n",
       "17609                RMIS08900B   RMRV089015     CINE TV \"ROBERTO ROSSELLINI\"   \n",
       "18257                RMIS08900B   RMRV08951E     CINE TV \"ROBERTO ROSSELLINI\"   \n",
       "\n",
       "                           DENOMINAZIONESCUOLA  \\\n",
       "17609  IST PROF CINEMA E TV ROBERTO ROSSELLINI   \n",
       "18257                ROBERTO ROSSELLINI SERALE   \n",
       "\n",
       "      DESCRIZIONECARATTERISTICASCUOLA DESCRIZIONECOMUNE  \\\n",
       "17609                         NORMALE              ROMA   \n",
       "18257             PERCORSO II LIVELLO              ROMA   \n",
       "\n",
       "      DESCRIZIONETIPOLOGIAGRADOISTRUZIONESCUOLA INDICAZIONESEDEDIRETTIVO  \\\n",
       "17609     IST PROF CINEMATOGRAFIA E TELEVISIONE                       NO   \n",
       "18257     IST PROF CINEMATOGRAFIA E TELEVISIONE                       NO   \n",
       "\n",
       "      INDICAZIONESEDEOMNICOMPRENSIVO      INDIRIZZOEMAILSCUOLA  \\\n",
       "17609                Non Disponibile  RMIS08900B@istruzione.it   \n",
       "18257                Non Disponibile  RMIS08900B@istruzione.it   \n",
       "\n",
       "      INDIRIZZOPECSCUOLA            INDIRIZZOSCUOLA PROVINCIA REGIONE  \\\n",
       "17609    Non Disponibile   VIA DELLA VASCA NAVALE58      ROMA   LAZIO   \n",
       "18257    Non Disponibile  VIA DELLA VASCA NAVALE 58      ROMA   LAZIO   \n",
       "\n",
       "      SEDESCOLASTICA             SITOWEBSCUOLA  \n",
       "17609             SI            WWW.cine-tv.it  \n",
       "18257             NO  http//www.cine-tv.gov.it  "
      ]
     },
     "execution_count": 68,
     "metadata": {},
     "output_type": "execute_result"
    }
   ],
   "source": [
    "scuole_italiane[scuole_italiane.DESCRIZIONETIPOLOGIAGRADOISTRUZIONESCUOLA == 'IST PROF CINEMATOGRAFIA E TELEVISIONE']"
   ]
  },
  {
   "cell_type": "markdown",
   "metadata": {},
   "source": [
    "Solo quella che è sede scolastica"
   ]
  },
  {
   "cell_type": "code",
   "execution_count": 69,
   "metadata": {},
   "outputs": [
    {
     "data": {
      "text/html": [
       "<div>\n",
       "<style scoped>\n",
       "    .dataframe tbody tr th:only-of-type {\n",
       "        vertical-align: middle;\n",
       "    }\n",
       "\n",
       "    .dataframe tbody tr th {\n",
       "        vertical-align: top;\n",
       "    }\n",
       "\n",
       "    .dataframe thead th {\n",
       "        text-align: right;\n",
       "    }\n",
       "</style>\n",
       "<table border=\"1\" class=\"dataframe\">\n",
       "  <thead>\n",
       "    <tr style=\"text-align: right;\">\n",
       "      <th></th>\n",
       "      <th>ANNOSCOLASTICO</th>\n",
       "      <th>AREAGEOGRAFICA</th>\n",
       "      <th>CAPSCUOLA</th>\n",
       "      <th>CODICECOMUNESCUOLA</th>\n",
       "      <th>CODICEISTITUTORIFERIMENTO</th>\n",
       "      <th>CODICESCUOLA</th>\n",
       "      <th>DENOMINAZIONEISTITUTORIFERIMENTO</th>\n",
       "      <th>DENOMINAZIONESCUOLA</th>\n",
       "      <th>DESCRIZIONECARATTERISTICASCUOLA</th>\n",
       "      <th>DESCRIZIONECOMUNE</th>\n",
       "      <th>DESCRIZIONETIPOLOGIAGRADOISTRUZIONESCUOLA</th>\n",
       "      <th>INDICAZIONESEDEDIRETTIVO</th>\n",
       "      <th>INDICAZIONESEDEOMNICOMPRENSIVO</th>\n",
       "      <th>INDIRIZZOEMAILSCUOLA</th>\n",
       "      <th>INDIRIZZOPECSCUOLA</th>\n",
       "      <th>INDIRIZZOSCUOLA</th>\n",
       "      <th>PROVINCIA</th>\n",
       "      <th>REGIONE</th>\n",
       "      <th>SEDESCOLASTICA</th>\n",
       "      <th>SITOWEBSCUOLA</th>\n",
       "    </tr>\n",
       "  </thead>\n",
       "  <tbody>\n",
       "    <tr>\n",
       "      <th>17609</th>\n",
       "      <td>201718</td>\n",
       "      <td>CENTRO</td>\n",
       "      <td>00146</td>\n",
       "      <td>H501</td>\n",
       "      <td>RMIS08900B</td>\n",
       "      <td>RMRV089015</td>\n",
       "      <td>CINE TV \"ROBERTO ROSSELLINI\"</td>\n",
       "      <td>IST PROF CINEMA E TV ROBERTO ROSSELLINI</td>\n",
       "      <td>NORMALE</td>\n",
       "      <td>ROMA</td>\n",
       "      <td>IST PROF CINEMATOGRAFIA E TELEVISIONE</td>\n",
       "      <td>NO</td>\n",
       "      <td>Non Disponibile</td>\n",
       "      <td>RMIS08900B@istruzione.it</td>\n",
       "      <td>Non Disponibile</td>\n",
       "      <td>VIA DELLA VASCA NAVALE58</td>\n",
       "      <td>ROMA</td>\n",
       "      <td>LAZIO</td>\n",
       "      <td>SI</td>\n",
       "      <td>WWW.cine-tv.it</td>\n",
       "    </tr>\n",
       "  </tbody>\n",
       "</table>\n",
       "</div>"
      ],
      "text/plain": [
       "       ANNOSCOLASTICO AREAGEOGRAFICA CAPSCUOLA CODICECOMUNESCUOLA  \\\n",
       "17609          201718         CENTRO     00146               H501   \n",
       "\n",
       "      CODICEISTITUTORIFERIMENTO CODICESCUOLA DENOMINAZIONEISTITUTORIFERIMENTO  \\\n",
       "17609                RMIS08900B   RMRV089015     CINE TV \"ROBERTO ROSSELLINI\"   \n",
       "\n",
       "                           DENOMINAZIONESCUOLA  \\\n",
       "17609  IST PROF CINEMA E TV ROBERTO ROSSELLINI   \n",
       "\n",
       "      DESCRIZIONECARATTERISTICASCUOLA DESCRIZIONECOMUNE  \\\n",
       "17609                         NORMALE              ROMA   \n",
       "\n",
       "      DESCRIZIONETIPOLOGIAGRADOISTRUZIONESCUOLA INDICAZIONESEDEDIRETTIVO  \\\n",
       "17609     IST PROF CINEMATOGRAFIA E TELEVISIONE                       NO   \n",
       "\n",
       "      INDICAZIONESEDEOMNICOMPRENSIVO      INDIRIZZOEMAILSCUOLA  \\\n",
       "17609                Non Disponibile  RMIS08900B@istruzione.it   \n",
       "\n",
       "      INDIRIZZOPECSCUOLA           INDIRIZZOSCUOLA PROVINCIA REGIONE  \\\n",
       "17609    Non Disponibile  VIA DELLA VASCA NAVALE58      ROMA   LAZIO   \n",
       "\n",
       "      SEDESCOLASTICA   SITOWEBSCUOLA  \n",
       "17609             SI  WWW.cine-tv.it  "
      ]
     },
     "execution_count": 69,
     "metadata": {},
     "output_type": "execute_result"
    }
   ],
   "source": [
    "scuole_italiane[(scuole_italiane.DESCRIZIONETIPOLOGIAGRADOISTRUZIONESCUOLA == 'IST PROF CINEMATOGRAFIA E TELEVISIONE') & (scuole_italiane.SEDESCOLASTICA == 'SI')]"
   ]
  },
  {
   "cell_type": "code",
   "execution_count": 70,
   "metadata": {},
   "outputs": [],
   "source": [
    "scuole_cinemaetv = scuole_italiane[(scuole_italiane.DESCRIZIONETIPOLOGIAGRADOISTRUZIONESCUOLA == 'IST PROF CINEMATOGRAFIA E TELEVISIONE') & (scuole_italiane.SEDESCOLASTICA == 'SI')]"
   ]
  },
  {
   "cell_type": "code",
   "execution_count": 71,
   "metadata": {},
   "outputs": [],
   "source": [
    "cerca_indirizzo = scuole_cinemaetv.INDIRIZZOSCUOLA.values[0]\n",
    "cerca_indirizzo += \", \" + scuole_cinemaetv.CODICECOMUNESCUOLA.values[0]\n",
    "cerca_indirizzo += \", Italia\"\n",
    "nome_scuola = scuole_cinemaetv.DENOMINAZIONESCUOLA.values[0]"
   ]
  },
  {
   "cell_type": "code",
   "execution_count": 72,
   "metadata": {},
   "outputs": [],
   "source": [
    "import geocoder\n",
    "trovalo = geocoder.google(cerca_indirizzo)"
   ]
  },
  {
   "cell_type": "code",
   "execution_count": 73,
   "metadata": {},
   "outputs": [
    {
     "data": {
      "text/html": [
       "<div style=\"width:100%;\"><div style=\"position:relative;width:100%;height:0;padding-bottom:60%;\"><iframe src=\"data:text/html;charset=utf-8;base64,PCFET0NUWVBFIGh0bWw+CjxoZWFkPiAgICAKICAgIDxtZXRhIGh0dHAtZXF1aXY9ImNvbnRlbnQtdHlwZSIgY29udGVudD0idGV4dC9odG1sOyBjaGFyc2V0PVVURi04IiAvPgogICAgPHNjcmlwdD5MX1BSRUZFUl9DQU5WQVMgPSBmYWxzZTsgTF9OT19UT1VDSCA9IGZhbHNlOyBMX0RJU0FCTEVfM0QgPSBmYWxzZTs8L3NjcmlwdD4KICAgIDxzY3JpcHQgc3JjPSJodHRwczovL2Nkbi5qc2RlbGl2ci5uZXQvbnBtL2xlYWZsZXRAMS4yLjAvZGlzdC9sZWFmbGV0LmpzIj48L3NjcmlwdD4KICAgIDxzY3JpcHQgc3JjPSJodHRwczovL2FqYXguZ29vZ2xlYXBpcy5jb20vYWpheC9saWJzL2pxdWVyeS8xLjExLjEvanF1ZXJ5Lm1pbi5qcyI+PC9zY3JpcHQ+CiAgICA8c2NyaXB0IHNyYz0iaHR0cHM6Ly9tYXhjZG4uYm9vdHN0cmFwY2RuLmNvbS9ib290c3RyYXAvMy4yLjAvanMvYm9vdHN0cmFwLm1pbi5qcyI+PC9zY3JpcHQ+CiAgICA8c2NyaXB0IHNyYz0iaHR0cHM6Ly9jZG5qcy5jbG91ZGZsYXJlLmNvbS9hamF4L2xpYnMvTGVhZmxldC5hd2Vzb21lLW1hcmtlcnMvMi4wLjIvbGVhZmxldC5hd2Vzb21lLW1hcmtlcnMuanMiPjwvc2NyaXB0PgogICAgPGxpbmsgcmVsPSJzdHlsZXNoZWV0IiBocmVmPSJodHRwczovL2Nkbi5qc2RlbGl2ci5uZXQvbnBtL2xlYWZsZXRAMS4yLjAvZGlzdC9sZWFmbGV0LmNzcyIgLz4KICAgIDxsaW5rIHJlbD0ic3R5bGVzaGVldCIgaHJlZj0iaHR0cHM6Ly9tYXhjZG4uYm9vdHN0cmFwY2RuLmNvbS9ib290c3RyYXAvMy4yLjAvY3NzL2Jvb3RzdHJhcC5taW4uY3NzIiAvPgogICAgPGxpbmsgcmVsPSJzdHlsZXNoZWV0IiBocmVmPSJodHRwczovL21heGNkbi5ib290c3RyYXBjZG4uY29tL2Jvb3RzdHJhcC8zLjIuMC9jc3MvYm9vdHN0cmFwLXRoZW1lLm1pbi5jc3MiIC8+CiAgICA8bGluayByZWw9InN0eWxlc2hlZXQiIGhyZWY9Imh0dHBzOi8vbWF4Y2RuLmJvb3RzdHJhcGNkbi5jb20vZm9udC1hd2Vzb21lLzQuNi4zL2Nzcy9mb250LWF3ZXNvbWUubWluLmNzcyIgLz4KICAgIDxsaW5rIHJlbD0ic3R5bGVzaGVldCIgaHJlZj0iaHR0cHM6Ly9jZG5qcy5jbG91ZGZsYXJlLmNvbS9hamF4L2xpYnMvTGVhZmxldC5hd2Vzb21lLW1hcmtlcnMvMi4wLjIvbGVhZmxldC5hd2Vzb21lLW1hcmtlcnMuY3NzIiAvPgogICAgPGxpbmsgcmVsPSJzdHlsZXNoZWV0IiBocmVmPSJodHRwczovL3Jhd2dpdC5jb20vcHl0aG9uLXZpc3VhbGl6YXRpb24vZm9saXVtL21hc3Rlci9mb2xpdW0vdGVtcGxhdGVzL2xlYWZsZXQuYXdlc29tZS5yb3RhdGUuY3NzIiAvPgogICAgPHN0eWxlPmh0bWwsIGJvZHkge3dpZHRoOiAxMDAlO2hlaWdodDogMTAwJTttYXJnaW46IDA7cGFkZGluZzogMDt9PC9zdHlsZT4KICAgIDxzdHlsZT4jbWFwIHtwb3NpdGlvbjphYnNvbHV0ZTt0b3A6MDtib3R0b206MDtyaWdodDowO2xlZnQ6MDt9PC9zdHlsZT4KICAgIAogICAgICAgICAgICA8c3R5bGU+ICNtYXBfYWUzZGNjYWRhYjIzNDc4ZmI1OGYxMGI0MTllZGRlMmEgewogICAgICAgICAgICAgICAgcG9zaXRpb24gOiByZWxhdGl2ZTsKICAgICAgICAgICAgICAgIHdpZHRoIDogMTAwLjAlOwogICAgICAgICAgICAgICAgaGVpZ2h0OiAxMDAuMCU7CiAgICAgICAgICAgICAgICBsZWZ0OiAwLjAlOwogICAgICAgICAgICAgICAgdG9wOiAwLjAlOwogICAgICAgICAgICAgICAgfQogICAgICAgICAgICA8L3N0eWxlPgogICAgICAgIAo8L2hlYWQ+Cjxib2R5PiAgICAKICAgIAogICAgICAgICAgICA8ZGl2IGNsYXNzPSJmb2xpdW0tbWFwIiBpZD0ibWFwX2FlM2RjY2FkYWIyMzQ3OGZiNThmMTBiNDE5ZWRkZTJhIiA+PC9kaXY+CiAgICAgICAgCjwvYm9keT4KPHNjcmlwdD4gICAgCiAgICAKCiAgICAgICAgICAgIAogICAgICAgICAgICAgICAgdmFyIGJvdW5kcyA9IG51bGw7CiAgICAgICAgICAgIAoKICAgICAgICAgICAgdmFyIG1hcF9hZTNkY2NhZGFiMjM0NzhmYjU4ZjEwYjQxOWVkZGUyYSA9IEwubWFwKAogICAgICAgICAgICAgICAgICAgICAgICAgICAgICAgICAgJ21hcF9hZTNkY2NhZGFiMjM0NzhmYjU4ZjEwYjQxOWVkZGUyYScsCiAgICAgICAgICAgICAgICAgICAgICAgICAgICAgICAgICB7Y2VudGVyOiBbNDEuODU2MzEwNiwxMi40Njg1NTM4XSwKICAgICAgICAgICAgICAgICAgICAgICAgICAgICAgICAgIHpvb206IDE4LAogICAgICAgICAgICAgICAgICAgICAgICAgICAgICAgICAgbWF4Qm91bmRzOiBib3VuZHMsCiAgICAgICAgICAgICAgICAgICAgICAgICAgICAgICAgICBsYXllcnM6IFtdLAogICAgICAgICAgICAgICAgICAgICAgICAgICAgICAgICAgd29ybGRDb3B5SnVtcDogZmFsc2UsCiAgICAgICAgICAgICAgICAgICAgICAgICAgICAgICAgICBjcnM6IEwuQ1JTLkVQU0czODU3CiAgICAgICAgICAgICAgICAgICAgICAgICAgICAgICAgIH0pOwogICAgICAgICAgICAKICAgICAgICAKICAgIAogICAgICAgICAgICB2YXIgdGlsZV9sYXllcl9mMjljNTcyNWUxZGY0MzcxYWM0ZGUzNTU4NTM2M2FjNSA9IEwudGlsZUxheWVyKAogICAgICAgICAgICAgICAgJ2h0dHBzOi8ve3N9LnRpbGUub3BlbnN0cmVldG1hcC5vcmcve3p9L3t4fS97eX0ucG5nJywKICAgICAgICAgICAgICAgIHsKICAiYXR0cmlidXRpb24iOiBudWxsLAogICJkZXRlY3RSZXRpbmEiOiBmYWxzZSwKICAibWF4Wm9vbSI6IDE4LAogICJtaW5ab29tIjogMSwKICAibm9XcmFwIjogZmFsc2UsCiAgInN1YmRvbWFpbnMiOiAiYWJjIgp9CiAgICAgICAgICAgICAgICApLmFkZFRvKG1hcF9hZTNkY2NhZGFiMjM0NzhmYjU4ZjEwYjQxOWVkZGUyYSk7CiAgICAgICAgCiAgICAKCiAgICAgICAgICAgIHZhciBtYXJrZXJfMGVkOTA1OTU5YWI5NDQxNGI2OTAyMWQ2NTE0NmZhNzEgPSBMLm1hcmtlcigKICAgICAgICAgICAgICAgIFs0MS44NTYzMTA2LDEyLjQ2ODU1MzhdLAogICAgICAgICAgICAgICAgewogICAgICAgICAgICAgICAgICAgIGljb246IG5ldyBMLkljb24uRGVmYXVsdCgpCiAgICAgICAgICAgICAgICAgICAgfQogICAgICAgICAgICAgICAgKQogICAgICAgICAgICAgICAgLmFkZFRvKG1hcF9hZTNkY2NhZGFiMjM0NzhmYjU4ZjEwYjQxOWVkZGUyYSk7CiAgICAgICAgICAgIAogICAgCiAgICAgICAgICAgIHZhciBwb3B1cF9lODZlMjIwZjBhYzM0ZGM2ODRiMThhZjU4MDMxY2EwOCA9IEwucG9wdXAoe21heFdpZHRoOiAnMzAwJ30pOwoKICAgICAgICAgICAgCiAgICAgICAgICAgICAgICB2YXIgaHRtbF9mOWZmMjRlYTI1N2M0NTkyYTVkOGRmYmIyNjA1ZWI4OSA9ICQoJzxkaXYgaWQ9Imh0bWxfZjlmZjI0ZWEyNTdjNDU5MmE1ZDhkZmJiMjYwNWViODkiIHN0eWxlPSJ3aWR0aDogMTAwLjAlOyBoZWlnaHQ6IDEwMC4wJTsiPklTVCBQUk9GIENJTkVNQSBFIFRWIFJPQkVSVE8gUk9TU0VMTElOSTwvZGl2PicpWzBdOwogICAgICAgICAgICAgICAgcG9wdXBfZTg2ZTIyMGYwYWMzNGRjNjg0YjE4YWY1ODAzMWNhMDguc2V0Q29udGVudChodG1sX2Y5ZmYyNGVhMjU3YzQ1OTJhNWQ4ZGZiYjI2MDVlYjg5KTsKICAgICAgICAgICAgCgogICAgICAgICAgICBtYXJrZXJfMGVkOTA1OTU5YWI5NDQxNGI2OTAyMWQ2NTE0NmZhNzEuYmluZFBvcHVwKHBvcHVwX2U4NmUyMjBmMGFjMzRkYzY4NGIxOGFmNTgwMzFjYTA4KTsKCiAgICAgICAgICAgIAogICAgICAgIAo8L3NjcmlwdD4=\" style=\"position:absolute;width:100%;height:100%;left:0;top:0;border:none !important;\" allowfullscreen webkitallowfullscreen mozallowfullscreen></iframe></div></div>"
      ],
      "text/plain": [
       "<folium.folium.Map at 0x7f4a7c754d68>"
      ]
     },
     "execution_count": 73,
     "metadata": {},
     "output_type": "execute_result"
    }
   ],
   "source": [
    "import folium\n",
    "mappa = folium.Map(location=[trovalo.latlng[0], trovalo.latlng[1]],zoom_start=18)\n",
    "folium.Marker([trovalo.latlng[0], trovalo.latlng[1]], popup=nome_scuola).add_to(mappa)\n",
    "mappa"
   ]
  },
  {
   "cell_type": "markdown",
   "metadata": {},
   "source": [
    "![](https://raw.githubusercontent.com/napo/opendatamiur/master/images/mappa_esempio.png)"
   ]
  },
  {
   "cell_type": "code",
   "execution_count": 75,
   "metadata": {},
   "outputs": [
    {
     "data": {
      "text/plain": [
       "count        3026\n",
       "unique        329\n",
       "top       BOLOGNA\n",
       "freq          174\n",
       "Name: DESCRIZIONECOMUNE, dtype: object"
      ]
     },
     "execution_count": 75,
     "metadata": {},
     "output_type": "execute_result"
    }
   ],
   "source": [
    "scuole_RER.DESCRIZIONECOMUNE.describe()"
   ]
  },
  {
   "cell_type": "code",
   "execution_count": 77,
   "metadata": {},
   "outputs": [],
   "source": [
    "scuole_elementari_RER = scuole_RER[scuole_RER.DESCRIZIONETIPOLOGIAGRADOISTRUZIONESCUOLA == 'SCUOLA PRIMARIA']"
   ]
  },
  {
   "cell_type": "code",
   "execution_count": 78,
   "metadata": {},
   "outputs": [
    {
     "data": {
      "text/html": [
       "<div>\n",
       "<style scoped>\n",
       "    .dataframe tbody tr th:only-of-type {\n",
       "        vertical-align: middle;\n",
       "    }\n",
       "\n",
       "    .dataframe tbody tr th {\n",
       "        vertical-align: top;\n",
       "    }\n",
       "\n",
       "    .dataframe thead th {\n",
       "        text-align: right;\n",
       "    }\n",
       "</style>\n",
       "<table border=\"1\" class=\"dataframe\">\n",
       "  <thead>\n",
       "    <tr style=\"text-align: right;\">\n",
       "      <th></th>\n",
       "      <th>ANNOSCOLASTICO</th>\n",
       "      <th>AREAGEOGRAFICA</th>\n",
       "      <th>CAPSCUOLA</th>\n",
       "      <th>CODICECOMUNESCUOLA</th>\n",
       "      <th>CODICEISTITUTORIFERIMENTO</th>\n",
       "      <th>CODICESCUOLA</th>\n",
       "      <th>DENOMINAZIONEISTITUTORIFERIMENTO</th>\n",
       "      <th>DENOMINAZIONESCUOLA</th>\n",
       "      <th>DESCRIZIONECARATTERISTICASCUOLA</th>\n",
       "      <th>DESCRIZIONECOMUNE</th>\n",
       "      <th>DESCRIZIONETIPOLOGIAGRADOISTRUZIONESCUOLA</th>\n",
       "      <th>INDICAZIONESEDEDIRETTIVO</th>\n",
       "      <th>INDICAZIONESEDEOMNICOMPRENSIVO</th>\n",
       "      <th>INDIRIZZOEMAILSCUOLA</th>\n",
       "      <th>INDIRIZZOPECSCUOLA</th>\n",
       "      <th>INDIRIZZOSCUOLA</th>\n",
       "      <th>PROVINCIA</th>\n",
       "      <th>REGIONE</th>\n",
       "      <th>SEDESCOLASTICA</th>\n",
       "      <th>SITOWEBSCUOLA</th>\n",
       "    </tr>\n",
       "  </thead>\n",
       "  <tbody>\n",
       "    <tr>\n",
       "      <th>42</th>\n",
       "      <td>201718</td>\n",
       "      <td>NORD EST</td>\n",
       "      <td>42124</td>\n",
       "      <td>H223</td>\n",
       "      <td>REIC84000C</td>\n",
       "      <td>REEE84005P</td>\n",
       "      <td>\"J.F. KENNEDY\"</td>\n",
       "      <td>\"G. LEOPARDI\" - PIEVE KENNEDY</td>\n",
       "      <td>NORMALE</td>\n",
       "      <td>REGGIO NELL'EMILIA</td>\n",
       "      <td>SCUOLA PRIMARIA</td>\n",
       "      <td>NO</td>\n",
       "      <td>Non Disponibile</td>\n",
       "      <td>REIC84000C@istruzione.it</td>\n",
       "      <td>Non Disponibile</td>\n",
       "      <td>VIA KENNEDY 20</td>\n",
       "      <td>REGGIO EMILIA</td>\n",
       "      <td>EMILIA ROMAGNA</td>\n",
       "      <td>SI</td>\n",
       "      <td>www.ickennedy-re.gov.it</td>\n",
       "    </tr>\n",
       "    <tr>\n",
       "      <th>86</th>\n",
       "      <td>201718</td>\n",
       "      <td>NORD EST</td>\n",
       "      <td>40063</td>\n",
       "      <td>F363</td>\n",
       "      <td>BOIC88400V</td>\n",
       "      <td>BOEE884011</td>\n",
       "      <td>IC DI LOIANO - MONGHIDORO</td>\n",
       "      <td>MADRE ORSOLA MEZZINI</td>\n",
       "      <td>NORMALE</td>\n",
       "      <td>MONGHIDORO</td>\n",
       "      <td>SCUOLA PRIMARIA</td>\n",
       "      <td>NO</td>\n",
       "      <td>Non Disponibile</td>\n",
       "      <td>BOIC88400V@istruzione.it</td>\n",
       "      <td>Non Disponibile</td>\n",
       "      <td>VIA ROMA 36</td>\n",
       "      <td>BOLOGNA</td>\n",
       "      <td>EMILIA ROMAGNA</td>\n",
       "      <td>SI</td>\n",
       "      <td>www.icloianomonghidoro.gov.it</td>\n",
       "    </tr>\n",
       "    <tr>\n",
       "      <th>133</th>\n",
       "      <td>201718</td>\n",
       "      <td>NORD EST</td>\n",
       "      <td>47923</td>\n",
       "      <td>H294</td>\n",
       "      <td>RNEE01500N</td>\n",
       "      <td>RNEE01502Q</td>\n",
       "      <td>CIRCOLO DIDATTICO 6 RIMINI</td>\n",
       "      <td>G.B. CASTI - 6 CIRCOLO RN</td>\n",
       "      <td>NORMALE</td>\n",
       "      <td>RIMINI</td>\n",
       "      <td>SCUOLA PRIMARIA</td>\n",
       "      <td>NO</td>\n",
       "      <td>Non Disponibile</td>\n",
       "      <td>RNEE01500N@istruzione.it</td>\n",
       "      <td>Non Disponibile</td>\n",
       "      <td>VIA G.B. CASTI N.13</td>\n",
       "      <td>RIMINI</td>\n",
       "      <td>EMILIA ROMAGNA</td>\n",
       "      <td>SI</td>\n",
       "      <td>http//scuole.rimini.com/cd6rimini.gov.it</td>\n",
       "    </tr>\n",
       "  </tbody>\n",
       "</table>\n",
       "</div>"
      ],
      "text/plain": [
       "     ANNOSCOLASTICO AREAGEOGRAFICA CAPSCUOLA CODICECOMUNESCUOLA  \\\n",
       "42           201718       NORD EST     42124               H223   \n",
       "86           201718       NORD EST     40063               F363   \n",
       "133          201718       NORD EST     47923               H294   \n",
       "\n",
       "    CODICEISTITUTORIFERIMENTO CODICESCUOLA DENOMINAZIONEISTITUTORIFERIMENTO  \\\n",
       "42                 REIC84000C   REEE84005P                   \"J.F. KENNEDY\"   \n",
       "86                 BOIC88400V   BOEE884011        IC DI LOIANO - MONGHIDORO   \n",
       "133                RNEE01500N   RNEE01502Q       CIRCOLO DIDATTICO 6 RIMINI   \n",
       "\n",
       "               DENOMINAZIONESCUOLA DESCRIZIONECARATTERISTICASCUOLA  \\\n",
       "42   \"G. LEOPARDI\" - PIEVE KENNEDY                         NORMALE   \n",
       "86            MADRE ORSOLA MEZZINI                         NORMALE   \n",
       "133      G.B. CASTI - 6 CIRCOLO RN                         NORMALE   \n",
       "\n",
       "      DESCRIZIONECOMUNE DESCRIZIONETIPOLOGIAGRADOISTRUZIONESCUOLA  \\\n",
       "42   REGGIO NELL'EMILIA                           SCUOLA PRIMARIA   \n",
       "86           MONGHIDORO                           SCUOLA PRIMARIA   \n",
       "133              RIMINI                           SCUOLA PRIMARIA   \n",
       "\n",
       "    INDICAZIONESEDEDIRETTIVO INDICAZIONESEDEOMNICOMPRENSIVO  \\\n",
       "42                        NO                Non Disponibile   \n",
       "86                        NO                Non Disponibile   \n",
       "133                       NO                Non Disponibile   \n",
       "\n",
       "         INDIRIZZOEMAILSCUOLA INDIRIZZOPECSCUOLA      INDIRIZZOSCUOLA  \\\n",
       "42   REIC84000C@istruzione.it    Non Disponibile       VIA KENNEDY 20   \n",
       "86   BOIC88400V@istruzione.it    Non Disponibile          VIA ROMA 36   \n",
       "133  RNEE01500N@istruzione.it    Non Disponibile  VIA G.B. CASTI N.13   \n",
       "\n",
       "         PROVINCIA         REGIONE SEDESCOLASTICA  \\\n",
       "42   REGGIO EMILIA  EMILIA ROMAGNA             SI   \n",
       "86         BOLOGNA  EMILIA ROMAGNA             SI   \n",
       "133         RIMINI  EMILIA ROMAGNA             SI   \n",
       "\n",
       "                                SITOWEBSCUOLA  \n",
       "42                    www.ickennedy-re.gov.it  \n",
       "86              www.icloianomonghidoro.gov.it  \n",
       "133  http//scuole.rimini.com/cd6rimini.gov.it  "
      ]
     },
     "execution_count": 78,
     "metadata": {},
     "output_type": "execute_result"
    }
   ],
   "source": [
    "scuole_elementari_RER.head(3)"
   ]
  },
  {
   "cell_type": "code",
   "execution_count": 79,
   "metadata": {},
   "outputs": [
    {
     "data": {
      "text/plain": [
       "(994, 20)"
      ]
     },
     "execution_count": 79,
     "metadata": {},
     "output_type": "execute_result"
    }
   ],
   "source": [
    "scuole_elementari_RER.shape"
   ]
  },
  {
   "cell_type": "code",
   "execution_count": 84,
   "metadata": {},
   "outputs": [],
   "source": [
    "scuole_province_RER = scuole_RER.groupby(scuole_RER.PROVINCIA).size()"
   ]
  },
  {
   "cell_type": "code",
   "execution_count": null,
   "metadata": {},
   "outputs": [
    {
     "data": {
      "text/plain": [
       "<matplotlib.axes._subplots.AxesSubplot at 0x7f4a7b395908>"
      ]
     },
     "execution_count": 86,
     "metadata": {},
     "output_type": "execute_result"
    }
   ],
   "source": [
    "scuole_province_RER.plot(kind='bar',figsize=(10,10))"
   ]
  },
  {
   "cell_type": "code",
   "execution_count": 70,
   "metadata": {},
   "outputs": [
    {
     "data": {
      "text/plain": [
       "(1, 20)"
      ]
     },
     "execution_count": 70,
     "metadata": {},
     "output_type": "execute_result"
    }
   ],
   "source": [
    "formazione_servizi_pubblicitari=scuole_provincia_bologna[scuole_provincia_bologna.DESCRIZIONETIPOLOGIAGRADOISTRUZIONESCUOLA =='IST PROF PER I SERVIZI PUBBLICITARI']\n",
    "formazione_servizi_pubblicitari.shape"
   ]
  },
  {
   "cell_type": "code",
   "execution_count": 71,
   "metadata": {},
   "outputs": [
    {
     "name": "stdout",
     "output_type": "stream",
     "text": [
      "BORC02101V\n",
      "IST PROF CINEMA E TV ROBERTO ROSSELLINI\n"
     ]
    }
   ],
   "source": [
    "codice_scuola = formazione_servizi_pubblicitari.CODICESCUOLA.values[0]\n",
    "nomescuola = formazione_servizi_pubblicitari.DENOMINAZIONESCUOLA.values[0]\n",
    "print(codice_scuola)\n",
    "print(nome_scuola)"
   ]
  },
  {
   "cell_type": "code",
   "execution_count": 72,
   "metadata": {},
   "outputs": [
    {
     "data": {
      "text/html": [
       "<div>\n",
       "<style scoped>\n",
       "    .dataframe tbody tr th:only-of-type {\n",
       "        vertical-align: middle;\n",
       "    }\n",
       "\n",
       "    .dataframe tbody tr th {\n",
       "        vertical-align: top;\n",
       "    }\n",
       "\n",
       "    .dataframe thead th {\n",
       "        text-align: right;\n",
       "    }\n",
       "</style>\n",
       "<table border=\"1\" class=\"dataframe\">\n",
       "  <thead>\n",
       "    <tr style=\"text-align: right;\">\n",
       "      <th></th>\n",
       "      <th>ANNOSCOLASTICO</th>\n",
       "      <th>CODICESCUOLA</th>\n",
       "      <th>ORDINESCUOLA</th>\n",
       "      <th>ANNOCORSO</th>\n",
       "      <th>FASCIAETA</th>\n",
       "      <th>ALUNNI</th>\n",
       "    </tr>\n",
       "  </thead>\n",
       "  <tbody>\n",
       "    <tr>\n",
       "      <th>201712</th>\n",
       "      <td>201617</td>\n",
       "      <td>BORC02101V</td>\n",
       "      <td>SCUOLA SECONDARIA II GRADO</td>\n",
       "      <td>1</td>\n",
       "      <td>15 anni</td>\n",
       "      <td>10</td>\n",
       "    </tr>\n",
       "    <tr>\n",
       "      <th>202218</th>\n",
       "      <td>201617</td>\n",
       "      <td>BORC02101V</td>\n",
       "      <td>SCUOLA SECONDARIA II GRADO</td>\n",
       "      <td>1</td>\n",
       "      <td>16 anni</td>\n",
       "      <td>2</td>\n",
       "    </tr>\n",
       "    <tr>\n",
       "      <th>207506</th>\n",
       "      <td>201617</td>\n",
       "      <td>BORC02101V</td>\n",
       "      <td>SCUOLA SECONDARIA II GRADO</td>\n",
       "      <td>1</td>\n",
       "      <td>14 anni</td>\n",
       "      <td>29</td>\n",
       "    </tr>\n",
       "    <tr>\n",
       "      <th>200493</th>\n",
       "      <td>201617</td>\n",
       "      <td>BORC02101V</td>\n",
       "      <td>SCUOLA SECONDARIA II GRADO</td>\n",
       "      <td>2</td>\n",
       "      <td>15 anni</td>\n",
       "      <td>18</td>\n",
       "    </tr>\n",
       "    <tr>\n",
       "      <th>201017</th>\n",
       "      <td>201617</td>\n",
       "      <td>BORC02101V</td>\n",
       "      <td>SCUOLA SECONDARIA II GRADO</td>\n",
       "      <td>2</td>\n",
       "      <td>16 anni</td>\n",
       "      <td>4</td>\n",
       "    </tr>\n",
       "    <tr>\n",
       "      <th>203549</th>\n",
       "      <td>201617</td>\n",
       "      <td>BORC02101V</td>\n",
       "      <td>SCUOLA SECONDARIA II GRADO</td>\n",
       "      <td>2</td>\n",
       "      <td>17 anni</td>\n",
       "      <td>2</td>\n",
       "    </tr>\n",
       "    <tr>\n",
       "      <th>204064</th>\n",
       "      <td>201617</td>\n",
       "      <td>BORC02101V</td>\n",
       "      <td>SCUOLA SECONDARIA II GRADO</td>\n",
       "      <td>3</td>\n",
       "      <td>16 anni</td>\n",
       "      <td>18</td>\n",
       "    </tr>\n",
       "    <tr>\n",
       "      <th>257343</th>\n",
       "      <td>201617</td>\n",
       "      <td>BORC02101V</td>\n",
       "      <td>SCUOLA SECONDARIA II GRADO</td>\n",
       "      <td>3</td>\n",
       "      <td>17 anni</td>\n",
       "      <td>5</td>\n",
       "    </tr>\n",
       "    <tr>\n",
       "      <th>251038</th>\n",
       "      <td>201617</td>\n",
       "      <td>BORC02101V</td>\n",
       "      <td>SCUOLA SECONDARIA II GRADO</td>\n",
       "      <td>4</td>\n",
       "      <td>&gt; di 18 anni</td>\n",
       "      <td>2</td>\n",
       "    </tr>\n",
       "    <tr>\n",
       "      <th>256371</th>\n",
       "      <td>201617</td>\n",
       "      <td>BORC02101V</td>\n",
       "      <td>SCUOLA SECONDARIA II GRADO</td>\n",
       "      <td>4</td>\n",
       "      <td>17 anni</td>\n",
       "      <td>12</td>\n",
       "    </tr>\n",
       "    <tr>\n",
       "      <th>256876</th>\n",
       "      <td>201617</td>\n",
       "      <td>BORC02101V</td>\n",
       "      <td>SCUOLA SECONDARIA II GRADO</td>\n",
       "      <td>4</td>\n",
       "      <td>18 anni</td>\n",
       "      <td>4</td>\n",
       "    </tr>\n",
       "    <tr>\n",
       "      <th>257929</th>\n",
       "      <td>201617</td>\n",
       "      <td>BORC02101V</td>\n",
       "      <td>SCUOLA SECONDARIA II GRADO</td>\n",
       "      <td>4</td>\n",
       "      <td>16 anni</td>\n",
       "      <td>1</td>\n",
       "    </tr>\n",
       "    <tr>\n",
       "      <th>113614</th>\n",
       "      <td>201617</td>\n",
       "      <td>BORC02101V</td>\n",
       "      <td>SCUOLA SECONDARIA II GRADO</td>\n",
       "      <td>5</td>\n",
       "      <td>&gt; di 18 anni</td>\n",
       "      <td>7</td>\n",
       "    </tr>\n",
       "    <tr>\n",
       "      <th>251395</th>\n",
       "      <td>201617</td>\n",
       "      <td>BORC02101V</td>\n",
       "      <td>SCUOLA SECONDARIA II GRADO</td>\n",
       "      <td>5</td>\n",
       "      <td>18 anni</td>\n",
       "      <td>23</td>\n",
       "    </tr>\n",
       "  </tbody>\n",
       "</table>\n",
       "</div>"
      ],
      "text/plain": [
       "        ANNOSCOLASTICO CODICESCUOLA                ORDINESCUOLA  ANNOCORSO  \\\n",
       "201712          201617   BORC02101V  SCUOLA SECONDARIA II GRADO          1   \n",
       "202218          201617   BORC02101V  SCUOLA SECONDARIA II GRADO          1   \n",
       "207506          201617   BORC02101V  SCUOLA SECONDARIA II GRADO          1   \n",
       "200493          201617   BORC02101V  SCUOLA SECONDARIA II GRADO          2   \n",
       "201017          201617   BORC02101V  SCUOLA SECONDARIA II GRADO          2   \n",
       "203549          201617   BORC02101V  SCUOLA SECONDARIA II GRADO          2   \n",
       "204064          201617   BORC02101V  SCUOLA SECONDARIA II GRADO          3   \n",
       "257343          201617   BORC02101V  SCUOLA SECONDARIA II GRADO          3   \n",
       "251038          201617   BORC02101V  SCUOLA SECONDARIA II GRADO          4   \n",
       "256371          201617   BORC02101V  SCUOLA SECONDARIA II GRADO          4   \n",
       "256876          201617   BORC02101V  SCUOLA SECONDARIA II GRADO          4   \n",
       "257929          201617   BORC02101V  SCUOLA SECONDARIA II GRADO          4   \n",
       "113614          201617   BORC02101V  SCUOLA SECONDARIA II GRADO          5   \n",
       "251395          201617   BORC02101V  SCUOLA SECONDARIA II GRADO          5   \n",
       "\n",
       "           FASCIAETA  ALUNNI  \n",
       "201712       15 anni      10  \n",
       "202218       16 anni       2  \n",
       "207506       14 anni      29  \n",
       "200493       15 anni      18  \n",
       "201017       16 anni       4  \n",
       "203549       17 anni       2  \n",
       "204064       16 anni      18  \n",
       "257343       17 anni       5  \n",
       "251038  > di 18 anni       2  \n",
       "256371       17 anni      12  \n",
       "256876       18 anni       4  \n",
       "257929       16 anni       1  \n",
       "113614  > di 18 anni       7  \n",
       "251395       18 anni      23  "
      ]
     },
     "execution_count": 72,
     "metadata": {},
     "output_type": "execute_result"
    }
   ],
   "source": [
    "eta_studenti_rossellini= anagrafica_studenti1516[anagrafica_studenti1516.CODICESCUOLA == codice_scuola]\n",
    "eta_studenti_rossellini.sort_values(by=['ANNOCORSO'])"
   ]
  },
  {
   "cell_type": "code",
   "execution_count": 73,
   "metadata": {},
   "outputs": [
    {
     "data": {
      "text/html": [
       "<div>\n",
       "<style scoped>\n",
       "    .dataframe tbody tr th:only-of-type {\n",
       "        vertical-align: middle;\n",
       "    }\n",
       "\n",
       "    .dataframe tbody tr th {\n",
       "        vertical-align: top;\n",
       "    }\n",
       "\n",
       "    .dataframe thead th {\n",
       "        text-align: right;\n",
       "    }\n",
       "</style>\n",
       "<table border=\"1\" class=\"dataframe\">\n",
       "  <thead>\n",
       "    <tr style=\"text-align: right;\">\n",
       "      <th>FASCIAETA</th>\n",
       "      <th>14 anni</th>\n",
       "      <th>15 anni</th>\n",
       "      <th>16 anni</th>\n",
       "      <th>17 anni</th>\n",
       "      <th>18 anni</th>\n",
       "      <th>&gt; di 18 anni</th>\n",
       "    </tr>\n",
       "    <tr>\n",
       "      <th>ANNOCORSO</th>\n",
       "      <th></th>\n",
       "      <th></th>\n",
       "      <th></th>\n",
       "      <th></th>\n",
       "      <th></th>\n",
       "      <th></th>\n",
       "    </tr>\n",
       "  </thead>\n",
       "  <tbody>\n",
       "    <tr>\n",
       "      <th>1</th>\n",
       "      <td>29</td>\n",
       "      <td>10</td>\n",
       "      <td>2</td>\n",
       "      <td>0</td>\n",
       "      <td>0</td>\n",
       "      <td>0</td>\n",
       "    </tr>\n",
       "    <tr>\n",
       "      <th>2</th>\n",
       "      <td>0</td>\n",
       "      <td>18</td>\n",
       "      <td>4</td>\n",
       "      <td>2</td>\n",
       "      <td>0</td>\n",
       "      <td>0</td>\n",
       "    </tr>\n",
       "    <tr>\n",
       "      <th>3</th>\n",
       "      <td>0</td>\n",
       "      <td>0</td>\n",
       "      <td>18</td>\n",
       "      <td>5</td>\n",
       "      <td>0</td>\n",
       "      <td>0</td>\n",
       "    </tr>\n",
       "    <tr>\n",
       "      <th>4</th>\n",
       "      <td>0</td>\n",
       "      <td>0</td>\n",
       "      <td>1</td>\n",
       "      <td>12</td>\n",
       "      <td>4</td>\n",
       "      <td>2</td>\n",
       "    </tr>\n",
       "    <tr>\n",
       "      <th>5</th>\n",
       "      <td>0</td>\n",
       "      <td>0</td>\n",
       "      <td>0</td>\n",
       "      <td>0</td>\n",
       "      <td>23</td>\n",
       "      <td>7</td>\n",
       "    </tr>\n",
       "  </tbody>\n",
       "</table>\n",
       "</div>"
      ],
      "text/plain": [
       "FASCIAETA  14 anni  15 anni  16 anni  17 anni  18 anni  > di 18 anni\n",
       "ANNOCORSO                                                           \n",
       "1               29       10        2        0        0             0\n",
       "2                0       18        4        2        0             0\n",
       "3                0        0       18        5        0             0\n",
       "4                0        0        1       12        4             2\n",
       "5                0        0        0        0       23             7"
      ]
     },
     "execution_count": 73,
     "metadata": {},
     "output_type": "execute_result"
    }
   ],
   "source": [
    "tabella_studenti_eta=eta_studenti_rossellini.pivot_table(index='ANNOCORSO', columns='FASCIAETA', values='ALUNNI',\n",
    "                aggfunc='sum', fill_value=0)\n",
    "tabella_studenti_eta"
   ]
  },
  {
   "cell_type": "code",
   "execution_count": 74,
   "metadata": {},
   "outputs": [
    {
     "data": {
      "text/plain": [
       "<matplotlib.axes._subplots.AxesSubplot at 0x7f3a53ac2550>"
      ]
     },
     "execution_count": 74,
     "metadata": {},
     "output_type": "execute_result"
    },
    {
     "data": {
      "image/png": "[encoded data removed]",
      "text/plain": [
       "<Figure size 720x720 with 1 Axes>"
      ]
     },
     "metadata": {},
     "output_type": "display_data"
    }
   ],
   "source": [
    "tabella_studenti_eta.plot.barh(stacked=True,figsize=[10,10])\n"
   ]
  },
  {
   "cell_type": "code",
   "execution_count": 75,
   "metadata": {},
   "outputs": [],
   "source": [
    "anagrafica_genere_rossini=anagrafica_studenti_genere_1516[anagrafica_studenti_genere_1516.CODICESCUOLA == codice_scuola]"
   ]
  },
  {
   "cell_type": "code",
   "execution_count": 76,
   "metadata": {},
   "outputs": [
    {
     "data": {
      "text/html": [
       "<div>\n",
       "<style scoped>\n",
       "    .dataframe tbody tr th:only-of-type {\n",
       "        vertical-align: middle;\n",
       "    }\n",
       "\n",
       "    .dataframe tbody tr th {\n",
       "        vertical-align: top;\n",
       "    }\n",
       "\n",
       "    .dataframe thead th {\n",
       "        text-align: right;\n",
       "    }\n",
       "</style>\n",
       "<table border=\"1\" class=\"dataframe\">\n",
       "  <thead>\n",
       "    <tr style=\"text-align: right;\">\n",
       "      <th></th>\n",
       "      <th>ANNOSCOLASTICO</th>\n",
       "      <th>CODICESCUOLA</th>\n",
       "      <th>ORDINESCUOLA</th>\n",
       "      <th>ANNOCORSOCLASSE</th>\n",
       "      <th>CLASSI</th>\n",
       "      <th>ALUNNIMASCHI</th>\n",
       "      <th>ALUNNIFEMMINE</th>\n",
       "    </tr>\n",
       "  </thead>\n",
       "  <tbody>\n",
       "    <tr>\n",
       "      <th>6383</th>\n",
       "      <td>201617</td>\n",
       "      <td>BORC02101V</td>\n",
       "      <td>SCUOLA SECONDARIA II GRADO</td>\n",
       "      <td>5</td>\n",
       "      <td>2</td>\n",
       "      <td>14</td>\n",
       "      <td>16</td>\n",
       "    </tr>\n",
       "    <tr>\n",
       "      <th>20226</th>\n",
       "      <td>201617</td>\n",
       "      <td>BORC02101V</td>\n",
       "      <td>SCUOLA SECONDARIA II GRADO</td>\n",
       "      <td>3</td>\n",
       "      <td>1</td>\n",
       "      <td>16</td>\n",
       "      <td>7</td>\n",
       "    </tr>\n",
       "    <tr>\n",
       "      <th>41773</th>\n",
       "      <td>201617</td>\n",
       "      <td>BORC02101V</td>\n",
       "      <td>SCUOLA SECONDARIA II GRADO</td>\n",
       "      <td>2</td>\n",
       "      <td>1</td>\n",
       "      <td>8</td>\n",
       "      <td>16</td>\n",
       "    </tr>\n",
       "    <tr>\n",
       "      <th>62590</th>\n",
       "      <td>201617</td>\n",
       "      <td>BORC02101V</td>\n",
       "      <td>SCUOLA SECONDARIA II GRADO</td>\n",
       "      <td>4</td>\n",
       "      <td>1</td>\n",
       "      <td>7</td>\n",
       "      <td>12</td>\n",
       "    </tr>\n",
       "    <tr>\n",
       "      <th>116950</th>\n",
       "      <td>201617</td>\n",
       "      <td>BORC02101V</td>\n",
       "      <td>SCUOLA SECONDARIA II GRADO</td>\n",
       "      <td>1</td>\n",
       "      <td>2</td>\n",
       "      <td>19</td>\n",
       "      <td>22</td>\n",
       "    </tr>\n",
       "  </tbody>\n",
       "</table>\n",
       "</div>"
      ],
      "text/plain": [
       "        ANNOSCOLASTICO CODICESCUOLA                ORDINESCUOLA  \\\n",
       "6383            201617   BORC02101V  SCUOLA SECONDARIA II GRADO   \n",
       "20226           201617   BORC02101V  SCUOLA SECONDARIA II GRADO   \n",
       "41773           201617   BORC02101V  SCUOLA SECONDARIA II GRADO   \n",
       "62590           201617   BORC02101V  SCUOLA SECONDARIA II GRADO   \n",
       "116950          201617   BORC02101V  SCUOLA SECONDARIA II GRADO   \n",
       "\n",
       "        ANNOCORSOCLASSE  CLASSI  ALUNNIMASCHI  ALUNNIFEMMINE  \n",
       "6383                  5       2            14             16  \n",
       "20226                 3       1            16              7  \n",
       "41773                 2       1             8             16  \n",
       "62590                 4       1             7             12  \n",
       "116950                1       2            19             22  "
      ]
     },
     "execution_count": 76,
     "metadata": {},
     "output_type": "execute_result"
    }
   ],
   "source": [
    "anagrafica_genere_rossini"
   ]
  },
  {
   "cell_type": "code",
   "execution_count": 77,
   "metadata": {},
   "outputs": [],
   "source": [
    "classi_genere_rossini=anagrafica_genere_rossini[['ANNOCORSOCLASSE','ALUNNIFEMMINE','ALUNNIMASCHI']]"
   ]
  },
  {
   "cell_type": "code",
   "execution_count": 78,
   "metadata": {},
   "outputs": [],
   "source": [
    "table=classi_genere_rossini.pivot_table(classi_genere_rossini,index=[\"ANNOCORSOCLASSE\"]).fillna(0)"
   ]
  },
  {
   "cell_type": "code",
   "execution_count": 79,
   "metadata": {},
   "outputs": [
    {
     "data": {
      "text/plain": [
       "<matplotlib.axes._subplots.AxesSubplot at 0x7f3a53a09400>"
      ]
     },
     "execution_count": 79,
     "metadata": {},
     "output_type": "execute_result"
    },
    {
     "data": {
      "image/png": "[encoded data removed]",
      "text/plain": [
       "<Figure size 720x720 with 1 Axes>"
      ]
     },
     "metadata": {},
     "output_type": "display_data"
    }
   ],
   "source": [
    "table.plot.bar(stacked=True,figsize=[10,10],colormap='Pastel2')\n",
    "# per la color map guarda qui https://matplotlib.org/examples/color/colormaps_reference.html\n"
   ]
  },
  {
   "cell_type": "code",
   "execution_count": null,
   "metadata": {},
   "outputs": [],
   "source": []
  }
 ],
 "metadata": {
  "kernelspec": {
   "display_name": "Python 3",
   "language": "python",
   "name": "python3"
  },
  "language_info": {
   "codemirror_mode": {
    "name": "ipython",
    "version": 3
   },
   "file_extension": ".py",
   "mimetype": "text/x-python",
   "name": "python",
   "nbconvert_exporter": "python",
   "pygments_lexer": "ipython3",
   "version": "3.6.3"
  }
 },
 "nbformat": 4,
 "nbformat_minor": 2
}
